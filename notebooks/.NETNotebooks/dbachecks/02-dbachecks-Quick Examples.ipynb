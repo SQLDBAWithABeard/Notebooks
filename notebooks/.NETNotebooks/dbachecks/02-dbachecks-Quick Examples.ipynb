{
 "cells": [
  {
   "cell_type": "markdown",
   "metadata": {
    "azdata_cell_guid": "ae946c13-04d8-4845-8528-907c84d1555c",
    "tags": [
     "hide_input"
    ]
   },
   "source": [
    "![First Power Bi](.\\images\\dbachecks-logo.png )\r\n",
    "# dbachecks\r\n",
    "\r\n",
    "## Installation \r\n",
    "\r\n",
    "Take a look at the installation guidelines here [Intro](./01-dbachecks-Intro.ipynb)\r\n",
    "\r\n",
    "Lets Check if you have the dbachecks module available"
   ]
  },
  {
   "cell_type": "code",
   "execution_count": 1,
   "metadata": {
    "azdata_cell_guid": "3627b53c-63a5-4e21-9a2d-96b1a092c913",
    "tags": [
     "hide_input"
    ]
   },
   "outputs": [
    {
     "data": {
      "text/html": [
       "<pre></pre>\r\n"
      ]
     },
     "metadata": {},
     "output_type": "display_data"
    },
    {
     "data": {
      "text/html": [
       "<pre></pre>\r\n"
      ]
     },
     "metadata": {},
     "output_type": "display_data"
    },
    {
     "data": {
      "text/html": [
       "<pre>    Directory: C:\\Users\\mrrob\\Documents\\PowerShell\\Modules</pre>\r\n"
      ]
     },
     "metadata": {},
     "output_type": "display_data"
    },
    {
     "data": {
      "text/html": [
       "<pre></pre>\r\n"
      ]
     },
     "metadata": {},
     "output_type": "display_data"
    },
    {
     "data": {
      "text/html": [
       "<pre>ModuleType Version    PreRelease Name                                PSEdition ExportedCommands</pre>\r\n"
      ]
     },
     "metadata": {},
     "output_type": "display_data"
    },
    {
     "data": {
      "text/html": [
       "<pre>---------- -------    ---------- ----                                --------- ----------------</pre>\r\n"
      ]
     },
     "metadata": {},
     "output_type": "display_data"
    },
    {
     "data": {
      "text/html": [
       "<pre>Script     1.2.20                dbachecks                           Desk      {Get-DbcConfig, Get-DbcConfigValue, Get-DbcReleaseNote, Set-DbcConfig…}</pre>\r\n"
      ]
     },
     "metadata": {},
     "output_type": "display_data"
    },
    {
     "data": {
      "text/html": [
       "<pre>Script     1.2.15                dbachecks                           Desk      {Get-DbcConfig, Get-DbcConfigValue, Get-DbcReleaseNote, Set-DbcConfig…}</pre>\r\n"
      ]
     },
     "metadata": {},
     "output_type": "display_data"
    },
    {
     "data": {
      "text/html": [
       "<pre>Script     1.2.14                dbachecks                           Desk      {Get-DbcConfig, Get-DbcConfigValue, Get-DbcReleaseNote, Set-DbcConfig…}</pre>\r\n"
      ]
     },
     "metadata": {},
     "output_type": "display_data"
    },
    {
     "data": {
      "text/html": [
       "<pre>Script     1.2.13                dbachecks                           Desk      {Get-DbcConfig, Get-DbcConfigValue, Get-DbcReleaseNote, Set-DbcConfig…}</pre>\r\n"
      ]
     },
     "metadata": {},
     "output_type": "display_data"
    },
    {
     "data": {
      "text/html": [
       "<pre>Script     1.2.12                dbachecks                           Desk      {Get-DbcConfig, Get-DbcConfigValue, Get-DbcReleaseNote, Set-DbcConfig…}</pre>\r\n"
      ]
     },
     "metadata": {},
     "output_type": "display_data"
    },
    {
     "data": {
      "text/html": [
       "<pre></pre>\r\n"
      ]
     },
     "metadata": {},
     "output_type": "display_data"
    },
    {
     "data": {
      "text/html": [
       "<pre>    Directory: C:\\Program Files\\WindowsPowerShell\\Modules</pre>\r\n"
      ]
     },
     "metadata": {},
     "output_type": "display_data"
    },
    {
     "data": {
      "text/html": [
       "<pre></pre>\r\n"
      ]
     },
     "metadata": {},
     "output_type": "display_data"
    },
    {
     "data": {
      "text/html": [
       "<pre>ModuleType Version    PreRelease Name                                PSEdition ExportedCommands</pre>\r\n"
      ]
     },
     "metadata": {},
     "output_type": "display_data"
    },
    {
     "data": {
      "text/html": [
       "<pre>---------- -------    ---------- ----                                --------- ----------------</pre>\r\n"
      ]
     },
     "metadata": {},
     "output_type": "display_data"
    },
    {
     "data": {
      "text/html": [
       "<pre>Script     1.2.15                dbachecks                           Desk      {Get-DbcConfig, Get-DbcConfigValue, Get-DbcReleaseNote, Set-DbcConfig…}</pre>\r\n"
      ]
     },
     "metadata": {},
     "output_type": "display_data"
    },
    {
     "data": {
      "text/html": [
       "<pre></pre>\r\n"
      ]
     },
     "metadata": {},
     "output_type": "display_data"
    }
   ],
   "source": [
    "Get-Module dbachecks -ListAvailable"
   ]
  },
  {
   "cell_type": "markdown",
   "metadata": {
    "azdata_cell_guid": "1ae003f9-d98a-43f0-b0b3-bf6b0736c147",
    "tags": [
     "hide_input"
    ]
   },
   "source": [
    "## Examine the available commands\r\n",
    "\r\n",
    "You can look at the commands in the dbachecks module"
   ]
  },
  {
   "cell_type": "code",
   "execution_count": 2,
   "metadata": {
    "azdata_cell_guid": "2718f60b-6ba6-4887-a886-10d52cd0228a",
    "tags": [
     "hide_input"
    ]
   },
   "outputs": [],
   "source": [
    "Get-Command -Module dbachecks"
   ]
  },
  {
   "cell_type": "markdown",
   "metadata": {
    "azdata_cell_guid": "2a6fc094-c131-49af-a96e-4f432737bec2"
   },
   "source": [
    "# All of the checks\r\n",
    "\r\n",
    "You can see all of the checks using `Get-DbcCheck` \r\n"
   ]
  },
  {
   "cell_type": "code",
   "execution_count": 3,
   "metadata": {
    "azdata_cell_guid": "76ce1266-5da6-4999-9fae-5d236fc2e810"
   },
   "outputs": [
    {
     "data": {
      "text/html": [
       "<pre>Get-DbcCheck: The &#39;Get-DbcCheck&#39; command was found in the module &#39;dbachecks&#39;, but the module could not be loaded. For more information, run &#39;Import-Module dbachecks&#39;.</pre>\r\n"
      ]
     },
     "metadata": {},
     "output_type": "display_data"
    }
   ],
   "source": [
    "Get-DbcCheck"
   ]
  },
  {
   "cell_type": "markdown",
   "metadata": {
    "azdata_cell_guid": "f0882807-09b6-4328-8e6e-21fb23d18d33"
   },
   "source": [
    "## Searching for Checks to run\r\n",
    "\r\n",
    "You can search for checks using `Get-DbcCheck -Pattern SEARCHTERM`"
   ]
  },
  {
   "cell_type": "code",
   "execution_count": 12,
   "metadata": {
    "azdata_cell_guid": "6868c7fa-7bf5-4721-a211-08eb7343b844"
   },
   "outputs": [],
   "source": [
    "Get-DbcCheck -Pattern backup"
   ]
  },
  {
   "cell_type": "markdown",
   "metadata": {
    "azdata_cell_guid": "a6de41f8-f3e3-46d4-8325-c5d0ceb04df4"
   },
   "source": [
    "# Running a Check\r\n",
    "\r\n",
    "This requires that you have the containers set up from the Notebook 00 - Setting up the containers for the rest of the containers.ipynb\r\n",
    "\r\n",
    "If you have altered the folder path you will need to alter it below."
   ]
  },
  {
   "cell_type": "markdown",
   "metadata": {
    "azdata_cell_guid": "2bdc0137-380e-4d98-8c21-65710f7eca4e"
   },
   "source": [
    "Running a check from the command line can be done with\r\n",
    "\r\n",
    "`Invoke-DbcCheck -SqlInstance SQLINSTANCE -Check UNIQUETAG, A TAG, GROUP`\r\n",
    "\r\n",
    "You can run multiple checks with\r\n",
    "\r\n",
    "`Invoke-DbcCheck -SqlInstance SQLINSTANCE -Check Tag,AnotherTag,AnotherTag`"
   ]
  },
  {
   "cell_type": "code",
   "execution_count": 14,
   "metadata": {
    "azdata_cell_guid": "990486fd-573a-4c43-afad-6e65e5b8f4fd"
   },
   "outputs": [],
   "source": [
    "$FolderPath = $Env:USERPROFILE + '\\Documents\\dbachecks'\r\n",
    "$SqlInstance = 'localhost,15592'\r\n",
    "$SqlCredential = Import-Clixml -Path $FolderPath\\sqladmin.cred\r\n",
    "$null = Reset-DbcConfig\r\n",
    "Invoke-DbcCheck -SqlInstance $SqlInstance -SqlCredential $SqlCredential -Check AutoClose"
   ]
  },
  {
   "cell_type": "markdown",
   "metadata": {
    "azdata_cell_guid": "e3eba123-7621-44ee-af57-3b8e95eb46ec"
   },
   "source": [
    "## Auto-Complete for Checks\r\n",
    "At the command line and in the editor the Checks will auto-complete\r\n",
    "\r\n",
    "Place the cursor a space after the `-Check` and press CTRL + SPACE\r\n",
    "\r\n",
    "`Invoke-DbcCheck -SqlInstance SQL2016N1 -Check `"
   ]
  },
  {
   "cell_type": "code",
   "execution_count": 9,
   "metadata": {
    "azdata_cell_guid": "6bfbde55-35ff-462c-aaa8-0fef795983f3"
   },
   "outputs": [
    {
     "name": "stdout",
     "output_type": "stream",
     "text": [
      "    ____            __\n",
      "   / __ \\___  _____/ /____  _____\n",
      "  / /_/ / _ \\/ ___/ __/ _ \\/ ___/\n",
      " / ____/  __(__  ) /_/  __/ /\n",
      "/_/    \\___/____/\\__/\\___/_/\n",
      "Pester v4.9.0\n",
      "Executing all tests in 'C:\\Program Files\\WindowsPowerShell\\Modules\\dbachecks\\1.2.21\\checks\\Instance.Tests.ps1' with Tags DefaultTrace\n",
      "\n",
      "Executing script C:\\Program Files\\WindowsPowerShell\\Modules\\dbachecks\\1.2.21\\checks\\Instance.Tests.ps1\n",
      "\n",
      "  Describing Default Trace\n",
      "\n",
      "    Context Checking Default Trace on localhost,15592\n",
      "      [+] The Default Trace should be enabled on localhost,15592 12ms\n",
      "Tests completed in 755ms\n",
      "Tests Passed: 1, Failed: 0, Skipped: 0, Pending: 0, Inconclusive: 0 \n"
     ]
    }
   ],
   "source": [
    "$FolderPath = $Env:USERPROFILE + '\\Documents\\dbachecks'\r\n",
    "$SqlInstance = 'localhost,15592'\r\n",
    "$SqlCredential = Import-Clixml -Path $FolderPath\\sqladmin.cred\r\n",
    "Invoke-DbcCheck -SqlInstance $SqlInstance -SqlCredential $SqlCredential -Check "
   ]
  },
  {
   "cell_type": "markdown",
   "metadata": {
    "azdata_cell_guid": "ace87d71-f023-4181-ba05-4bb5041f542f"
   },
   "source": [
    "# Check Agent Jobs at the command line\r\n",
    "\r\n",
    "Did all of the Agent Jobs succeed ?"
   ]
  },
  {
   "cell_type": "code",
   "execution_count": 1,
   "metadata": {
    "azdata_cell_guid": "a9344196-3a43-4638-8847-0dd3afa429b8",
    "tags": []
   },
   "outputs": [],
   "source": [
    "$FolderPath = $Env:USERPROFILE + '\\Documents\\dbachecks'\r\n",
    "$SqlInstance = 'localhost,15592'\r\n",
    "$SqlCredential = Import-Clixml -Path $FolderPath\\sqladmin.cred\r\n",
    "Invoke-DbcCheck -SqlInstance $SqlInstance -SqlCredential $SqlCredential -Check FailedJob"
   ]
  },
  {
   "cell_type": "markdown",
   "metadata": {
    "azdata_cell_guid": "3e5ab98e-4e56-4e7a-8d44-510433db06dd"
   },
   "source": [
    "You may have no results because they are no enabled jobs that have run in the last 7 days (depending upon when I last updated the image). Lets run the jobs and see what we get"
   ]
  },
  {
   "cell_type": "code",
   "execution_count": 11,
   "metadata": {
    "azdata_cell_guid": "79d42ef2-197c-43e7-865e-6cd4ca290b60"
   },
   "outputs": [],
   "source": [
    "$FolderPath = $Env:USERPROFILE + '\\Documents\\dbachecks'\r\n",
    "$SqlInstance = 'localhost,15592'\r\n",
    "$SqlCredential = Import-Clixml -Path $FolderPath\\sqladmin.cred\r\n",
    "(Get-DbaAgentJob -SqlInstance $SqlInstance -SqlCredential $SqlCredential).Start()\r\n",
    "Start-Sleep -Seconds 15\r\n",
    "Invoke-DbcCheck -SqlInstance $SqlInstance -SqlCredential $SqlCredential -Check FailedJob"
   ]
  },
  {
   "cell_type": "markdown",
   "metadata": {
    "azdata_cell_guid": "60a354ad-2eca-4fc2-988b-17ee6cf42ac2"
   },
   "source": [
    "## Check the instances are available\r\n",
    "Are all of the instances up and available?\r\n",
    "\r\n",
    "There will be failures for the default values of the authentication scheme as we are connecting with SQL Authentication."
   ]
  },
  {
   "cell_type": "code",
   "execution_count": 3,
   "metadata": {
    "azdata_cell_guid": "8e268766-82db-4024-a8c6-ebafe51760f3"
   },
   "outputs": [],
   "source": [
    "$FolderPath = $Env:USERPROFILE + '\\Documents\\dbachecks'\r\n",
    "$SqlInstances = 'localhost,15592','localhost,15593'\r\n",
    "$SqlCredential = Import-Clixml -Path $FolderPath\\sqladmin.cred\r\n",
    "Invoke-DbcCheck -SqlInstance $SqlInstances -SqlCredential $SqlCredential -Check InstanceConnection "
   ]
  },
  {
   "cell_type": "markdown",
   "metadata": {
    "azdata_cell_guid": "405d3e5a-c0a8-4819-852e-a865cd0618b4"
   },
   "source": [
    "# Check the databases are available\r\n",
    "Are all the databases up available?\r\n",
    "\r\n",
    "This by default will only show the system databases but we will talk about configuration for this in the next notebook"
   ]
  },
  {
   "cell_type": "code",
   "execution_count": 4,
   "metadata": {
    "azdata_cell_guid": "9a42fc56-1dd6-4512-91e0-9908a98cbf83"
   },
   "outputs": [],
   "source": [
    "$FolderPath = $Env:USERPROFILE + '\\Documents\\dbachecks'\r\n",
    "$SqlInstances = 'localhost,15592','localhost,15593'\r\n",
    "$SqlCredential = Import-Clixml -Path $FolderPath\\sqladmin.cred\r\n",
    "Invoke-DbcCheck -SqlInstance $SqlInstances -SqlCredential $SqlCredential  -Check DatabaseStatus"
   ]
  },
  {
   "cell_type": "markdown",
   "metadata": {
    "azdata_cell_guid": "420b3aad-8a6b-4412-87f4-98cbd5611b29"
   },
   "source": [
    "## Check that DBCC CheckDB \r\n",
    "\r\n",
    "This is one of my favourite checks to run. You can get the last time DBCC CHECKDB was run for a single database using T-SQL with\r\n",
    "\r\n",
    "```sql\r\n",
    "DBCC DBINFO('DatabaseName') WITH TABLERESULTS\r\n",
    "```\r\n",
    "\r\n",
    "You will find the result somewhere around line 50. Doing that for all of the databases on your estate is time consuming and prone to (human) error.\r\n",
    "With dbachecks you can do it like this. ON my machine this checks the 2 containers and 14 databases to make sure DBCC CHECKDB was run in the last 7 days in under 2 seconds :-)"
   ]
  },
  {
   "cell_type": "code",
   "execution_count": 3,
   "metadata": {
    "azdata_cell_guid": "aacc026f-6f6a-4081-ace8-09fe8bf4b72b"
   },
   "outputs": [],
   "source": [
    "$FolderPath = $Env:USERPROFILE + '\\Documents\\dbachecks'\r\n",
    "$SqlInstances = 'localhost,15592','localhost,15593'\r\n",
    "$SqlCredential = Import-Clixml -Path $FolderPath\\sqladmin.cred\r\n",
    "Invoke-DbcCheck -SqlInstance $SqlInstances -SqlCredential $SqlCredential  -Check LastGoodCheckDb"
   ]
  },
  {
   "cell_type": "markdown",
   "metadata": {
    "azdata_cell_guid": "773c4455-0b23-4388-9e8d-2f02eef29aeb"
   },
   "source": [
    "## Check that the Error log has no Errors\r\n",
    "\r\n",
    "By default this will check the error logs for the last 24 hours"
   ]
  },
  {
   "cell_type": "code",
   "execution_count": 2,
   "metadata": {
    "azdata_cell_guid": "c5e424b6-74f4-4057-907c-720f8e1dfc66"
   },
   "outputs": [],
   "source": [
    "$FolderPath = $Env:USERPROFILE + '\\Documents\\dbachecks'\r\n",
    "$SqlInstances = 'localhost,15592','localhost,15593'\r\n",
    "$SqlCredential = Import-Clixml -Path $FolderPath\\sqladmin.cred\r\n",
    "Invoke-DbcCheck -SqlInstance $SqlInstances -SqlCredential $SqlCredential  -Check ErrorLog"
   ]
  },
  {
   "cell_type": "markdown",
   "metadata": {
    "azdata_cell_guid": "96b863a1-dab1-479b-87c7-b0ca576b8671"
   },
   "source": [
    "## Check the disk space on the instance\r\n",
    "\r\n",
    "This will check that the disk space on the hosts has at least 20% free space by default. It requires passing the host names to the `-ComputerName` parameter"
   ]
  },
  {
   "cell_type": "code",
   "execution_count": 4,
   "metadata": {
    "azdata_cell_guid": "ae93ad9f-950e-40dc-9ab5-d8d2e40d2928"
   },
   "outputs": [],
   "source": [
    "$FolderPath = $Env:USERPROFILE + '\\Documents\\dbachecks'\r\n",
    "$SqlInstances = 'localhost,15592','localhost,15593'\r\n",
    "$SqlCredential = Import-Clixml -Path $FolderPath\\sqladmin.cred\r\n",
    "Invoke-DbcCheck -ComputerName $SqlInstances -Check DiskCapacity"
   ]
  },
  {
   "cell_type": "markdown",
   "metadata": {
    "azdata_cell_guid": "0d2e7bf5-3687-4141-ad68-26a84e7a66cc"
   },
   "source": [
    "# Check if DAC is enabled\r\n",
    "\r\n",
    "This will check that DAC - the dedicated administrator connection is enabled (by default)"
   ]
  },
  {
   "cell_type": "code",
   "execution_count": 5,
   "metadata": {
    "azdata_cell_guid": "3cb402a8-8d90-45cb-b774-19ea98a57fc9"
   },
   "outputs": [],
   "source": [
    "$FolderPath = $Env:USERPROFILE + '\\Documents\\dbachecks'\r\n",
    "$SqlInstances = 'localhost,15592','localhost,15593'\r\n",
    "$SqlCredential = Import-Clixml -Path $FolderPath\\sqladmin.cred\r\n",
    "Invoke-DbcCheck -SqlInstance $SqlInstances -SqlCredential $SqlCredential  -Check DAC"
   ]
  },
  {
   "cell_type": "markdown",
   "metadata": {
    "azdata_cell_guid": "4748f90f-bc7c-4f7f-85af-9866b2ae6027"
   },
   "source": [
    "## Check if the database collation matches the server collation\r\n",
    "\r\n",
    "This will check that the collation of the database matches the collation of the instance to avoid collation conflict errors when using temporary tables"
   ]
  },
  {
   "cell_type": "code",
   "execution_count": 6,
   "metadata": {
    "azdata_cell_guid": "e850a5de-3207-4b09-82a7-a05663a0a5ca"
   },
   "outputs": [],
   "source": [
    "$FolderPath = $Env:USERPROFILE + '\\Documents\\dbachecks'\r\n",
    "$SqlInstances = 'localhost,15592','localhost,15593'\r\n",
    "$SqlCredential = Import-Clixml -Path $FolderPath\\sqladmin.cred\r\n",
    "Invoke-DbcCheck -SqlInstance $SqlInstances -SqlCredential $SqlCredential  -Check DatabaseCollation"
   ]
  },
  {
   "cell_type": "markdown",
   "metadata": {
    "azdata_cell_guid": "3aa3347c-b7a9-4d45-b142-8b2f0afc2776"
   },
   "source": [
    "Are all of the SPNs correct ?\r\n",
    "\r\n",
    "You should not run this one but look at the saved results to see what you can get."
   ]
  },
  {
   "cell_type": "code",
   "execution_count": 6,
   "metadata": {
    "azdata_cell_guid": "09010eb5-fc3d-4318-9b29-91a12cff6fbd"
   },
   "outputs": [
    {
     "name": "stdout",
     "output_type": "stream",
     "text": [
      "    ____            __\n",
      "   / __ \\___  _____/ /____  _____\n",
      "  / /_/ / _ \\/ ___/ __/ _ \\/ ___/\n",
      " / ____/  __(__  ) /_/  __/ /\n",
      "/_/    \\___/____/\\__/\\___/_/\n",
      "Pester v4.9.0\n",
      "Executing all tests in 'C:\\Program Files\\WindowsPowerShell\\Modules\\dbachecks\\1.2.21\\checks\\Server.Tests.ps1' with Tags SPN\n",
      "\n",
      "Executing script C:\\Program Files\\WindowsPowerShell\\Modules\\dbachecks\\1.2.21\\checks\\Server.Tests.ps1\n",
      "\n",
      "  Describing SPNs\n",
      "\n",
      "    Context Testing SPNs on SQL2005Ser2003\n",
      "      [-] SQL2005Ser2003 should have a SPN Dont know the SPN for Dont know the Account 5ms\n",
      "        Expected strings to be the same, because We expect to have a SPN Dont know the SPN for Dont know the Account, but they were different.\n",
      "        Expected length: 4\n",
      "        Actual length:   17\n",
      "        Strings differ at index 0.\n",
      "        Expected: 'None'\n",
      "        But was:  'An Error occurred'\n",
      "        191:     $SPN.Error | Should -Be 'None' -Because \"We expect to have a SPN $($SPN.RequiredSPN) for $($SPN.InstanceServiceAccount)\"\n",
      "        at Assert-SPN, C:\\Program Files\\WindowsPowerShell\\Modules\\dbachecks\\1.2.21\\internal\\assertions\\Server.Assertions.ps1: line 191\n",
      "        at <ScriptBlock>, C:\\Program Files\\WindowsPowerShell\\Modules\\dbachecks\\1.2.21\\checks\\Server.Tests.ps1: line 25\n",
      "\n",
      "  Describing SPNs\n",
      "\n",
      "    Context Testing SPNs on SQL2008Ser12R2\n",
      "      [+] SQL2008Ser12R2 should have a SPN MSSQLSvc/SQL2008Ser12R2.TheBeard.local for THEBEARD\\SQL_SVC 1ms\n",
      "      [+] SQL2008Ser12R2 should have a SPN MSSQLSvc/SQL2008Ser12R2.TheBeard.local:1433 for THEBEARD\\SQL_SVC 2ms\n",
      "\n",
      "  Describing SPNs\n",
      "\n",
      "    Context Testing SPNs on SQL2012Ser08AG1\n",
      "      [-] SQL2012Ser08AG1 should have a SPN MSSQLSvc/SQL2012Ser08AG1.TheBeard.local for THEBEARD\\SVC_SQL_AG1 4ms\n",
      "        Expected strings to be the same, because We expect to have a SPN MSSQLSvc/SQL2012Ser08AG1.TheBeard.local for THEBEARD\\SVC_SQL_AG1, but they were different.\n",
      "        Expected length: 4\n",
      "        Actual length:   11\n",
      "        Strings differ at index 0.\n",
      "        Expected: 'None'\n",
      "        But was:  'SPN missing'\n",
      "        191:     $SPN.Error | Should -Be 'None' -Because \"We expect to have a SPN $($SPN.RequiredSPN) for $($SPN.InstanceServiceAccount)\"\n",
      "        at Assert-SPN, C:\\Program Files\\WindowsPowerShell\\Modules\\dbachecks\\1.2.21\\internal\\assertions\\Server.Assertions.ps1: line 191\n",
      "        at <ScriptBlock>, C:\\Program Files\\WindowsPowerShell\\Modules\\dbachecks\\1.2.21\\checks\\Server.Tests.ps1: line 25\n",
      "      [-] SQL2012Ser08AG1 should have a SPN MSSQLSvc/SQL2012Ser08AG1.TheBeard.local:1433 for THEBEARD\\SVC_SQL_AG1 3ms\n",
      "        Expected strings to be the same, because We expect to have a SPN MSSQLSvc/SQL2012Ser08AG1.TheBeard.local:1433 for THEBEARD\\SVC_SQL_AG1, but they were different.\n",
      "        Expected length: 4\n",
      "        Actual length:   11\n",
      "        Strings differ at index 0.\n",
      "        Expected: 'None'\n",
      "        But was:  'SPN missing'\n",
      "        191:     $SPN.Error | Should -Be 'None' -Because \"We expect to have a SPN $($SPN.RequiredSPN) for $($SPN.InstanceServiceAccount)\"\n",
      "        at Assert-SPN, C:\\Program Files\\WindowsPowerShell\\Modules\\dbachecks\\1.2.21\\internal\\assertions\\Server.Assertions.ps1: line 191\n",
      "        at <ScriptBlock>, C:\\Program Files\\WindowsPowerShell\\Modules\\dbachecks\\1.2.21\\checks\\Server.Tests.ps1: line 25\n",
      "\n",
      "  Describing SPNs\n",
      "\n",
      "    Context Testing SPNs on SQL2012Ser08AG2\n",
      "      [+] SQL2012Ser08AG2 should have a SPN MSSQLSvc/SQL2012Ser08AG2.TheBeard.local for THEBEARD\\SVC_SQL_AG2 5ms\n",
      "      [+] SQL2012Ser08AG2 should have a SPN MSSQLSvc/SQL2012Ser08AG2.TheBeard.local:1433 for THEBEARD\\SVC_SQL_AG2 1ms\n",
      "\n",
      "  Describing SPNs\n",
      "\n",
      "    Context Testing SPNs on SQL2012Ser08AG3\n",
      "      [+] SQL2012Ser08AG3 should have a SPN MSSQLSvc/SQL2012Ser08AG3.TheBeard.local for THEBEARD\\SVC_SQL_AG3 1ms\n",
      "      [+] SQL2012Ser08AG3 should have a SPN MSSQLSvc/SQL2012Ser08AG3.TheBeard.local:1433 for THEBEARD\\SVC_SQL_AG3 1ms\n",
      "\n",
      "  Describing SPNs\n",
      "\n",
      "    Context Testing SPNs on SQL2014Ser12R2\n",
      "      [+] SQL2014Ser12R2 should have a SPN MSSQLSvc/SQL2014Ser12R2.TheBeard.local for thebeard\\sql_svc 2ms\n",
      "      [+] SQL2014Ser12R2 should have a SPN MSSQLSvc/SQL2014Ser12R2.TheBeard.local:1433 for thebeard\\sql_svc 1ms\n",
      "\n",
      "  Describing SPNs\n",
      "\n",
      "    Context Testing SPNs on SQL2016N1\n",
      "      [+] SQL2016N1 should have a SPN MSSQLSvc/SQL2016N1.TheBeard.local for THEBEARD\\SQL_SVC 1ms\n",
      "      [+] SQL2016N1 should have a SPN MSSQLSvc/SQL2016N1.TheBeard.local:1433 for THEBEARD\\SQL_SVC 1ms\n",
      "\n",
      "  Describing SPNs\n",
      "\n",
      "    Context Testing SPNs on SQL2016N2\n",
      "      [+] SQL2016N2 should have a SPN MSSQLSvc/SQL2016N2.TheBeard.local for THEBEARD\\SQL_SVC 1ms\n",
      "      [+] SQL2016N2 should have a SPN MSSQLSvc/SQL2016N2.TheBeard.local:1433 for THEBEARD\\SQL_SVC 1ms\n",
      "\n",
      "  Describing SPNs\n",
      "\n",
      "    Context Testing SPNs on SQL2016N3\n",
      "      [+] SQL2016N3 should have a SPN MSSQLSvc/SQL2016N3.TheBeard.local for THEBEARD\\SQL_SVC 1ms\n",
      "      [+] SQL2016N3 should have a SPN MSSQLSvc/SQL2016N3.TheBeard.local:1433 for THEBEARD\\SQL_SVC 4ms\n",
      "\n",
      "  Describing SPNs\n",
      "\n",
      "    Context Testing SPNs on SQL2017N5\n",
      "      [-] SQL2017N5 should have a SPN MSSQLSvc/SQL2017N5.TheBeard.local for THEBEARD\\SQL_SVC 4ms\n",
      "        Expected strings to be the same, because We expect to have a SPN MSSQLSvc/SQL2017N5.TheBeard.local for THEBEARD\\SQL_SVC, but they were different.\n",
      "        Expected length: 4\n",
      "        Actual length:   11\n",
      "        Strings differ at index 0.\n",
      "        Expected: 'None'\n",
      "        But was:  'SPN missing'\n",
      "        191:     $SPN.Error | Should -Be 'None' -Because \"We expect to have a SPN $($SPN.RequiredSPN) for $($SPN.InstanceServiceAccount)\"\n",
      "        at Assert-SPN, C:\\Program Files\\WindowsPowerShell\\Modules\\dbachecks\\1.2.21\\internal\\assertions\\Server.Assertions.ps1: line 191\n",
      "        at <ScriptBlock>, C:\\Program Files\\WindowsPowerShell\\Modules\\dbachecks\\1.2.21\\checks\\Server.Tests.ps1: line 25\n",
      "      [-] SQL2017N5 should have a SPN MSSQLSvc/SQL2017N5.TheBeard.local:1433 for THEBEARD\\SQL_SVC 3ms\n",
      "        Expected strings to be the same, because We expect to have a SPN MSSQLSvc/SQL2017N5.TheBeard.local:1433 for THEBEARD\\SQL_SVC, but they were different.\n",
      "        Expected length: 4\n",
      "        Actual length:   11\n",
      "        Strings differ at index 0.\n",
      "        Expected: 'None'\n",
      "        But was:  'SPN missing'\n",
      "        191:     $SPN.Error | Should -Be 'None' -Because \"We expect to have a SPN $($SPN.RequiredSPN) for $($SPN.InstanceServiceAccount)\"\n",
      "        at Assert-SPN, C:\\Program Files\\WindowsPowerShell\\Modules\\dbachecks\\1.2.21\\internal\\assertions\\Server.Assertions.ps1: line 191\n",
      "        at <ScriptBlock>, C:\\Program Files\\WindowsPowerShell\\Modules\\dbachecks\\1.2.21\\checks\\Server.Tests.ps1: line 25\n",
      "\n",
      "  Describing SPNs\n",
      "\n",
      "    Context Testing SPNs on SQL2019N20\n",
      "      [+] SQL2019N20 should have a SPN MSSQLSvc/SQL2019N20.TheBeard.local for THEBEARD\\SQL_SVC 1ms\n",
      "      [+] SQL2019N20 should have a SPN MSSQLSvc/SQL2019N20.TheBeard.local:1433 for THEBEARD\\SQL_SVC 1ms\n",
      "\n",
      "  Describing SPNs\n",
      "\n",
      "    Context Testing SPNs on SQL2019N21\n",
      "      [+] SQL2019N21 should have a SPN MSSQLSvc/SQL2019N21.TheBeard.local for THEBEARD\\SQL_SVC 1ms\n",
      "      [+] SQL2019N21 should have a SPN MSSQLSvc/SQL2019N21.TheBeard.local:1433 for THEBEARD\\SQL_SVC 1ms\n",
      "\n",
      "  Describing SPNs\n",
      "\n",
      "    Context Testing SPNs on SQL2019N22\n",
      "      [+] SQL2019N22 should have a SPN MSSQLSvc/SQL2019N22.TheBeard.local for THEBEARD\\SQL_SVC 1ms\n",
      "      [+] SQL2019N22 should have a SPN MSSQLSvc/SQL2019N22.TheBeard.local:1433 for THEBEARD\\SQL_SVC 2ms\n",
      "\n",
      "  Describing SPNs\n",
      "\n",
      "    Context Testing SPNs on SQL2019N5\n",
      "      [+] SQL2019N5 should have a SPN MSSQLSvc/SQL2019N5.TheBeard.local for THEBEARD\\SQL_Svc 2ms\n",
      "      [+] SQL2019N5 should have a SPN MSSQLSvc/SQL2019N5.TheBeard.local:1433 for THEBEARD\\SQL_Svc 1ms\n",
      "Tests completed in 253.49s\n",
      "Tests Passed: 22, Failed: 5, Skipped: 0, Pending: 0, Inconclusive: 0 \n"
     ]
    }
   ],
   "source": [
    "$Instances =  'SQL2005Ser2003', 'SQL2008Ser12R2', 'SQL2012Ser08AG1', 'SQL2012Ser08AG2', 'SQL2012Ser08AG3', 'SQL2014Ser12R2', 'SQL2016N1', 'SQL2016N2', 'SQL2016N3', 'SQL2017N5', 'SQL2019N20', 'SQL2019N21', 'SQL2019N22', 'SQL2019N5'\r\n",
    "Invoke-DbcCheck -SqlInstance $instances -Check SPN"
   ]
  },
  {
   "cell_type": "markdown",
   "metadata": {
    "azdata_cell_guid": "823ff429-43b3-4598-b34b-d18ff90836bc"
   },
   "source": [
    "# Running multiple checks\r\n",
    "\r\n",
    "All of the examples above have used a single unique tag. You can run more than one check at a time. You can do this either by specifying a tag that covers a number of checks. You can find these by running `Get-DbcCheck`\r\n",
    "\r\n",
    "When you search for checks like disk"
   ]
  },
  {
   "cell_type": "code",
   "execution_count": 7,
   "metadata": {
    "azdata_cell_guid": "696f7e6a-c592-4434-8c05-9ca240dfde78"
   },
   "outputs": [],
   "source": [
    "Get-DbcCheck disk"
   ]
  },
  {
   "cell_type": "markdown",
   "metadata": {
    "azdata_cell_guid": "8b17d7b4-a646-4e52-8086-764219072454"
   },
   "source": [
    "you can see that under AllTags for the DiskCapacity check there is a tag called Storage. If you search for storage"
   ]
  },
  {
   "cell_type": "code",
   "execution_count": 8,
   "metadata": {
    "azdata_cell_guid": "4d71feaf-0be1-4503-b776-0f99b19e8e1d"
   },
   "outputs": [],
   "source": [
    "Get-DbcCheck Storage"
   ]
  },
  {
   "cell_type": "markdown",
   "metadata": {
    "azdata_cell_guid": "71cf2d4b-7024-4ed4-b6a7-29e4fb0e7525"
   },
   "source": [
    "you can see that this returns two checks - BackUpPathAccess and DiskCapacity. You can run both of these checks at the same time. Note that the `Type` of check is different for these two checks and you will have to supply both `SqlInstance` and `ComputerName`"
   ]
  },
  {
   "cell_type": "code",
   "execution_count": 9,
   "metadata": {
    "azdata_cell_guid": "d48cdb95-521b-4f7b-8fb0-cd1b5edfbac5"
   },
   "outputs": [],
   "source": [
    "$FolderPath = $Env:USERPROFILE + '\\Documents\\dbachecks'\r\n",
    "$SqlInstances = 'localhost,15592','localhost,15593'\r\n",
    "$SqlCredential = Import-Clixml -Path $FolderPath\\sqladmin.cred\r\n",
    "Invoke-DbcCheck -SqlInstance $SqlInstances -ComputerName $SqlInstances -SqlCredential $SqlCredential -Check Storage"
   ]
  },
  {
   "cell_type": "markdown",
   "metadata": {
    "azdata_cell_guid": "5e898a69-40f1-4258-a79f-446d43f09999"
   },
   "source": [
    "## Running checks for a Group\r\n",
    "\r\n",
    "Checks are grouped into ... well groups! The groups are Database, Instance, Server, Agent, HADR, LogShipping and MaintenanceSolution. You can run all of the checks in a group by specifying the group. You will see failures and some errors due to missing configurations and because some checks wont run against containers"
   ]
  },
  {
   "cell_type": "code",
   "execution_count": 10,
   "metadata": {
    "azdata_cell_guid": "6ee020a1-3a9e-414c-b225-bad6255041aa"
   },
   "outputs": [],
   "source": [
    "$FolderPath = $Env:USERPROFILE + '\\Documents\\dbachecks'\r\n",
    "$SqlInstances = 'localhost,15592','localhost,15593'\r\n",
    "$SqlCredential = Import-Clixml -Path $FolderPath\\sqladmin.cred\r\n",
    "Invoke-DbcCheck -SqlInstance $SqlInstances -SqlCredential $SqlCredential -Check Instance"
   ]
  }
 ],
 "metadata": {
  "kernelspec": {
   "display_name": ".NET (PowerShell)",
   "language": "PowerShell",
   "name": ".net-powershell"
  },
  "language_info": {
   "file_extension": ".ps1",
   "mimetype": "text/x-powershell",
   "name": "PowerShell",
   "pygments_lexer": "powershell",
   "version": "7.0"
  }
 },
 "nbformat": 4,
 "nbformat_minor": 4
}
