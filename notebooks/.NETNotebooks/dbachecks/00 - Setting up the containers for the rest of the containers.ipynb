{
 "cells": [
  {
   "cell_type": "markdown",
   "metadata": {
    "azdata_cell_guid": "417c67ae-8d69-4be2-9b09-d6178d5c2da6"
   },
   "source": [
    "![First Power Bi](.\\images\\dbachecks-logo.png )\r\n",
    "# Setting up the containers for the rest of the dbachecks notebooks\r\n",
    "\r\n",
    "To be able to follow along with the rest of the notebooks, you will need to set up two containers. \r\n",
    "\r\n",
    "This notebook will enable you to do that.\r\n",
    "\r\n",
    "You will need to have Docker installed. The image is based on the SQL Server 2019 image so you will need to have docker set to use Linux Containers. Right click on the Docker icon in the notification area and if it says \"Switch to Linux Containers\" click to switch and wait for Docker to restart.  \r\n",
    "\r\n",
    "![Switch To Linux Containers](.\\images\\switchtolinuxcontainers.png )\r\n",
    "\r\n",
    "You will be able to run all of the code in the notebooks by creating the folder, credential and containers in this notebook and then you can click on the play button in each code block to run the code. Note - There are a few code blocks with the results already included which should not be run. They are to show you the results of a command that cannot be run against containers (setting up configuration for domain accounts for example)\r\n"
   ]
  },
  {
   "cell_type": "markdown",
   "metadata": {
    "azdata_cell_guid": "1dc8ffc9-2c1a-4a93-bfcf-bc52f587df30"
   },
   "source": [
    "## Create the folders and the credential\r\n",
    "\r\n",
    "The code below will create a directory called dbachecks-demo in your Documents folder and save a credential file for logging into the containers. You can alter the directory created by altering the $FolderPath but you will have to do this in every notebook."
   ]
  },
  {
   "cell_type": "code",
   "execution_count": 1,
   "metadata": {
    "azdata_cell_guid": "05f101cc-6fe4-4f97-9e2a-88230ffa5462",
    "tags": [
     "hide_input"
    ]
   },
   "outputs": [],
   "source": [
    "$FolderPath = $Env:USERPROFILE + '\\Documents\\dbachecks'\r\n",
    "\r\n",
    "########################################################\r\n",
    "Write-Output \"Creating Directory $FolderPath\"\r\n",
    "if(Test-Path $FolderPath){\r\n",
    "    Write-Output \"Path $FolderPath exists already\"\r\n",
    "}else {\r\n",
    "    New-Item $FolderPath -ItemType Directory\r\n",
    "}\r\n",
    "Write-Output \"Creating a credential file for the containers - Please don't do this in production\"\r\n",
    "\r\n",
    "$sqladminPassword = ConvertTo-SecureString 'dbatools.IO' -AsPlainText -Force \r\n",
    "$cred = New-Object System.Management.Automation.PSCredential ('sqladmin', $sqladminpassword)\r\n",
    "$Cred | Export-Clixml -Path $FolderPath\\sqladmin.cred\r\n",
    "Write-Output \"Credential file created\""
   ]
  },
  {
   "cell_type": "markdown",
   "metadata": {
    "azdata_cell_guid": "47c883a8-f396-492c-8ed1-05acc981aeae"
   },
   "source": [
    "## Containers\r\n",
    "\r\n",
    "We are going to create two SQL 2019 containers using the sqldbawithabeard\\dbachecks [image from the Docker Hub](https://hub.docker.com/repository/docker/sqldbawithabeard/dbachecksdemo). \r\n",
    "\r\n",
    "Please copy the docker-compose.yml file from the folder that the Notebooks are in into the directory that was created above.\r\n",
    "\r\n",
    "The first time it is going to pull the image sqldbawithabeard/dbachecksdemo from the Docker Hub. If you wish to do this first, you can run \r\n",
    "\r\n",
    "`docker pull sqldbawithabeard/dbachecksdemo`\r\n"
   ]
  },
  {
   "cell_type": "code",
   "execution_count": 1,
   "metadata": {
    "azdata_cell_guid": "63ae3fba-d0af-4226-9a2e-1ec9f92b76dd",
    "tags": []
   },
   "outputs": [],
   "source": [
    "$FolderPath = $Env:USERPROFILE + '\\Documents\\dbachecks'\r\n",
    "Set-Location $FolderPath\r\n",
    "docker-compose up -d"
   ]
  }
 ],
 "metadata": {
  "kernelspec": {
   "display_name": "PowerShell",
   "language": "powershell",
   "name": "powershell"
  },
  "language_info": {
   "codemirror_mode": "shell",
   "file_extension": ".ps1",
   "mimetype": "text/x-sh",
   "name": "powershell"
  }
 },
 "nbformat": 4,
 "nbformat_minor": 4
}
