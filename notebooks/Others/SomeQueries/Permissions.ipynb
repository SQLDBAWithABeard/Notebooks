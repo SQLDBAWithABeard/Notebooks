{
    "metadata": {
        "kernelspec": {
            "name": "SQL",
            "display_name": "SQL",
            "language": "sql"
        },
        "language_info": {
            "name": "sql",
            "version": ""
        }
    },
    "nbformat_minor": 2,
    "nbformat": 4,
    "cells": [
        {
            "cell_type": "markdown",
            "source": [
                "# Get the permissions \r\n",
                "\r\n",
                "This Notebook will get the current Server Role Membership for all Logins and the database role membership for all user database users and the securables for all databases. Copy this and connect to the server required and click the run cells button above\r\n",
                "\r\n",
                "It was run on the server by the user at the time below\r\n",
                ""
            ],
            "metadata": {
                "azdata_cell_guid": "c0746fb1-6340-43da-9d34-2199f596ee07"
            }
        },
        {
            "cell_type": "code",
            "source": [
                "SELECT @@SERVERNAME AS ServerName, ORIGINAL_LOGIN() AS Run_By, GetDate() AS Time_Run"
            ],
            "metadata": {
                "azdata_cell_guid": "b711dbef-f15d-4abb-9a16-ae873c790f04"
            },
            "outputs": [],
            "execution_count": 1
        },
        {
            "cell_type": "markdown",
            "source": [
                "\r\n",
                "## Server Roles Membership for all logins"
            ],
            "metadata": {
                "azdata_cell_guid": "7fd6c073-547b-417c-be2b-54493cae7488"
            }
        },
        {
            "cell_type": "code",
            "source": [
                "-- Code to get the Server Role Membership for all logins\r\n",
                "\r\n",
                "WITH CTE_Role (name,role,type_desc)\r\n",
                "AS\r\n",
                "(SELECT PRN.name,\r\n",
                "srvrole.name AS [role] , \r\n",
                "Prn.Type_Desc \r\n",
                "FROM sys.server_role_members membership \r\n",
                "INNER JOIN (SELECT * FROM sys.server_principals  WHERE type_desc='SERVER_ROLE') srvrole \r\n",
                "ON srvrole.Principal_id= membership.Role_principal_id \r\n",
                "RIGHT JOIN sys.server_principals  PRN \r\n",
                "ON PRN.Principal_id= membership.member_principal_id WHERE Prn.Type_Desc NOT IN ('SERVER_ROLE') AND PRN.is_disabled =0\r\n",
                "\r\n",
                "UNION ALL\r\n",
                "\r\n",
                "SELECT  p.[name], 'ControlServer' ,p.type_desc AS loginType FROM sys.server_principals p\r\n",
                "  JOIN sys.server_permissions Sp\r\n",
                "   ON p.principal_id = sp.grantee_principal_id WHERE sp.class = 100\r\n",
                "  AND sp.[type] = 'CL'\r\n",
                "  AND state = 'G' )\r\n",
                "SELECT \r\n",
                "@@SERVERNAME AS ServerName,\r\n",
                "name,\r\n",
                "Type_Desc ,\r\n",
                "CASE WHEN [public]=1 THEN 'Y' ELSE 'N' END AS 'Public',\r\n",
                "CASE WHEN [sysadmin] =1 THEN 'Y' ELSE 'N' END AS 'SysAdmin' ,\r\n",
                "CASE WHEN [securityadmin] =1 THEN 'Y' ELSE 'N' END AS 'SecurityAdmin',\r\n",
                "CASE WHEN [serveradmin] =1 THEN 'Y' ELSE 'N' END AS 'ServerAdmin',\r\n",
                "CASE WHEN [setupadmin] =1 THEN 'Y' ELSE 'N' END AS 'SetupAdmin',\r\n",
                "CASE WHEN [processadmin] =1 THEN 'Y' ELSE 'N' END AS 'ProcessAdmin',\r\n",
                "CASE WHEN [diskadmin] =1 THEN 'Y' ELSE 'N' END AS 'DiskAdmin',\r\n",
                "CASE WHEN [dbcreator] =1 THEN 'Y' ELSE 'N' END AS 'DBCreator',\r\n",
                "CASE WHEN [bulkadmin] =1 THEN 'Y' ELSE 'N' END AS 'BulkAdmin' ,\r\n",
                "CASE WHEN [ControlServer] =1 THEN 'Y' ELSE 'N' END AS 'ControlServer' \r\n",
                "FROM CTE_Role\r\n",
                "PIVOT(\r\n",
                "COUNT(role) FOR role IN ([public],[sysadmin],[securityadmin],[serveradmin],[setupadmin],[processadmin],[diskadmin],[dbcreator],[bulkadmin],[ControlServer])\r\n",
                ") AS pvt WHERE Type_Desc NOT IN ('SERVER_ROLE')ORDER BY name,type_desc"
            ],
            "metadata": {
                "azdata_cell_guid": "3746531c-b1a3-4d27-a677-e3a0d95c6980",
                "tags": [
                    "hide_input"
                ]
            },
            "outputs": [],
            "execution_count": 6
        },
        {
            "cell_type": "markdown",
            "source": [
                "## Database Role Members for all users on all user databases"
            ],
            "metadata": {
                "azdata_cell_guid": "1def9356-c039-4f09-b34a-f36eea60d824"
            }
        },
        {
            "cell_type": "code",
            "source": [
                "-- Get the database role members for all of the users on all of the databases\r\n",
                "SET NOCOUNT ON\r\n",
                "\r\n",
                "CREATE TABLE #DatabaseRoleMemberShip\r\n",
                "   (\r\n",
                "        Username VARCHAR(100),\r\n",
                "        Rolename VARCHAR(100),\r\n",
                "        Databasename VARCHAR(100)\r\n",
                "        \r\n",
                "    )DECLARE @Cmd AS VARCHAR(MAX)DECLARE @PivotColumnHeaders VARCHAR(4000)           SET @Cmd = 'USE [?] ;insert into #DatabaseRoleMemberShip\r\n",
                "select u.name,r.name,''?'' from sys.database_role_members RM inner join\r\n",
                "sys.database_principals U on U.principal_id=RM.member_principal_id\r\n",
                "inner join sys.database_principals R on R.principal_id=RM.role_principal_id\r\n",
                "where u.type<>''R'''EXEC sp_MSforeachdb @command1=@cmd\r\n",
                "\r\n",
                "SELECT  @PivotColumnHeaders =                        \r\n",
                "  COALESCE(@PivotColumnHeaders + ',[' + CAST(rolename AS VARCHAR(MAX)) + ']','[' + CAST(rolename AS VARCHAR(MAX))+ ']'                     \r\n",
                "  )                     \r\n",
                "  FROM (SELECT DISTINCT rolename FROM #DatabaseRoleMemberShip )a ORDER BY rolename  ASC\r\n",
                "\r\n",
                "\r\n",
                "SET @Cmd = '\r\n",
                "select\r\n",
                "@@SERVERNAME AS ServerName,\r\n",
                "DatabaseName,UserName,'+@PivotColumnHeaders+'\r\n",
                "from\r\n",
                "(\r\n",
                "select   * from #DatabaseRoleMemberShip) as p\r\n",
                "pivot\r\n",
                "(\r\n",
                "count(rolename  )\r\n",
                "for rolename in ('+@PivotColumnHeaders+') )as pvt'\r\n",
                "\r\n",
                "EXECUTE(@Cmd )        \r\n",
                "\r\n",
                "DROP TABLE #DatabaseRoleMemberShip "
            ],
            "metadata": {
                "azdata_cell_guid": "8bdbea8f-ed00-4ac2-ab0e-35d7ec86e276",
                "tags": [
                    "hide_input"
                ]
            },
            "outputs": [],
            "execution_count": 5
        },
        {
            "cell_type": "markdown",
            "source": [
                "## All User Database Role Securables"
            ],
            "metadata": {
                "azdata_cell_guid": "75d1eeb0-b3a5-4fbd-b18c-8dd31ffddbee"
            }
        },
        {
            "cell_type": "code",
            "source": [
                "-- Get all of the securables for all of the Database Roles in all of the user databases\r\n",
                "EXECUTE master.sys.sp_MSforeachdb '\r\n",
                "IF ''?'' <> ''master'' AND ''?'' <> ''model'' AND ''?'' <> ''msdb'' AND ''?'' <> ''tempdb''\r\n",
                "\t\tBEGIN\r\n",
                "USE [?]; \r\n",
                "\r\n",
                "SELECT DISTINCT \r\n",
                "                @@SERVERNAME AS ServerName,\r\n",
                "                DB_NAME() AS DatabaseName,\r\n",
                "                rp.name AS RoleName, \r\n",
                "                ObjectType = rp.type_desc, \r\n",
                "                PermissionType = pm.class_desc, \r\n",
                "                pm.permission_name, \r\n",
                "                pm.state_desc, \r\n",
                "                ObjectType = CASE \r\n",
                "                               WHEN obj.type_desc IS NULL \r\n",
                "                                     OR obj.type_desc = ''SYSTEM_TABLE'' THEN \r\n",
                "                               pm.class_desc \r\n",
                "                               ELSE obj.type_desc \r\n",
                "                             END, \r\n",
                "                s.Name as SchemaName,\r\n",
                "                [ObjectName] = Isnull(ss.name, Object_name(pm.major_id)) \r\n",
                "FROM   sys.database_principals rp \r\n",
                "       INNER JOIN sys.database_permissions pm \r\n",
                "               ON pm.grantee_principal_id = rp.principal_id \r\n",
                "       LEFT JOIN sys.schemas ss \r\n",
                "              ON pm.major_id = ss.schema_id \r\n",
                "       LEFT JOIN sys.objects obj \r\n",
                "              ON pm.[major_id] = obj.[object_id] \r\n",
                "       LEFT JOIN sys.schemas s\r\n",
                "              ON s.schema_id = obj.schema_id\r\n",
                "WHERE  rp.type_desc = ''DATABASE_ROLE'' \r\n",
                "       AND pm.class_desc <> ''DATABASE'' \r\n",
                "ORDER  BY rp.name, \r\n",
                "          rp.type_desc, pm.class_desc \r\n",
                "          END\r\n",
                "          '"
            ],
            "metadata": {
                "azdata_cell_guid": "2b3eaebf-f26a-4f81-9a8d-0a59639a1ba3",
                "tags": [
                    "hide_input"
                ]
            },
            "outputs": [],
            "execution_count": 4
        }
    ]
}