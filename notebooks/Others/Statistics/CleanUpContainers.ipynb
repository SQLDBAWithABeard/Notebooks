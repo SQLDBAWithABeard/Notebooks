{
    "metadata": {
        "kernelspec": {
            "name": "SQL",
            "display_name": "SQL",
            "language": "sql"
        },
        "language_info": {
            "name": "sql",
            "version": ""
        }
    },
    "nbformat_minor": 2,
    "nbformat": 4,
    "cells": [
        {
            "cell_type": "markdown",
            "source": [
                "# Clean Up\r\n",
                "\r\n",
                "The code below will clean up the files that have been created and remove the docker containers but not the image so tha tyou can run this notebook again without having to download the image again"
            ],
            "metadata": {
                "azdata_cell_guid": "0ff1ed5c-917a-4013-b596-35955cfc5e8b"
            }
        },
        {
            "cell_type": "code",
            "source": [
                "docker-compose down \n",
                "$FolderPath = $Env:USERPROFILE + '\\Documents\\dbatoolsdemo'\n",
                "Remove-Item $FolderPath -Recurse -Force"
            ],
            "metadata": {
                "azdata_cell_guid": "d347796d-3061-45cb-aab2-7870be3207fa"
            },
            "outputs": [],
            "execution_count": 0
        }
    ]
}