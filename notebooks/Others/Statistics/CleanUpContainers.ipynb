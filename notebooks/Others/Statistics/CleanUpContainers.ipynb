{
    "metadata": {
        "kernelspec": {
            "name": "powershell",
            "display_name": "PowerShell"
        },
        "language_info": {
            "name": "powershell",
            "codemirror_mode": "shell",
            "mimetype": "text/x-sh",
            "file_extension": ".ps1"
        }
    },
    "nbformat_minor": 2,
    "nbformat": 4,
    "cells": [
        {
            "cell_type": "markdown",
            "source": [
                "# Clean Up\r\n",
                "\r\n",
                "The code below will clean up the files that have been created and remove the docker containers but not the image so tha tyou can run this notebook again without having to download the image again"
            ],
            "metadata": {
                "azdata_cell_guid": "0ff1ed5c-917a-4013-b596-35955cfc5e8b"
            }
        },
        {
            "cell_type": "code",
            "source": [
                "$FolderPath = $Env:USERPROFILE + '\\Documents\\dbatoolsdemo'\n",
                "Set-Location $FolderPath\n",
                "docker-compose down \n",
                "Set-Location $Env:USERPROFILE\n",
                "Remove-Item $FolderPath -Recurse -Force"
            ],
            "metadata": {
                "azdata_cell_guid": "d347796d-3061-45cb-aab2-7870be3207fa"
            },
            "outputs": [
                {
                    "name": "stdout",
                    "text": "Stopping dbatoolsdemo_SQL2019-1_1 ... \nStopping dbatoolsdemo_SQL2019_1   ... \n\u001b[2A\u001b[2KStopping dbatoolsdemo_SQL2019-1_1 ... \u001b[32mdone\u001b[0m\u001b[2B\u001b[1A\u001b[2KStopping dbatoolsdemo_SQL2019_1   ... \u001b[32mdone\u001b[0m\u001b[1BRemoving dbatoolsdemo_SQL2019-1_1 ... \nRemoving dbatoolsdemo_SQL2019_1   ... \n\u001b[1A\u001b[2KRemoving dbatoolsdemo_SQL2019_1   ... \u001b[32mdone\u001b[0m\u001b[1B\u001b[2A\u001b[2KRemoving dbatoolsdemo_SQL2019-1_1 ... \u001b[32mdone\u001b[0m\u001b[2BRemoving network dbatoolsdemo_BeardsMagicNetwork\n",
                    "output_type": "stream"
                }
            ],
            "execution_count": 4
        }
    ]
}