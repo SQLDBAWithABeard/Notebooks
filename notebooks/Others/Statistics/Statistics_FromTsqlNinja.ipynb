{
    "metadata": {
        "kernelspec": {
            "name": "SQL",
            "display_name": "SQL",
            "language": "sql"
        },
        "language_info": {
            "name": "sql",
            "version": ""
        }
    },
    "nbformat_minor": 2,
    "nbformat": 4,
    "cells": [
        {
            "cell_type": "markdown",
            "source": [
                "# From T-SQL Ninja\r\n",
                "\r\n",
                "So [T-SQL Ninja wrote about statistics here](https://www.tsql-ninja.com/2020/02/27/statistics-io/) and I thought it might be fun to create a couple of Notebooks to show the working.  \r\n",
                "\r\n",
                "I have saved the results with the notebook so you can see the results (aren't Notebooks cool ?) You can clear them using the Clear Results button above\r\n",
                "\r\n",
                "You need to have run the containers notebook to create the containers.\r\n",
                "\r\n",
                "Then connect this notebook to the container using\r\n",
                "\r\n",
                "Instance : localhost,15592  \r\n",
                "Username : sqladmin  \r\n",
                "Password : dbatools.IO\r\n",
                "\r\n",
                "\r\n",
                "## Click here  \r\n",
                "\r\n",
                "![Connect to container](.\\images\\changeconnection.png )\r\n",
                "\r\n",
                "## and enter the details as shown\r\n",
                "\r\n",
                "![Connect to container](.\\images\\containerconnectionsettings.png )\r\n",
                "\r\n",
                "## You will know that you have it correct if you see\r\n",
                "\r\n",
                "![Connect to container](.\\images\\successfulconnection.png )\r\n",
                "\r\n",
                "\r\n",
                "\r\n",
                ""
            ],
            "metadata": {
                "azdata_cell_guid": "061b1f06-3f4a-4ccc-8b64-dd7c10ecdfd4"
            }
        },
        {
            "cell_type": "markdown",
            "source": [
                "# Lets follow the blog\r\n",
                "\r\n",
                "## STATISTICS IO\r\n",
                "\r\n",
                "you can get this information by sending a SET STATISTICS IO ON before the query. What you will then see is a set of information that we would like to explore a bit in the following. Let’s use the statistics to query the StockItems table in the Wide World Importers database:\r\n",
                "\r\n",
                ""
            ],
            "metadata": {
                "azdata_cell_guid": "7d0ef2eb-0f87-46c8-b5b4-45c7021bd1f8"
            }
        },
        {
            "cell_type": "code",
            "source": [
                "Use WideWorldImporters\r\n",
                "SET STATISTICS IO ON\r\n",
                "SELECT \r\n",
                "       [StockItemID]\r\n",
                "      ,[StockItemName]\r\n",
                "      ,[UnitPrice]\r\n",
                "FROM [Warehouse].[StockItems]"
            ],
            "metadata": {
                "azdata_cell_guid": "2f99ed7d-bf70-44f7-8fcd-0eb318ea4a10"
            },
            "outputs": [
                {
                    "output_type": "display_data",
                    "data": {
                        "text/html": "(227 rows affected)"
                    },
                    "metadata": {}
                },
                {
                    "output_type": "display_data",
                    "data": {
                        "text/html": "Table 'StockItems'. Scan count 1, logical reads 16, physical reads 1, page server reads 0, read-ahead reads 7, page server read-ahead reads 0, lob logical reads 0, lob physical reads 0, lob page server reads 0, lob read-ahead reads 0, lob page server read-ahead reads 0."
                    },
                    "metadata": {}
                },
                {
                    "output_type": "display_data",
                    "data": {
                        "text/html": "Total execution time: 00:00:00.128"
                    },
                    "metadata": {}
                },
                {
                    "output_type": "execute_result",
                    "metadata": {},
                    "execution_count": 1,
                    "data": {
                        "application/vnd.dataresource+json": {
                            "schema": {
                                "fields": [
                                    {
                                        "name": "StockItemID"
                                    },
                                    {
                                        "name": "StockItemName"
                                    },
                                    {
                                        "name": "UnitPrice"
                                    }
                                ]
                            },
                            "data": [
                                {
                                    "0": "1",
                                    "1": "USB missile launcher (Green)",
                                    "2": "25.00"
                                },
                                {
                                    "0": "2",
                                    "1": "USB rocket launcher (Gray)",
                                    "2": "25.00"
                                },
                                {
                                    "0": "3",
                                    "1": "Office cube periscope (Black)",
                                    "2": "18.50"
                                },
                                {
                                    "0": "4",
                                    "1": "USB food flash drive - sushi roll",
                                    "2": "32.00"
                                },
                                {
                                    "0": "5",
                                    "1": "USB food flash drive - hamburger",
                                    "2": "32.00"
                                },
                                {
                                    "0": "6",
                                    "1": "USB food flash drive - hot dog",
                                    "2": "32.00"
                                },
                                {
                                    "0": "7",
                                    "1": "USB food flash drive - pizza slice",
                                    "2": "32.00"
                                },
                                {
                                    "0": "8",
                                    "1": "USB food flash drive - dim sum 10 drive variety pack",
                                    "2": "240.00"
                                },
                                {
                                    "0": "9",
                                    "1": "USB food flash drive - banana",
                                    "2": "32.00"
                                },
                                {
                                    "0": "10",
                                    "1": "USB food flash drive - chocolate bar",
                                    "2": "32.00"
                                },
                                {
                                    "0": "11",
                                    "1": "USB food flash drive - cookie",
                                    "2": "32.00"
                                },
                                {
                                    "0": "12",
                                    "1": "USB food flash drive - donut",
                                    "2": "32.00"
                                },
                                {
                                    "0": "13",
                                    "1": "USB food flash drive - shrimp cocktail",
                                    "2": "32.00"
                                },
                                {
                                    "0": "14",
                                    "1": "USB food flash drive - fortune cookie",
                                    "2": "32.00"
                                },
                                {
                                    "0": "15",
                                    "1": "USB food flash drive - dessert 10 drive variety pack",
                                    "2": "240.00"
                                },
                                {
                                    "0": "16",
                                    "1": "DBA joke mug - mind if I join you? (White)",
                                    "2": "13.00"
                                },
                                {
                                    "0": "17",
                                    "1": "DBA joke mug - mind if I join you? (Black)",
                                    "2": "13.00"
                                },
                                {
                                    "0": "18",
                                    "1": "DBA joke mug - daaaaaa-ta (White)",
                                    "2": "13.00"
                                },
                                {
                                    "0": "19",
                                    "1": "DBA joke mug - daaaaaa-ta (Black)",
                                    "2": "13.00"
                                },
                                {
                                    "0": "20",
                                    "1": "DBA joke mug - you might be a DBA if (White)",
                                    "2": "13.00"
                                },
                                {
                                    "0": "21",
                                    "1": "DBA joke mug - you might be a DBA if (Black)",
                                    "2": "13.00"
                                },
                                {
                                    "0": "22",
                                    "1": "DBA joke mug - it depends (White)",
                                    "2": "13.00"
                                },
                                {
                                    "0": "23",
                                    "1": "DBA joke mug - it depends (Black)",
                                    "2": "13.00"
                                },
                                {
                                    "0": "24",
                                    "1": "DBA joke mug - I will get you in order (White)",
                                    "2": "13.00"
                                },
                                {
                                    "0": "25",
                                    "1": "DBA joke mug - I will get you in order (Black)",
                                    "2": "13.00"
                                },
                                {
                                    "0": "26",
                                    "1": "DBA joke mug - SELECT caffeine FROM mug (White)",
                                    "2": "13.00"
                                },
                                {
                                    "0": "27",
                                    "1": "DBA joke mug - SELECT caffeine FROM mug (Black)",
                                    "2": "13.00"
                                },
                                {
                                    "0": "28",
                                    "1": "DBA joke mug - two types of DBAs (White)",
                                    "2": "13.00"
                                },
                                {
                                    "0": "29",
                                    "1": "DBA joke mug - two types of DBAs (Black)",
                                    "2": "13.00"
                                },
                                {
                                    "0": "30",
                                    "1": "Developer joke mug - Oct 31 = Dec 25 (White)",
                                    "2": "13.00"
                                },
                                {
                                    "0": "31",
                                    "1": "Developer joke mug - Oct 31 = Dec 25 (Black)",
                                    "2": "13.00"
                                },
                                {
                                    "0": "32",
                                    "1": "Developer joke mug - that's a hardware problem (White)",
                                    "2": "13.00"
                                },
                                {
                                    "0": "33",
                                    "1": "Developer joke mug - that's a hardware problem (Black)",
                                    "2": "13.00"
                                },
                                {
                                    "0": "34",
                                    "1": "Developer joke mug - fun was unexpected at this time (White)",
                                    "2": "13.00"
                                },
                                {
                                    "0": "35",
                                    "1": "Developer joke mug - fun was unexpected at this time (Black)",
                                    "2": "13.00"
                                },
                                {
                                    "0": "36",
                                    "1": "Developer joke mug - when your hammer is C++ (White)",
                                    "2": "13.00"
                                },
                                {
                                    "0": "37",
                                    "1": "Developer joke mug - when your hammer is C++ (Black)",
                                    "2": "13.00"
                                },
                                {
                                    "0": "38",
                                    "1": "Developer joke mug - inheritance is the OO way to become wealthy (White)",
                                    "2": "13.00"
                                },
                                {
                                    "0": "39",
                                    "1": "Developer joke mug - inheritance is the OO way to become wealthy (Black)",
                                    "2": "13.00"
                                },
                                {
                                    "0": "40",
                                    "1": "Developer joke mug - (hip, hip, array) (White)",
                                    "2": "13.00"
                                },
                                {
                                    "0": "41",
                                    "1": "Developer joke mug - (hip, hip, array) (Black)",
                                    "2": "13.00"
                                },
                                {
                                    "0": "42",
                                    "1": "Developer joke mug - understanding recursion requires understanding recursion (White)",
                                    "2": "13.00"
                                },
                                {
                                    "0": "43",
                                    "1": "Developer joke mug - understanding recursion requires understanding recursion (Black)",
                                    "2": "13.00"
                                },
                                {
                                    "0": "44",
                                    "1": "Developer joke mug - there are 10 types of people in the world (White)",
                                    "2": "13.00"
                                },
                                {
                                    "0": "45",
                                    "1": "Developer joke mug - there are 10 types of people in the world (Black)",
                                    "2": "13.00"
                                },
                                {
                                    "0": "46",
                                    "1": "Developer joke mug - a foo walks into a bar (White)",
                                    "2": "13.00"
                                },
                                {
                                    "0": "47",
                                    "1": "Developer joke mug - a foo walks into a bar (Black)",
                                    "2": "13.00"
                                },
                                {
                                    "0": "48",
                                    "1": "Developer joke mug - this code was generated by a tool (White)",
                                    "2": "13.00"
                                },
                                {
                                    "0": "49",
                                    "1": "Developer joke mug - this code was generated by a tool (Black)",
                                    "2": "13.00"
                                },
                                {
                                    "0": "50",
                                    "1": "Developer joke mug - old C developers never die (White)",
                                    "2": "13.00"
                                },
                                {
                                    "0": "51",
                                    "1": "Developer joke mug - old C developers never die (Black)",
                                    "2": "13.00"
                                },
                                {
                                    "0": "52",
                                    "1": "IT joke mug - keyboard not found … press F1 to continue (White)",
                                    "2": "13.00"
                                },
                                {
                                    "0": "53",
                                    "1": "IT joke mug - keyboard not found … press F1 to continue (Black)",
                                    "2": "13.00"
                                },
                                {
                                    "0": "54",
                                    "1": "IT joke mug - that behavior is by design (White)",
                                    "2": "13.00"
                                },
                                {
                                    "0": "55",
                                    "1": "IT joke mug - that behavior is by design (Black)",
                                    "2": "13.00"
                                },
                                {
                                    "0": "56",
                                    "1": "IT joke mug - hardware: part of the computer that can be kicked (White)",
                                    "2": "13.00"
                                },
                                {
                                    "0": "57",
                                    "1": "IT joke mug - hardware: part of the computer that can be kicked (Black)",
                                    "2": "13.00"
                                },
                                {
                                    "0": "58",
                                    "1": "RC toy sedan car with remote control (Black) 1/50 scale",
                                    "2": "25.00"
                                },
                                {
                                    "0": "59",
                                    "1": "RC toy sedan car with remote control (Red) 1/50 scale",
                                    "2": "25.00"
                                },
                                {
                                    "0": "60",
                                    "1": "RC toy sedan car with remote control (Blue) 1/50 scale",
                                    "2": "25.00"
                                },
                                {
                                    "0": "61",
                                    "1": "RC toy sedan car with remote control (Green) 1/50 scale",
                                    "2": "25.00"
                                },
                                {
                                    "0": "62",
                                    "1": "RC toy sedan car with remote control (Yellow) 1/50 scale",
                                    "2": "25.00"
                                },
                                {
                                    "0": "63",
                                    "1": "RC toy sedan car with remote control (Pink) 1/50 scale",
                                    "2": "25.00"
                                },
                                {
                                    "0": "64",
                                    "1": "RC vintage American toy coupe with remote control (Red) 1/50 scale",
                                    "2": "30.00"
                                },
                                {
                                    "0": "65",
                                    "1": "RC vintage American toy coupe with remote control (Black) 1/50 scale",
                                    "2": "30.00"
                                },
                                {
                                    "0": "66",
                                    "1": "RC big wheel monster truck with remote control (Black) 1/50 scale",
                                    "2": "45.00"
                                },
                                {
                                    "0": "67",
                                    "1": "Ride on toy sedan car (Black) 1/12 scale",
                                    "2": "230.00"
                                },
                                {
                                    "0": "68",
                                    "1": "Ride on toy sedan car (Red) 1/12 scale",
                                    "2": "230.00"
                                },
                                {
                                    "0": "69",
                                    "1": "Ride on toy sedan car (Blue) 1/12 scale",
                                    "2": "230.00"
                                },
                                {
                                    "0": "70",
                                    "1": "Ride on toy sedan car (Green) 1/12 scale",
                                    "2": "230.00"
                                },
                                {
                                    "0": "71",
                                    "1": "Ride on toy sedan car (Yellow) 1/12 scale",
                                    "2": "230.00"
                                },
                                {
                                    "0": "72",
                                    "1": "Ride on toy sedan car (Pink) 1/12 scale",
                                    "2": "230.00"
                                },
                                {
                                    "0": "73",
                                    "1": "Ride on vintage American toy coupe (Red) 1/12 scale",
                                    "2": "285.00"
                                },
                                {
                                    "0": "74",
                                    "1": "Ride on vintage American toy coupe (Black) 1/12 scale",
                                    "2": "285.00"
                                },
                                {
                                    "0": "75",
                                    "1": "Ride on big wheel monster truck (Black) 1/12 scale",
                                    "2": "345.00"
                                },
                                {
                                    "0": "76",
                                    "1": "\"The Gu\" red shirt XML tag t-shirt (White) 3XS",
                                    "2": "18.00"
                                },
                                {
                                    "0": "77",
                                    "1": "\"The Gu\" red shirt XML tag t-shirt (White) XXS",
                                    "2": "18.00"
                                },
                                {
                                    "0": "78",
                                    "1": "\"The Gu\" red shirt XML tag t-shirt (White) XS",
                                    "2": "18.00"
                                },
                                {
                                    "0": "79",
                                    "1": "\"The Gu\" red shirt XML tag t-shirt (White) S",
                                    "2": "18.00"
                                },
                                {
                                    "0": "80",
                                    "1": "\"The Gu\" red shirt XML tag t-shirt (White) M",
                                    "2": "18.00"
                                },
                                {
                                    "0": "81",
                                    "1": "\"The Gu\" red shirt XML tag t-shirt (White) L",
                                    "2": "18.00"
                                },
                                {
                                    "0": "82",
                                    "1": "\"The Gu\" red shirt XML tag t-shirt (White) XL",
                                    "2": "18.00"
                                },
                                {
                                    "0": "83",
                                    "1": "\"The Gu\" red shirt XML tag t-shirt (White) XXL",
                                    "2": "18.00"
                                },
                                {
                                    "0": "84",
                                    "1": "\"The Gu\" red shirt XML tag t-shirt (White) 3XL",
                                    "2": "18.00"
                                },
                                {
                                    "0": "85",
                                    "1": "\"The Gu\" red shirt XML tag t-shirt (White) 4XL",
                                    "2": "18.00"
                                },
                                {
                                    "0": "86",
                                    "1": "\"The Gu\" red shirt XML tag t-shirt (White) 5XL",
                                    "2": "18.00"
                                },
                                {
                                    "0": "87",
                                    "1": "\"The Gu\" red shirt XML tag t-shirt (White) 6XL",
                                    "2": "18.00"
                                },
                                {
                                    "0": "88",
                                    "1": "\"The Gu\" red shirt XML tag t-shirt (White) 7XL",
                                    "2": "18.00"
                                },
                                {
                                    "0": "89",
                                    "1": "\"The Gu\" red shirt XML tag t-shirt (Black) 3XS",
                                    "2": "18.00"
                                },
                                {
                                    "0": "90",
                                    "1": "\"The Gu\" red shirt XML tag t-shirt (Black) XXS",
                                    "2": "18.00"
                                },
                                {
                                    "0": "91",
                                    "1": "\"The Gu\" red shirt XML tag t-shirt (Black) XS",
                                    "2": "18.00"
                                },
                                {
                                    "0": "92",
                                    "1": "\"The Gu\" red shirt XML tag t-shirt (Black) S",
                                    "2": "18.00"
                                },
                                {
                                    "0": "93",
                                    "1": "\"The Gu\" red shirt XML tag t-shirt (Black) M",
                                    "2": "18.00"
                                },
                                {
                                    "0": "94",
                                    "1": "\"The Gu\" red shirt XML tag t-shirt (Black) L",
                                    "2": "18.00"
                                },
                                {
                                    "0": "95",
                                    "1": "\"The Gu\" red shirt XML tag t-shirt (Black) XL",
                                    "2": "18.00"
                                },
                                {
                                    "0": "96",
                                    "1": "\"The Gu\" red shirt XML tag t-shirt (Black) XXL",
                                    "2": "18.00"
                                },
                                {
                                    "0": "97",
                                    "1": "\"The Gu\" red shirt XML tag t-shirt (Black) 3XL",
                                    "2": "18.00"
                                },
                                {
                                    "0": "98",
                                    "1": "\"The Gu\" red shirt XML tag t-shirt (Black) 4XL",
                                    "2": "18.00"
                                },
                                {
                                    "0": "99",
                                    "1": "\"The Gu\" red shirt XML tag t-shirt (Black) 5XL",
                                    "2": "18.00"
                                },
                                {
                                    "0": "100",
                                    "1": "\"The Gu\" red shirt XML tag t-shirt (Black) 6XL",
                                    "2": "18.00"
                                },
                                {
                                    "0": "101",
                                    "1": "\"The Gu\" red shirt XML tag t-shirt (Black) 7XL",
                                    "2": "18.00"
                                },
                                {
                                    "0": "102",
                                    "1": "Alien officer hoodie (Black) XL",
                                    "2": "35.00"
                                },
                                {
                                    "0": "103",
                                    "1": "Alien officer hoodie (Black) XXL",
                                    "2": "35.00"
                                },
                                {
                                    "0": "104",
                                    "1": "Alien officer hoodie (Black) 3XL",
                                    "2": "35.00"
                                },
                                {
                                    "0": "105",
                                    "1": "Alien officer hoodie (Black) 4XL",
                                    "2": "35.00"
                                },
                                {
                                    "0": "106",
                                    "1": "Alien officer hoodie (Black) 5XL",
                                    "2": "35.00"
                                },
                                {
                                    "0": "107",
                                    "1": "Superhero action jacket (Blue) 3XS",
                                    "2": "25.00"
                                },
                                {
                                    "0": "108",
                                    "1": "Superhero action jacket (Blue) XXS",
                                    "2": "25.00"
                                },
                                {
                                    "0": "109",
                                    "1": "Superhero action jacket (Blue) XS",
                                    "2": "25.00"
                                },
                                {
                                    "0": "110",
                                    "1": "Superhero action jacket (Blue) S",
                                    "2": "25.00"
                                },
                                {
                                    "0": "111",
                                    "1": "Superhero action jacket (Blue) M",
                                    "2": "30.00"
                                },
                                {
                                    "0": "112",
                                    "1": "Superhero action jacket (Blue) L",
                                    "2": "30.00"
                                },
                                {
                                    "0": "113",
                                    "1": "Superhero action jacket (Blue) XL",
                                    "2": "30.00"
                                },
                                {
                                    "0": "114",
                                    "1": "Superhero action jacket (Blue) XXL",
                                    "2": "30.00"
                                },
                                {
                                    "0": "115",
                                    "1": "Superhero action jacket (Blue) 3XL",
                                    "2": "34.00"
                                },
                                {
                                    "0": "116",
                                    "1": "Superhero action jacket (Blue) 4XL",
                                    "2": "34.00"
                                },
                                {
                                    "0": "117",
                                    "1": "Superhero action jacket (Blue) 5XL",
                                    "2": "34.00"
                                },
                                {
                                    "0": "118",
                                    "1": "Dinosaur battery-powered slippers (Green) S",
                                    "2": "32.00"
                                },
                                {
                                    "0": "119",
                                    "1": "Dinosaur battery-powered slippers (Green) M",
                                    "2": "32.00"
                                },
                                {
                                    "0": "120",
                                    "1": "Dinosaur battery-powered slippers (Green) L",
                                    "2": "32.00"
                                },
                                {
                                    "0": "121",
                                    "1": "Dinosaur battery-powered slippers (Green) XL",
                                    "2": "32.00"
                                },
                                {
                                    "0": "122",
                                    "1": "Ogre battery-powered slippers (Green) S",
                                    "2": "32.00"
                                },
                                {
                                    "0": "123",
                                    "1": "Ogre battery-powered slippers (Green) M",
                                    "2": "32.00"
                                },
                                {
                                    "0": "124",
                                    "1": "Ogre battery-powered slippers (Green) L",
                                    "2": "32.00"
                                },
                                {
                                    "0": "125",
                                    "1": "Ogre battery-powered slippers (Green) XL",
                                    "2": "32.00"
                                },
                                {
                                    "0": "126",
                                    "1": "Plush shark slippers (Gray) S",
                                    "2": "32.00"
                                },
                                {
                                    "0": "127",
                                    "1": "Plush shark slippers (Gray) M",
                                    "2": "32.00"
                                },
                                {
                                    "0": "128",
                                    "1": "Plush shark slippers (Gray) L",
                                    "2": "32.00"
                                },
                                {
                                    "0": "129",
                                    "1": "Plush shark slippers (Gray) XL",
                                    "2": "32.00"
                                },
                                {
                                    "0": "130",
                                    "1": "Furry gorilla with big eyes slippers (Black) S",
                                    "2": "32.00"
                                },
                                {
                                    "0": "131",
                                    "1": "Furry gorilla with big eyes slippers (Black) M",
                                    "2": "32.00"
                                },
                                {
                                    "0": "132",
                                    "1": "Furry gorilla with big eyes slippers (Black) L",
                                    "2": "32.00"
                                },
                                {
                                    "0": "133",
                                    "1": "Furry gorilla with big eyes slippers (Black) XL",
                                    "2": "32.00"
                                },
                                {
                                    "0": "134",
                                    "1": "Animal with big feet slippers (Brown) S",
                                    "2": "32.00"
                                },
                                {
                                    "0": "135",
                                    "1": "Animal with big feet slippers (Brown) M",
                                    "2": "32.00"
                                },
                                {
                                    "0": "136",
                                    "1": "Animal with big feet slippers (Brown) L",
                                    "2": "32.00"
                                },
                                {
                                    "0": "137",
                                    "1": "Animal with big feet slippers (Brown) XL",
                                    "2": "32.00"
                                },
                                {
                                    "0": "138",
                                    "1": "Furry animal socks (Pink) S",
                                    "2": "5.00"
                                },
                                {
                                    "0": "139",
                                    "1": "Furry animal socks (Pink) M",
                                    "2": "5.00"
                                },
                                {
                                    "0": "140",
                                    "1": "Furry animal socks (Pink) L",
                                    "2": "5.00"
                                },
                                {
                                    "0": "141",
                                    "1": "Furry animal socks (Pink) XL",
                                    "2": "5.00"
                                },
                                {
                                    "0": "142",
                                    "1": "Halloween zombie mask (Light Brown) S",
                                    "2": "18.00"
                                },
                                {
                                    "0": "143",
                                    "1": "Halloween zombie mask (Light Brown) M",
                                    "2": "18.00"
                                },
                                {
                                    "0": "144",
                                    "1": "Halloween zombie mask (Light Brown) L",
                                    "2": "18.00"
                                },
                                {
                                    "0": "145",
                                    "1": "Halloween zombie mask (Light Brown) XL",
                                    "2": "18.00"
                                },
                                {
                                    "0": "146",
                                    "1": "Halloween skull mask (Gray) S",
                                    "2": "18.00"
                                },
                                {
                                    "0": "147",
                                    "1": "Halloween skull mask (Gray) M",
                                    "2": "18.00"
                                },
                                {
                                    "0": "148",
                                    "1": "Halloween skull mask (Gray) L",
                                    "2": "18.00"
                                },
                                {
                                    "0": "149",
                                    "1": "Halloween skull mask (Gray) XL",
                                    "2": "18.00"
                                },
                                {
                                    "0": "150",
                                    "1": "Pack of 12 action figures (variety)",
                                    "2": "16.00"
                                },
                                {
                                    "0": "151",
                                    "1": "Pack of 12 action figures (male)",
                                    "2": "16.00"
                                },
                                {
                                    "0": "152",
                                    "1": "Pack of 12 action figures (female)",
                                    "2": "16.00"
                                },
                                {
                                    "0": "153",
                                    "1": "Small sized bubblewrap roll 10m",
                                    "2": "4.50"
                                },
                                {
                                    "0": "154",
                                    "1": "Medium sized bubblewrap roll 20m",
                                    "2": "20.00"
                                },
                                {
                                    "0": "155",
                                    "1": "Large sized bubblewrap roll 50m",
                                    "2": "24.00"
                                },
                                {
                                    "0": "156",
                                    "1": "10 mm Double sided bubble wrap 10m",
                                    "2": "15.00"
                                },
                                {
                                    "0": "157",
                                    "1": "10 mm Double sided bubble wrap 20m",
                                    "2": "30.00"
                                },
                                {
                                    "0": "158",
                                    "1": "10 mm Double sided bubble wrap 50m",
                                    "2": "105.00"
                                },
                                {
                                    "0": "159",
                                    "1": "20 mm Double sided bubble wrap 10m",
                                    "2": "18.00"
                                },
                                {
                                    "0": "160",
                                    "1": "20 mm Double sided bubble wrap 20m",
                                    "2": "33.00"
                                },
                                {
                                    "0": "161",
                                    "1": "20 mm Double sided bubble wrap 50m",
                                    "2": "108.00"
                                },
                                {
                                    "0": "162",
                                    "1": "32 mm Double sided bubble wrap 10m",
                                    "2": "22.00"
                                },
                                {
                                    "0": "163",
                                    "1": "32 mm Double sided bubble wrap 20m",
                                    "2": "37.00"
                                },
                                {
                                    "0": "164",
                                    "1": "32 mm Double sided bubble wrap 50m",
                                    "2": "112.00"
                                },
                                {
                                    "0": "165",
                                    "1": "10 mm Anti static bubble wrap (Blue) 10m",
                                    "2": "26.00"
                                },
                                {
                                    "0": "166",
                                    "1": "10 mm Anti static bubble wrap (Blue) 20m",
                                    "2": "42.00"
                                },
                                {
                                    "0": "167",
                                    "1": "10 mm Anti static bubble wrap (Blue) 50m",
                                    "2": "99.00"
                                },
                                {
                                    "0": "168",
                                    "1": "20 mm Anti static bubble wrap (Blue) 10m",
                                    "2": "29.00"
                                },
                                {
                                    "0": "169",
                                    "1": "20 mm Anti static bubble wrap (Blue) 20m",
                                    "2": "45.00"
                                },
                                {
                                    "0": "170",
                                    "1": "20 mm Anti static bubble wrap (Blue) 50m",
                                    "2": "102.00"
                                },
                                {
                                    "0": "171",
                                    "1": "32 mm Anti static bubble wrap (Blue) 10m",
                                    "2": "32.00"
                                },
                                {
                                    "0": "172",
                                    "1": "32 mm Anti static bubble wrap (Blue) 20m",
                                    "2": "48.00"
                                },
                                {
                                    "0": "173",
                                    "1": "32 mm Anti static bubble wrap (Blue) 50m",
                                    "2": "105.00"
                                },
                                {
                                    "0": "174",
                                    "1": "Bubblewrap dispenser (Black) 1.5m",
                                    "2": "240.00"
                                },
                                {
                                    "0": "175",
                                    "1": "Bubblewrap dispenser (Blue) 1.5m",
                                    "2": "240.00"
                                },
                                {
                                    "0": "176",
                                    "1": "Bubblewrap dispenser (Red) 1.5m",
                                    "2": "240.00"
                                },
                                {
                                    "0": "177",
                                    "1": "Shipping carton (Brown) 413x285x187mm",
                                    "2": "1.05"
                                },
                                {
                                    "0": "178",
                                    "1": "Shipping carton (Brown) 500x310x310mm",
                                    "2": "2.55"
                                },
                                {
                                    "0": "179",
                                    "1": "Shipping carton (Brown) 229x229x229mm",
                                    "2": "1.05"
                                },
                                {
                                    "0": "180",
                                    "1": "Shipping carton (Brown) 279x254x217mm",
                                    "2": "1.11"
                                },
                                {
                                    "0": "181",
                                    "1": "Shipping carton (Brown) 356x229x229mm",
                                    "2": "1.14"
                                },
                                {
                                    "0": "182",
                                    "1": "Shipping carton (Brown) 457x279x279mm",
                                    "2": "1.28"
                                },
                                {
                                    "0": "183",
                                    "1": "Shipping carton (Brown) 480x270x320mm",
                                    "2": "2.74"
                                },
                                {
                                    "0": "184",
                                    "1": "Shipping carton (Brown) 305x305x305mm",
                                    "2": "3.50"
                                },
                                {
                                    "0": "185",
                                    "1": "Shipping carton (Brown) 356x356x279mm",
                                    "2": "2.04"
                                },
                                {
                                    "0": "186",
                                    "1": "Shipping carton (Brown) 457x457x457mm",
                                    "2": "2.10"
                                },
                                {
                                    "0": "187",
                                    "1": "Express post box 5kg (White) 350x280x130mm",
                                    "2": "0.95"
                                },
                                {
                                    "0": "188",
                                    "1": "3 kg Courier post bag (White) 300x190x95mm",
                                    "2": "0.66"
                                },
                                {
                                    "0": "189",
                                    "1": "Clear packaging tape 48mmx75m",
                                    "2": "2.90"
                                },
                                {
                                    "0": "190",
                                    "1": "Clear packaging tape 48mmx100m",
                                    "2": "3.50"
                                },
                                {
                                    "0": "191",
                                    "1": "Black and orange fragile despatch tape 48mmx75m",
                                    "2": "3.70"
                                },
                                {
                                    "0": "192",
                                    "1": "Black and orange fragile despatch tape 48mmx100m",
                                    "2": "4.10"
                                },
                                {
                                    "0": "193",
                                    "1": "Black and orange glass with care despatch tape 48mmx75m",
                                    "2": "3.70"
                                },
                                {
                                    "0": "194",
                                    "1": "Black and orange glass with care despatch tape  48mmx100m",
                                    "2": "4.10"
                                },
                                {
                                    "0": "195",
                                    "1": "Black and orange handle with care despatch tape  48mmx75m",
                                    "2": "3.70"
                                },
                                {
                                    "0": "196",
                                    "1": "Black and orange handle with care despatch tape  48mmx100m",
                                    "2": "4.10"
                                },
                                {
                                    "0": "197",
                                    "1": "Black and orange this way up despatch tape 48mmx75m",
                                    "2": "3.70"
                                },
                                {
                                    "0": "198",
                                    "1": "Black and orange this way up despatch tape  48mmx100m",
                                    "2": "4.10"
                                },
                                {
                                    "0": "199",
                                    "1": "Black and yellow heavy despatch tape  48mmx75m",
                                    "2": "3.70"
                                },
                                {
                                    "0": "200",
                                    "1": "Black and yellow heavy despatch tape 48mmx100m",
                                    "2": "4.10"
                                },
                                {
                                    "0": "201",
                                    "1": "Red and white urgent despatch tape 48mmx75m",
                                    "2": "3.70"
                                },
                                {
                                    "0": "202",
                                    "1": "Red and white urgent  heavy despatch tape  48mmx100m",
                                    "2": "4.10"
                                },
                                {
                                    "0": "203",
                                    "1": "Tape dispenser (Black)",
                                    "2": "32.00"
                                },
                                {
                                    "0": "204",
                                    "1": "Tape dispenser (Red)",
                                    "2": "32.00"
                                },
                                {
                                    "0": "205",
                                    "1": "Tape dispenser (Blue)",
                                    "2": "32.00"
                                },
                                {
                                    "0": "206",
                                    "1": "Permanent marker black 5mm nib (Black) 5mm",
                                    "2": "2.70"
                                },
                                {
                                    "0": "207",
                                    "1": "Permanent marker blue 5mm nib (Blue) 5mm",
                                    "2": "2.70"
                                },
                                {
                                    "0": "208",
                                    "1": "Permanent marker red 5mm nib (Red) 5mm",
                                    "2": "2.70"
                                },
                                {
                                    "0": "209",
                                    "1": "Packing knife with metal insert blade (Yellow) 9mm",
                                    "2": "1.89"
                                },
                                {
                                    "0": "210",
                                    "1": "Packing knife with metal insert blade (Yellow) 18mm",
                                    "2": "2.40"
                                },
                                {
                                    "0": "211",
                                    "1": "Small 9mm replacement blades 9mm",
                                    "2": "4.10"
                                },
                                {
                                    "0": "212",
                                    "1": "Large  replacement blades 18mm",
                                    "2": "4.30"
                                },
                                {
                                    "0": "213",
                                    "1": "Air cushion film 200mmx100mm 325m",
                                    "2": "87.00"
                                },
                                {
                                    "0": "214",
                                    "1": "Air cushion film 200mmx200mm 325m",
                                    "2": "90.00"
                                },
                                {
                                    "0": "215",
                                    "1": "Air cushion machine (Blue)",
                                    "2": "1899.00"
                                },
                                {
                                    "0": "216",
                                    "1": "Void fill 100 L bag (White) 100L",
                                    "2": "12.50"
                                },
                                {
                                    "0": "217",
                                    "1": "Void fill 200 L bag (White) 200L",
                                    "2": "25.00"
                                },
                                {
                                    "0": "218",
                                    "1": "Void fill 300 L bag (White) 300L",
                                    "2": "37.50"
                                },
                                {
                                    "0": "219",
                                    "1": "Void fill 400 L bag (White) 400L",
                                    "2": "50.00"
                                },
                                {
                                    "0": "220",
                                    "1": "Novelty chilli chocolates 250g",
                                    "2": "8.55"
                                },
                                {
                                    "0": "221",
                                    "1": "Novelty chilli chocolates 500g",
                                    "2": "14.50"
                                },
                                {
                                    "0": "222",
                                    "1": "Chocolate beetles 250g",
                                    "2": "8.55"
                                },
                                {
                                    "0": "223",
                                    "1": "Chocolate echidnas 250g",
                                    "2": "8.55"
                                },
                                {
                                    "0": "224",
                                    "1": "Chocolate frogs 250g",
                                    "2": "8.55"
                                },
                                {
                                    "0": "225",
                                    "1": "Chocolate sharks 250g",
                                    "2": "8.55"
                                },
                                {
                                    "0": "226",
                                    "1": "White chocolate snow balls 250g",
                                    "2": "8.55"
                                },
                                {
                                    "0": "227",
                                    "1": "White chocolate moon rocks 250g",
                                    "2": "8.55"
                                }
                            ]
                        },
                        "text/html": "<table><tr><th>StockItemID</th><th>StockItemName</th><th>UnitPrice</th></tr><tr><td>1</td><td>USB missile launcher (Green)</td><td>25.00</td></tr><tr><td>2</td><td>USB rocket launcher (Gray)</td><td>25.00</td></tr><tr><td>3</td><td>Office cube periscope (Black)</td><td>18.50</td></tr><tr><td>4</td><td>USB food flash drive - sushi roll</td><td>32.00</td></tr><tr><td>5</td><td>USB food flash drive - hamburger</td><td>32.00</td></tr><tr><td>6</td><td>USB food flash drive - hot dog</td><td>32.00</td></tr><tr><td>7</td><td>USB food flash drive - pizza slice</td><td>32.00</td></tr><tr><td>8</td><td>USB food flash drive - dim sum 10 drive variety pack</td><td>240.00</td></tr><tr><td>9</td><td>USB food flash drive - banana</td><td>32.00</td></tr><tr><td>10</td><td>USB food flash drive - chocolate bar</td><td>32.00</td></tr><tr><td>11</td><td>USB food flash drive - cookie</td><td>32.00</td></tr><tr><td>12</td><td>USB food flash drive - donut</td><td>32.00</td></tr><tr><td>13</td><td>USB food flash drive - shrimp cocktail</td><td>32.00</td></tr><tr><td>14</td><td>USB food flash drive - fortune cookie</td><td>32.00</td></tr><tr><td>15</td><td>USB food flash drive - dessert 10 drive variety pack</td><td>240.00</td></tr><tr><td>16</td><td>DBA joke mug - mind if I join you? (White)</td><td>13.00</td></tr><tr><td>17</td><td>DBA joke mug - mind if I join you? (Black)</td><td>13.00</td></tr><tr><td>18</td><td>DBA joke mug - daaaaaa-ta (White)</td><td>13.00</td></tr><tr><td>19</td><td>DBA joke mug - daaaaaa-ta (Black)</td><td>13.00</td></tr><tr><td>20</td><td>DBA joke mug - you might be a DBA if (White)</td><td>13.00</td></tr><tr><td>21</td><td>DBA joke mug - you might be a DBA if (Black)</td><td>13.00</td></tr><tr><td>22</td><td>DBA joke mug - it depends (White)</td><td>13.00</td></tr><tr><td>23</td><td>DBA joke mug - it depends (Black)</td><td>13.00</td></tr><tr><td>24</td><td>DBA joke mug - I will get you in order (White)</td><td>13.00</td></tr><tr><td>25</td><td>DBA joke mug - I will get you in order (Black)</td><td>13.00</td></tr><tr><td>26</td><td>DBA joke mug - SELECT caffeine FROM mug (White)</td><td>13.00</td></tr><tr><td>27</td><td>DBA joke mug - SELECT caffeine FROM mug (Black)</td><td>13.00</td></tr><tr><td>28</td><td>DBA joke mug - two types of DBAs (White)</td><td>13.00</td></tr><tr><td>29</td><td>DBA joke mug - two types of DBAs (Black)</td><td>13.00</td></tr><tr><td>30</td><td>Developer joke mug - Oct 31 = Dec 25 (White)</td><td>13.00</td></tr><tr><td>31</td><td>Developer joke mug - Oct 31 = Dec 25 (Black)</td><td>13.00</td></tr><tr><td>32</td><td>Developer joke mug - that's a hardware problem (White)</td><td>13.00</td></tr><tr><td>33</td><td>Developer joke mug - that's a hardware problem (Black)</td><td>13.00</td></tr><tr><td>34</td><td>Developer joke mug - fun was unexpected at this time (White)</td><td>13.00</td></tr><tr><td>35</td><td>Developer joke mug - fun was unexpected at this time (Black)</td><td>13.00</td></tr><tr><td>36</td><td>Developer joke mug - when your hammer is C++ (White)</td><td>13.00</td></tr><tr><td>37</td><td>Developer joke mug - when your hammer is C++ (Black)</td><td>13.00</td></tr><tr><td>38</td><td>Developer joke mug - inheritance is the OO way to become wealthy (White)</td><td>13.00</td></tr><tr><td>39</td><td>Developer joke mug - inheritance is the OO way to become wealthy (Black)</td><td>13.00</td></tr><tr><td>40</td><td>Developer joke mug - (hip, hip, array) (White)</td><td>13.00</td></tr><tr><td>41</td><td>Developer joke mug - (hip, hip, array) (Black)</td><td>13.00</td></tr><tr><td>42</td><td>Developer joke mug - understanding recursion requires understanding recursion (White)</td><td>13.00</td></tr><tr><td>43</td><td>Developer joke mug - understanding recursion requires understanding recursion (Black)</td><td>13.00</td></tr><tr><td>44</td><td>Developer joke mug - there are 10 types of people in the world (White)</td><td>13.00</td></tr><tr><td>45</td><td>Developer joke mug - there are 10 types of people in the world (Black)</td><td>13.00</td></tr><tr><td>46</td><td>Developer joke mug - a foo walks into a bar (White)</td><td>13.00</td></tr><tr><td>47</td><td>Developer joke mug - a foo walks into a bar (Black)</td><td>13.00</td></tr><tr><td>48</td><td>Developer joke mug - this code was generated by a tool (White)</td><td>13.00</td></tr><tr><td>49</td><td>Developer joke mug - this code was generated by a tool (Black)</td><td>13.00</td></tr><tr><td>50</td><td>Developer joke mug - old C developers never die (White)</td><td>13.00</td></tr><tr><td>51</td><td>Developer joke mug - old C developers never die (Black)</td><td>13.00</td></tr><tr><td>52</td><td>IT joke mug - keyboard not found … press F1 to continue (White)</td><td>13.00</td></tr><tr><td>53</td><td>IT joke mug - keyboard not found … press F1 to continue (Black)</td><td>13.00</td></tr><tr><td>54</td><td>IT joke mug - that behavior is by design (White)</td><td>13.00</td></tr><tr><td>55</td><td>IT joke mug - that behavior is by design (Black)</td><td>13.00</td></tr><tr><td>56</td><td>IT joke mug - hardware: part of the computer that can be kicked (White)</td><td>13.00</td></tr><tr><td>57</td><td>IT joke mug - hardware: part of the computer that can be kicked (Black)</td><td>13.00</td></tr><tr><td>58</td><td>RC toy sedan car with remote control (Black) 1/50 scale</td><td>25.00</td></tr><tr><td>59</td><td>RC toy sedan car with remote control (Red) 1/50 scale</td><td>25.00</td></tr><tr><td>60</td><td>RC toy sedan car with remote control (Blue) 1/50 scale</td><td>25.00</td></tr><tr><td>61</td><td>RC toy sedan car with remote control (Green) 1/50 scale</td><td>25.00</td></tr><tr><td>62</td><td>RC toy sedan car with remote control (Yellow) 1/50 scale</td><td>25.00</td></tr><tr><td>63</td><td>RC toy sedan car with remote control (Pink) 1/50 scale</td><td>25.00</td></tr><tr><td>64</td><td>RC vintage American toy coupe with remote control (Red) 1/50 scale</td><td>30.00</td></tr><tr><td>65</td><td>RC vintage American toy coupe with remote control (Black) 1/50 scale</td><td>30.00</td></tr><tr><td>66</td><td>RC big wheel monster truck with remote control (Black) 1/50 scale</td><td>45.00</td></tr><tr><td>67</td><td>Ride on toy sedan car (Black) 1/12 scale</td><td>230.00</td></tr><tr><td>68</td><td>Ride on toy sedan car (Red) 1/12 scale</td><td>230.00</td></tr><tr><td>69</td><td>Ride on toy sedan car (Blue) 1/12 scale</td><td>230.00</td></tr><tr><td>70</td><td>Ride on toy sedan car (Green) 1/12 scale</td><td>230.00</td></tr><tr><td>71</td><td>Ride on toy sedan car (Yellow) 1/12 scale</td><td>230.00</td></tr><tr><td>72</td><td>Ride on toy sedan car (Pink) 1/12 scale</td><td>230.00</td></tr><tr><td>73</td><td>Ride on vintage American toy coupe (Red) 1/12 scale</td><td>285.00</td></tr><tr><td>74</td><td>Ride on vintage American toy coupe (Black) 1/12 scale</td><td>285.00</td></tr><tr><td>75</td><td>Ride on big wheel monster truck (Black) 1/12 scale</td><td>345.00</td></tr><tr><td>76</td><td>&quot;The Gu&quot; red shirt XML tag t-shirt (White) 3XS</td><td>18.00</td></tr><tr><td>77</td><td>&quot;The Gu&quot; red shirt XML tag t-shirt (White) XXS</td><td>18.00</td></tr><tr><td>78</td><td>&quot;The Gu&quot; red shirt XML tag t-shirt (White) XS</td><td>18.00</td></tr><tr><td>79</td><td>&quot;The Gu&quot; red shirt XML tag t-shirt (White) S</td><td>18.00</td></tr><tr><td>80</td><td>&quot;The Gu&quot; red shirt XML tag t-shirt (White) M</td><td>18.00</td></tr><tr><td>81</td><td>&quot;The Gu&quot; red shirt XML tag t-shirt (White) L</td><td>18.00</td></tr><tr><td>82</td><td>&quot;The Gu&quot; red shirt XML tag t-shirt (White) XL</td><td>18.00</td></tr><tr><td>83</td><td>&quot;The Gu&quot; red shirt XML tag t-shirt (White) XXL</td><td>18.00</td></tr><tr><td>84</td><td>&quot;The Gu&quot; red shirt XML tag t-shirt (White) 3XL</td><td>18.00</td></tr><tr><td>85</td><td>&quot;The Gu&quot; red shirt XML tag t-shirt (White) 4XL</td><td>18.00</td></tr><tr><td>86</td><td>&quot;The Gu&quot; red shirt XML tag t-shirt (White) 5XL</td><td>18.00</td></tr><tr><td>87</td><td>&quot;The Gu&quot; red shirt XML tag t-shirt (White) 6XL</td><td>18.00</td></tr><tr><td>88</td><td>&quot;The Gu&quot; red shirt XML tag t-shirt (White) 7XL</td><td>18.00</td></tr><tr><td>89</td><td>&quot;The Gu&quot; red shirt XML tag t-shirt (Black) 3XS</td><td>18.00</td></tr><tr><td>90</td><td>&quot;The Gu&quot; red shirt XML tag t-shirt (Black) XXS</td><td>18.00</td></tr><tr><td>91</td><td>&quot;The Gu&quot; red shirt XML tag t-shirt (Black) XS</td><td>18.00</td></tr><tr><td>92</td><td>&quot;The Gu&quot; red shirt XML tag t-shirt (Black) S</td><td>18.00</td></tr><tr><td>93</td><td>&quot;The Gu&quot; red shirt XML tag t-shirt (Black) M</td><td>18.00</td></tr><tr><td>94</td><td>&quot;The Gu&quot; red shirt XML tag t-shirt (Black) L</td><td>18.00</td></tr><tr><td>95</td><td>&quot;The Gu&quot; red shirt XML tag t-shirt (Black) XL</td><td>18.00</td></tr><tr><td>96</td><td>&quot;The Gu&quot; red shirt XML tag t-shirt (Black) XXL</td><td>18.00</td></tr><tr><td>97</td><td>&quot;The Gu&quot; red shirt XML tag t-shirt (Black) 3XL</td><td>18.00</td></tr><tr><td>98</td><td>&quot;The Gu&quot; red shirt XML tag t-shirt (Black) 4XL</td><td>18.00</td></tr><tr><td>99</td><td>&quot;The Gu&quot; red shirt XML tag t-shirt (Black) 5XL</td><td>18.00</td></tr><tr><td>100</td><td>&quot;The Gu&quot; red shirt XML tag t-shirt (Black) 6XL</td><td>18.00</td></tr><tr><td>101</td><td>&quot;The Gu&quot; red shirt XML tag t-shirt (Black) 7XL</td><td>18.00</td></tr><tr><td>102</td><td>Alien officer hoodie (Black) XL</td><td>35.00</td></tr><tr><td>103</td><td>Alien officer hoodie (Black) XXL</td><td>35.00</td></tr><tr><td>104</td><td>Alien officer hoodie (Black) 3XL</td><td>35.00</td></tr><tr><td>105</td><td>Alien officer hoodie (Black) 4XL</td><td>35.00</td></tr><tr><td>106</td><td>Alien officer hoodie (Black) 5XL</td><td>35.00</td></tr><tr><td>107</td><td>Superhero action jacket (Blue) 3XS</td><td>25.00</td></tr><tr><td>108</td><td>Superhero action jacket (Blue) XXS</td><td>25.00</td></tr><tr><td>109</td><td>Superhero action jacket (Blue) XS</td><td>25.00</td></tr><tr><td>110</td><td>Superhero action jacket (Blue) S</td><td>25.00</td></tr><tr><td>111</td><td>Superhero action jacket (Blue) M</td><td>30.00</td></tr><tr><td>112</td><td>Superhero action jacket (Blue) L</td><td>30.00</td></tr><tr><td>113</td><td>Superhero action jacket (Blue) XL</td><td>30.00</td></tr><tr><td>114</td><td>Superhero action jacket (Blue) XXL</td><td>30.00</td></tr><tr><td>115</td><td>Superhero action jacket (Blue) 3XL</td><td>34.00</td></tr><tr><td>116</td><td>Superhero action jacket (Blue) 4XL</td><td>34.00</td></tr><tr><td>117</td><td>Superhero action jacket (Blue) 5XL</td><td>34.00</td></tr><tr><td>118</td><td>Dinosaur battery-powered slippers (Green) S</td><td>32.00</td></tr><tr><td>119</td><td>Dinosaur battery-powered slippers (Green) M</td><td>32.00</td></tr><tr><td>120</td><td>Dinosaur battery-powered slippers (Green) L</td><td>32.00</td></tr><tr><td>121</td><td>Dinosaur battery-powered slippers (Green) XL</td><td>32.00</td></tr><tr><td>122</td><td>Ogre battery-powered slippers (Green) S</td><td>32.00</td></tr><tr><td>123</td><td>Ogre battery-powered slippers (Green) M</td><td>32.00</td></tr><tr><td>124</td><td>Ogre battery-powered slippers (Green) L</td><td>32.00</td></tr><tr><td>125</td><td>Ogre battery-powered slippers (Green) XL</td><td>32.00</td></tr><tr><td>126</td><td>Plush shark slippers (Gray) S</td><td>32.00</td></tr><tr><td>127</td><td>Plush shark slippers (Gray) M</td><td>32.00</td></tr><tr><td>128</td><td>Plush shark slippers (Gray) L</td><td>32.00</td></tr><tr><td>129</td><td>Plush shark slippers (Gray) XL</td><td>32.00</td></tr><tr><td>130</td><td>Furry gorilla with big eyes slippers (Black) S</td><td>32.00</td></tr><tr><td>131</td><td>Furry gorilla with big eyes slippers (Black) M</td><td>32.00</td></tr><tr><td>132</td><td>Furry gorilla with big eyes slippers (Black) L</td><td>32.00</td></tr><tr><td>133</td><td>Furry gorilla with big eyes slippers (Black) XL</td><td>32.00</td></tr><tr><td>134</td><td>Animal with big feet slippers (Brown) S</td><td>32.00</td></tr><tr><td>135</td><td>Animal with big feet slippers (Brown) M</td><td>32.00</td></tr><tr><td>136</td><td>Animal with big feet slippers (Brown) L</td><td>32.00</td></tr><tr><td>137</td><td>Animal with big feet slippers (Brown) XL</td><td>32.00</td></tr><tr><td>138</td><td>Furry animal socks (Pink) S</td><td>5.00</td></tr><tr><td>139</td><td>Furry animal socks (Pink) M</td><td>5.00</td></tr><tr><td>140</td><td>Furry animal socks (Pink) L</td><td>5.00</td></tr><tr><td>141</td><td>Furry animal socks (Pink) XL</td><td>5.00</td></tr><tr><td>142</td><td>Halloween zombie mask (Light Brown) S</td><td>18.00</td></tr><tr><td>143</td><td>Halloween zombie mask (Light Brown) M</td><td>18.00</td></tr><tr><td>144</td><td>Halloween zombie mask (Light Brown) L</td><td>18.00</td></tr><tr><td>145</td><td>Halloween zombie mask (Light Brown) XL</td><td>18.00</td></tr><tr><td>146</td><td>Halloween skull mask (Gray) S</td><td>18.00</td></tr><tr><td>147</td><td>Halloween skull mask (Gray) M</td><td>18.00</td></tr><tr><td>148</td><td>Halloween skull mask (Gray) L</td><td>18.00</td></tr><tr><td>149</td><td>Halloween skull mask (Gray) XL</td><td>18.00</td></tr><tr><td>150</td><td>Pack of 12 action figures (variety)</td><td>16.00</td></tr><tr><td>151</td><td>Pack of 12 action figures (male)</td><td>16.00</td></tr><tr><td>152</td><td>Pack of 12 action figures (female)</td><td>16.00</td></tr><tr><td>153</td><td>Small sized bubblewrap roll 10m</td><td>4.50</td></tr><tr><td>154</td><td>Medium sized bubblewrap roll 20m</td><td>20.00</td></tr><tr><td>155</td><td>Large sized bubblewrap roll 50m</td><td>24.00</td></tr><tr><td>156</td><td>10 mm Double sided bubble wrap 10m</td><td>15.00</td></tr><tr><td>157</td><td>10 mm Double sided bubble wrap 20m</td><td>30.00</td></tr><tr><td>158</td><td>10 mm Double sided bubble wrap 50m</td><td>105.00</td></tr><tr><td>159</td><td>20 mm Double sided bubble wrap 10m</td><td>18.00</td></tr><tr><td>160</td><td>20 mm Double sided bubble wrap 20m</td><td>33.00</td></tr><tr><td>161</td><td>20 mm Double sided bubble wrap 50m</td><td>108.00</td></tr><tr><td>162</td><td>32 mm Double sided bubble wrap 10m</td><td>22.00</td></tr><tr><td>163</td><td>32 mm Double sided bubble wrap 20m</td><td>37.00</td></tr><tr><td>164</td><td>32 mm Double sided bubble wrap 50m</td><td>112.00</td></tr><tr><td>165</td><td>10 mm Anti static bubble wrap (Blue) 10m</td><td>26.00</td></tr><tr><td>166</td><td>10 mm Anti static bubble wrap (Blue) 20m</td><td>42.00</td></tr><tr><td>167</td><td>10 mm Anti static bubble wrap (Blue) 50m</td><td>99.00</td></tr><tr><td>168</td><td>20 mm Anti static bubble wrap (Blue) 10m</td><td>29.00</td></tr><tr><td>169</td><td>20 mm Anti static bubble wrap (Blue) 20m</td><td>45.00</td></tr><tr><td>170</td><td>20 mm Anti static bubble wrap (Blue) 50m</td><td>102.00</td></tr><tr><td>171</td><td>32 mm Anti static bubble wrap (Blue) 10m</td><td>32.00</td></tr><tr><td>172</td><td>32 mm Anti static bubble wrap (Blue) 20m</td><td>48.00</td></tr><tr><td>173</td><td>32 mm Anti static bubble wrap (Blue) 50m</td><td>105.00</td></tr><tr><td>174</td><td>Bubblewrap dispenser (Black) 1.5m</td><td>240.00</td></tr><tr><td>175</td><td>Bubblewrap dispenser (Blue) 1.5m</td><td>240.00</td></tr><tr><td>176</td><td>Bubblewrap dispenser (Red) 1.5m</td><td>240.00</td></tr><tr><td>177</td><td>Shipping carton (Brown) 413x285x187mm</td><td>1.05</td></tr><tr><td>178</td><td>Shipping carton (Brown) 500x310x310mm</td><td>2.55</td></tr><tr><td>179</td><td>Shipping carton (Brown) 229x229x229mm</td><td>1.05</td></tr><tr><td>180</td><td>Shipping carton (Brown) 279x254x217mm</td><td>1.11</td></tr><tr><td>181</td><td>Shipping carton (Brown) 356x229x229mm</td><td>1.14</td></tr><tr><td>182</td><td>Shipping carton (Brown) 457x279x279mm</td><td>1.28</td></tr><tr><td>183</td><td>Shipping carton (Brown) 480x270x320mm</td><td>2.74</td></tr><tr><td>184</td><td>Shipping carton (Brown) 305x305x305mm</td><td>3.50</td></tr><tr><td>185</td><td>Shipping carton (Brown) 356x356x279mm</td><td>2.04</td></tr><tr><td>186</td><td>Shipping carton (Brown) 457x457x457mm</td><td>2.10</td></tr><tr><td>187</td><td>Express post box 5kg (White) 350x280x130mm</td><td>0.95</td></tr><tr><td>188</td><td>3 kg Courier post bag (White) 300x190x95mm</td><td>0.66</td></tr><tr><td>189</td><td>Clear packaging tape 48mmx75m</td><td>2.90</td></tr><tr><td>190</td><td>Clear packaging tape 48mmx100m</td><td>3.50</td></tr><tr><td>191</td><td>Black and orange fragile despatch tape 48mmx75m</td><td>3.70</td></tr><tr><td>192</td><td>Black and orange fragile despatch tape 48mmx100m</td><td>4.10</td></tr><tr><td>193</td><td>Black and orange glass with care despatch tape 48mmx75m</td><td>3.70</td></tr><tr><td>194</td><td>Black and orange glass with care despatch tape  48mmx100m</td><td>4.10</td></tr><tr><td>195</td><td>Black and orange handle with care despatch tape  48mmx75m</td><td>3.70</td></tr><tr><td>196</td><td>Black and orange handle with care despatch tape  48mmx100m</td><td>4.10</td></tr><tr><td>197</td><td>Black and orange this way up despatch tape 48mmx75m</td><td>3.70</td></tr><tr><td>198</td><td>Black and orange this way up despatch tape  48mmx100m</td><td>4.10</td></tr><tr><td>199</td><td>Black and yellow heavy despatch tape  48mmx75m</td><td>3.70</td></tr><tr><td>200</td><td>Black and yellow heavy despatch tape 48mmx100m</td><td>4.10</td></tr><tr><td>201</td><td>Red and white urgent despatch tape 48mmx75m</td><td>3.70</td></tr><tr><td>202</td><td>Red and white urgent  heavy despatch tape  48mmx100m</td><td>4.10</td></tr><tr><td>203</td><td>Tape dispenser (Black)</td><td>32.00</td></tr><tr><td>204</td><td>Tape dispenser (Red)</td><td>32.00</td></tr><tr><td>205</td><td>Tape dispenser (Blue)</td><td>32.00</td></tr><tr><td>206</td><td>Permanent marker black 5mm nib (Black) 5mm</td><td>2.70</td></tr><tr><td>207</td><td>Permanent marker blue 5mm nib (Blue) 5mm</td><td>2.70</td></tr><tr><td>208</td><td>Permanent marker red 5mm nib (Red) 5mm</td><td>2.70</td></tr><tr><td>209</td><td>Packing knife with metal insert blade (Yellow) 9mm</td><td>1.89</td></tr><tr><td>210</td><td>Packing knife with metal insert blade (Yellow) 18mm</td><td>2.40</td></tr><tr><td>211</td><td>Small 9mm replacement blades 9mm</td><td>4.10</td></tr><tr><td>212</td><td>Large  replacement blades 18mm</td><td>4.30</td></tr><tr><td>213</td><td>Air cushion film 200mmx100mm 325m</td><td>87.00</td></tr><tr><td>214</td><td>Air cushion film 200mmx200mm 325m</td><td>90.00</td></tr><tr><td>215</td><td>Air cushion machine (Blue)</td><td>1899.00</td></tr><tr><td>216</td><td>Void fill 100 L bag (White) 100L</td><td>12.50</td></tr><tr><td>217</td><td>Void fill 200 L bag (White) 200L</td><td>25.00</td></tr><tr><td>218</td><td>Void fill 300 L bag (White) 300L</td><td>37.50</td></tr><tr><td>219</td><td>Void fill 400 L bag (White) 400L</td><td>50.00</td></tr><tr><td>220</td><td>Novelty chilli chocolates 250g</td><td>8.55</td></tr><tr><td>221</td><td>Novelty chilli chocolates 500g</td><td>14.50</td></tr><tr><td>222</td><td>Chocolate beetles 250g</td><td>8.55</td></tr><tr><td>223</td><td>Chocolate echidnas 250g</td><td>8.55</td></tr><tr><td>224</td><td>Chocolate frogs 250g</td><td>8.55</td></tr><tr><td>225</td><td>Chocolate sharks 250g</td><td>8.55</td></tr><tr><td>226</td><td>White chocolate snow balls 250g</td><td>8.55</td></tr><tr><td>227</td><td>White chocolate moon rocks 250g</td><td>8.55</td></tr></table>"
                    }
                }
            ],
            "execution_count": 1
        },
        {
            "cell_type": "markdown",
            "source": [
                "You can read the blog for all the details about that information (If you hover over the German flag you can use the other flag and Sie können in Englisch lesen !!)"
            ],
            "metadata": {
                "azdata_cell_guid": "c14a31d5-02cc-4312-8253-ac3708212482"
            }
        },
        {
            "cell_type": "code",
            "source": [
                "Use WideWorldImporters\r\n",
                "SET STATISTICS IO ON\r\n",
                "SELECT \r\n",
                "       [StockItemID]\r\n",
                "      ,[StockItemName]\r\n",
                "      ,[UnitPrice]\r\n",
                "FROM [Warehouse].[StockItems]\r\n",
                "WHERE UnitPrice > 50.0"
            ],
            "metadata": {
                "azdata_cell_guid": "67c83b5a-969d-461d-ad01-397b94cb546a"
            },
            "outputs": [
                {
                    "output_type": "display_data",
                    "data": {
                        "text/html": "(23 rows affected)"
                    },
                    "metadata": {}
                },
                {
                    "output_type": "display_data",
                    "data": {
                        "text/html": "Table 'StockItems'. Scan count 1, logical reads 16, physical reads 0, page server reads 0, read-ahead reads 0, page server read-ahead reads 0, lob logical reads 0, lob physical reads 0, lob page server reads 0, lob read-ahead reads 0, lob page server read-ahead reads 0."
                    },
                    "metadata": {}
                },
                {
                    "output_type": "display_data",
                    "data": {
                        "text/html": "Total execution time: 00:00:00.064"
                    },
                    "metadata": {}
                },
                {
                    "output_type": "execute_result",
                    "metadata": {},
                    "execution_count": 2,
                    "data": {
                        "application/vnd.dataresource+json": {
                            "schema": {
                                "fields": [
                                    {
                                        "name": "StockItemID"
                                    },
                                    {
                                        "name": "StockItemName"
                                    },
                                    {
                                        "name": "UnitPrice"
                                    }
                                ]
                            },
                            "data": [
                                {
                                    "0": "8",
                                    "1": "USB food flash drive - dim sum 10 drive variety pack",
                                    "2": "240.00"
                                },
                                {
                                    "0": "15",
                                    "1": "USB food flash drive - dessert 10 drive variety pack",
                                    "2": "240.00"
                                },
                                {
                                    "0": "67",
                                    "1": "Ride on toy sedan car (Black) 1/12 scale",
                                    "2": "230.00"
                                },
                                {
                                    "0": "68",
                                    "1": "Ride on toy sedan car (Red) 1/12 scale",
                                    "2": "230.00"
                                },
                                {
                                    "0": "69",
                                    "1": "Ride on toy sedan car (Blue) 1/12 scale",
                                    "2": "230.00"
                                },
                                {
                                    "0": "70",
                                    "1": "Ride on toy sedan car (Green) 1/12 scale",
                                    "2": "230.00"
                                },
                                {
                                    "0": "71",
                                    "1": "Ride on toy sedan car (Yellow) 1/12 scale",
                                    "2": "230.00"
                                },
                                {
                                    "0": "72",
                                    "1": "Ride on toy sedan car (Pink) 1/12 scale",
                                    "2": "230.00"
                                },
                                {
                                    "0": "73",
                                    "1": "Ride on vintage American toy coupe (Red) 1/12 scale",
                                    "2": "285.00"
                                },
                                {
                                    "0": "74",
                                    "1": "Ride on vintage American toy coupe (Black) 1/12 scale",
                                    "2": "285.00"
                                },
                                {
                                    "0": "75",
                                    "1": "Ride on big wheel monster truck (Black) 1/12 scale",
                                    "2": "345.00"
                                },
                                {
                                    "0": "158",
                                    "1": "10 mm Double sided bubble wrap 50m",
                                    "2": "105.00"
                                },
                                {
                                    "0": "161",
                                    "1": "20 mm Double sided bubble wrap 50m",
                                    "2": "108.00"
                                },
                                {
                                    "0": "164",
                                    "1": "32 mm Double sided bubble wrap 50m",
                                    "2": "112.00"
                                },
                                {
                                    "0": "167",
                                    "1": "10 mm Anti static bubble wrap (Blue) 50m",
                                    "2": "99.00"
                                },
                                {
                                    "0": "170",
                                    "1": "20 mm Anti static bubble wrap (Blue) 50m",
                                    "2": "102.00"
                                },
                                {
                                    "0": "173",
                                    "1": "32 mm Anti static bubble wrap (Blue) 50m",
                                    "2": "105.00"
                                },
                                {
                                    "0": "174",
                                    "1": "Bubblewrap dispenser (Black) 1.5m",
                                    "2": "240.00"
                                },
                                {
                                    "0": "175",
                                    "1": "Bubblewrap dispenser (Blue) 1.5m",
                                    "2": "240.00"
                                },
                                {
                                    "0": "176",
                                    "1": "Bubblewrap dispenser (Red) 1.5m",
                                    "2": "240.00"
                                },
                                {
                                    "0": "213",
                                    "1": "Air cushion film 200mmx100mm 325m",
                                    "2": "87.00"
                                },
                                {
                                    "0": "214",
                                    "1": "Air cushion film 200mmx200mm 325m",
                                    "2": "90.00"
                                },
                                {
                                    "0": "215",
                                    "1": "Air cushion machine (Blue)",
                                    "2": "1899.00"
                                }
                            ]
                        },
                        "text/html": "<table><tr><th>StockItemID</th><th>StockItemName</th><th>UnitPrice</th></tr><tr><td>8</td><td>USB food flash drive - dim sum 10 drive variety pack</td><td>240.00</td></tr><tr><td>15</td><td>USB food flash drive - dessert 10 drive variety pack</td><td>240.00</td></tr><tr><td>67</td><td>Ride on toy sedan car (Black) 1/12 scale</td><td>230.00</td></tr><tr><td>68</td><td>Ride on toy sedan car (Red) 1/12 scale</td><td>230.00</td></tr><tr><td>69</td><td>Ride on toy sedan car (Blue) 1/12 scale</td><td>230.00</td></tr><tr><td>70</td><td>Ride on toy sedan car (Green) 1/12 scale</td><td>230.00</td></tr><tr><td>71</td><td>Ride on toy sedan car (Yellow) 1/12 scale</td><td>230.00</td></tr><tr><td>72</td><td>Ride on toy sedan car (Pink) 1/12 scale</td><td>230.00</td></tr><tr><td>73</td><td>Ride on vintage American toy coupe (Red) 1/12 scale</td><td>285.00</td></tr><tr><td>74</td><td>Ride on vintage American toy coupe (Black) 1/12 scale</td><td>285.00</td></tr><tr><td>75</td><td>Ride on big wheel monster truck (Black) 1/12 scale</td><td>345.00</td></tr><tr><td>158</td><td>10 mm Double sided bubble wrap 50m</td><td>105.00</td></tr><tr><td>161</td><td>20 mm Double sided bubble wrap 50m</td><td>108.00</td></tr><tr><td>164</td><td>32 mm Double sided bubble wrap 50m</td><td>112.00</td></tr><tr><td>167</td><td>10 mm Anti static bubble wrap (Blue) 50m</td><td>99.00</td></tr><tr><td>170</td><td>20 mm Anti static bubble wrap (Blue) 50m</td><td>102.00</td></tr><tr><td>173</td><td>32 mm Anti static bubble wrap (Blue) 50m</td><td>105.00</td></tr><tr><td>174</td><td>Bubblewrap dispenser (Black) 1.5m</td><td>240.00</td></tr><tr><td>175</td><td>Bubblewrap dispenser (Blue) 1.5m</td><td>240.00</td></tr><tr><td>176</td><td>Bubblewrap dispenser (Red) 1.5m</td><td>240.00</td></tr><tr><td>213</td><td>Air cushion film 200mmx100mm 325m</td><td>87.00</td></tr><tr><td>214</td><td>Air cushion film 200mmx200mm 325m</td><td>90.00</td></tr><tr><td>215</td><td>Air cushion machine (Blue)</td><td>1899.00</td></tr></table>"
                    }
                }
            ],
            "execution_count": 2
        },
        {
            "cell_type": "markdown",
            "source": [
                "Hmm, strange - Less rows but the same amount of page reads - Go read the blog to see why"
            ],
            "metadata": {
                "azdata_cell_guid": "9dd8086e-0cb5-466c-acce-3c6ced976931"
            }
        },
        {
            "cell_type": "code",
            "source": [
                "Use WideWorldImporters\r\n",
                "SET STATISTICS IO ON\r\n",
                "SELECT \r\n",
                "       [StockItemID]\r\n",
                "      ,[StockItemName]\r\n",
                "      ,[UnitPrice]\r\n",
                "FROM [Warehouse].[StockItems]\r\n",
                "WHERE StockItemID = 150"
            ],
            "metadata": {
                "azdata_cell_guid": "85d1c232-3dc5-4b5c-9da5-ab70d7fc9119"
            },
            "outputs": [
                {
                    "output_type": "display_data",
                    "data": {
                        "text/html": "(1 row affected)"
                    },
                    "metadata": {}
                },
                {
                    "output_type": "display_data",
                    "data": {
                        "text/html": "Table 'StockItems'. Scan count 0, logical reads 2, physical reads 0, page server reads 0, read-ahead reads 0, page server read-ahead reads 0, lob logical reads 0, lob physical reads 0, lob page server reads 0, lob read-ahead reads 0, lob page server read-ahead reads 0."
                    },
                    "metadata": {}
                },
                {
                    "output_type": "display_data",
                    "data": {
                        "text/html": "Total execution time: 00:00:00.004"
                    },
                    "metadata": {}
                },
                {
                    "output_type": "execute_result",
                    "metadata": {},
                    "execution_count": 3,
                    "data": {
                        "application/vnd.dataresource+json": {
                            "schema": {
                                "fields": [
                                    {
                                        "name": "StockItemID"
                                    },
                                    {
                                        "name": "StockItemName"
                                    },
                                    {
                                        "name": "UnitPrice"
                                    }
                                ]
                            },
                            "data": [
                                {
                                    "0": "150",
                                    "1": "Pack of 12 action figures (variety)",
                                    "2": "16.00"
                                }
                            ]
                        },
                        "text/html": "<table><tr><th>StockItemID</th><th>StockItemName</th><th>UnitPrice</th></tr><tr><td>150</td><td>Pack of 12 action figures (variety)</td><td>16.00</td></tr></table>"
                    }
                }
            ],
            "execution_count": 3
        },
        {
            "cell_type": "markdown",
            "source": [
                "There we go - more explanation at the blog - You are reading it aren't you?"
            ],
            "metadata": {
                "azdata_cell_guid": "911f1cf4-aacb-4914-a3de-83d7318d52ad"
            }
        },
        {
            "cell_type": "code",
            "source": [
                "Use WideWorldImporters\r\n",
                "SET STATISTICS IO ON\r\n",
                "SELECT \r\n",
                "       [StockItemID]\r\n",
                "      ,[StockItemName]\r\n",
                "      ,[UnitPrice]\r\n",
                "FROM [Warehouse].[StockItems]\r\n",
                "WHERE StockItemID = 150 or StockItemID = 120"
            ],
            "metadata": {
                "azdata_cell_guid": "5705e14a-b513-4d56-bc93-63b3c1674c87"
            },
            "outputs": [
                {
                    "output_type": "display_data",
                    "data": {
                        "text/html": "(2 rows affected)"
                    },
                    "metadata": {}
                },
                {
                    "output_type": "display_data",
                    "data": {
                        "text/html": "Table 'StockItems'. Scan count 2, logical reads 4, physical reads 0, page server reads 0, read-ahead reads 0, page server read-ahead reads 0, lob logical reads 0, lob physical reads 0, lob page server reads 0, lob read-ahead reads 0, lob page server read-ahead reads 0."
                    },
                    "metadata": {}
                },
                {
                    "output_type": "display_data",
                    "data": {
                        "text/html": "Total execution time: 00:00:00.007"
                    },
                    "metadata": {}
                },
                {
                    "output_type": "execute_result",
                    "metadata": {},
                    "execution_count": 4,
                    "data": {
                        "application/vnd.dataresource+json": {
                            "schema": {
                                "fields": [
                                    {
                                        "name": "StockItemID"
                                    },
                                    {
                                        "name": "StockItemName"
                                    },
                                    {
                                        "name": "UnitPrice"
                                    }
                                ]
                            },
                            "data": [
                                {
                                    "0": "120",
                                    "1": "Dinosaur battery-powered slippers (Green) L",
                                    "2": "32.00"
                                },
                                {
                                    "0": "150",
                                    "1": "Pack of 12 action figures (variety)",
                                    "2": "16.00"
                                }
                            ]
                        },
                        "text/html": "<table><tr><th>StockItemID</th><th>StockItemName</th><th>UnitPrice</th></tr><tr><td>120</td><td>Dinosaur battery-powered slippers (Green) L</td><td>32.00</td></tr><tr><td>150</td><td>Pack of 12 action figures (variety)</td><td>16.00</td></tr></table>"
                    }
                }
            ],
            "execution_count": 4
        },
        {
            "cell_type": "markdown",
            "source": [
                "It woiuld be fantastic if we could have execution plans in Azure Data Studio - This is the backlog for the team, [you can see here](https://github.com/microsoft/azuredatastudio/issues/4404) and comment upvote as required.  \r\n",
                "\r\n",
                "I shall include the image from the blog so you can see\r\n",
                "\r\n",
                "![Connect to container](.\\images\\week9screen.png )\r\n",
                ""
            ],
            "metadata": {
                "azdata_cell_guid": "8cbbb665-e7bd-4c98-9ce5-944256187952"
            }
        },
        {
            "cell_type": "markdown",
            "source": [
                "Read the blog!"
            ],
            "metadata": {
                "azdata_cell_guid": "89abe37a-9127-45dc-b09e-1568cdbf3196"
            }
        },
        {
            "cell_type": "code",
            "source": [
                "Use WideWorldImporters\r\n",
                "BEGIN TRY DROP INDEX idx_StockItemUnitPrice ON [Warehouse].[StockItems] END TRY \r\n",
                "BEGIN CATCH END CATCH \r\n",
                "CREATE NONCLUSTERED INDEX idx_StockItemUnitPrice \r\n",
                "ON [Warehouse].[StockItems] (UnitPrice) INCLUDE ([StockItemID], [StockItemName])"
            ],
            "metadata": {
                "azdata_cell_guid": "ee0fd08e-0648-4f13-9b58-35ba2545a587"
            },
            "outputs": [
                {
                    "output_type": "display_data",
                    "data": {
                        "text/html": "Table 'StockItems'. Scan count 1, logical reads 16, physical reads 0, page server reads 0, read-ahead reads 0, page server read-ahead reads 0, lob logical reads 0, lob physical reads 0, lob page server reads 0, lob read-ahead reads 0, lob page server read-ahead reads 0."
                    },
                    "metadata": {}
                },
                {
                    "output_type": "display_data",
                    "data": {
                        "text/html": "Total execution time: 00:00:00.033"
                    },
                    "metadata": {}
                }
            ],
            "execution_count": 5
        },
        {
            "cell_type": "markdown",
            "source": [
                "Finally"
            ],
            "metadata": {
                "azdata_cell_guid": "136d76d4-2f88-4baf-9f62-2360bdf3c793"
            }
        },
        {
            "cell_type": "code",
            "source": [
                "SET STATISTICS IO ON\r\n",
                "SELECT \r\n",
                "       [StockItemID]\r\n",
                "      ,[StockItemName]\r\n",
                "      ,[UnitPrice]\r\n",
                "FROM [Warehouse].[StockItems]\r\n",
                "WHERE UnitPrice > 50.0"
            ],
            "metadata": {
                "azdata_cell_guid": "8c99e1e7-8f22-40d0-994f-d41bf43599af"
            },
            "outputs": [
                {
                    "output_type": "display_data",
                    "data": {
                        "text/html": "(23 rows affected)"
                    },
                    "metadata": {}
                },
                {
                    "output_type": "display_data",
                    "data": {
                        "text/html": "Table 'StockItems'. Scan count 1, logical reads 2, physical reads 0, page server reads 0, read-ahead reads 0, page server read-ahead reads 0, lob logical reads 0, lob physical reads 0, lob page server reads 0, lob read-ahead reads 0, lob page server read-ahead reads 0."
                    },
                    "metadata": {}
                },
                {
                    "output_type": "display_data",
                    "data": {
                        "text/html": "Total execution time: 00:00:00.007"
                    },
                    "metadata": {}
                },
                {
                    "output_type": "execute_result",
                    "metadata": {},
                    "execution_count": 6,
                    "data": {
                        "application/vnd.dataresource+json": {
                            "schema": {
                                "fields": [
                                    {
                                        "name": "StockItemID"
                                    },
                                    {
                                        "name": "StockItemName"
                                    },
                                    {
                                        "name": "UnitPrice"
                                    }
                                ]
                            },
                            "data": [
                                {
                                    "0": "213",
                                    "1": "Air cushion film 200mmx100mm 325m",
                                    "2": "87.00"
                                },
                                {
                                    "0": "214",
                                    "1": "Air cushion film 200mmx200mm 325m",
                                    "2": "90.00"
                                },
                                {
                                    "0": "167",
                                    "1": "10 mm Anti static bubble wrap (Blue) 50m",
                                    "2": "99.00"
                                },
                                {
                                    "0": "170",
                                    "1": "20 mm Anti static bubble wrap (Blue) 50m",
                                    "2": "102.00"
                                },
                                {
                                    "0": "158",
                                    "1": "10 mm Double sided bubble wrap 50m",
                                    "2": "105.00"
                                },
                                {
                                    "0": "173",
                                    "1": "32 mm Anti static bubble wrap (Blue) 50m",
                                    "2": "105.00"
                                },
                                {
                                    "0": "161",
                                    "1": "20 mm Double sided bubble wrap 50m",
                                    "2": "108.00"
                                },
                                {
                                    "0": "164",
                                    "1": "32 mm Double sided bubble wrap 50m",
                                    "2": "112.00"
                                },
                                {
                                    "0": "67",
                                    "1": "Ride on toy sedan car (Black) 1/12 scale",
                                    "2": "230.00"
                                },
                                {
                                    "0": "68",
                                    "1": "Ride on toy sedan car (Red) 1/12 scale",
                                    "2": "230.00"
                                },
                                {
                                    "0": "69",
                                    "1": "Ride on toy sedan car (Blue) 1/12 scale",
                                    "2": "230.00"
                                },
                                {
                                    "0": "70",
                                    "1": "Ride on toy sedan car (Green) 1/12 scale",
                                    "2": "230.00"
                                },
                                {
                                    "0": "71",
                                    "1": "Ride on toy sedan car (Yellow) 1/12 scale",
                                    "2": "230.00"
                                },
                                {
                                    "0": "72",
                                    "1": "Ride on toy sedan car (Pink) 1/12 scale",
                                    "2": "230.00"
                                },
                                {
                                    "0": "8",
                                    "1": "USB food flash drive - dim sum 10 drive variety pack",
                                    "2": "240.00"
                                },
                                {
                                    "0": "15",
                                    "1": "USB food flash drive - dessert 10 drive variety pack",
                                    "2": "240.00"
                                },
                                {
                                    "0": "174",
                                    "1": "Bubblewrap dispenser (Black) 1.5m",
                                    "2": "240.00"
                                },
                                {
                                    "0": "175",
                                    "1": "Bubblewrap dispenser (Blue) 1.5m",
                                    "2": "240.00"
                                },
                                {
                                    "0": "176",
                                    "1": "Bubblewrap dispenser (Red) 1.5m",
                                    "2": "240.00"
                                },
                                {
                                    "0": "73",
                                    "1": "Ride on vintage American toy coupe (Red) 1/12 scale",
                                    "2": "285.00"
                                },
                                {
                                    "0": "74",
                                    "1": "Ride on vintage American toy coupe (Black) 1/12 scale",
                                    "2": "285.00"
                                },
                                {
                                    "0": "75",
                                    "1": "Ride on big wheel monster truck (Black) 1/12 scale",
                                    "2": "345.00"
                                },
                                {
                                    "0": "215",
                                    "1": "Air cushion machine (Blue)",
                                    "2": "1899.00"
                                }
                            ]
                        },
                        "text/html": "<table><tr><th>StockItemID</th><th>StockItemName</th><th>UnitPrice</th></tr><tr><td>213</td><td>Air cushion film 200mmx100mm 325m</td><td>87.00</td></tr><tr><td>214</td><td>Air cushion film 200mmx200mm 325m</td><td>90.00</td></tr><tr><td>167</td><td>10 mm Anti static bubble wrap (Blue) 50m</td><td>99.00</td></tr><tr><td>170</td><td>20 mm Anti static bubble wrap (Blue) 50m</td><td>102.00</td></tr><tr><td>158</td><td>10 mm Double sided bubble wrap 50m</td><td>105.00</td></tr><tr><td>173</td><td>32 mm Anti static bubble wrap (Blue) 50m</td><td>105.00</td></tr><tr><td>161</td><td>20 mm Double sided bubble wrap 50m</td><td>108.00</td></tr><tr><td>164</td><td>32 mm Double sided bubble wrap 50m</td><td>112.00</td></tr><tr><td>67</td><td>Ride on toy sedan car (Black) 1/12 scale</td><td>230.00</td></tr><tr><td>68</td><td>Ride on toy sedan car (Red) 1/12 scale</td><td>230.00</td></tr><tr><td>69</td><td>Ride on toy sedan car (Blue) 1/12 scale</td><td>230.00</td></tr><tr><td>70</td><td>Ride on toy sedan car (Green) 1/12 scale</td><td>230.00</td></tr><tr><td>71</td><td>Ride on toy sedan car (Yellow) 1/12 scale</td><td>230.00</td></tr><tr><td>72</td><td>Ride on toy sedan car (Pink) 1/12 scale</td><td>230.00</td></tr><tr><td>8</td><td>USB food flash drive - dim sum 10 drive variety pack</td><td>240.00</td></tr><tr><td>15</td><td>USB food flash drive - dessert 10 drive variety pack</td><td>240.00</td></tr><tr><td>174</td><td>Bubblewrap dispenser (Black) 1.5m</td><td>240.00</td></tr><tr><td>175</td><td>Bubblewrap dispenser (Blue) 1.5m</td><td>240.00</td></tr><tr><td>176</td><td>Bubblewrap dispenser (Red) 1.5m</td><td>240.00</td></tr><tr><td>73</td><td>Ride on vintage American toy coupe (Red) 1/12 scale</td><td>285.00</td></tr><tr><td>74</td><td>Ride on vintage American toy coupe (Black) 1/12 scale</td><td>285.00</td></tr><tr><td>75</td><td>Ride on big wheel monster truck (Black) 1/12 scale</td><td>345.00</td></tr><tr><td>215</td><td>Air cushion machine (Blue)</td><td>1899.00</td></tr></table>"
                    }
                }
            ],
            "execution_count": 6
        },
        {
            "cell_type": "markdown",
            "source": [
                "And clean up the index."
            ],
            "metadata": {
                "azdata_cell_guid": "c782af39-2b45-4037-91c7-c4f65343d7c8"
            }
        },
        {
            "cell_type": "code",
            "source": [
                "Use WideWorldImporters\r\n",
                "DROP INDEX idx_StockItemUnitPrice ON [Warehouse].[StockItems]"
            ],
            "metadata": {
                "azdata_cell_guid": "65806b9c-8322-48d8-824a-247f351b106c"
            },
            "outputs": [
                {
                    "output_type": "display_data",
                    "data": {
                        "text/html": "Commands completed successfully."
                    },
                    "metadata": {}
                },
                {
                    "output_type": "display_data",
                    "data": {
                        "text/html": "Total execution time: 00:00:00.011"
                    },
                    "metadata": {}
                }
            ],
            "execution_count": 10
        },
        {
            "cell_type": "markdown",
            "source": [
                "I hope you enjoyed this and can see how you can use this to show information to your colleagues."
            ],
            "metadata": {
                "azdata_cell_guid": "3af2138a-3f2a-4bbf-bbc6-3a5bf48fd17d"
            }
        }
    ]
}