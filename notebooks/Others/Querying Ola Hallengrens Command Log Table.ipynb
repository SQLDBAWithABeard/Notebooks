{
    "metadata": {
        "kernelspec": {
            "name": "SQL",
            "display_name": "SQL",
            "language": "sql"
        },
        "language_info": {
            "name": "sql",
            "version": ""
        }
    },
    "nbformat_minor": 2,
    "nbformat": 4,
    "cells": [
        {
            "cell_type": "markdown",
            "source": [
                "# Ola Hallengrens CommandLog Table\r\n",
                "\r\n",
                "This is where the output of Ola's jobs are stored if you choose `@LogToTable= 'Y'`"
            ],
            "metadata": {
                "azdata_cell_guid": "13b205ac-9e84-4b75-89b7-93382bc6b8d0"
            }
        },
        {
            "cell_type": "markdown",
            "source": [
                "## Showing when commands ran\r\n",
                "Which commands ran when in the last 7 days ?\r\n",
                ""
            ],
            "metadata": {
                "azdata_cell_guid": "63549fc9-c261-4405-b633-655071ce2cde"
            }
        },
        {
            "cell_type": "code",
            "source": [
                "SELECT \r\n",
                "      [DatabaseName]\r\n",
                "      ,[SchemaName]\r\n",
                "      ,[ObjectName]\r\n",
                "      ,[CommandType]\r\n",
                "      ,[StartTime]\r\n",
                "      ,[EndTime]\r\n",
                "      ,[ErrorNumber]\r\n",
                "      ,[ErrorMessage]\r\n",
                "  FROM [dbo].[CommandLog]\r\n",
                "  WHERE StartTime > DATEADD(DAY,-7, GETDATE())\r\n",
                "  ORDER BY StartTime DESC"
            ],
            "metadata": {
                "azdata_cell_guid": "aec56416-0f0b-46df-b888-b7d42c973527"
            },
            "outputs": [],
            "execution_count": 19
        },
        {
            "cell_type": "markdown",
            "source": [
                "## Getting Failures\r\n",
                "\r\n",
                "Get the failures in teh last 7 days"
            ],
            "metadata": {
                "azdata_cell_guid": "9a245eaa-c2b5-4c1a-95d7-1f014098fcfc"
            }
        },
        {
            "cell_type": "code",
            "source": [
                "SELECT \r\n",
                "      [DatabaseName]\r\n",
                "      ,[SchemaName]\r\n",
                "      ,[ObjectName]\r\n",
                "      ,[CommandType]\r\n",
                "      ,[StartTime]\r\n",
                "      ,[EndTime]\r\n",
                "      ,[ErrorNumber]\r\n",
                "      ,[ErrorMessage]\r\n",
                "  FROM [dbo].[CommandLog]\r\n",
                "  WHERE ErrorNumber <> 0\r\n",
                "  AND StartTime > DATEADD(DAY,-7, GETDATE())\r\n",
                "  ORDER BY StartTime DESC"
            ],
            "metadata": {
                "azdata_cell_guid": "c510f5ba-34f0-46ff-bc55-104f4ef9ab0a"
            },
            "outputs": [],
            "execution_count": 24
        },
        {
            "cell_type": "markdown",
            "source": [
                "## Index fragmentation Duration\r\n",
                "Getting the Last 7 days of Ola Hallengrens Index Alter commands duration and fragmentation\r\n",
                "\r\n",
                "https://jbswiki.com/2019/02/27/tsql-to-query-commandlog-table-to-check-alter-index-duration/"
            ],
            "metadata": {
                "azdata_cell_guid": "4b9187c3-35a5-4b16-b244-639032d539d9"
            }
        },
        {
            "cell_type": "code",
            "source": [
                "USE MASTER\r\n",
                "GO\r\n",
                "SELECT\r\n",
                "[DatabaseName]\r\n",
                "      ,[SchemaName]\r\n",
                "      ,[ObjectName]\r\n",
                "      ,[ObjectType]\r\n",
                "      ,[IndexName]\r\n",
                "      ,[IndexType]\r\n",
                "      ,[CommandType]\r\n",
                "         ,ExtendedInfo.value('(/ExtendedInfo/PageCount)[1]', 'int') as Page_Count,convert(decimal(5,2),ExtendedInfo.value('(/ExtendedInfo/Fragmentation)[1]', 'Float')) as Fragmentation\r\n",
                "       ,CASE WHEN ([Command] LIKE '%REBUILD%') THEN 'REBUILD' ELSE 'REORGANIZE' END AS [TYPE]\r\n",
                "       , CAST(DATEDIFF(second, StartTime, EndTime) / 60 / 60 / 24 / 7 AS NVARCHAR(50)) + ':'\r\n",
                "    + CAST(DATEDIFF(second, StartTime, EndTime) / 60 / 60 / 24 % 7 AS NVARCHAR(50)) + ':'\r\n",
                "    + CAST(DATEDIFF(second, StartTime, EndTime) / 60 / 60 % 24  AS NVARCHAR(50)) + ':'\r\n",
                "    + CAST(DATEDIFF(second, StartTime, EndTime) / 60 % 60 AS NVARCHAR(50)) + ':'\r\n",
                "    + CAST(DATEDIFF(second, StartTime, EndTime) % 60 AS NVARCHAR(50)) + '' as \"w:d:h:m:s\"\r\n",
                "       , DATEDIFF(second, StartTime, EndTime) [Duration in Sec]\r\n",
                "      ,[StartTime]\r\n",
                "      ,[EndTime]\r\n",
                "              from [dbo].[Commandlog]\r\n",
                "WHERE CommandType = 'ALTER_INDEX'\r\n",
                "AND StartTime > DATEADD(DAY,-7, GETDATE())\r\n",
                "order by DATEDIFF(second, StartTime, EndTime) desc"
            ],
            "metadata": {
                "azdata_cell_guid": "742fd6e7-f217-4db5-b891-af81bea34863"
            },
            "outputs": [],
            "execution_count": 5
        },
        {
            "cell_type": "markdown",
            "source": [
                "## How Many Times has an Index been Rebuilt or Re-Organised?\r\n",
                "Get the number of times an index has been rebuilt or re-organised in the last 180 days  \r\n",
                "\r\n",
                "https://gallery.technet.microsoft.com/scriptcenter/TSQL-TO-QUERY-COMMANDLOG-31458c62"
            ],
            "metadata": {
                "azdata_cell_guid": "637a9a3a-117d-43c9-be22-bb328ea1b588"
            }
        },
        {
            "cell_type": "code",
            "source": [
                "SELECT TOP 100 [DatabaseName], [ObjectName], [IndexName], count(*) as [Frequency],\r\n",
                "\t\tCASE WHEN ([Command] LIKE '%REBUILD%') THEN 'REBUILD' ELSE 'REORGANIZE' END AS [TYPE]\r\n",
                "FROM [dbo].[CommandLog]\r\n",
                "WHERE [commandtype] = 'ALTER_INDEX' \r\n",
                "AND [starttime] > DATEADD(d,-180,GETDATE())\r\n",
                "GROUP BY [DatabaseName], [ObjectName], [IndexName], [Command]\r\n",
                "ORDER BY [Frequency] DESC"
            ],
            "metadata": {
                "azdata_cell_guid": "d87fd5e3-eddc-4936-9aab-f72b1c7fd9b6"
            },
            "outputs": [],
            "execution_count": 6
        },
        {
            "cell_type": "markdown",
            "source": [
                "## CHECKDB Duration\r\n",
                "Get the duration of the CHECKDB command for the last 7 days  \r\n",
                "https://sqlnotesfromtheunderground.wordpress.com/2013/11/06/knowing-your-checkdb-duration-times-using-ola-hallengren-maintenance-scripts/"
            ],
            "metadata": {
                "azdata_cell_guid": "8732712f-5459-40b0-a5ce-24e3ae7363e1"
            }
        },
        {
            "cell_type": "code",
            "source": [
                "WITH    rankcte ( [ORDER], databasename, [duration] )\r\n",
                "          AS ( SELECT   RANK() OVER ( PARTITION BY DatabaseName ORDER BY StartTime DESC ) AS 'order' ,\r\n",
                "                        [DatabaseName] ,\r\n",
                "                        DATEDIFF(SECOND, [StartTime], [EndTime]) AS 'duration'\r\n",
                "               FROM     [dbo].[CommandLog]\r\n",
                "               WHERE    Command LIKE '%DBCC CHECKDB%'\r\n",
                "                        AND StartTime > GETDATE() - 180\r\n",
                "             )\r\n",
                "    SELECT  *\r\n",
                "    FROM    rankcte PIVOT\r\n",
                "( SUM([duration]) FOR [ORDER] IN ( [1], [2], [3], [4], [5], [6], [7] ) ) AS resultTable;"
            ],
            "metadata": {
                "azdata_cell_guid": "a8b67591-58c7-4c75-86bf-418aa057731a"
            },
            "outputs": [],
            "execution_count": 9
        },
        {
            "cell_type": "markdown",
            "source": [
                "The following query will help you get information about failures and the error log the message is in   \r\n",
                "http://www.cookingsql.com/2017/02/querying-commandlog/"
            ],
            "metadata": {
                "azdata_cell_guid": "d796b492-1855-44a0-82c9-bdb7b4423c50"
            }
        },
        {
            "cell_type": "code",
            "source": [
                "\r\n",
                "SELECT\r\n",
                "DatabaseName,\r\n",
                "StartTime,\r\n",
                "DATEDIFF(MINUTE,StartTime,EndTime) 'Duration in Min',\r\n",
                "EndTime,\r\n",
                "ErrorNumber,\r\n",
                "ErrorMessage,\r\n",
                "Command,\r\n",
                "replace(\r\n",
                "cast(SERVERPROPERTY('ErrorLogFileName') as nvarchar(1000))\r\n",
                ",'errorlog','')\r\n",
                "FROM DBO.COMMANDLOG\r\n",
                "WHERE 1=1\r\n",
                "--and StartTime > dateadd(dd,-1,getdate())\r\n",
                "--and CommandType in ('BACKUP_DATABASE','BACKUP_LOG','RESTORE_VERIFYONLY')\r\n",
                "--and CommandType in ('xp_create_subdir','xp_delete_file')\r\n",
                "--and CommandType in ('DBCC_CHECKDB','ALTER_INDEX')\r\n",
                "\r\n",
                "and ErrorNumber <> 0\r\n",
                "\r\n",
                "order by ID desc"
            ],
            "metadata": {
                "azdata_cell_guid": "cd4f842c-19ea-4b0f-abd7-58563147429d"
            },
            "outputs": [],
            "execution_count": 25
        }
    ]
}