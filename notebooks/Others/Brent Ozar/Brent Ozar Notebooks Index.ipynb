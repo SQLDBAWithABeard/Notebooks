{
    "metadata": {
        "kernelspec": {
            "name": "powershell",
            "display_name": "PowerShell"
        },
        "language_info": {
            "name": "powershell",
            "codemirror_mode": "shell",
            "mimetype": "text/x-sh",
            "file_extension": ".ps1"
        }
    },
    "nbformat_minor": 2,
    "nbformat": 4,
    "cells": [
        {
            "cell_type": "markdown",
            "source": [
                "# Notebook Index for Brent Ozar sp_Blitz* queries\r\n",
                "This Notebook contains the details about the notebooks for each of the sp_Blitz stored procedures whcih are stored in the DBA Database.  \r\n",
                "You can use these Notebooks to investigate an instance  \r\n",
                "Click on the code below the workbook you require to generate your custom version to save results in\r\n"
            ],
            "metadata": {
                "azdata_cell_guid": "a87e2af3-ad05-4410-9f16-ef0721bd181f"
            }
        },
        {
            "cell_type": "markdown",
            "source": [
                "---\r\n",
                "---\r\n",
                "## Notebook Name: **sp_Blitz**\r\n",
                "## sp_Blitz from Brent Ozar\r\n",
                "You can download the First Responder Kit from https://www.brentozar.com/first-aid/ It will provide you with an excellent set of resources for free including sp_Blitz.\r\n",
                "You can either run the Install-All-Scripts.sql script to install all of the stored procedures or the individual stored procedures using the T-SQL files. It can go i nthe master database or in a DBA database, it is up to you. \r\n",
                "With the stored procedures installed you can then investigate the instance that you are interested in. Brent has written about how to start here https://www.brentozar.com/archive/2017/10/free-sql-server-health-check/\r\n",
                "#### Run sp_blitz with basic parameters\r\n",
                "These two parameters give you a server-level check without looking inside databases (slowly) for things like heaps and triggers.\r\n",
                "\r\n"
            ],
            "metadata": {
                "azdata_cell_guid": "60aa0952-c198-41e6-9bdb-c687059156e9"
            }
        },
        {
            "cell_type": "code",
            "source": [
                "# To run a copy of the Notebook sp_Blitz, click the run button.\r\n",
                "$user = $env:USERNAME.Replace('.','')\r\n",
                "$time = get-date -Format 'yyyyMMddHHmmssms'\r\n",
                "$destination = 'C:\\temp\\\\sp_Blitz_' + $time + '_'+ $user + '.ipynb'\r\n",
                "copy-item -path 'C:\\Users\\rob.sewell\\Documents\\Work\\daa-env-admin\\DAA-Operations\\01-Notebooks\\Brent Ozar\\sp_Blitz.ipynb' -destination $destination\r\n",
                "# In case there is media or script files as well. Copy Those also\r\n",
                "Get-ChildItem 'C:\\Users\\rob.sewell\\Documents\\Work\\daa-env-admin\\DAA-Operations\\01-Notebooks\\Brent Ozar' -Exclude *ipynb | Copy-Item -Destination 'C:\\temp\\' -Recurse -Force\r\n",
                "azuredatastudio.cmd $destination\r\n",
                "\r\n"
            ],
            "metadata": {
                "azdata_cell_guid": "2d9b67c3-b07c-4aa7-a55a-84a09ba77138",
                "tags": [
                    "hide_input"
                ]
            },
            "outputs": [],
            "execution_count": 0
        },
        {
            "cell_type": "markdown",
            "source": [
                "---\r\n",
                "---\r\n",
                "## Notebook Name: **sp_BlitzCache**\r\n",
                "## sp_BlitzCache from Brent Ozar\r\n",
                "You can download the First Responder Kit from https://www.brentozar.com/first-aid/ It will provide you with an excellent set of resources for free including sp_Blitz.\r\n",
                "You can either run the Install-All-Scripts.sql script to install all of the stored procedures or the individual stored procedures using the T-SQL files. It can go i nthe master database or in a DBA database, it is up to you. \r\n",
                "With the stored procedures installed you can then investigate the instance that you are interested in. Brent has written about how to start here https://www.brentozar.com/blitzcache/ with a video as well\r\n",
                "#### Run sp_Blitz_Cache with basic parameters\r\n",
                "You can sort the results from the cache by reads, CPU, executions, xpm, recent compilations, memory grant, writes, all and limit the number of queries to work with \r\n",
                "\r\n"
            ],
            "metadata": {
                "azdata_cell_guid": "11d468df-75ef-4196-9452-7486762d2bca"
            }
        },
        {
            "cell_type": "code",
            "source": [
                "# To run a copy of the Notebook sp_BlitzCache, click the run button.\r\n",
                "$user = $env:USERNAME.Replace('.','')\r\n",
                "$time = get-date -Format 'yyyyMMddHHmmssms'\r\n",
                "$destination = 'C:\\temp\\\\sp_BlitzCache_' + $time + '_'+ $user + '.ipynb'\r\n",
                "copy-item -path 'C:\\Users\\rob.sewell\\Documents\\Work\\daa-env-admin\\DAA-Operations\\01-Notebooks\\Brent Ozar\\sp_BlitzCache.ipynb' -destination $destination\r\n",
                "# In case there is media or script files as well. Copy Those also\r\n",
                "Get-ChildItem 'C:\\Users\\rob.sewell\\Documents\\Work\\daa-env-admin\\DAA-Operations\\01-Notebooks\\Brent Ozar' -Exclude *ipynb | Copy-Item -Destination 'C:\\temp\\' -Recurse -Force\r\n",
                "azuredatastudio.cmd $destination\r\n",
                "\r\n"
            ],
            "metadata": {
                "azdata_cell_guid": "f2e75900-096c-4f8b-936c-64f2ee1315ba",
                "tags": [
                    "hide_input"
                ]
            },
            "outputs": [],
            "execution_count": 0
        },
        {
            "cell_type": "markdown",
            "source": [
                "---\r\n",
                "---\r\n",
                "## Notebook Name: **sp_BlitzFirst**\r\n",
                "## sp_BlitzFirst from Brent Ozar\r\n",
                "You can download the First Responder Kit from https://www.brentozar.com/first-aid/ It will provide you with an excellent set of resources for free including sp_Blitz.\r\n",
                "You can either run the Install-All-Scripts.sql script to install all of the stored procedures or the individual stored procedures using the T-SQL files. It can go i nthe master database or in a DBA database, it is up to you. \r\n",
                "With the stored procedures installed you can then investigate the instance that you are interested in. Brent has written about how to start here https://www.brentozar.com/archive/2017/10/free-sql-server-performance-check/\r\n",
                "#### Run sp_blitzFirst with basic parameters\r\n",
                "Start with wait stats, which tell you what the SQL Server has been waiting on since the service was last started, or since someone cleared wait stats with DBCC SQLPERF, whichever is more recent.\r\n",
                "\r\n"
            ],
            "metadata": {
                "azdata_cell_guid": "c38c7a18-8d8d-4e28-98c8-d5b7a23a85d5"
            }
        },
        {
            "cell_type": "code",
            "source": [
                "# To run a copy of the Notebook sp_BlitzFirst, click the run button.\r\n",
                "$user = $env:USERNAME.Replace('.','')\r\n",
                "$time = get-date -Format 'yyyyMMddHHmmssms'\r\n",
                "$destination = 'C:\\temp\\\\sp_BlitzFirst_' + $time + '_'+ $user + '.ipynb'\r\n",
                "copy-item -path 'C:\\Users\\rob.sewell\\Documents\\Work\\daa-env-admin\\DAA-Operations\\01-Notebooks\\Brent Ozar\\sp_BlitzFirst.ipynb' -destination $destination\r\n",
                "# In case there is media or script files as well. Copy Those also\r\n",
                "Get-ChildItem 'C:\\Users\\rob.sewell\\Documents\\Work\\daa-env-admin\\DAA-Operations\\01-Notebooks\\Brent Ozar' -Exclude *ipynb | Copy-Item -Destination 'C:\\temp\\' -Recurse -Force\r\n",
                "azuredatastudio.cmd $destination\r\n",
                "\r\n"
            ],
            "metadata": {
                "azdata_cell_guid": "6c6a6bdb-4db3-43fb-801e-40454e377f8b",
                "tags": [
                    "hide_input"
                ]
            },
            "outputs": [
                {
                    "output_type": "stream",
                    "name": "stdout",
                    "text": ""
                }
            ],
            "execution_count": 1
        },
        {
            "cell_type": "markdown",
            "source": [
                "---\r\n",
                "---\r\n",
                "## Notebook Name: **sp_BlitzIndex**\r\n",
                "## sp_BlitzIndex from Brent Ozar\r\n",
                "You can download the First Responder Kit from https://www.brentozar.com/first-aid/ It will provide you with an excellent set of resources for free including sp_Blitz.\r\n",
                "You can either run the Install-All-Scripts.sql script to install all of the stored procedures or the individual stored procedures using the T-SQL files. It can go i nthe master database or in a DBA database, it is up to you. \r\n",
                "With the stored procedures installed you can then investigate the instance that you are interested in. Brent has written about how to start here https://www.brentozar.com/blitzindex/ with a video as well\r\n",
                "#### Run sp_BlitzIndex with basic parameters\r\n",
                "@GetAllDatabases = 1 – runs index tests across all of the databases on the server instead of just your current database context. If you’ve got more than 50 databases on the server, this only works if you also pass in @BringThePain = 1, because it’s gonna be slow.   \r\n",
                "@DatabaseName, @SchemaName, @TableName – if you only want to examine indexes on a particular table, fill all three of these out. \r\n",
                "@SkipPartitions = 1 – goes faster on databases with large numbers of partitions, like over 500.   \r\n",
                "@Mode – options are:\r\n",
                "0. (default) – basic diagnostics of urgent issues  \r\n",
                "1. – summarize database metrics  \r\n",
                "2. – index usage detail only  \r\n",
                "3. – missing indexes only  \r\n",
                "4. – in-depth diagnostics, including low-priority issues and small objects  \r\n",
                "@Filter – only works in @Mode = 0. Options are:  \r\n",
                "0. (default) – no filter  \r\n",
                "1. – no low-usage warnings for objects with 0 reads  \r\n",
                "2. – only warn about objects over 500MB    \r\n",
                "@ThresholdMB = 250 – number of megabytes that an object must be before we display its data in @Mode = 0.  \r\n",
                "@Help = 1 – explains the rest of sp_BlitzIndex’s parameters.\r\n",
                "\r\n"
            ],
            "metadata": {
                "azdata_cell_guid": "15e12ec2-b50c-4338-b369-3a72d569f935"
            }
        },
        {
            "cell_type": "code",
            "source": [
                "# To run a copy of the Notebook sp_BlitzIndex, click the run button.\r\n",
                "$user = $env:USERNAME.Replace('.','')\r\n",
                "$time = get-date -Format 'yyyyMMddHHmmssms'\r\n",
                "$destination = 'C:\\temp\\\\sp_BlitzIndex_' + $time + '_'+ $user + '.ipynb'\r\n",
                "copy-item -path 'C:\\Users\\rob.sewell\\Documents\\Work\\daa-env-admin\\DAA-Operations\\01-Notebooks\\Brent Ozar\\sp_BlitzIndex.ipynb' -destination $destination\r\n",
                "# In case there is media or script files as well. Copy Those also\r\n",
                "Get-ChildItem 'C:\\Users\\rob.sewell\\Documents\\Work\\daa-env-admin\\DAA-Operations\\01-Notebooks\\Brent Ozar' -Exclude *ipynb | Copy-Item -Destination 'C:\\temp\\' -Recurse -Force\r\n",
                "azuredatastudio.cmd $destination\r\n",
                "\r\n"
            ],
            "metadata": {
                "azdata_cell_guid": "67e41c1f-957a-41b6-950a-009dda605c6b",
                "tags": [
                    "hide_input"
                ]
            },
            "outputs": [],
            "execution_count": 0
        }
    ]
}