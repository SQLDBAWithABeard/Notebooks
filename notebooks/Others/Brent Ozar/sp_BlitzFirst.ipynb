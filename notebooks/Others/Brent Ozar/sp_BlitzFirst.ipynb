{
    "metadata": {
        "kernelspec": {
            "name": "SQL",
            "display_name": "SQL",
            "language": "sql"
        },
        "language_info": {
            "name": "sql",
            "version": ""
        }
    },
    "nbformat_minor": 2,
    "nbformat": 4,
    "cells": [
        {
            "cell_type": "markdown",
            "source": [
                "# sp_BlitzFirst from Brent Ozar\r\n",
                "\r\n",
                "You can download the First Responder Kit from https://www.brentozar.com/first-aid/ It will provide you with an excellent set of resources for free including sp_Blitz.\r\n",
                "\r\n",
                "You can either run the Install-All-Scripts.sql script to install all of the stored procedures or the individual stored procedures using the T-SQL files. It can go i nthe master database or in a DBA database, it is up to you. \r\n",
                "\r\n",
                "With the stored procedures installed you can then investigate the instance that you are interested in. Brent has written about how to start here https://www.brentozar.com/archive/2017/10/free-sql-server-performance-check/\r\n",
                "\r\n",
                "## Run sp_blitzFirst with basic parameters\r\n",
                "\r\n",
                "Start with wait stats, which tell you what the SQL Server has been waiting on since the service was last started, or since someone cleared wait stats with DBCC SQLPERF, whichever is more recent.\r\n",
                ""
            ],
            "metadata": {
                "azdata_cell_guid": "aa2ce5c3-1606-4035-8d7e-c9e1d95369ad"
            }
        },
        {
            "cell_type": "code",
            "source": [
                "\tEXEC sp_BlitzFirst @SinceStartup = 1;"
            ],
            "metadata": {
                "azdata_cell_guid": "7928007e-afca-4250-8e0d-61111edb3cb5"
            },
            "outputs": [],
            "execution_count": 1
        },
        {
            "cell_type": "markdown",
            "source": [
                "# Common sp_BlitzFirst Parameters\r\n",
                "\r\n",
                "@ExpertMode = 1 – doesn’t do more in-depth checks, but DOES return a whole lot more data, including sections on wait stats, file stats, and Perfmon counters. Calls sp_BlitzWho at the start & end too so you can see which queries were running at those times. @SinceStartup = 1 – displays wait stats, file stats, and Perfmon counters since the SQL Server started up. @Seconds = 5 – by default, we take a 5-second sample of activity, but you can take a longer sample if you want to run a load test or demo."
            ],
            "metadata": {
                "azdata_cell_guid": "b59df550-d000-4a32-a07e-993d23f88b49"
            }
        },
        {
            "cell_type": "code",
            "source": [
                "EXEC sp_BlitzFirst @ExpertMode = 1, @Seconds = 5"
            ],
            "metadata": {
                "azdata_cell_guid": "6270de86-78b6-4f05-b092-eff2b0b80a4a"
            },
            "outputs": [],
            "execution_count": 2
        },
        {
            "cell_type": "markdown",
            "source": [
                "# Put the results into a table\r\n",
                "\r\n",
                "You can also output the results and place them into a database table - this would be good to run as an agent job\r\n",
                "\r\n",
                "**DON't use the tempdb though!!**"
            ],
            "metadata": {
                "azdata_cell_guid": "aadfdddc-4bc4-49e6-a854-b1ae8cc92185"
            }
        },
        {
            "cell_type": "code",
            "source": [
                "EXEC sp_BlitzFirst \r\n",
                "  @OutputDatabaseName = 'tempdb', \r\n",
                "  @OutputSchemaName = 'dbo', \r\n",
                "  @OutputTableName = 'BlitzFirst',\r\n",
                "  @OutputTableNameFileStats = 'BlitzFirst_FileStats',\r\n",
                "  @OutputTableNamePerfmonStats = 'BlitzFirst_PerfmonStats',\r\n",
                "  @OutputTableNameWaitStats = 'BlitzFirst_WaitStats',\r\n",
                "  @OutputTableNameBlitzCache = 'BlitzCache'"
            ],
            "metadata": {
                "azdata_cell_guid": "27730e8a-b489-4841-99ae-74992a107625"
            },
            "outputs": [],
            "execution_count": 11
        },
        {
            "cell_type": "markdown",
            "source": [
                "Once the query above has been run more than once (I think an Agent job would do this for you automatically on a schedule!!)\r\n",
                "\r\n",
                "You can query the results\r\n",
                "\r\n",
                "See the top 5 Waits for example"
            ],
            "metadata": {
                "azdata_cell_guid": "2c049cd0-c635-4587-a092-ee0a50910625"
            }
        },
        {
            "cell_type": "code",
            "source": [
                "USE TempDb  --- DON'T Use TempDB\r\n",
                "GO\r\n",
                "DECLARE @TOPWAITS NVARCHAR(500) = ''\r\n",
                "SELECT @TOPWAITS += QUOTENAME(wait_type)+ ','\r\n",
                "FROM (\r\n",
                "    SELECT TOP 5 WAIT_TYPE\r\n",
                "    FROM dbo.BlitzFirst_WaitStats_Deltas\r\n",
                "    GROUP BY wait_type\r\n",
                "    ORDER BY SUM([wait_time_minutes_delta]) DESC\r\n",
                ")AS WAITS\r\n",
                "SET @TOPWAITS = LEFT(@TOPWAITS, LEN(@TOPWAITS)-1)\r\n",
                "DECLARE @WAITQUERY NVARCHAR(MAX)\r\n",
                "SET @WAITQUERY = '\r\n",
                "SELECT * FROM (\r\n",
                "    SELECT CheckDate\r\n",
                "        , wait_type\r\n",
                "        , wait_time_minutes_per_minute\r\n",
                "    FROM BlitzFirst_WaitStats_Deltas WAITS\r\n",
                "    WHERE WAIT_TYPE IN\r\n",
                "        (SELECT top 3 [wait_type]\r\n",
                "            FROM dbo.BlitzFirst_WaitStats_Deltas\r\n",
                "            GROUP BY wait_type\r\n",
                "            ORDER BY SUM([wait_time_minutes_delta]) DESC)\r\n",
                ") WTS\r\n",
                "\r\n",
                "PIVOT\r\n",
                "    (SUM(WAIT_TIME_MINUTES_PER_MINUTE)\r\n",
                "        FOR WAIT_TYPE IN \r\n",
                "        ('+@TOPWAITS+')\r\n",
                "    ) AS WAITGRAPH;\r\n",
                "'\r\n",
                "EXECUTE SP_EXECUTESQL @WAITQUERY"
            ],
            "metadata": {
                "azdata_cell_guid": "cb076ba9-3088-4217-ac65-2f7bc5f5a31b",
                "tags": []
            },
            "outputs": [
                {
                    "output_type": "display_data",
                    "data": {
                        "text/html": "Commands completed successfully."
                    },
                    "metadata": {}
                },
                {
                    "output_type": "display_data",
                    "data": {
                        "text/html": "Warning: The join order has been enforced because a local join hint is used."
                    },
                    "metadata": {}
                },
                {
                    "output_type": "display_data",
                    "data": {
                        "text/html": "Warning: The join order has been enforced because a local join hint is used."
                    },
                    "metadata": {}
                },
                {
                    "output_type": "display_data",
                    "data": {
                        "text/html": "(2 rows affected)"
                    },
                    "metadata": {}
                },
                {
                    "output_type": "display_data",
                    "data": {
                        "text/html": "Total execution time: 00:00:00.068"
                    },
                    "metadata": {}
                },
                {
                    "output_type": "execute_result",
                    "execution_count": 14,
                    "data": {
                        "application/vnd.dataresource+json": {
                            "schema": {
                                "fields": [
                                    {
                                        "name": "CheckDate"
                                    },
                                    {
                                        "name": "CXPACKET"
                                    },
                                    {
                                        "name": "ASYNC_IO_COMPLETION"
                                    },
                                    {
                                        "name": "BACKUPIO"
                                    },
                                    {
                                        "name": "LATCH_EX"
                                    },
                                    {
                                        "name": "PAGEIOLATCH_SH"
                                    }
                                ]
                            },
                            "data": [
                                {
                                    "0": "2020-01-30 13:15:34.6011824 +01:00",
                                    "1": "2.00326582278481012",
                                    "2": "3.01534177215189873",
                                    "3": "2.89544303797468354",
                                    "4": "NULL",
                                    "5": "NULL"
                                },
                                {
                                    "0": "2020-01-30 13:37:24.9512226 +01:00",
                                    "1": "5.74637862595419847",
                                    "2": "2.99602977099236641",
                                    "3": "2.72722824427480916",
                                    "4": "NULL",
                                    "5": "NULL"
                                }
                            ]
                        },
                        "text/html": "<table><tr><th>CheckDate</th><th>CXPACKET</th><th>ASYNC_IO_COMPLETION</th><th>BACKUPIO</th><th>LATCH_EX</th><th>PAGEIOLATCH_SH</th></tr><tr><td>2020-01-30 13:15:34.6011824 +01:00</td><td>2.00326582278481012</td><td>3.01534177215189873</td><td>2.89544303797468354</td><td>NULL</td><td>NULL</td></tr><tr><td>2020-01-30 13:37:24.9512226 +01:00</td><td>5.74637862595419847</td><td>2.99602977099236641</td><td>2.72722824427480916</td><td>NULL</td><td>NULL</td></tr></table>"
                    },
                    "metadata": {}
                }
            ],
            "execution_count": 14
        },
        {
            "cell_type": "markdown",
            "source": [
                "Top Resource Instensive Queries"
            ],
            "metadata": {
                "azdata_cell_guid": "05d9e743-d56d-4973-8aca-3f7095663137"
            }
        },
        {
            "cell_type": "code",
            "source": [
                "USE TempDb  --- DON'T Use TempDB\r\n",
                "GO\r\n",
                "SELECT TOP 100 CheckDate\r\n",
                "    , DatabaseName\r\n",
                "    , QueryType\r\n",
                "    , Warnings\r\n",
                "    , left(QueryText,100) as [QueryText100]\r\n",
                "    , [Query Hash More Info]\r\n",
                "FROM dbo.BlitzCache\r\n",
                "ORDER BY CHECKDATE DESC"
            ],
            "metadata": {
                "azdata_cell_guid": "ab6eb3f0-14ea-42c2-86ff-505859a6f7c6"
            },
            "outputs": [],
            "execution_count": null
        },
        {
            "cell_type": "markdown",
            "source": [
                "## Getting historical data\r\n",
                "\r\n",
                "You can use the stored procedure to understand what was happening at that moment in history as well"
            ],
            "metadata": {
                "azdata_cell_guid": "0c38f8bb-3971-4672-a09e-e0ca16679ce5"
            }
        },
        {
            "cell_type": "code",
            "source": [
                "EXEC sp_BlitzFirst @AsOf = '2020-01-30 12:03', @OutputDatabaseName = 'TempDb', @OutputSchemaName = 'dbo', @OutputTableName = 'BlitzFirst'"
            ],
            "metadata": {
                "azdata_cell_guid": "7c8e5919-d5d5-4779-a6a6-9c044066c458"
            },
            "outputs": [],
            "execution_count": null
        }
    ]
}