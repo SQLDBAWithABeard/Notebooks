{
    "metadata": {
        "kernelspec": {
            "name": "SQL",
            "display_name": "SQL",
            "language": "sql"
        },
        "language_info": {
            "name": "sql",
            "version": ""
        }
    },
    "nbformat_minor": 2,
    "nbformat": 4,
    "cells": [
        {
            "cell_type": "markdown",
            "source": [
                "# sp_Blitz from Brent Ozar\r\n",
                "\r\n",
                "You can download the First Responder Kit from https://www.brentozar.com/first-aid/ It will provide you with an excellent set of resources for free including sp_Blitz.\r\n",
                "\r\n",
                "You can either run the Install-All-Scripts.sql script to install all of the stored procedures or the individual stored procedures using the T-SQL files. It can go i nthe master database or in a DBA database, it is up to you. \r\n",
                "\r\n",
                "With the stored procedures installed you can then investigate the instance that you are interested in. Brent has written about how to start here https://www.brentozar.com/archive/2017/10/free-sql-server-health-check/\r\n",
                "\r\n",
                "## Run sp_blitz with basic parameters\r\n",
                "\r\n",
                "These two parameters give you a server-level check without looking inside databases (slowly) for things like heaps and triggers.\r\n",
                ""
            ],
            "metadata": {
                "azdata_cell_guid": "aa2ce5c3-1606-4035-8d7e-c9e1d95369ad"
            }
        },
        {
            "cell_type": "code",
            "source": [
                "EXEC sp_Blitz @CheckUserDatabaseObjects = 0, @CheckServerInfo = 1;"
            ],
            "metadata": {
                "azdata_cell_guid": "7928007e-afca-4250-8e0d-61111edb3cb5"
            },
            "outputs": [],
            "execution_count": 1
        }
    ]
}