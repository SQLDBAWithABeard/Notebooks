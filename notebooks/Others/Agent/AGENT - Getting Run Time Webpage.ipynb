{
    "metadata": {
        "kernelspec": {
            "name": "powershell",
            "display_name": "PowerShell"
        },
        "language_info": {
            "name": "powershell",
            "codemirror_mode": "shell",
            "mimetype": "text/x-sh",
            "file_extension": ".ps1"
        }
    },
    "nbformat_minor": 2,
    "nbformat": 4,
    "cells": [
        {
            "cell_type": "markdown",
            "source": [
                "# Getting the Run time for Agent Jobs\r\n",
                "\r\n",
                "This notebook will create and open an HTML page showing the run times of the Agent Jobs on an instance for a 24 hour period - It will be saved in `C:\\Temp`\r\n",
                "\r\n",
                "Alter the code below to \r\n",
                "\r\n",
                "````\r\n",
                "$Instance = '' # put the instance in the single quotes  \r\n",
                "$daysbehind = 1 # Choose how many days back you need the information - It will show a 24 hour period\r\n",
                "````"
            ],
            "metadata": {
                "azdata_cell_guid": "2c5347d1-8d87-446b-98db-3d8b442f4ed6"
            }
        },
        {
            "cell_type": "markdown",
            "source": [
                "This requires the dbatools module and a `C:\\Temp` folder"
            ],
            "metadata": {
                "azdata_cell_guid": "c7377fad-33ca-4fa2-905e-6faffb49ac54"
            }
        },
        {
            "cell_type": "code",
            "source": [
                "# Run this cell to check pre-reqs\r\n",
                "if((Get-PsRepository -Name PSGallery).InstallationPolicy -ne 'Trusted'){\r\n",
                "    Write-Output \"The PowerShell Gallery is not trusted so I will trust it so that we can install the modules without interaction\"\r\n",
                "    Set-PsRepository -Name PSGallery -InstallationPolicy Trusted\r\n",
                "} else {\r\n",
                "    Write-Output \"The PowerShell Gallery is trusted I will continue\"\r\n",
                "}\r\n",
                "if(Get-Module dbatools -ListAvailable){Write-Output 'dbatools installed already'}\r\n",
                "else{\r\n",
                "    Write-Output 'Installing dbatools module'\r\n",
                "    Install-Module dbatools -Scope CurrentUser\r\n",
                "}\r\n",
                "if(Test-Path C:\\temp){Write-Output 'We have a C:\\Temp folder'}\r\n",
                "else{\r\n",
                "    Write-Output ' Creating C:\\Temp directory'\r\n",
                "    New-Item C:\\Temp -ItemType Directory\r\n",
                "}"
            ],
            "metadata": {
                "azdata_cell_guid": "26ff2b64-ebc7-439c-8296-afa00669dd96",
                "tags": [
                    "hide_input"
                ]
            },
            "outputs": [
                {
                    "output_type": "stream",
                    "name": "stdout",
                    "text": "dbatools installed already\nWe have a C:\\Temp folder\n"
                }
            ],
            "execution_count": 1
        },
        {
            "cell_type": "code",
            "source": [
                "$Instance = '' # put the instance in the single quotes\r\n",
                "$daysbehind = 1 # Choose how many days back you need the information - It will show a 24 hour period\r\n",
                "$StartDate = (Get-Date).AddDays(- $daysbehind)\r\n",
                "$DoW = $StartDate.DayOfWeek\r\n",
                "\r\n",
                "$FileName = 'C:\\temp\\' + $instance + '_' + $DoW + '_' + $StartDate.tostring(\"MM-dd-yyyy\") + '.html'\r\n",
                "$getDbaAgentJobHistorySplat = @{\r\n",
                "    SqlInstance = $Instance\r\n",
                "    StartDate   = $StartDate\r\n",
                "    EndDate     = $StartDate.AddDays(1)\r\n",
                "}\r\n",
                "Get-DbaAgentJobHistory @getDbaAgentJobHistorySplat | ConvertTo-DbaTimeline | Out-File $FileName -Encoding ASCII\r\n",
                "Invoke-Item $FileName"
            ],
            "metadata": {
                "azdata_cell_guid": "4c5b928b-48ee-427d-a614-ae27b621397f"
            },
            "outputs": [
                {
                    "output_type": "stream",
                    "name": "stdout",
                    "text": ""
                }
            ],
            "execution_count": 6
        },
        {
            "cell_type": "markdown",
            "source": [
                "For example - Get the last 24 hours of Agent Jobs"
            ],
            "metadata": {
                "azdata_cell_guid": "af2435be-ffae-40d6-9a72-7be86da66a2f"
            }
        },
        {
            "cell_type": "code",
            "source": [
                "$Instance = '' # put the instance in the single quotes\r\n",
                "\r\n",
                "$daysbehind = 2 # Choose how many days back you need the information - It will show a 24 hour period\r\n",
                "$StartDate = (Get-Date).AddDays(- $daysbehind)\r\n",
                "$DoW = $StartDate.DayOfWeek\r\n",
                "\r\n",
                "$FileName = 'C:\\temp\\' + $instance + '_' + $DoW + '_' + $StartDate.tostring(\"MM-dd-yyyy\") + '.html'\r\n",
                "$getDbaAgentJobHistorySplat = @{\r\n",
                "    SqlInstance = $Instance\r\n",
                "    StartDate   = $StartDate\r\n",
                "    EndDate     = $StartDate.AddDays(1)\r\n",
                "}\r\n",
                "Get-DbaAgentJobHistory @getDbaAgentJobHistorySplat | ConvertTo-DbaTimeline | Out-File $FileName -Encoding ASCII\r\n",
                "Invoke-Item $FileName"
            ],
            "metadata": {
                "azdata_cell_guid": "ac231890-e28b-4c4c-9888-00f7543d7644",
                "tags": []
            },
            "outputs": [
                {
                    "output_type": "stream",
                    "name": "stdout",
                    "text": ""
                }
            ],
            "execution_count": 4
        },
        {
            "cell_type": "markdown",
            "source": [
                "For example - Get the last 24 hours of Agent Jobs"
            ],
            "metadata": {
                "azdata_cell_guid": "121dea82-bcec-46d9-a696-08546107d2a5"
            }
        },
        {
            "cell_type": "code",
            "source": [
                "$Instance = 'CEAWA06970.EMEA.ZURICH.CORP,1282' # put the instance in the single quotes\r\n",
                "$daysbehind = 1 # Choose how many days back you need the information - It will show a 24 hour period\r\n",
                "$StartDate = (Get-Date).AddDays(- $daysbehind)\r\n",
                "$DoW = $StartDate.DayOfWeek\r\n",
                "\r\n",
                "$FileName = 'C:\\temp\\' + $instance + '_' + $DoW + '_' + $StartDate.tostring(\"MM-dd-yyyy\") + '.html'\r\n",
                "$getDbaAgentJobHistorySplat = @{\r\n",
                "    SqlInstance = $Instance\r\n",
                "    StartDate   = $StartDate\r\n",
                "    EndDate     = $StartDate.AddDays(1)\r\n",
                "}\r\n",
                "Get-DbaAgentJobHistory @getDbaAgentJobHistorySplat | ConvertTo-DbaTimeline | Out-File $FileName -Encoding ASCII\r\n",
                "Invoke-Item $FileName"
            ],
            "metadata": {
                "azdata_cell_guid": "517eede9-12e2-4a4b-81bc-261cc00de3eb"
            },
            "outputs": [
                {
                    "output_type": "stream",
                    "name": "stdout",
                    "text": ""
                }
            ],
            "execution_count": 9
        },
        {
            "cell_type": "markdown",
            "source": [
                "For example - Get the 24 hours of Agent Jobs from 3 days ago"
            ],
            "metadata": {
                "azdata_cell_guid": "e43d47f3-a4ce-4f76-912e-2b492d779639"
            }
        },
        {
            "cell_type": "code",
            "source": [
                "$Instance = '' # put the instance in the single quotes\r\n",
                "$daysbehind = 3 # Choose how many days back you need the information - It will show a 24 hour period\r\n",
                "$StartDate = (Get-Date).AddDays(- $daysbehind)\r\n",
                "$DoW = $StartDate.DayOfWeek\r\n",
                "\r\n",
                "$FileName = 'C:\\temp\\' + $instance + '_' + $DoW + '_' + $StartDate.tostring(\"MM-dd-yyyy\") + '.html'\r\n",
                "$getDbaAgentJobHistorySplat = @{\r\n",
                "    SqlInstance = $Instance\r\n",
                "    StartDate   = $StartDate\r\n",
                "    EndDate     = $StartDate.AddDays(1)\r\n",
                "}\r\n",
                "Get-DbaAgentJobHistory @getDbaAgentJobHistorySplat | ConvertTo-DbaTimeline | Out-File $FileName -Encoding ASCII\r\n",
                "Invoke-Item $FileName"
            ],
            "metadata": {
                "azdata_cell_guid": "ea2f3aaf-7f11-4e4a-a485-4fa3bcefbccd"
            },
            "outputs": [],
            "execution_count": 12
        }
    ]
}