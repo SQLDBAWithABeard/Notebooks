{
    "metadata": {
        "kernelspec": {
            "name": "SQL",
            "display_name": "SQL",
            "language": "sql"
        },
        "language_info": {
            "name": "sql",
            "version": ""
        }
    },
    "nbformat_minor": 2,
    "nbformat": 4,
    "cells": [
        {
            "cell_type": "markdown",
            "source": [
                "# Queries for Default Trace"
            ],
            "metadata": {
                "azdata_cell_guid": "15bccb0f-6e22-49b6-bb14-d70a8ec46449"
            }
        },
        {
            "cell_type": "markdown",
            "source": [
                "Query for Event Names and Event IDs"
            ],
            "metadata": {
                "azdata_cell_guid": "df1b0661-87ef-4db7-aabf-da9499f108e4"
            }
        },
        {
            "cell_type": "code",
            "source": [
                "--List all Security Audit Events\n",
                "DECLARE @id INT;\n",
                "SELECT @id = id\n",
                "FROM   sys.traces\n",
                "WHERE  is_default = 1;\n",
                "SELECT DISTINCT eventid AS 'EventID' ,\n",
                "       name AS 'Event Name'\n",
                "FROM   fn_trace_geteventinfo(@id) GEI\n",
                "       JOIN sys.trace_events TE ON GEI.eventid = TE.trace_event_id\n",
                "WHERE  name LIKE '%Audit%';"
            ],
            "metadata": {
                "azdata_cell_guid": "2c9c0092-67fd-4e0c-9d93-544f21076627"
            },
            "outputs": [],
            "execution_count": 0
        },
        {
            "cell_type": "markdown",
            "source": [
                "Check for security changes in default trace\r\n",
                "\r\n",
                ""
            ],
            "metadata": {
                "azdata_cell_guid": "23b37674-22ea-4d66-a236-706ddce6aa9e"
            }
        },
        {
            "cell_type": "code",
            "source": [
                "DECLARE @tracefile VARCHAR(256)\r\n",
                "SELECT @tracefile = CAST(value AS VARCHAR(256))\r\n",
                "FROM ::fn_trace_getinfo(DEFAULT)\r\n",
                "WHERE traceid = 1\r\n",
                "AND property = 2 -- filename property\r\n",
                "PRINT @tracefile\r\n",
                "\r\n",
                "SELECT *\r\n",
                "FROM ::fn_trace_gettable(@tracefile, DEFAULT) trc \r\n",
                "INNER JOIN sys.trace_events evt ON trc.EventClass = evt.trace_event_id\r\n",
                "WHERE trc.EventClass IN (102, 103, 104, 105, 106, 108, 109, 110, 111)\r\n",
                "ORDER BY trc.StartTime"
            ],
            "metadata": {
                "azdata_cell_guid": "8db93d62-4efb-474c-9856-792b703cdef9"
            },
            "outputs": [],
            "execution_count": 0
        }
    ]
}