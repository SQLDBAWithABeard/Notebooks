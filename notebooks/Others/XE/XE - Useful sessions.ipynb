{
    "metadata": {
        "kernelspec": {
            "name": "SQL",
            "display_name": "SQL",
            "language": "sql"
        },
        "language_info": {
            "name": "sql",
            "version": ""
        }
    },
    "nbformat_minor": 2,
    "nbformat": 4,
    "cells": [
        {
            "cell_type": "markdown",
            "source": [
                "# Extended Events\r\n",
                "\r\n",
                "Some useful Extended Events\r\n",
                ""
            ],
            "metadata": {
                "azdata_cell_guid": "53f80814-dfba-46ef-84f8-68b12d37cbac"
            }
        },
        {
            "cell_type": "markdown",
            "source": [
                "## Tracking SQL Logins\r\n",
                "\r\n",
                "Uses John Moorhouse blogpost https://sqlrus.com/2015/06/t-sql-tuesday-67-extended-events/ to monitor SQL Logins\r\n",
                "\r\n",
                "Create the Exteneded Event - Note it drops the session if one named `MonitorSQLLogins` exists"
            ],
            "metadata": {
                "azdata_cell_guid": "38ea3aaf-1e48-4bfe-8627-023ee5e998c0"
            }
        },
        {
            "cell_type": "code",
            "source": [
                "IF EXISTS(SELECT 1 from sys.server_event_sessions where name = 'MonitorSQLLogins')\r\n",
                "    BEGIN\r\n",
                "\t   DROP EVENT SESSION [MonitorSQLLogins] ON SERVER\r\n",
                "    END\r\n",
                "GO\r\n",
                "CREATE EVENT SESSION [MonitorSQLLogins] ON SERVER \r\n",
                "ADD EVENT sqlserver.connectivity_ring_buffer_recorded(\r\n",
                "    ACTION(sqlserver.client_app_name,sqlserver.client_connection_id,sqlserver.client_hostname,sqlserver.context_info,sqlserver.server_principal_name,sqlserver.session_id)\r\n",
                "    WHERE ([sqlserver].[session_nt_user]=N'NULL')),\r\n",
                "ADD EVENT sqlserver.login(\r\n",
                "    ACTION(sqlserver.session_id,sqlserver.session_nt_username,sqlserver.session_server_principal_name)\r\n",
                "    WHERE ([sqlserver].[session_nt_user]=N''))\r\n",
                "ADD TARGET package0.event_file(SET filename=N'MonitorSQLLogins'),\r\n",
                "ADD TARGET package0.histogram(SET filtering_event_name=N'sqlserver.login',source=N'sqlserver.session_server_principal_name')\r\n",
                "WITH (MAX_MEMORY=4096 KB,EVENT_RETENTION_MODE=ALLOW_SINGLE_EVENT_LOSS,MAX_DISPATCH_LATENCY=30 SECONDS,MAX_EVENT_SIZE=0 KB,MEMORY_PARTITION_MODE=NONE,TRACK_CAUSALITY=ON,STARTUP_STATE=OFF)\r\n",
                "GO"
            ],
            "metadata": {
                "azdata_cell_guid": "a826c0ba-af10-424d-a8c9-f25c18f43de2",
                "tags": []
            },
            "outputs": [],
            "execution_count": null
        },
        {
            "cell_type": "markdown",
            "source": [
                "Query the results"
            ],
            "metadata": {
                "azdata_cell_guid": "a7da3e5d-5a3d-4f06-bd77-67c883ce9650"
            }
        },
        {
            "cell_type": "code",
            "source": [
                "SELECT \r\n",
                "    xed.slot_data.value('(value)[1]', 'varchar(256)') AS 'SQL Login',\r\n",
                "    xed.slot_data.value('(@count)[1]', 'varchar(256)') AS NumberOfLogins\r\n",
                "FROM (\r\n",
                "    SELECT \r\n",
                "        CAST(xet.target_data AS xml)  as target_data\r\n",
                "    FROM sys.dm_xe_session_targets AS xet  \r\n",
                "    JOIN sys.dm_xe_sessions AS xe  \r\n",
                "       ON (xe.address = xet.event_session_address)  \r\n",
                "    WHERE xe.name = 'MonitorSQLLogins' \r\n",
                "        and target_name='histogram'\r\n",
                "    ) as t\r\n",
                "CROSS APPLY t.target_data.nodes('//HistogramTarget/Slot') AS xed (slot_data);\r\n",
                "GO"
            ],
            "metadata": {
                "azdata_cell_guid": "d4a81c33-95ad-455e-bcdd-21a3d4dc65b3",
                "tags": [
                    "hide_input"
                ]
            },
            "outputs": [],
            "execution_count": null
        },
        {
            "cell_type": "markdown",
            "source": [
                "## Tracking Windows Logins\r\n",
                "\r\n",
                "Altered the code from above to also monitor Windows Logins -  - Note it drops the session if one named `MonitorSQLLogins` exists"
            ],
            "metadata": {
                "azdata_cell_guid": "31642980-9298-41b8-855c-8bdb5b365ca0"
            }
        },
        {
            "cell_type": "code",
            "source": [
                "IF EXISTS(SELECT 1 from sys.server_event_sessions where name = 'MonitorWindowsLogins')\r\n",
                "    BEGIN\r\n",
                "\t   DROP EVENT SESSION [MonitorWindowsLogins] ON SERVER\r\n",
                "    END\r\n",
                "GO\r\n",
                "CREATE EVENT SESSION [MonitorWindowsLogins] ON SERVER \r\n",
                "ADD EVENT sqlserver.connectivity_ring_buffer_recorded(\r\n",
                "    ACTION(sqlserver.client_app_name,sqlserver.client_connection_id,sqlserver.client_hostname,sqlserver.context_info,sqlserver.server_principal_name,sqlserver.session_id)\r\n",
                "    WHERE ([sqlserver].[session_nt_user]<>N'NULL')),\r\n",
                "ADD EVENT sqlserver.login(\r\n",
                "    ACTION(sqlserver.session_id,sqlserver.session_nt_username,sqlserver.session_server_principal_name)\r\n",
                "    WHERE ([sqlserver].[session_nt_user]<>N''))\r\n",
                "ADD TARGET package0.event_file(SET filename=N'MonitorWindowsLogins'),\r\n",
                "ADD TARGET package0.histogram(SET filtering_event_name=N'sqlserver.login',source=N'sqlserver.session_server_principal_name')\r\n",
                "WITH (MAX_MEMORY=4096 KB,EVENT_RETENTION_MODE=ALLOW_SINGLE_EVENT_LOSS,MAX_DISPATCH_LATENCY=30 SECONDS,MAX_EVENT_SIZE=0 KB,MEMORY_PARTITION_MODE=NONE,TRACK_CAUSALITY=ON,STARTUP_STATE=OFF)\r\n",
                "GO"
            ],
            "metadata": {
                "azdata_cell_guid": "cf730baa-dfb9-4be9-8764-e8b1ec70c871",
                "tags": []
            },
            "outputs": [
                {
                    "output_type": "display_data",
                    "data": {
                        "text/html": "Commands completed successfully."
                    },
                    "metadata": {}
                },
                {
                    "output_type": "display_data",
                    "data": {
                        "text/html": "Commands completed successfully."
                    },
                    "metadata": {}
                },
                {
                    "output_type": "display_data",
                    "data": {
                        "text/html": "Total execution time: 00:00:00.115"
                    },
                    "metadata": {}
                }
            ],
            "execution_count": 3
        },
        {
            "cell_type": "markdown",
            "source": [
                "Query the results"
            ],
            "metadata": {
                "azdata_cell_guid": "8cee0dab-b94f-4a6b-9500-6bb0eb710b12"
            }
        },
        {
            "cell_type": "code",
            "source": [
                "SELECT \r\n",
                "    xed.slot_data.value('(value)[1]', 'varchar(256)') AS 'SQL Login',\r\n",
                "    xed.slot_data.value('(@count)[1]', 'varchar(256)') AS NumberOfLogins\r\n",
                "FROM (\r\n",
                "    SELECT \r\n",
                "        CAST(xet.target_data AS xml)  as target_data\r\n",
                "    FROM sys.dm_xe_session_targets AS xet  \r\n",
                "    JOIN sys.dm_xe_sessions AS xe  \r\n",
                "       ON (xe.address = xet.event_session_address)  \r\n",
                "    WHERE xe.name = 'MonitorWindowsLogins' \r\n",
                "        and target_name='histogram'\r\n",
                "    ) as t\r\n",
                "CROSS APPLY t.target_data.nodes('//HistogramTarget/Slot') AS xed (slot_data);\r\n",
                "GO"
            ],
            "metadata": {
                "azdata_cell_guid": "ca9f6556-f810-45d9-8253-4e9784e35d59",
                "tags": []
            },
            "outputs": [],
            "execution_count": null
        },
        {
            "cell_type": "markdown",
            "source": [
                "## Tracking logins to a particular database\r\n",
                "\r\n",
                "This will dynamically create an extended events session to track logins to a particular database and store in a histogram only - You can remove `Set collect_statement=(0)` and uncomment the `ADD TARGET package0.event_file(SET filename=''' + @XESessionName + '''),` line to capture the statements executed as well but this will get large quickly on busy systems"
            ],
            "metadata": {
                "azdata_cell_guid": "a2f940bb-e7b8-4804-b859-2f9ed6bcc559"
            }
        },
        {
            "cell_type": "code",
            "source": [
                "DECLARE @DatabaseName NVarchar(250) = ''\r\n",
                "DECLARE @XESessionName NVarchar(250) = 'MonitorLoginsTo' + @DatabaseName\r\n",
                "\r\n",
                "IF EXISTS(SELECT 1 from sys.server_event_sessions where name = @XESessionName)\r\n",
                "    BEGIN\r\n",
                "\tDECLARE @DROPSqlQuery NVARCHAR(500) = 'DROP EVENT SESSION [' + @XESessionName + '] ON SERVER'\r\n",
                "\tEXEC (@DROPSqlQuery)   \r\n",
                "    END\r\n",
                "\r\n",
                "DECLARE @SqlQuery NVARCHAR(2000) = 'CREATE EVENT SESSION [' +  @XESessionName +  '] ON SERVER \r\n",
                "ADD EVENT sqlserver.sql_statement_completed(SET collect_statement=(0)\r\n",
                "    ACTION(sqlserver.client_app_name,sqlserver.client_hostname,sqlserver.username)\r\n",
                "      WHERE ([sqlserver].[database_name] = N'''+ @DatabaseName + '''))\r\n",
                "-- ADD TARGET package0.event_file(SET filename=''' + @XESessionName + '''),\r\n",
                "ADD TARGET package0.histogram(SET filtering_event_name=N''sqlserver.sql_statement_completed'',source=N''sqlserver.username'')\r\n",
                "WITH (MAX_MEMORY=4096 KB,EVENT_RETENTION_MODE=ALLOW_SINGLE_EVENT_LOSS,MAX_DISPATCH_LATENCY=30 SECONDS,MAX_EVENT_SIZE=0 KB,MEMORY_PARTITION_MODE=NONE,TRACK_CAUSALITY=OFF,STARTUP_STATE=OFF)\r\n",
                "'\r\n",
                "\r\n",
                "EXEC (@SqlQuery)  \r\n",
                ""
            ],
            "metadata": {
                "azdata_cell_guid": "7f1bc227-f3c0-48aa-a1f8-3983ee7af4e3",
                "tags": []
            },
            "outputs": [
                {
                    "output_type": "display_data",
                    "data": {
                        "text/html": "Commands completed successfully."
                    },
                    "metadata": {}
                },
                {
                    "output_type": "display_data",
                    "data": {
                        "text/html": "Total execution time: 00:00:00.104"
                    },
                    "metadata": {}
                }
            ],
            "execution_count": 5
        },
        {
            "cell_type": "markdown",
            "source": [
                "Query Results - Change the Extended event name"
            ],
            "metadata": {
                "azdata_cell_guid": "425d5727-70b4-4340-800d-50dafafebb04"
            }
        },
        {
            "cell_type": "code",
            "source": [
                "DECLARE @DatabaseName NVarchar(250) = ''\r\n",
                "DECLARE @XESessionName NVARCHAR(250) = 'MonitorLoginsTo' + @DatabaseName\r\n",
                "SELECT \r\n",
                "    xed.slot_data.value('(value)[1]', 'varchar(256)') AS 'Login',\r\n",
                "    xed.slot_data.value('(@count)[1]', 'varchar(256)') AS NumberOfLogins\r\n",
                "FROM (\r\n",
                "    SELECT \r\n",
                "        CAST(xet.target_data AS xml)  as target_data\r\n",
                "    FROM sys.dm_xe_session_targets AS xet  \r\n",
                "    JOIN sys.dm_xe_sessions AS xe  \r\n",
                "       ON (xe.address = xet.event_session_address)  \r\n",
                "    WHERE xe.name = @XESessionName \r\n",
                "        and target_name='histogram'\r\n",
                "    ) as t\r\n",
                "CROSS APPLY t.target_data.nodes('//HistogramTarget/Slot') AS xed (slot_data);\r\n",
                "GO"
            ],
            "metadata": {
                "azdata_cell_guid": "df7cd0c3-0da6-400a-ba80-5e27d8a6f2e8",
                "tags": []
            },
            "outputs": [],
            "execution_count": null
        },
        {
            "cell_type": "markdown",
            "source": [
                "## Tracking logins using a particular table\r\n",
                "\r\n",
                "This will dynamically create an extended events session to track Ad-Hoc Statements (no sprocs) to a particular table on a  database and store in a histogram only - You can  uncomment the `ADD TARGET package0.event_file(SET filename=''' + @XESessionName + '''),` line to capture the statements executed as well but this will get large quickly on busy systems"
            ],
            "metadata": {
                "azdata_cell_guid": "a9e0b115-3244-41d3-b3ae-9fc88118bd64"
            }
        },
        {
            "cell_type": "code",
            "source": [
                "DECLARE @DatabaseName NVarchar(250) = ''\r\n",
                "DECLARE @SchemaName NVarchar(250) = ''\r\n",
                "DECLARE @TableName NVarchar(250) = ''\r\n",
                "DECLARE @XESessionName NVarchar(250) = 'MonitorTableUsage_' + @DatabaseName + '_' + @TableName + '_' + @SchemaName\r\n",
                "\r\n",
                "IF EXISTS(SELECT 1 from sys.server_event_sessions where name = @XESessionName)\r\n",
                "    BEGIN\r\n",
                "\tDECLARE @DROPSqlQuery NVARCHAR(500) = 'DROP EVENT SESSION [' + @XESessionName + '] ON SERVER'\r\n",
                "\tEXEC (@DROPSqlQuery)   \r\n",
                "    END\r\n",
                "\r\n",
                "DECLARE @SqlQuery NVARCHAR(2000) = 'CREATE EVENT SESSION [' +  @XESessionName +  '] ON SERVER\r\n",
                "ADD EVENT sqlserver.sql_batch_completed(SET collect_batch_text=(1)\r\n",
                "    ACTION(sqlserver.session_server_principal_name)\r\n",
                "    WHERE ([sqlserver].[equal_i_sql_unicode_string]([sqlserver].[database_name],N''' + @DatabaseName + ''') AND [sqlserver].[like_i_sql_unicode_string]([batch_text],N''%' + @SchemaName + '%' + @TableName + '%'')))\r\n",
                "-- ADD TARGET package0.event_file(SET filename=''' + @XESessionName + '''),\r\n",
                "ADD TARGET package0.histogram(SET filtering_event_name=N''sqlserver.sql_batch_completed'',source=N''sqlserver.session_server_principal_name'')\r\n",
                "WITH (MAX_MEMORY=4096 KB,EVENT_RETENTION_MODE=ALLOW_SINGLE_EVENT_LOSS,MAX_DISPATCH_LATENCY=30 SECONDS,MAX_EVENT_SIZE=0 KB,MEMORY_PARTITION_MODE=NONE,TRACK_CAUSALITY=OFF,STARTUP_STATE=OFF)\r\n",
                "'\r\n",
                "\r\n",
                "EXEC (@SqlQuery)  "
            ],
            "metadata": {
                "azdata_cell_guid": "bbbb8dd8-3ed1-410c-a451-b0c0617a0f67"
            },
            "outputs": [],
            "execution_count": null
        },
        {
            "cell_type": "markdown",
            "source": [
                "Query the data - define all the params in here"
            ],
            "metadata": {
                "azdata_cell_guid": "16eea879-ecf9-41ed-8443-98b5d65ecf45"
            }
        },
        {
            "cell_type": "code",
            "source": [
                "DECLARE @DatabaseName NVarchar(250) = ''\r\n",
                "DECLARE @SchemaName NVarchar(250) = ''\r\n",
                "DECLARE @TableName NVarchar(250) = ''\r\n",
                "DECLARE @XESessionName NVarchar(250) = 'MonitorTableUsage_' + @DatabaseName + '_' + @TableName + '_' + @SchemaName\r\n",
                "SELECT \r\n",
                "    xed.slot_data.value('(value)[1]', 'varchar(256)') AS 'Login',\r\n",
                "    xed.slot_data.value('(@count)[1]', 'varchar(256)') AS NumberOfLogins\r\n",
                "FROM (\r\n",
                "    SELECT \r\n",
                "        CAST(xet.target_data AS xml)  as target_data\r\n",
                "    FROM sys.dm_xe_session_targets AS xet  \r\n",
                "    JOIN sys.dm_xe_sessions AS xe  \r\n",
                "       ON (xe.address = xet.event_session_address)  \r\n",
                "    WHERE xe.name = @XESessionName \r\n",
                "        and target_name='histogram'\r\n",
                "    ) as t\r\n",
                "CROSS APPLY t.target_data.nodes('//HistogramTarget/Slot') AS xed (slot_data);\r\n",
                "GO"
            ],
            "metadata": {
                "azdata_cell_guid": "2a6efc85-ab16-444c-9b2f-1cff7e020045",
                "tags": []
            },
            "outputs": [],
            "execution_count": null
        }
    ]
}