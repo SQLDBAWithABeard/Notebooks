{
    "metadata": {
        "kernelspec": {
            "name": "SQL",
            "display_name": "SQL",
            "language": "sql"
        },
        "language_info": {
            "name": "sql",
            "version": ""
        }
    },
    "nbformat_minor": 2,
    "nbformat": 4,
    "cells": [
        {
            "cell_type": "markdown",
            "source": [
                "A quick notebook for getting SSIS execution\r\n",
                "\r\n",
                "Connect to SSIS DB"
            ],
            "metadata": {
                "azdata_cell_guid": "ae87fa98-fff6-4e37-84e4-bca831255fc9"
            }
        },
        {
            "cell_type": "code",
            "source": [
                "USE SSISDB\r\n",
                "GO\r\n",
                "\r\n",
                "-- Find all error messages\r\n",
                "SELECT\r\n",
                "    OM.operation_message_id\r\n",
                ",   OM.operation_id\r\n",
                ",   OM.message_time\r\n",
                ",   OM.message_type\r\n",
                ",   OM.message_source_type\r\n",
                ",   OM.message\r\n",
                ",   OM.extended_info_id\r\n",
                "FROM\r\n",
                "    catalog.operation_messages AS OM\r\n",
                "WHERE\r\n",
                "    OM.message_type = 120\r\n",
                "ORDER BY Message_Time DESC"
            ],
            "metadata": {
                "azdata_cell_guid": "3a94ffd3-175c-43d2-861c-01932eb69365",
                "tags": []
            },
            "outputs": [],
            "execution_count": null
        },
        {
            "cell_type": "markdown",
            "source": [
                "Get all failures"
            ],
            "metadata": {
                "azdata_cell_guid": "216f38f3-c4e5-4792-967c-98a35a74ca58"
            }
        },
        {
            "cell_type": "code",
            "source": [
                "USE SSISDB\r\n",
                "GO\r\n",
                "-- Generate all the messages associated to failing operations\r\n",
                "SELECT\r\n",
                "    OM.operation_message_id\r\n",
                ",   OM.operation_id\r\n",
                ",   OM.message_time\r\n",
                ",   OM.message_type\r\n",
                ",   OM.message_source_type\r\n",
                ",   OM.message\r\n",
                ",   OM.extended_info_id\r\n",
                "FROM\r\n",
                "    catalog.operation_messages AS OM\r\n",
                "    INNER JOIN\r\n",
                "    (  \r\n",
                "        -- Find failing operations\r\n",
                "        SELECT DISTINCT\r\n",
                "            OM.operation_id  \r\n",
                "        FROM\r\n",
                "            catalog.operation_messages AS OM\r\n",
                "        WHERE\r\n",
                "            OM.message_type = 120\r\n",
                "    ) D\r\n",
                "    ON D.operation_id = OM.operation_id\r\n",
                "WHERE message_time < DATEADD(Day,-7,GetDate())\r\n",
                "ORDER BY message_time DESC"
            ],
            "metadata": {
                "azdata_cell_guid": "2b053865-082f-4840-86f8-a43619bd4f02",
                "tags": [
                    "hide_input"
                ]
            },
            "outputs": [],
            "execution_count": null
        },
        {
            "cell_type": "markdown",
            "source": [
                ""
            ],
            "metadata": {
                "azdata_cell_guid": "8358d5ed-112d-48d2-bf84-1f4f51439f75"
            }
        },
        {
            "cell_type": "code",
            "source": [
                "-- Find all messages associated to the last failing run\n",
                "USE SSISDB\n",
                "GO\n",
                "SELECT\n",
                "    OM.operation_message_id\n",
                ",   OM.operation_id\n",
                ",   OM.message_time\n",
                ",   OM.message_type\n",
                ",   OM.message_source_type\n",
                ",   OM.message\n",
                ",   OM.extended_info_id\n",
                "FROM\n",
                "    catalog.operation_messages AS OM\n",
                "WHERE\n",
                "    OM.operation_id = \n",
                "    (  \n",
                "        -- Find the last failing operation\n",
                "        -- lazy assumption that biggest operation\n",
                "        -- id is last. Could be incorrect if a long\n",
                "        -- running process fails after a quick process\n",
                "        -- has also failed\n",
                "        SELECT \n",
                "            MAX(OM.operation_id)\n",
                "        FROM\n",
                "            catalog.operation_messages AS OM\n",
                "        WHERE\n",
                "            OM.message_type = 120\n",
                "              );"
            ],
            "metadata": {
                "azdata_cell_guid": "b7a62495-a32c-46bc-bda7-f573ea4e372b"
            },
            "outputs": [],
            "execution_count": null
        }
    ]
}