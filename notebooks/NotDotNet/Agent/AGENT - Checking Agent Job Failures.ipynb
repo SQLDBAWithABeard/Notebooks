{
    "metadata": {
        "kernelspec": {
            "name": "powershell",
            "display_name": "PowerShell"
        },
        "language_info": {
            "name": "powershell",
            "codemirror_mode": "shell",
            "mimetype": "text/x-sh",
            "file_extension": ".ps1"
        }
    },
    "nbformat_minor": 2,
    "nbformat": 4,
    "cells": [
        {
            "cell_type": "markdown",
            "source": [
                "# Quickly Checking for Failures\r\n",
                "\r\n",
                "This notebook will show the Agent Jobs that have failed across the estate"
            ],
            "metadata": {
                "azdata_cell_guid": "2c5347d1-8d87-446b-98db-3d8b442f4ed6"
            }
        },
        {
            "cell_type": "markdown",
            "source": [
                "This requires the dbatools and dbachecks module - Run this cell everytime to check for the module adn to load some variables"
            ],
            "metadata": {
                "azdata_cell_guid": "c7377fad-33ca-4fa2-905e-6faffb49ac54"
            }
        },
        {
            "cell_type": "code",
            "source": [
                "#Check for modules and install\r\n",
                "$Modules = 'dbatools', 'dbachecks'\r\n",
                "\r\n",
                "if ((Get-PsRepository -Name PSGallery).InstallationPolicy -ne 'Trusted') {\r\n",
                "    Write-Output \"The PowerShell Gallery is not trusted so I will trust it so that we can install the modules without interaction\"\r\n",
                "    try {\r\n",
                "        Set-PsRepository -Name PSGallery -InstallationPolicy Trusted\r\n",
                "    }\r\n",
                "    catch {\r\n",
                "        Write-Output \" Failed to trust the gallery, trying to force it and also add package provider\"\r\n",
                "        Install-PackageProvider NuGet -Force\r\n",
                "        Import-PackageProvider NuGet -Force\r\n",
                "        Set-PSRepository -Name PSGallery -InstallationPolicy Trusted\r\n",
                "    }\r\n",
                "    \r\n",
                "}\r\n",
                "else {\r\n",
                "    Write-Output \"The PowerShell Gallery is trusted I will continue\"\r\n",
                "}\r\n",
                "$Modules.ForEach{\r\n",
                "    If (-not(Get-Module $psitem -ListAvailable)) {\r\n",
                "        Write-Output \"We don't have the $psitem module so we will install it\"\r\n",
                "        Install-Module $psitem -Scope CurrentUser -Force\r\n",
                "    }\r\n",
                "    else {\r\n",
                "        Write-Output \"We have the $psitem module already\"\r\n",
                "    }\r\n",
                "}"
            ],
            "metadata": {
                "azdata_cell_guid": "5757a93b-433e-4fe0-acbe-0a2ef6f5ef9b",
                "tags": [
                    "hide_input"
                ]
            },
            "outputs": [
                {
                    "output_type": "stream",
                    "name": "stdout",
                    "text": "We have the dbatools module already\nWe have the importExcel module already\n"
                }
            ],
            "execution_count": 1
        },
        {
            "cell_type": "markdown",
            "source": [
                "Run the cell below to get all of the failed jobs in the last day - To alter that number change the number after the value  \r\n",
                "It will take about 2 minutes or so to run"
            ],
            "metadata": {
                "azdata_cell_guid": "f7624617-4914-4920-ab8c-04588fb2ff6b"
            }
        },
        {
            "cell_type": "code",
            "source": [
                "$AllInstances = '' # add array of instances here\r\n",
                "Set-DbcConfig agent.failedjob.since -Value 1\r\n",
                "Invoke-DbcCheck -SqlInstance $AllInstances -Check FailedJob -Show Fails"
            ],
            "metadata": {
                "azdata_cell_guid": "96825d33-18a1-456a-9969-41a144b29d74",
                "tags": []
            },
            "outputs": [],
            "execution_count": null
        }
    ]
}