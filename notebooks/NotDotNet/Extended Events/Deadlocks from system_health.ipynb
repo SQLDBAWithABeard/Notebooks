{
    "metadata": {
        "kernelspec": {
            "name": "SQL",
            "display_name": "SQL",
            "language": "sql"
        },
        "language_info": {
            "name": "sql",
            "version": ""
        }
    },
    "nbformat_minor": 2,
    "nbformat": 4,
    "cells": [
        {
            "cell_type": "markdown",
            "source": [
                "# Getting deadlock information from system_health\r\n",
                "\r\n",
                "This code will get the deadlock graph from the system_health extended event session"
            ],
            "metadata": {
                "azdata_cell_guid": "41514854-ca39-43f4-9401-8548afc0c5a1"
            }
        },
        {
            "cell_type": "code",
            "source": [
                "CREATE TABLE #errorlog (\r\n",
                "            LogDate DATETIME \r\n",
                "            , ProcessInfo VARCHAR(100)\r\n",
                "            , [Text] VARCHAR(MAX)\r\n",
                "            );\r\n",
                "DECLARE @tag VARCHAR (MAX) , @path VARCHAR(MAX);\r\n",
                "INSERT INTO #errorlog EXEC sp_readerrorlog;\r\n",
                "SELECT @tag = text\r\n",
                "FROM #errorlog \r\n",
                "WHERE [Text] LIKE 'Logging%MSSQL\\Log%';\r\n",
                "DROP TABLE #errorlog;\r\n",
                "SET @path = SUBSTRING(@tag, 38, CHARINDEX('MSSQL\\Log', @tag) - 29);\r\n",
                "SELECT \r\n",
                "  CONVERT(xml, event_data).query('/event/data/value/child::*') AS DeadlockReport,\r\n",
                "  CONVERT(xml, event_data).value('(event[@name=\"xml_deadlock_report\"]/@timestamp)[1]', 'datetime') \r\n",
                "  AS Execution_Time\r\n",
                "FROM sys.fn_xe_file_target_read_file(@path + '\\system_health*.xel', NULL, NULL, NULL)\r\n",
                "WHERE OBJECT_NAME like 'xml_deadlock_report';"
            ],
            "metadata": {
                "azdata_cell_guid": "3366fd0c-3dc7-4045-aeac-1787531becd1"
            },
            "outputs": [],
            "execution_count": null
        }
    ]
}