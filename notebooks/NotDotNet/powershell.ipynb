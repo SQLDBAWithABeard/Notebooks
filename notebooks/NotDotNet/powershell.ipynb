{
    "metadata": {
        "kernelspec": {
            "name": "powershell",
            "display_name": "PowerShell"
        },
        "language_info": {
            "name": "powershell",
            "codemirror_mode": "shell",
            "mimetype": "text/x-sh",
            "file_extension": ".ps1"
        }
    },
    "nbformat_minor": 2,
    "nbformat": 4,
    "cells": [
        {
            "cell_type": "markdown",
            "source": [
                "# PowerShell Notebooks\r\n",
                "\r\n",
                "## Overview\r\n",
                "The latest release of the [insiders edition of Azure Data Studio](https://github.com/microsoft/azuredatastudio#try-out-the-latest-insiders-build-from-master) brings the first edition of PowerShell Notebooks! I have written about it here\r\n",
                "\r\n",
                "You can add Markdown like this by using the Text button\r\n",
                "\r\n",
                "![image](https://user-images.githubusercontent.com/6729780/67002033-e5c1ea00-f0d2-11e9-9c69-daee9431f5da.png)\r\n",
                "\r\n",
                "You can find out more about using MarkDown in Notebooks in my Notebook from my presentations [here](https://github.com/SQLDBAWithABeard/Presentations/tree/master/2019/DATA%20Saturday%20Holland)\r\n",
                ""
            ],
            "metadata": {
                "azdata_cell_guid": "0c5c5072-184f-4aa0-830f-a49c7803d560",
                "tags": [
                    "hide_input"
                ]
            }
        },
        {
            "cell_type": "markdown",
            "source": [
                "## Adding PowerShell\r\n",
                "\r\n",
                "To add PowerShell Code to the notebook click the Code button at the top of the file \r\n",
                "\r\n",
                "![image](https://user-images.githubusercontent.com/6729780/67002773-8369e900-f0d4-11e9-836e-be947368a91f.png)\r\n",
                "\r\n",
                "or the one you can find by highlighting above or below a block\r\n",
                "\r\n",
                "![image](https://user-images.githubusercontent.com/6729780/67002855-abf1e300-f0d4-11e9-89bf-c1d54e9d17fa.png)\r\n",
                "\r\n",
                "There is not any intellisense, but you can easily write your code in Azure Data Studio or Visual Studio Code and paste it in the block"
            ],
            "metadata": {
                "azdata_cell_guid": "ffb3fd2a-9ea1-440e-b2af-e5370bd9a515",
                "tags": [
                    "hide_input"
                ]
            }
        },
        {
            "cell_type": "markdown",
            "source": [
                "## Getting the Databases on an instance\r\n",
                "\r\n",
                "Let's try a simple example. We can use the code below to set the instance name and to get the credential for the user for the dbatools container which you can find on the [Docker Hub](https://hub.docker.com/u/dbatools/) and pull using\r\n",
                "\r\n",
                "````\r\n",
                "docker pull dbatools/sqlinstance\r\n",
                "````\r\n",
                "then using `Get-DbaDatabase` we can gather the instances.\r\n",
                "\r\n",
                "Clicking the play button (which is only visible when you hover the mouse over it)\r\n",
                "\r\n",
                "![image](https://user-images.githubusercontent.com/6729780/67003179-566a0600-f0d5-11e9-9cb2-40ddf5c166f8.png)\r\n",
                "\r\n",
                "will run the PowerShell\r\n",
                ""
            ],
            "metadata": {
                "azdata_cell_guid": "d12a8caf-c417-4026-bef6-d3f01cd22fc8",
                "tags": [
                    "hide_input"
                ]
            }
        },
        {
            "cell_type": "code",
            "source": [
                "$sqlinstance = 'localhost,15591'\r\n",
                "$cred = Import-Clixml -Path C:\\MSSQL\\BACKUP\\sqladmin.cred\r\n",
                "Get-DbaDatabase -sqlinstance $sqlinstance -SqlCredential $cred | Format-Table"
            ],
            "metadata": {
                "azdata_cell_guid": "f5676a52-39e2-4868-b18f-c410dd658e61",
                "tags": []
            },
            "outputs": [
                {
                    "name": "stdout",
                    "text": "& { $sqlinstance = 'localhost,15591'\n>> $cred = Import-Clixml -Path C:\\MSSQL\\BACKUP\\sqladmin.cred\n>> Get-DbaDatabase -sqlinstance $sqlinstance -SqlCredential $cred | Format-Table }\n>> \n\nComputerName InstanceName SqlInstance  Name   Status IsAccessible RecoveryModel LogReuseWaitStatus SizeMB Compatibility\n------------ ------------ -----------  ----   ------ ------------ ------------- ------------------ ------ -------------\nlocalhost    MSSQLSERVER  dbatoolssql1 master Normal         True        Simple            Nothing      6    Version140\nlocalhost    MSSQLSERVER  dbatoolssql1 tempdb Normal         True        Simple            Nothing     16    Version140\nlocalhost    MSSQLSERVER  dbatoolssql1 model  Normal         True          Full            Nothing     16    Version140\nlocalhost    MSSQLSERVER  dbatoolssql1 msdb   Normal         True        Simple                 13  15.75    Version140\nlocalhost    MSSQLSERVER  dbatoolssql1 Nor... Normal         True          Full         Checkpoint   8.25    Version130\nlocalhost    MSSQLSERVER  dbatoolssql1 pubs   Normal         True          Full          LogBackup      7    Version130\n\n\n",
                    "output_type": "stream"
                }
            ],
            "execution_count": 1
        },
        {
            "cell_type": "markdown",
            "source": [
                "and the results will be displayed\n",
                "\n",
                "\n",
                "![image](https://user-images.githubusercontent.com/6729780/67003270-7f8a9680-f0d5-11e9-849d-2c81bb2298f6.png)\n",
                "\n",
                "You can clear the results **from every code block** using the clear results button at the top\n",
                "\n",
                "![image](https://user-images.githubusercontent.com/6729780/67004203-a649cc80-f0d7-11e9-8761-8e205a69b36f.png)\n",
                "\n",
                "Otherwise, you can save the results with the Notebook by saving it."
            ],
            "metadata": {
                "azdata_cell_guid": "fef66d34-72da-4998-8c86-b6dcbd8c6558",
                "tags": []
            }
        }
    ]
}