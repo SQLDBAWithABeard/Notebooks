{
    "metadata": {
        "kernelspec": {
            "name": "powershell",
            "display_name": "PowerShell"
        },
        "language_info": {
            "name": "powershell",
            "codemirror_mode": "shell",
            "mimetype": "text/x-sh",
            "file_extension": ".ps1"
        }
    },
    "nbformat_minor": 2,
    "nbformat": 4,
    "cells": [
        {
            "cell_type": "markdown",
            "source": [
                "# Create an Index Notebook for all of the Notebooks in a folder\r\n",
                "\r\n",
                "This will create an Index Notebook for all of the notebooks in a folder. It will provide a block per notebook which when run will copy the notebook to a working folder, rename it with the date and user appended and open it ready for use.\r\n",
                "\r\n",
                "Perfect for a set of run books.\r\n",
                "\r\n",
                "It requires the ADSNotebook PowerShell module. Run this cell to see if it is available, if not it will install it for your user\r\n",
                ""
            ],
            "metadata": {
                "azdata_cell_guid": "bb5ae108-d647-4a68-9f02-de202058a74a"
            }
        },
        {
            "cell_type": "code",
            "source": [
                "#Check for modules and install\r\n",
                "$Modules = 'ADSNotebook'\r\n",
                "\r\n",
                "\r\n",
                "if ((Get-PsRepository -Name PSGallery).InstallationPolicy -ne 'Trusted') {\r\n",
                "    Write-Output \"The PowerShell Gallery is not trusted so I will trust it so that we can install the modules without interaction\"\r\n",
                "    try {\r\n",
                "        Set-PsRepository -Name PSGallery -InstallationPolicy Trusted\r\n",
                "    }\r\n",
                "    catch {\r\n",
                "        Write-Output \" Failed to trust the gallery, trying to force it and also add package provider\"\r\n",
                "        Install-PackageProvider NuGet -Force\r\n",
                "        Import-PackageProvider NuGet -Force\r\n",
                "        Set-PSRepository -Name PSGallery -InstallationPolicy Trusted\r\n",
                "    }\r\n",
                "    \r\n",
                "}\r\n",
                "else {\r\n",
                "    Write-Output \"The PowerShell Gallery is trusted I will continue\"\r\n",
                "}\r\n",
                "$Modules.ForEach{\r\n",
                "    If (-not(Get-Module $psitem -ListAvailable)) {\r\n",
                "        Write-Output \"We don't have the $psitem module so we will install it\"\r\n",
                "        Install-Module $psitem -Scope CurrentUser -Force\r\n",
                "    }\r\n",
                "    else {\r\n",
                "        Write-Output \"We have the $psitem module already\"\r\n",
                "    }\r\n",
                "}"
            ],
            "metadata": {
                "azdata_cell_guid": "2451cc1f-6c51-45ac-bfe2-64dbaf1b6b74",
                "tags": [
                    "hide_input"
                ]
            },
            "outputs": [
                {
                    "output_type": "stream",
                    "name": "stdout",
                    "text": "We don't have the ADSNotebook module so we will install it\n"
                }
            ],
            "execution_count": 2
        },
        {
            "cell_type": "markdown",
            "source": [
                "To use this Notebook, you wil need to alter some of the variables  \r\n",
                "\r\n",
                "`$NotebookDirectory` This is the directory holding the notebooks   \r\n",
                "`$targetfilename`  This is the name of the Index Notebook  \r\n",
                "`$outputLocation` This is the directory that the generated notebook will be placed  \r\n",
                ""
            ],
            "metadata": {
                "azdata_cell_guid": "18b16f18-e3d6-4e82-aa51-3c9c4bc9a037"
            }
        },
        {
            "cell_type": "code",
            "source": [
                "$NotebookDirectory = \"C:\\Users\\rob.sewell\\Documents\\Work\\daa-env-admin\\DAA-Operations\\01-Notebooks\\SSIS\"\r\n",
                "$targetfilename = \"01 - SSIS Notebooks Index.ipynb\" \r\n",
                "$outputLocation = 'C:\\temp\\'\r\n",
                "$NotebookPath = \"$($NotebookDirectory)\\$targetfilename\"\r\n",
                "$ThisNotebook = 'Create Index Notebook.ipynb'\r\n",
                "\r\n",
                "$IntroCellText = \"# Notebook Index for SSIS queries\r\n",
                "\r\n",
                "This Notebook contains the details about the notebooks for each of the SSIS queries \r\n",
                "\r\n",
                "You can use these Notebooks to investigate an instance  \r\n",
                "  \r\n",
                "Click on the code below the workbook you require to generate your custom version to save results in\"\r\n",
                "$IntroCell = New-ADSWorkBookCell -Text $IntroCellText -Type Text\r\n",
                "\r\n",
                "#check output path exists\r\n",
                "Write-Output \"Starting\"\r\n",
                "Write-Output \"checking Directory $($outputLocation) exists\"\r\n",
                "If (!(Test-path $outputLocation)) {\r\n",
                "    Write-Output \"creating Directory $($outputLocation)\"\r\n",
                "    New-Item -Path  $outputLocation  -ItemType Directory   \r\n",
                "} else {\r\n",
                "    Write-Output \"Directory $($outputLocation) exists\"\r\n",
                "}\r\n",
                "\r\n",
                "#check ths files available and build the index\r\n",
                "Write-Output \"Looping through files in  $($NotebookDirectory) and creating the cells\"\r\n",
                "# add 'pol.TDWH_RiskRetention_S01','pol.TDWH_RiskRetention_S01_copy' to get files in lower directories\r\n",
                "$WorkBookCells = foreach ($file in (Get-ChildItem $NotebookDirectory -Exclude $targetfilename,$ThisNotebook)) {\r\n",
                " ## For this one we dont want the sub folders\r\n",
                "    # In case there are subfolders which don't have notebooks in them\r\n",
                "    If ($file.PSIsContainer -ieq $true -and ((Get-ChildItem $file.FullName -Recurse -Include *ipynb).Count -ne 0)) {                            \r\n",
                "  <#      New-ADSWorkBookCell -Type Text -Text \"---\r\n",
                "---\r\n",
                "## <u>Notebook Section:  **$($file.basename) </u>**\"   \r\n",
                "#>\r\n",
                "    }\r\n",
                "    Elseif ($file.Extension -eq '.ipynb') {\r\n",
                "        $NotebookContent = Get-Content $file.FullName |ConvertFrom-Json\r\n",
                "$FirstCell = $NotebookContent.Cells[0].Source -replace '#','##'|Out-String\r\n",
                "$Text = \"---\r\n",
                "---\r\n",
                "## Notebook Name: **$($file.basename)**\r\n",
                "$FirstCell\"\r\n",
                "New-ADSWorkBookCell -Type Text -Text $Text       \r\n",
                "        $CellText = \"# To run a copy of the Notebook $($file.basename), click the run button.\r\n",
                "`$user = `$env:USERNAME.Replace('.','')\r\n",
                "`$time = get-date -Format 'yyyyMMddHHmmssms'\r\n",
                "`$destination = '{3}\\{0}_' + `$time + '_'+ `$user + '{1}'\r\n",
                "copy-item -path '{2}' -destination `$destination\r\n",
                "# In case there is media or script files as well. Copy Those also\r\n",
                "Get-ChildItem '{4}' -Exclude *ipynb | Copy-Item -Destination '{3}' -Recurse -Force\r\n",
                "azuredatastudio.cmd `$destination\r\n",
                "\" -f $file.BaseName, $file.Extension, $file.FullName, $outputLocation , $file.DirectoryName\r\n",
                "        New-ADSWorkBookCell -Type code -Text $celltext -Collapse\r\n",
                "    }\r\n",
                "}\r\n",
                "Write-Output \"Creating the notebook at $($NotebookPath)\"\r\n",
                "New-ADSWorkBook -path $NotebookPath -Cells $IntroCell, $WorkBookCells -Type PowerShell\r\n",
                "Write-Output \"Completed\""
            ],
            "metadata": {
                "azdata_cell_guid": "051c46d9-16fe-4aff-94ad-d41478d61db5",
                "tags": []
            },
            "outputs": [
                {
                    "output_type": "stream",
                    "name": "stdout",
                    "text": "Starting\nchecking Directory C:\\temp\\ exists\nDirectory C:\\temp\\ exists\nLooping through files in  C:\\Users\\rob.sewell\\Documents\\Work\\daa-env-admin\\DAA-Operations\\01-Notebooks\\SSIS and creating the cells\nCreating the notebook at C:\\Users\\rob.sewell\\Documents\\Work\\daa-env-admin\\DAA-Operations\\01-Notebooks\\SSIS\\01 - SSIS Notebooks Index.ipynb\nCompleted\n"
                }
            ],
            "execution_count": 2
        },
        {
            "cell_type": "code",
            "source": [
                "pwd"
            ],
            "metadata": {
                "azdata_cell_guid": "92a3d3b4-f8e4-4209-ab95-8aa810a1151e"
            },
            "outputs": [
                {
                    "output_type": "stream",
                    "name": "stdout",
                    "text": "\nPath          \n----          \nC:\\Users\\mrrob\n\n\n"
                }
            ],
            "execution_count": 2
        }
    ]
}