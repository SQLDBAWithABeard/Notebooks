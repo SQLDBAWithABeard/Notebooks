{
    "metadata":  {
                     "kernelspec":  {
                                        "name":  "powershell",
                                        "display_name":  "PowerShell"
                                    }
                 },
    "language_info":  {
                          "name":  "powershell",
                          "version":  "",
                          "codemirror_mode":  "shell",
                          "mimetype":  "text/x-sh",
                          "file_extension":  ".ps1"
                      },
    "nbformat_minor":  2,
    "nbformat":  4,
    "cells":  [
                  {
                      "cell_type":  "markdown",
                      "source":  [
                                     "# Notebook Index for SSIS queries\r\n",
                                     "This Notebook contains the details about the notebooks for each of the SSIS queries \r\n",
                                     "You can use these Notebooks to investigate an instance  \r\n",
                                     "Click on the code below the workbook you require to generate your custom version to save results in\r\n"
                                 ],
                      "metadata":  {
                                       "azdata_cell_guid":  "26a36784-130c-44f2-ad2b-73ebf3c2a3c0"
                                   }
                  },
                  {
                      "cell_type":  "markdown",
                      "source":  [
                                     "---\r\n",
                                     "---\r\n",
                                     "## Notebook Name: **SSIS - DataFlow Information - Rows processed**\r\n",
                                     "## SSIS - Getting the Data Flow Information\r\n",
                                     "Show the Data Flow information of a specific Execution. Using the queries from https://github.com/yorek/ssis-queries to query the SSIS database\r\n",
                                     "\r\n"
                                 ],
                      "metadata":  {
                                       "azdata_cell_guid":  "1e340bad-a19d-413b-be05-802e202f245a"
                                   }
                  },
                  {
                      "cell_type":  "code",
                      "source":  [
                                     "# To run a copy of the Notebook SSIS - DataFlow Information - Rows processed, click the run button.\r\n",
                                     "$user = $env:USERNAME.Replace(\u0027.\u0027,\u0027\u0027)\r\n",
                                     "$time = get-date -Format \u0027yyyyMMddHHmmssms\u0027\r\n",
                                     "$destination = \u0027C:\\temp\\\\SSIS - DataFlow Information - Rows processed_\u0027 + $time + \u0027_\u0027+ $user + \u0027.ipynb\u0027\r\n",
                                     "copy-item -path \u0027C:\\Users\\rob.sewell\\Documents\\Work\\daa-env-admin\\DAA-Operations\\01-Notebooks\\SSIS\\SSIS - DataFlow Information - Rows processed.ipynb\u0027 -destination $destination\r\n",
                                     "# In case there is media or script files as well. Copy Those also\r\n",
                                     "Get-ChildItem \u0027C:\\Users\\rob.sewell\\Documents\\Work\\daa-env-admin\\DAA-Operations\\01-Notebooks\\SSIS\u0027 -Exclude *ipynb | Copy-Item -Destination \u0027C:\\temp\\\u0027 -Recurse -Force\r\n",
                                     "azuredatastudio.cmd $destination\r\n",
                                     "\r\n"
                                 ],
                      "metadata":  {
                                       "azdata_cell_guid":  "7cc5c8ed-50bb-4704-83d6-62387ffc1cf6",
                                       "tags":  [
                                                    "hide_input"
                                                ]
                                   },
                      "outputs":  [

                                  ],
                      "execution_count":  0
                  },
                  {
                      "cell_type":  "markdown",
                      "source":  [
                                     "---\r\n",
                                     "---\r\n",
                                     "## Notebook Name: **SSIS - Execution Breakdown**\r\n",
                                     "## SSIS Execution Breakdown\r\n",
                                     "\r\n"
                                 ],
                      "metadata":  {
                                       "azdata_cell_guid":  "3d088606-6f74-474e-af0c-89f7b9aea721"
                                   }
                  },
                  {
                      "cell_type":  "code",
                      "source":  [
                                     "# To run a copy of the Notebook SSIS - Execution Breakdown, click the run button.\r\n",
                                     "$user = $env:USERNAME.Replace(\u0027.\u0027,\u0027\u0027)\r\n",
                                     "$time = get-date -Format \u0027yyyyMMddHHmmssms\u0027\r\n",
                                     "$destination = \u0027C:\\temp\\\\SSIS - Execution Breakdown_\u0027 + $time + \u0027_\u0027+ $user + \u0027.ipynb\u0027\r\n",
                                     "copy-item -path \u0027C:\\Users\\rob.sewell\\Documents\\Work\\daa-env-admin\\DAA-Operations\\01-Notebooks\\SSIS\\SSIS - Execution Breakdown.ipynb\u0027 -destination $destination\r\n",
                                     "# In case there is media or script files as well. Copy Those also\r\n",
                                     "Get-ChildItem \u0027C:\\Users\\rob.sewell\\Documents\\Work\\daa-env-admin\\DAA-Operations\\01-Notebooks\\SSIS\u0027 -Exclude *ipynb | Copy-Item -Destination \u0027C:\\temp\\\u0027 -Recurse -Force\r\n",
                                     "azuredatastudio.cmd $destination\r\n",
                                     "\r\n"
                                 ],
                      "metadata":  {
                                       "azdata_cell_guid":  "28f742e4-64a5-4fdc-951b-9665dd123318",
                                       "tags":  [
                                                    "hide_input"
                                                ]
                                   },
                      "outputs":  [

                                  ],
                      "execution_count":  0
                  },
                  {
                      "cell_type":  "markdown",
                      "source":  [
                                     "---\r\n",
                                     "---\r\n",
                                     "## Notebook Name: **SSIS - Execution Package history**\r\n",
                                     "## SSIS Package execution history\r\n",
                                     "Show the package execution data for a single operation - You will need to set the operation_id which you will need to get from one of the other SSIS \r\n",
                                     "Using the queries from https://github.com/yorek/ssis-queries to query the SSIS database \r\n",
                                     "\r\n"
                                 ],
                      "metadata":  {
                                       "azdata_cell_guid":  "b03b6e70-02e8-4b04-9aa2-59c802048fae"
                                   }
                  },
                  {
                      "cell_type":  "code",
                      "source":  [
                                     "# To run a copy of the Notebook SSIS - Execution Package history, click the run button.\r\n",
                                     "$user = $env:USERNAME.Replace(\u0027.\u0027,\u0027\u0027)\r\n",
                                     "$time = get-date -Format \u0027yyyyMMddHHmmssms\u0027\r\n",
                                     "$destination = \u0027C:\\temp\\\\SSIS - Execution Package history_\u0027 + $time + \u0027_\u0027+ $user + \u0027.ipynb\u0027\r\n",
                                     "copy-item -path \u0027C:\\Users\\rob.sewell\\Documents\\Work\\daa-env-admin\\DAA-Operations\\01-Notebooks\\SSIS\\SSIS - Execution Package history.ipynb\u0027 -destination $destination\r\n",
                                     "# In case there is media or script files as well. Copy Those also\r\n",
                                     "Get-ChildItem \u0027C:\\Users\\rob.sewell\\Documents\\Work\\daa-env-admin\\DAA-Operations\\01-Notebooks\\SSIS\u0027 -Exclude *ipynb | Copy-Item -Destination \u0027C:\\temp\\\u0027 -Recurse -Force\r\n",
                                     "azuredatastudio.cmd $destination\r\n",
                                     "\r\n"
                                 ],
                      "metadata":  {
                                       "azdata_cell_guid":  "90b61774-bea4-400b-b0e8-ac515f5bf639",
                                       "tags":  [
                                                    "hide_input"
                                                ]
                                   },
                      "outputs":  [

                                  ],
                      "execution_count":  0
                  },
                  {
                      "cell_type":  "markdown",
                      "source":  [
                                     "---\r\n",
                                     "---\r\n",
                                     "## Notebook Name: **SSIS - Messages Log**\r\n",
                                     "#### SSIS Messages from log\r\n",
                                     "Using the queries from https://github.com/yorek/ssis-queries to query the SSIS database (hopefully) quicker than the execution reports\r\n",
                                     "\r\n"
                                 ],
                      "metadata":  {
                                       "azdata_cell_guid":  "9755d4fe-3847-4d22-acb6-68fda244cff4"
                                   }
                  },
                  {
                      "cell_type":  "code",
                      "source":  [
                                     "# To run a copy of the Notebook SSIS - Messages Log, click the run button.\r\n",
                                     "$user = $env:USERNAME.Replace(\u0027.\u0027,\u0027\u0027)\r\n",
                                     "$time = get-date -Format \u0027yyyyMMddHHmmssms\u0027\r\n",
                                     "$destination = \u0027C:\\temp\\\\SSIS - Messages Log_\u0027 + $time + \u0027_\u0027+ $user + \u0027.ipynb\u0027\r\n",
                                     "copy-item -path \u0027C:\\Users\\rob.sewell\\Documents\\Work\\daa-env-admin\\DAA-Operations\\01-Notebooks\\SSIS\\SSIS - Messages Log.ipynb\u0027 -destination $destination\r\n",
                                     "# In case there is media or script files as well. Copy Those also\r\n",
                                     "Get-ChildItem \u0027C:\\Users\\rob.sewell\\Documents\\Work\\daa-env-admin\\DAA-Operations\\01-Notebooks\\SSIS\u0027 -Exclude *ipynb | Copy-Item -Destination \u0027C:\\temp\\\u0027 -Recurse -Force\r\n",
                                     "azuredatastudio.cmd $destination\r\n",
                                     "\r\n"
                                 ],
                      "metadata":  {
                                       "azdata_cell_guid":  "485973d7-7c1d-4076-8de6-7533638ddd23",
                                       "tags":  [
                                                    "hide_input"
                                                ]
                                   },
                      "outputs":  [

                                  ],
                      "execution_count":  0
                  },
                  {
                      "cell_type":  "markdown",
                      "source":  [
                                     "---\r\n",
                                     "---\r\n",
                                     "## Notebook Name: **SSIS - Queries**\r\n",
                                     "## Querying SSISDB for information\r\n",
                                     "Using the queries from https://github.com/yorek/ssis-queries to query the SSIS database (hopefully) quicker than the execution reports\r\n",
                                     "\r\n"
                                 ],
                      "metadata":  {
                                       "azdata_cell_guid":  "7ba909b5-bcb0-4365-8618-b110663f491a"
                                   }
                  },
                  {
                      "cell_type":  "code",
                      "source":  [
                                     "# To run a copy of the Notebook SSIS - Queries, click the run button.\r\n",
                                     "$user = $env:USERNAME.Replace(\u0027.\u0027,\u0027\u0027)\r\n",
                                     "$time = get-date -Format \u0027yyyyMMddHHmmssms\u0027\r\n",
                                     "$destination = \u0027C:\\temp\\\\SSIS - Queries_\u0027 + $time + \u0027_\u0027+ $user + \u0027.ipynb\u0027\r\n",
                                     "copy-item -path \u0027C:\\Users\\rob.sewell\\Documents\\Work\\daa-env-admin\\DAA-Operations\\01-Notebooks\\SSIS\\SSIS - Queries.ipynb\u0027 -destination $destination\r\n",
                                     "# In case there is media or script files as well. Copy Those also\r\n",
                                     "Get-ChildItem \u0027C:\\Users\\rob.sewell\\Documents\\Work\\daa-env-admin\\DAA-Operations\\01-Notebooks\\SSIS\u0027 -Exclude *ipynb | Copy-Item -Destination \u0027C:\\temp\\\u0027 -Recurse -Force\r\n",
                                     "azuredatastudio.cmd $destination\r\n",
                                     "\r\n"
                                 ],
                      "metadata":  {
                                       "azdata_cell_guid":  "51d8e258-9c45-4484-9724-7a1f8aaa8d10",
                                       "tags":  [
                                                    "hide_input"
                                                ]
                                   },
                      "outputs":  [

                                  ],
                      "execution_count":  0
                  },
                  {
                      "cell_type":  "markdown",
                      "source":  [
                                     "---\r\n",
                                     "---\r\n",
                                     "## Notebook Name: **SSIS Execution Failures**\r\n",
                                     "A quick notebook for getting SSIS execution\r\n",
                                     "Connect to SSIS DB\r\n",
                                     "\r\n"
                                 ],
                      "metadata":  {
                                       "azdata_cell_guid":  "e3aa096c-e4cf-4962-8166-e92f85dc631f"
                                   }
                  },
                  {
                      "cell_type":  "code",
                      "source":  [
                                     "# To run a copy of the Notebook SSIS Execution Failures, click the run button.\r\n",
                                     "$user = $env:USERNAME.Replace(\u0027.\u0027,\u0027\u0027)\r\n",
                                     "$time = get-date -Format \u0027yyyyMMddHHmmssms\u0027\r\n",
                                     "$destination = \u0027C:\\temp\\\\SSIS Execution Failures_\u0027 + $time + \u0027_\u0027+ $user + \u0027.ipynb\u0027\r\n",
                                     "copy-item -path \u0027C:\\Users\\rob.sewell\\Documents\\Work\\daa-env-admin\\DAA-Operations\\01-Notebooks\\SSIS\\SSIS Execution Failures.ipynb\u0027 -destination $destination\r\n",
                                     "# In case there is media or script files as well. Copy Those also\r\n",
                                     "Get-ChildItem \u0027C:\\Users\\rob.sewell\\Documents\\Work\\daa-env-admin\\DAA-Operations\\01-Notebooks\\SSIS\u0027 -Exclude *ipynb | Copy-Item -Destination \u0027C:\\temp\\\u0027 -Recurse -Force\r\n",
                                     "azuredatastudio.cmd $destination\r\n",
                                     "\r\n"
                                 ],
                      "metadata":  {
                                       "azdata_cell_guid":  "5960a193-8d72-4d16-81e3-eb31a87c8be0",
                                       "tags":  [
                                                    "hide_input"
                                                ]
                                   },
                      "outputs":  [

                                  ],
                      "execution_count":  0
                  }
              ]
}
