{
    "metadata": {
        "kernelspec": {
            "name": "powershell",
            "display_name": "PowerShell"
        },
        "language_info": {
            "name": "powershell",
            "codemirror_mode": "shell",
            "mimetype": "text/x-sh",
            "file_extension": ".ps1"
        }
    },
    "nbformat_minor": 2,
    "nbformat": 4,
    "cells": [
        {
            "cell_type": "markdown",
            "source": [
                "# Using PowerShell Notebooks in Azure Data Studio\r\n",
                "\r\n",
                "You can use PowerShell in Azure Data Studio. It is provided via a Python package.\r\n",
                "\r\n",
                "It has some issues. \r\n",
                "\r\n",
                "Yes it is cross-platform but it is hard-coded to run Windows PowerShell 5.1 on Windows and PowerShell Core 6.2.3 when not.\r\n",
                "\r\n",
                "Also, the session does not know where it is. "
            ],
            "metadata": {
                "azdata_cell_guid": "53d107e5-c7c5-4e4f-9932-c83f1560bec1"
            }
        },
        {
            "cell_type": "markdown",
            "source": [
                "This notebook is running at `C:\\Users\\mrrob\\OneDrive\\Documents\\GitHub\\Presentations\\2020\\PowerShell Saturday Hamburg\\03 - Using PowerShell Notebooks in Azure Data Studio.ipynb`"
            ],
            "metadata": {
                "azdata_cell_guid": "7b310e9c-5f4c-47ed-91fa-1519d708cfc3"
            }
        },
        {
            "cell_type": "code",
            "source": [
                "Get-Location"
            ],
            "metadata": {
                "azdata_cell_guid": "d3dea4b5-5b23-4294-8639-3338b37c222a"
            },
            "outputs": [],
            "execution_count": 2
        },
        {
            "cell_type": "markdown",
            "source": [
                "Hmmm - But equally, you can do things like this\r\n",
                "\r\n",
                ""
            ],
            "metadata": {
                "azdata_cell_guid": "c8478a52-842a-4921-b2ac-a373e28cd7cd"
            }
        },
        {
            "cell_type": "markdown",
            "source": [
                "# Service Desk Instructions in the event of problem with ................\n",
                "\n",
                "Hi Service Desk person,\n",
                "\n",
                "Please follow the instructions in this notebook to take action on **problem with ........**\n",
                "\n",
                "Lets check for some common scenarios which you can resolve.\n",
                "\n",
                "If you do not know how to use a notebook please go and read the instructions at [place where we store documentation](https://linktoinstructions)\n",
                "\n",
                "Read that?. Good - Run the cell below and then read the text below it"
            ],
            "metadata": {
                "azdata_cell_guid": "be32cd27-3a45-463f-83c8-6dac02244064"
            }
        },
        {
            "cell_type": "code",
            "source": [
                "## <----- Press this button - DONT MAKE A BEARD MAD BY CHANGING ANYTHING below here\r\n",
                "\r\n",
                "Describe \"Checking Problem ...... by $($ENV:USERDOMAIN) $($ENV:UserName)\" {\r\n",
                "    Context \" Are all the services running ?\" {\r\n",
                "        $Services = 'Audiosrv','BITS','com.docker.service','EventLog','MSSQLSERVER', 'Spooler'\r\n",
                "        foreach($Service in $Services){\r\n",
                "            It \"The Service $Service should be running\" {\r\n",
                "                (Get-Service -ComputerName localhost -Name $Service).Status | Should -Be 'Running' -Because \"Service XXXX requires the service $Service to be running\"\r\n",
                "            }\r\n",
                "        }\r\n",
                "    }\r\n",
                "}"
            ],
            "metadata": {
                "azdata_cell_guid": "a05887b5-360e-4cbe-be51-7643d79076f9",
                "tags": [
                    "hide_input"
                ]
            },
            "outputs": [],
            "execution_count": 4
        },
        {
            "cell_type": "markdown",
            "source": [
                "If any of the results above are not tests that have passed (please go and read the instructions if you are unsure at [place where we store documentation](https://linktoinstructions))\r\n",
                "\r\n",
                "We can see if you can fix it. Copy the name after`Service` for each failing test and add it to the next code block"
            ],
            "metadata": {
                "azdata_cell_guid": "bf99f30c-5634-4666-a477-a7632826616f"
            }
        },
        {
            "cell_type": "code",
            "source": [
                "$ServicesToStart = 'MSSQLSERVER' ## You may add values here before pressing play.\r\n",
                "Get-Service $ServicesToStart | Start-Service"
            ],
            "metadata": {
                "azdata_cell_guid": "47345e89-bdac-4670-b875-ba0f72cefff4"
            },
            "outputs": [],
            "execution_count": 6
        },
        {
            "cell_type": "markdown",
            "source": [
                "If this completes successfully, we can check the service and you can attach this notebook to the call and close pend it.\r\n",
                "\r\n",
                "If there is an error - attach this notebook to the call and start callout to DBAs via [DBA Callout procedures](https://linktoinstructions))"
            ],
            "metadata": {
                "azdata_cell_guid": "c850f7da-5526-48dc-9254-f3325b0e2efb"
            }
        },
        {
            "cell_type": "code",
            "source": [
                "## <----- Press this button - DONT MAKE A BEARD MAD BY CHANGING ANYTHING below here\r\n",
                "\r\n",
                "Describe \"Checking Problem ...... by $($ENV:USERDOMAIN) $($ENV:UserName)\" {\r\n",
                "    Context \" Are all the services running ?\" {\r\n",
                "        $Services = 'Audiosrv','BITS','com.docker.service','EventLog','MSSQLSERVER', 'Spooler'\r\n",
                "        foreach($Service in $Services){\r\n",
                "            It \"The Service $Service should be running\" {\r\n",
                "                (Get-Service -ComputerName localhost -Name $Service).Status | Should -Be 'Running' -Because \"Service XXXX requires the service $Service to be running\"\r\n",
                "            }\r\n",
                "        }\r\n",
                "    }\r\n",
                "}"
            ],
            "metadata": {
                "azdata_cell_guid": "c6cc574e-006c-44ef-8646-8cb419a2e765",
                "tags": [
                    "hide_input"
                ]
            },
            "outputs": [],
            "execution_count": 0
        },
        {
            "cell_type": "markdown",
            "source": [
                "If this completes successfully without test failures you can attach this notebook to the call and close pend it.\r\n",
                "\r\n",
                "If there are any more test failures - attach this notebook to the call and start callout to DBAs via [DBA Callout procedures](https://linktoinstructions))"
            ],
            "metadata": {
                "azdata_cell_guid": "b61b1c80-de2c-4515-baea-98f60d744c3c"
            }
        },
        {
            "cell_type": "code",
            "source": [
                ""
            ],
            "metadata": {
                "azdata_cell_guid": "da20e213-31a4-4002-80b7-70a7f8fec935"
            },
            "outputs": [],
            "execution_count": 0
        }
    ]
}