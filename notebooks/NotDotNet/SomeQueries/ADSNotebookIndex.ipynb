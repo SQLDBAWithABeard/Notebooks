{
    "metadata": {
        "kernelspec": {
            "name": "powershell",
            "display_name": "PowerShell"
        },
        "language_info": {
            "name": "powershell",
            "codemirror_mode": "shell",
            "mimetype": "text/x-sh",
            "file_extension": ".ps1"
        }
    },
    "nbformat_minor": 2,
    "nbformat": 4,
    "cells": [
        {
            "cell_type": "markdown",
            "source": [
                "# Notebook Index \r\n",
                "Click on the code below the workbook you require to generate your custom version to save results in\r\n"
            ],
            "metadata": {
                "azdata_cell_guid": "6a38d32b-398a-4e6c-8a22-3bc177c9ce5f"
            }
        },
        {
            "cell_type": "markdown",
            "source": [
                "Notebook Name: **Permissions**\r\n"
            ],
            "metadata": {
                "azdata_cell_guid": "088f0be9-fc57-460c-8deb-627a0d0015c2"
            }
        },
        {
            "cell_type": "code",
            "source": [
                "# To use this Notebook, click the run button.\r\n",
                "$user = $env:USERNAME.Replace('.','')\r\n",
                "$time = get-date -Format 'yyyyMMddHHmmssms'\r\n",
                "$destination = 'C:\\temp\\Work\\Permissions_' + $time + '_'+ $user + '.ipynb'\r\n",
                "copy-item -path 'D:\\OneDrive\\Documents\\GitHub\\Presentations\\Notebooks\\SomeQueries\\Permissions.ipynb' -destination $destination\r\n",
                "# In case there is media or script files as well. Copy Those also\r\n",
                "Get-ChildItem 'D:\\OneDrive\\Documents\\GitHub\\Presentations\\Notebooks\\SomeQueries' -Exclude *ipynb | Copy-Item -Destination 'C:\\temp\\Work' -Recurse -Force\r\n",
                "azuredatastudio.cmd $destination\r\n",
                ""
            ],
            "metadata": {
                "azdata_cell_guid": "0450638e-f941-4c37-af00-a7ed905edf68",
                "tags": [
                    "hide_input"
                ]
            },
            "outputs": [
                {
                    "name": "stdout",
                    "text": "",
                    "output_type": "stream"
                }
            ],
            "execution_count": 1
        },
        {
            "cell_type": "markdown",
            "source": [
                "Notebook Name: **some queries**\r\n"
            ],
            "metadata": {
                "azdata_cell_guid": "f9d04935-17b0-4127-be5e-f963f66d4184"
            }
        },
        {
            "cell_type": "code",
            "source": [
                "# To use this Notebook, click the run button.\r\n",
                "$user = $env:USERNAME.Replace('.','')\r\n",
                "$time = get-date -Format 'yyyyMMddHHmmssms'\r\n",
                "$destination = 'C:\\temp\\Work\\some queries_' + $time + '_'+ $user + '.ipynb'\r\n",
                "copy-item -path 'D:\\OneDrive\\Documents\\GitHub\\Presentations\\Notebooks\\SomeQueries\\some queries.ipynb' -destination $destination\r\n",
                "# In case there is media or script files as well. Copy Those also\r\n",
                "Get-ChildItem 'D:\\OneDrive\\Documents\\GitHub\\Presentations\\Notebooks\\SomeQueries' -Exclude *ipynb | Copy-Item -Destination 'C:\\temp\\Work' -Recurse -Force\r\n",
                "azuredatastudio.cmd $destination\r\n",
                ""
            ],
            "metadata": {
                "azdata_cell_guid": "69ce8bec-794c-4434-b9d8-bf77b9b59815",
                "tags": [
                    "hide_input"
                ]
            },
            "outputs": [],
            "execution_count": 0
        }
    ]
}