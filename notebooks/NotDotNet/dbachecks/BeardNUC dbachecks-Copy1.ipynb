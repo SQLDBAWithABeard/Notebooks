{
 "cells": [
  {
   "cell_type": "markdown",
   "metadata": {
    "azdata_cell_guid": "81ddfcb0-9f37-4d9f-af55-fa8799256894"
   },
   "source": [
    "# Exploring PowerShell Notebooks\r\n",
    "\r\n",
    "1. Get Some coffee\r\n",
    "233. Check the backups\r\n",
    "6. Get some more coffee\r\n",
    "323423. make sure the that capitalisation is consistent"
   ]
  },
  {
   "cell_type": "markdown",
   "metadata": {
    "azdata_cell_guid": "74396a41-d136-4339-8906-4af9ab622153"
   },
   "source": [
    "This will show the version of PowerShell that is being used. On a Windows Machine it will be Windows 5.1 on a Windows Machine and PowerShell Core 6.2.3 on a Linux or Mac."
   ]
  },
  {
   "cell_type": "code",
   "execution_count": 2,
   "metadata": {
    "azdata_cell_guid": "239b6a32-b68f-4c89-a0b3-719ae67c2d26"
   },
   "outputs": [
    {
     "data": {
      "text/html": [
       "<pre></pre>\r\n"
      ]
     },
     "metadata": {},
     "output_type": "display_data"
    },
    {
     "data": {
      "text/html": [
       "<pre>Name                           Value</pre>\r\n"
      ]
     },
     "metadata": {},
     "output_type": "display_data"
    },
    {
     "data": {
      "text/html": [
       "<pre>----                           -----</pre>\r\n"
      ]
     },
     "metadata": {},
     "output_type": "display_data"
    },
    {
     "data": {
      "text/html": [
       "<pre>PSVersion                      7.0.0-rc.1</pre>\r\n"
      ]
     },
     "metadata": {},
     "output_type": "display_data"
    },
    {
     "data": {
      "text/html": [
       "<pre>PSEdition                      Core</pre>\r\n"
      ]
     },
     "metadata": {},
     "output_type": "display_data"
    },
    {
     "data": {
      "text/html": [
       "<pre>GitCommitId                    7.0.0-rc.1</pre>\r\n"
      ]
     },
     "metadata": {},
     "output_type": "display_data"
    },
    {
     "data": {
      "text/html": [
       "<pre>OS                             Microsoft Windows 10.0.18362</pre>\r\n"
      ]
     },
     "metadata": {},
     "output_type": "display_data"
    },
    {
     "data": {
      "text/html": [
       "<pre>Platform                       Win32NT</pre>\r\n"
      ]
     },
     "metadata": {},
     "output_type": "display_data"
    },
    {
     "data": {
      "text/html": [
       "<pre>PSCompatibleVersions           {1.0, 2.0, 3.0, 4.0…}</pre>\r\n"
      ]
     },
     "metadata": {},
     "output_type": "display_data"
    },
    {
     "data": {
      "text/html": [
       "<pre>PSRemotingProtocolVersion      2.3</pre>\r\n"
      ]
     },
     "metadata": {},
     "output_type": "display_data"
    },
    {
     "data": {
      "text/html": [
       "<pre>SerializationVersion           1.1.0.1</pre>\r\n"
      ]
     },
     "metadata": {},
     "output_type": "display_data"
    },
    {
     "data": {
      "text/html": [
       "<pre>WSManStackVersion              3.0</pre>\r\n"
      ]
     },
     "metadata": {},
     "output_type": "display_data"
    },
    {
     "data": {
      "text/html": [
       "<pre></pre>\r\n"
      ]
     },
     "metadata": {},
     "output_type": "display_data"
    }
   ],
   "source": [
    "$PSVersionTable"
   ]
  },
  {
   "cell_type": "markdown",
   "metadata": {
    "azdata_cell_guid": "3f99de35-54bf-40ac-9fb9-f616084ccb53"
   },
   "source": [
    "Make sure that dbachecks is available, if no response here run `Install-Module dbachecks -Scope CurrentUser`"
   ]
  },
  {
   "cell_type": "code",
   "execution_count": 3,
   "metadata": {
    "azdata_cell_guid": "5f8061e8-ead3-474f-946a-6d0de4623251"
   },
   "outputs": [
    {
     "data": {
      "text/html": [
       "<pre></pre>\r\n"
      ]
     },
     "metadata": {},
     "output_type": "display_data"
    },
    {
     "data": {
      "text/html": [
       "<pre></pre>\r\n"
      ]
     },
     "metadata": {},
     "output_type": "display_data"
    },
    {
     "data": {
      "text/html": [
       "<pre>    Directory: C:\\Users\\mrrob\\Documents\\PowerShell\\Modules</pre>\r\n"
      ]
     },
     "metadata": {},
     "output_type": "display_data"
    },
    {
     "data": {
      "text/html": [
       "<pre></pre>\r\n"
      ]
     },
     "metadata": {},
     "output_type": "display_data"
    },
    {
     "data": {
      "text/html": [
       "<pre>ModuleType Version    PreRelease Name                                PSEdition ExportedCommands</pre>\r\n"
      ]
     },
     "metadata": {},
     "output_type": "display_data"
    },
    {
     "data": {
      "text/html": [
       "<pre>---------- -------    ---------- ----                                --------- ----------------</pre>\r\n"
      ]
     },
     "metadata": {},
     "output_type": "display_data"
    },
    {
     "data": {
      "text/html": [
       "<pre>Script     1.2.20                dbachecks                           Desk      {Get-DbcConfig, Get-DbcConfigValue, Get-DbcReleaseNote, Set-DbcConfig…}</pre>\r\n"
      ]
     },
     "metadata": {},
     "output_type": "display_data"
    },
    {
     "data": {
      "text/html": [
       "<pre>Script     1.2.15                dbachecks                           Desk      {Get-DbcConfig, Get-DbcConfigValue, Get-DbcReleaseNote, Set-DbcConfig…}</pre>\r\n"
      ]
     },
     "metadata": {},
     "output_type": "display_data"
    },
    {
     "data": {
      "text/html": [
       "<pre>Script     1.2.14                dbachecks                           Desk      {Get-DbcConfig, Get-DbcConfigValue, Get-DbcReleaseNote, Set-DbcConfig…}</pre>\r\n"
      ]
     },
     "metadata": {},
     "output_type": "display_data"
    },
    {
     "data": {
      "text/html": [
       "<pre>Script     1.2.13                dbachecks                           Desk      {Get-DbcConfig, Get-DbcConfigValue, Get-DbcReleaseNote, Set-DbcConfig…}</pre>\r\n"
      ]
     },
     "metadata": {},
     "output_type": "display_data"
    },
    {
     "data": {
      "text/html": [
       "<pre>Script     1.2.12                dbachecks                           Desk      {Get-DbcConfig, Get-DbcConfigValue, Get-DbcReleaseNote, Set-DbcConfig…}</pre>\r\n"
      ]
     },
     "metadata": {},
     "output_type": "display_data"
    },
    {
     "data": {
      "text/html": [
       "<pre></pre>\r\n"
      ]
     },
     "metadata": {},
     "output_type": "display_data"
    },
    {
     "data": {
      "text/html": [
       "<pre>    Directory: C:\\Program Files\\WindowsPowerShell\\Modules</pre>\r\n"
      ]
     },
     "metadata": {},
     "output_type": "display_data"
    },
    {
     "data": {
      "text/html": [
       "<pre></pre>\r\n"
      ]
     },
     "metadata": {},
     "output_type": "display_data"
    },
    {
     "data": {
      "text/html": [
       "<pre>ModuleType Version    PreRelease Name                                PSEdition ExportedCommands</pre>\r\n"
      ]
     },
     "metadata": {},
     "output_type": "display_data"
    },
    {
     "data": {
      "text/html": [
       "<pre>---------- -------    ---------- ----                                --------- ----------------</pre>\r\n"
      ]
     },
     "metadata": {},
     "output_type": "display_data"
    },
    {
     "data": {
      "text/html": [
       "<pre>Script     1.2.15                dbachecks                           Desk      {Get-DbcConfig, Get-DbcConfigValue, Get-DbcReleaseNote, Set-DbcConfig…}</pre>\r\n"
      ]
     },
     "metadata": {},
     "output_type": "display_data"
    },
    {
     "data": {
      "text/html": [
       "<pre></pre>\r\n"
      ]
     },
     "metadata": {},
     "output_type": "display_data"
    }
   ],
   "source": [
    "Get-Module dbachecks -ListAvailable"
   ]
  },
  {
   "cell_type": "markdown",
   "metadata": {
    "azdata_cell_guid": "2634b3d2-21d0-4345-85df-9b5ee61d1b64"
   },
   "source": [
    "This will set all of the currently runnign instances on my Hyper-V Hosts with SQL in the name in a variable. (This works becuase I name my VMs the same as the Host Name applied to the machine)"
   ]
  },
  {
   "cell_type": "code",
   "execution_count": 4,
   "metadata": {
    "azdata_cell_guid": "6c9b825b-bd3e-4e82-9acc-7103a151940f"
   },
   "outputs": [
    {
     "data": {
      "text/html": [
       "<pre>Get-VM: The operation on computer &#39;BEARDNUC&#39; failed: The WinRM client cannot process the request. If the authentication scheme is different from Kerberos, or if the client computer is not joined to a domain, then HTTPS transport must be used or the destination machine must be added to the TrustedHosts configuration setting. Use winrm.cmd to configure TrustedHosts. Note that computers in the TrustedHosts list might not be authenticated. You can get more information about that by running the following command: winrm help config.</pre>\r\n"
      ]
     },
     "metadata": {},
     "output_type": "display_data"
    },
    {
     "data": {
      "text/html": [
       "<pre>Get-VM: The operation on computer &#39;BEARDNUC2&#39; failed: The WinRM client cannot process the request. If the authentication scheme is different from Kerberos, or if the client computer is not joined to a domain, then HTTPS transport must be used or the destination machine must be added to the TrustedHosts configuration setting. Use winrm.cmd to configure TrustedHosts. Note that computers in the TrustedHosts list might not be authenticated. You can get more information about that by running the following command: winrm help config.</pre>\r\n"
      ]
     },
     "metadata": {},
     "output_type": "display_data"
    }
   ],
   "source": [
    "$SqlInstances = (Get-Vm -ComputerName BEARDNUC,BEARDNUC2).Where{$_.State -eq 'Running' -and $_.Name -like '*SQL*'}.Name"
   ]
  },
  {
   "cell_type": "markdown",
   "metadata": {
    "azdata_cell_guid": "9cb20852-2efa-4039-b177-b07fbc8b7602"
   },
   "source": [
    "Going to check that the Instances are available"
   ]
  },
  {
   "cell_type": "code",
   "execution_count": 5,
   "metadata": {
    "azdata_cell_guid": "4511534b-8ac6-4402-a36d-c3d8f790e7e5"
   },
   "outputs": [
    {
     "data": {
      "text/html": [
       "<pre>Invoke-DbcCheck: The &#39;Invoke-DbcCheck&#39; command was found in the module &#39;dbachecks&#39;, but the module could not be loaded. For more information, run &#39;Import-Module dbachecks&#39;.</pre>\r\n"
      ]
     },
     "metadata": {},
     "output_type": "display_data"
    }
   ],
   "source": [
    "Invoke-DbcCheck -Sqlinstance $SqlInstances -Check InstanceConnection"
   ]
  },
  {
   "cell_type": "markdown",
   "metadata": {
    "azdata_cell_guid": "c76fe057-e46e-4be7-a0fc-c98dbdb65d18"
   },
   "source": [
    "This is my favourite check - how quick can I check the last time that DBCC CHeckDB was run?"
   ]
  },
  {
   "cell_type": "code",
   "execution_count": 6,
   "metadata": {
    "azdata_cell_guid": "da328f58-4016-4df9-9494-b8881ccc8b58"
   },
   "outputs": [
    {
     "data": {
      "text/html": [
       "<pre>Get-DbaDatabase: The &#39;Get-DbaDatabase&#39; command was found in the module &#39;dbatools&#39;, but the module could not be loaded. For more information, run &#39;Import-Module dbatools&#39;.</pre>\r\n"
      ]
     },
     "metadata": {},
     "output_type": "display_data"
    }
   ],
   "source": [
    "Get-DbaDatabase -SqlInstance $SqlInstances | Group-Object SqlInstance | Measure-Object Count  -Sum"
   ]
  },
  {
   "cell_type": "code",
   "execution_count": 7,
   "metadata": {
    "azdata_cell_guid": "a0243668-8408-4389-bf49-4ba199acf5c7"
   },
   "outputs": [
    {
     "data": {
      "text/html": [
       "<pre>Invoke-DbcCheck: The &#39;Invoke-DbcCheck&#39; command was found in the module &#39;dbachecks&#39;, but the module could not be loaded. For more information, run &#39;Import-Module dbachecks&#39;.</pre>\r\n"
      ]
     },
     "metadata": {},
     "output_type": "display_data"
    }
   ],
   "source": [
    "Invoke-DbcCheck -SqlInstance $sqlInstances -Check LastGoodCheckDb"
   ]
  },
  {
   "cell_type": "code",
   "execution_count": null,
   "metadata": {},
   "outputs": [],
   "source": []
  },
  {
   "cell_type": "code",
   "execution_count": null,
   "metadata": {},
   "outputs": [],
   "source": []
  }
 ],
 "metadata": {
  "kernelspec": {
   "display_name": ".NET (PowerShell)",
   "language": "PowerShell",
   "name": ".net-powershell"
  },
  "language_info": {
   "file_extension": ".ps1",
   "mimetype": "text/x-powershell",
   "name": "PowerShell",
   "pygments_lexer": "powershell",
   "version": "7.0"
  }
 },
 "nbformat": 4,
 "nbformat_minor": 4
}
