{
    "metadata": {
        "kernelspec": {
            "name": "powershell",
            "display_name": "PowerShell"
        },
        "language_info": {
            "name": "powershell",
            "codemirror_mode": "shell",
            "mimetype": "text/x-sh",
            "file_extension": ".ps1"
        }
    },
    "nbformat_minor": 2,
    "nbformat": 4,
    "cells": [
        {
            "cell_type": "markdown",
            "source": [
                "# Setting up the containers for the other notebooks in this folder\n",
                "\n",
                "To be able to follow along with the rest of the notebooks, you will need to set up two containers. \n",
                "\n",
                "This notebook will enable you to do that.\n",
                "\n",
                "You will need to have Docker installed. The image is based on the SQL Server 2019 image so you will need to have docker set to use Linux Containers. Right click on the Docker icon in the notification area and if it says \"Switch to Linux Containers\" click to switch and wait for Docker to restart.  \n",
                "\n",
                "![Switch To Linux Containers](.\\images\\switchtolinuxcontainers.png )\n",
                "\n",
                "You will be able to run all of the code in the notebooks by creating the folder, credential and containers in this notebook and then you can click on the play button in each code block to run the code. Note - There are a few code blocks with the results already included which should not be run. They are to show you the results of a command that cannot be run against containers (setting up configuration for domain accounts for example)"
            ],
            "metadata": {
                "azdata_cell_guid": "35ef8f59-29f1-4a02-87ae-6b0978eec035"
            }
        },
        {
            "cell_type": "markdown",
            "source": [
                "## Create the folders and the credential\n",
                "\n",
                "The code below will create a directory called dbatools-demo in your Documents folder and save a credential file for logging into the containers. You can alter the directory created by altering the `$FolderPath`  \n",
                "\n",
                "The code has been collapsed but you can view it using the view menu in the lab or by clicking the 3 ellipses"
            ],
            "metadata": {
                "azdata_cell_guid": "21cb1bc4-e1bb-4267-b97c-a2dfde19a431"
            }
        },
        {
            "cell_type": "code",
            "source": [
                "$FolderPath = $Env:USERPROFILE + '\\Documents\\dbatoolsdemo'\n",
                "\n",
                "########################################################\n",
                "Write-Output \"Creating Directory $FolderPath\"\n",
                "if(Test-Path $FolderPath){\n",
                "    Write-Output \"Path $FolderPath exists already\"\n",
                "}else {\n",
                " $null =    New-Item $FolderPath -ItemType Directory\n",
                "}\n",
                "\n",
                "Write-Output \"Creating Directory $FolderPath\\SQL1\"\n",
                "if(Test-Path \"$FolderPath\\SQL1\"){\n",
                "    Write-Output \"Directory SQL1 exists already\"\n",
                "    Get-ChildItem \"$FolderPath\\SQL1\" -Recurse| Remove-Item -Force\n",
                "}else {\n",
                "$null = New-Item \"$FolderPath\\SQL1\"-ItemType Directory\n",
                "}\n",
                "Write-Output \"Creating File $FolderPath\\SQL1\\dummyfile.txt\"\n",
                "if(Test-Path \"$FolderPath\\SQL1\\dummyfile.txt\"){\n",
                "    Write-Output \"dummyfile.txt exists already\"\n",
                "}else {\n",
                "$null =  New-Item \"$FolderPath\\SQL1\\dummyfile.txt\" -ItemType file\n",
                "}\n",
                "\n",
                "Write-Output \"Creating Directory $FolderPath\\SQL2\"\n",
                "if(Test-Path \"$FolderPath\\SQL2\"){\n",
                "    Write-Output \"Directory SQL2 exists already\"\n",
                "    Get-ChildItem \"$FolderPath\\SQL2\" -Recurse| Remove-Item -Force\n",
                "}else {\n",
                " $null =    New-Item \"$FolderPath\\SQL2\"-ItemType Directory\n",
                "}\n",
                "Write-Output \"Creating File $FolderPath\\SQL2\\dummyfile.txt\"\n",
                "if(Test-Path \"$FolderPath\\SQL2\\dummyfile.txt\"){\n",
                "    Write-Output \"dummyfile.txt exists already\"\n",
                "}else {\n",
                "$null =  New-Item \"$FolderPath\\SQL2\\dummyfile.txt\" -ItemType file\n",
                "}\n",
                "\n",
                "Write-Output \"Creating a credential file for the containers - Please don't do this in production\"\n",
                "\n",
                "$sqladminPassword = ConvertTo-SecureString 'dbatools.IO' -AsPlainText -Force \n",
                "$cred = New-Object System.Management.Automation.PSCredential ('sqladmin', $sqladminpassword)\n",
                "$Cred | Export-Clixml -Path $FolderPath\\sqladmin.cred\n",
                "Write-Output \"Credential file created\"\n",
                "\n",
                "Write-Output \"Setting the docker-compose files values\"\n",
                "$dockercompose = @\"\n",
                "version: '3.7'\n",
                "services:\n",
                "    SQL2019:\n",
                "        image: sqldbawithabeard/dbachecksdemo\n",
                "        ports:  \n",
                "          - \"15592:1433\"\n",
                "        networks: \n",
                "          - BeardsMagicNetwork\n",
                "        volumes: \n",
                "          - __ReplaceMe__:/var/opt/mssql/backups\n",
                "    SQL2019-1:\n",
                "        image: sqldbawithabeard/dbachecksdemo\n",
                "        ports:  \n",
                "          - \"15593:1433\"\n",
                "        networks: \n",
                "          - BeardsMagicNetwork\n",
                "        volumes: \n",
                "          - __ReplaceMe__:/var/opt/mssql/backups\n",
                "networks: \n",
                "  BeardsMagicNetwork:\n",
                "\n",
                "\"@\n",
                "Set-Location $FolderPath\n",
                "\n",
                "$dockercompose = $dockercompose -replace '__ReplaceME__' , $FolderPath\n",
                "# $dockercompose\n",
                "$dockercompose | Set-Content .\\docker-compose.yml\n",
                "\n",
                ""
            ],
            "metadata": {
                "jupyter": {
                    "source_hidden": true
                },
                "azdata_cell_guid": "c3bacaa9-173b-4742-a0db-ff69218a1ac9",
                "tags": [
                    "hide_input"
                ]
            },
            "outputs": [
                {
                    "name": "stdout",
                    "text": "Creating Directory C:\\Users\\mrrob\\Documents\\dbatoolsdemo\nCreating Directory C:\\Users\\mrrob\\Documents\\dbatoolsdemo\\SQL1\nCreating File C:\\Users\\mrrob\\Documents\\dbatoolsdemo\\SQL1\\dummyfile.txt\nCreating Directory C:\\Users\\mrrob\\Documents\\dbatoolsdemo\\SQL2\nCreating File C:\\Users\\mrrob\\Documents\\dbatoolsdemo\\SQL2\\dummyfile.txt\nCreating a credential file for the containers - Please don't do this in production\nCredential file created\nSetting the docker-compose files values\n",
                    "output_type": "stream"
                }
            ],
            "execution_count": 3
        },
        {
            "cell_type": "markdown",
            "source": [
                "## Containers\n",
                "\n",
                "We are going to create two SQL 2019 containers using the sqldbawithabeard\\dbachecks [image from the Docker Hub](https://hub.docker.com/repository/docker/sqldbawithabeard/dbachecksdemo). \n",
                "\n",
                "The first time it is going to pull the image sqldbawithabeard/dbachecksdemo from the Docker Hub. If you wish to do this first, you can run the cell below\n",
                "\n"
            ],
            "metadata": {
                "azdata_cell_guid": "862f77c2-51ab-4b34-9c44-9076a9acd91b"
            }
        },
        {
            "cell_type": "code",
            "source": [
                "docker pull sqldbawithabeard/dbachecksdemo"
            ],
            "metadata": {
                "azdata_cell_guid": "f0ecad39-d5ff-4a67-9044-1618889da85c"
            },
            "outputs": [],
            "execution_count": 0
        },
        {
            "cell_type": "markdown",
            "source": [
                "Now we can start the containers with the code below"
            ],
            "metadata": {
                "azdata_cell_guid": "76701298-24eb-427a-ac7b-def94aeec10a"
            }
        },
        {
            "cell_type": "code",
            "source": [
                "docker-compose up -d"
            ],
            "metadata": {
                "azdata_cell_guid": "bdd36a46-2de5-4041-a69d-335d2c00c2a7"
            },
            "outputs": [
                {
                    "name": "stdout",
                    "text": "Creating network \"dbatoolsdemo_BeardsMagicNetwork\" with the default driver\nCreating dbatoolsdemo_SQL2019_1 ... \nCreating dbatoolsdemo_SQL2019-1_1 ... \n\u001b[1A\u001b[2KCreating dbatoolsdemo_SQL2019-1_1 ... \u001b[32mdone\u001b[0m\u001b[1B\u001b[2A\u001b[2KCreating dbatoolsdemo_SQL2019_1   ... \u001b[32mdone\u001b[0m\u001b[2B",
                    "output_type": "stream"
                }
            ],
            "execution_count": 5
        },
        {
            "cell_type": "markdown",
            "source": [
                "All being well, you will have something that looks like\n",
                "\n",
                "\n",
                "![DockerCompose](.\\images\\containers.png )\n",
                "\n",
                "If you get an error you might need to add the user you have shared your drives with Docker read and execute permissions to the \\Documents\\ directory in your user profile   \n",
                "More details https://docs.docker.com/docker-for-windows/  \n",
                "\n",
                "If you need to install dbatools please continue - otherwise look at the other Notebooks in the folder"
            ],
            "metadata": {
                "azdata_cell_guid": "f760e34e-3cab-451e-9385-7769d0395728"
            }
        },
        {
            "cell_type": "code",
            "source": [
                "if(Get-Module dbatools -ListAvailable){\n",
                "Write-Output \"Updating dbatools\"\n",
                "Update-Module dbatools\n",
                "}else {\n",
                "Write-Output \"Installing dbatools in your user profile\"\n",
                "Install-Module dbatools -Scope CurrentUser\n",
                "}\n",
                "Import-Module dbatools"
            ],
            "metadata": {
                "azdata_cell_guid": "5e9ee7ca-6f1f-45af-b755-6d84166b7f37"
            },
            "outputs": [],
            "execution_count": 0
        },
        {
            "cell_type": "markdown",
            "source": [
                "Now that is done, we can make a connection to our instances and see if we can connect to them.\n",
                "\n",
                "We are going to use `Connect-DBaInstance` to do this and we will use the containers that we have created and because we need to use SQL Authentication, we will use a credential that we have saved to disk using `Export-CliXML` in one of the celss above.\n",
                "\n",
                "It is **Important** to state that this is not a production secure solution and should not be used as a means of accessing any secure system.\n",
                "\n",
                "There will be no output from the code below but it will have created a connection to the two containers"
            ],
            "metadata": {
                "azdata_cell_guid": "91484c5e-6328-405a-a529-af86bb9ffbdc"
            }
        },
        {
            "cell_type": "code",
            "source": [
                "$FolderPath = $Env:USERPROFILE + '\\Documents\\dbachecks'\n",
                "$SqlInstances = 'localhost,15592','localhost,15593'\n",
                "$SqlCredential = Import-Clixml -Path $FolderPath\\sqladmin.cred\n",
                "\n",
                "$SQL1 = Connect-DbaInstance -SqlInstance $SqlInstances[0] -SqlCredential $SqlCredential\n",
                "$SQL2 = Connect-DbaInstance -SqlInstance $SqlInstances[1] -SqlCredential $SqlCredential"
            ],
            "metadata": {
                "azdata_cell_guid": "734567bf-3b19-462b-bbf3-90601c376b3b"
            },
            "outputs": [],
            "execution_count": 101
        },
        {
            "cell_type": "markdown",
            "source": [
                "# Databases\n",
                "\n",
                "Lets take a look at the databases that are available on the containers\n"
            ],
            "metadata": {
                "azdata_cell_guid": "5f752dc3-9ebb-408d-ad58-a449c23dedfa"
            }
        },
        {
            "cell_type": "code",
            "source": [
                "Get-DbaDatabase -SqlInstance $SQL1,$SQL2 -SqlCredential $SqlCredential | Format-Table"
            ],
            "metadata": {
                "azdata_cell_guid": "7ee063b4-04ca-4ac0-8fa4-68c02a012c53"
            },
            "outputs": [],
            "execution_count": 102
        },
        {
            "cell_type": "markdown",
            "source": [
                "We have some information about each of the databases, such as their name, status,RecoveryModel, LogReUseWait status and size by default.\n",
                "\n",
                "If we only wanted to look at the user databases on the instance we can use "
            ],
            "metadata": {
                "azdata_cell_guid": "200e7d77-e5bd-4460-b9e1-b7d42a405454"
            }
        },
        {
            "cell_type": "code",
            "source": [
                "Get-DbaDatabase -SqlInstance $SQL1,$SQL2 -SqlCredential $SqlCredential -ExcludeSystem | Format-Table"
            ],
            "metadata": {
                "azdata_cell_guid": "ecc06b11-80c6-4620-9951-858e3b727af4"
            },
            "outputs": [],
            "execution_count": 90
        },
        {
            "cell_type": "markdown",
            "source": [
                "If we want to get a database by name"
            ],
            "metadata": {
                "azdata_cell_guid": "46a9467c-c0ba-4daa-a163-d0f0524970c9"
            }
        },
        {
            "cell_type": "code",
            "source": [
                "Get-DbaDatabase -SqlInstance $SQL1,$SQL2 -SqlCredential $SqlCredential -Database NorthWind "
            ],
            "metadata": {
                "azdata_cell_guid": "93fcd899-ce05-4ee7-ab77-75838b94fd2b"
            },
            "outputs": [],
            "execution_count": 91
        },
        {
            "cell_type": "markdown",
            "source": [
                "# Clean Up\n",
                "\n",
                "The code below will clean up the files that have been created and remove the docker containers but not the image so tha tyou can run this notebook again without having to download the image again"
            ],
            "metadata": {
                "azdata_cell_guid": "52ab8a79-245b-4781-8410-8da3b29023d0"
            }
        },
        {
            "cell_type": "code",
            "source": [
                "docker-compose down \n",
                "$FolderPath = $Env:USERPROFILE + '\\Documents\\dbatoolsdemo'\n",
                "Remove-Item $FolderPath -Recurse -Force"
            ],
            "metadata": {
                "azdata_cell_guid": "733d6d91-7cc1-41de-9bda-53dcea6d92d0"
            },
            "outputs": [],
            "execution_count": 106
        },
        {
            "cell_type": "code",
            "source": [],
            "metadata": {
                "azdata_cell_guid": "84a57e92-f3d8-4de6-bdb1-c2fea18accdf"
            },
            "outputs": [],
            "execution_count": 0
        }
    ]
}