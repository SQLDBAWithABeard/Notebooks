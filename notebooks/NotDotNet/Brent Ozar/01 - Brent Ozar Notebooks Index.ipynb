{
    "metadata":  {
                     "kernelspec":  {
                                        "name":  "powershell",
                                        "display_name":  "PowerShell"
                                    }
                 },
    "language_info":  {
                          "name":  "powershell",
                          "version":  "",
                          "codemirror_mode":  "shell",
                          "mimetype":  "text/x-sh",
                          "file_extension":  ".ps1"
                      },
    "nbformat_minor":  2,
    "nbformat":  4,
    "cells":  [
                  {
                      "cell_type":  "markdown",
                      "source":  [
                                     "# Notebook Index for Brent Ozar sp_Blitz* queries\r\n",
                                     "This Notebook contains the details about the notebooks for each of the sp_Blitz stored procedures whcih are stored in the DBA Database.  \r\n",
                                     "You can use these Notebooks to investigate an instance  \r\n",
                                     "Click on the code below the workbook you require to generate your custom version to save results in\r\n"
                                 ],
                      "metadata":  {
                                       "azdata_cell_guid":  "a7ba9c95-a521-4278-82cb-fa1944427ef5"
                                   }
                  },
                  {
                      "cell_type":  "markdown",
                      "source":  [
                                     "---\r\n",
                                     "---\r\n",
                                     "## Notebook Name: **Brent Ozar Notebooks Index**\r\n",
                                     "## Notebook Index for Brent Ozar sp_Blitz* queries\r\n",
                                     "This Notebook contains the details about the notebooks for each of the sp_Blitz stored procedures whcih are stored in the DBA Database.  \r\n",
                                     "You can use these Notebooks to investigate an instance  \r\n",
                                     "Click on the code below the workbook you require to generate your custom version to save results in\r\n",
                                     "\r\n"
                                 ],
                      "metadata":  {
                                       "azdata_cell_guid":  "9f2bdfac-fc50-4260-b606-b67573b84393"
                                   }
                  },
                  {
                      "cell_type":  "code",
                      "source":  [
                                     "# To run a copy of the Notebook Brent Ozar Notebooks Index, click the run button.\r\n",
                                     "$user = $env:USERNAME.Replace(\u0027.\u0027,\u0027\u0027)\r\n",
                                     "$time = get-date -Format \u0027yyyyMMddHHmmssms\u0027\r\n",
                                     "$destination = \u0027C:\\temp\\\\Brent Ozar Notebooks Index_\u0027 + $time + \u0027_\u0027+ $user + \u0027.ipynb\u0027\r\n",
                                     "copy-item -path \u0027C:\\Users\\rob.sewell\\Documents\\Work\\daa-env-admin\\DAA-Operations\\01-Notebooks\\Brent Ozar\\Brent Ozar Notebooks Index.ipynb\u0027 -destination $destination\r\n",
                                     "# In case there is media or script files as well. Copy Those also\r\n",
                                     "Get-ChildItem \u0027C:\\Users\\rob.sewell\\Documents\\Work\\daa-env-admin\\DAA-Operations\\01-Notebooks\\Brent Ozar\u0027 -Exclude *ipynb | Copy-Item -Destination \u0027C:\\temp\\\u0027 -Recurse -Force\r\n",
                                     "azuredatastudio.cmd $destination\r\n",
                                     "\r\n"
                                 ],
                      "metadata":  {
                                       "azdata_cell_guid":  "f1eb3db1-f4be-4fe8-a1bb-e6facf554c07",
                                       "tags":  [
                                                    "hide_input"
                                                ]
                                   },
                      "outputs":  [

                                  ],
                      "execution_count":  0
                  },
                  {
                      "cell_type":  "markdown",
                      "source":  [
                                     "---\r\n",
                                     "---\r\n",
                                     "## Notebook Name: **sp_Blitz**\r\n",
                                     "## sp_Blitz from Brent Ozar\r\n",
                                     "You can download the First Responder Kit from https://www.brentozar.com/first-aid/ It will provide you with an excellent set of resources for free including sp_Blitz.\r\n",
                                     "You can either run the Install-All-Scripts.sql script to install all of the stored procedures or the individual stored procedures using the T-SQL files. It can go i nthe master database or in a DBA database, it is up to you. \r\n",
                                     "With the stored procedures installed you can then investigate the instance that you are interested in. Brent has written about how to start here https://www.brentozar.com/archive/2017/10/free-sql-server-health-check/\r\n",
                                     "#### Run sp_blitz with basic parameters\r\n",
                                     "These two parameters give you a server-level check without looking inside databases (slowly) for things like heaps and triggers.\r\n",
                                     "\r\n"
                                 ],
                      "metadata":  {
                                       "azdata_cell_guid":  "80ad50e9-6aa6-4483-bf33-163adfc0f0b3"
                                   }
                  },
                  {
                      "cell_type":  "code",
                      "source":  [
                                     "# To run a copy of the Notebook sp_Blitz, click the run button.\r\n",
                                     "$user = $env:USERNAME.Replace(\u0027.\u0027,\u0027\u0027)\r\n",
                                     "$time = get-date -Format \u0027yyyyMMddHHmmssms\u0027\r\n",
                                     "$destination = \u0027C:\\temp\\\\sp_Blitz_\u0027 + $time + \u0027_\u0027+ $user + \u0027.ipynb\u0027\r\n",
                                     "copy-item -path \u0027C:\\Users\\rob.sewell\\Documents\\Work\\daa-env-admin\\DAA-Operations\\01-Notebooks\\Brent Ozar\\sp_Blitz.ipynb\u0027 -destination $destination\r\n",
                                     "# In case there is media or script files as well. Copy Those also\r\n",
                                     "Get-ChildItem \u0027C:\\Users\\rob.sewell\\Documents\\Work\\daa-env-admin\\DAA-Operations\\01-Notebooks\\Brent Ozar\u0027 -Exclude *ipynb | Copy-Item -Destination \u0027C:\\temp\\\u0027 -Recurse -Force\r\n",
                                     "azuredatastudio.cmd $destination\r\n",
                                     "\r\n"
                                 ],
                      "metadata":  {
                                       "azdata_cell_guid":  "14e00b42-abc1-4735-ba7f-3961fabaf87a",
                                       "tags":  [
                                                    "hide_input"
                                                ]
                                   },
                      "outputs":  [

                                  ],
                      "execution_count":  0
                  },
                  {
                      "cell_type":  "markdown",
                      "source":  [
                                     "---\r\n",
                                     "---\r\n",
                                     "## Notebook Name: **sp_BlitzCache**\r\n",
                                     "## sp_BlitzCache from Brent Ozar\r\n",
                                     "You can download the First Responder Kit from https://www.brentozar.com/first-aid/ It will provide you with an excellent set of resources for free including sp_Blitz.\r\n",
                                     "You can either run the Install-All-Scripts.sql script to install all of the stored procedures or the individual stored procedures using the T-SQL files. It can go i nthe master database or in a DBA database, it is up to you. \r\n",
                                     "With the stored procedures installed you can then investigate the instance that you are interested in. Brent has written about how to start here https://www.brentozar.com/blitzcache/ with a video as well\r\n",
                                     "#### Run sp_Blitz_Cache with basic parameters\r\n",
                                     "You can sort the results from the cache by reads, CPU, executions, xpm, recent compilations, memory grant, writes, all and limit the number of queries to work with \r\n",
                                     "\r\n"
                                 ],
                      "metadata":  {
                                       "azdata_cell_guid":  "f073290f-fdbd-4984-8f34-8474871df9e1"
                                   }
                  },
                  {
                      "cell_type":  "code",
                      "source":  [
                                     "# To run a copy of the Notebook sp_BlitzCache, click the run button.\r\n",
                                     "$user = $env:USERNAME.Replace(\u0027.\u0027,\u0027\u0027)\r\n",
                                     "$time = get-date -Format \u0027yyyyMMddHHmmssms\u0027\r\n",
                                     "$destination = \u0027C:\\temp\\\\sp_BlitzCache_\u0027 + $time + \u0027_\u0027+ $user + \u0027.ipynb\u0027\r\n",
                                     "copy-item -path \u0027C:\\Users\\rob.sewell\\Documents\\Work\\daa-env-admin\\DAA-Operations\\01-Notebooks\\Brent Ozar\\sp_BlitzCache.ipynb\u0027 -destination $destination\r\n",
                                     "# In case there is media or script files as well. Copy Those also\r\n",
                                     "Get-ChildItem \u0027C:\\Users\\rob.sewell\\Documents\\Work\\daa-env-admin\\DAA-Operations\\01-Notebooks\\Brent Ozar\u0027 -Exclude *ipynb | Copy-Item -Destination \u0027C:\\temp\\\u0027 -Recurse -Force\r\n",
                                     "azuredatastudio.cmd $destination\r\n",
                                     "\r\n"
                                 ],
                      "metadata":  {
                                       "azdata_cell_guid":  "cf219d84-833b-466e-bb57-98afc4a73687",
                                       "tags":  [
                                                    "hide_input"
                                                ]
                                   },
                      "outputs":  [

                                  ],
                      "execution_count":  0
                  },
                  {
                      "cell_type":  "markdown",
                      "source":  [
                                     "---\r\n",
                                     "---\r\n",
                                     "## Notebook Name: **sp_BlitzFirst**\r\n",
                                     "## sp_BlitzFirst from Brent Ozar\r\n",
                                     "You can download the First Responder Kit from https://www.brentozar.com/first-aid/ It will provide you with an excellent set of resources for free including sp_Blitz.\r\n",
                                     "You can either run the Install-All-Scripts.sql script to install all of the stored procedures or the individual stored procedures using the T-SQL files. It can go i nthe master database or in a DBA database, it is up to you. \r\n",
                                     "With the stored procedures installed you can then investigate the instance that you are interested in. Brent has written about how to start here https://www.brentozar.com/archive/2017/10/free-sql-server-performance-check/\r\n",
                                     "#### Run sp_blitzFirst with basic parameters\r\n",
                                     "Start with wait stats, which tell you what the SQL Server has been waiting on since the service was last started, or since someone cleared wait stats with DBCC SQLPERF, whichever is more recent.\r\n",
                                     "\r\n"
                                 ],
                      "metadata":  {
                                       "azdata_cell_guid":  "457f7495-4461-483d-8f94-25ef7f38fa94"
                                   }
                  },
                  {
                      "cell_type":  "code",
                      "source":  [
                                     "# To run a copy of the Notebook sp_BlitzFirst, click the run button.\r\n",
                                     "$user = $env:USERNAME.Replace(\u0027.\u0027,\u0027\u0027)\r\n",
                                     "$time = get-date -Format \u0027yyyyMMddHHmmssms\u0027\r\n",
                                     "$destination = \u0027C:\\temp\\\\sp_BlitzFirst_\u0027 + $time + \u0027_\u0027+ $user + \u0027.ipynb\u0027\r\n",
                                     "copy-item -path \u0027C:\\Users\\rob.sewell\\Documents\\Work\\daa-env-admin\\DAA-Operations\\01-Notebooks\\Brent Ozar\\sp_BlitzFirst.ipynb\u0027 -destination $destination\r\n",
                                     "# In case there is media or script files as well. Copy Those also\r\n",
                                     "Get-ChildItem \u0027C:\\Users\\rob.sewell\\Documents\\Work\\daa-env-admin\\DAA-Operations\\01-Notebooks\\Brent Ozar\u0027 -Exclude *ipynb | Copy-Item -Destination \u0027C:\\temp\\\u0027 -Recurse -Force\r\n",
                                     "azuredatastudio.cmd $destination\r\n",
                                     "\r\n"
                                 ],
                      "metadata":  {
                                       "azdata_cell_guid":  "572875f0-5e26-4346-85b1-3add6f5317c2",
                                       "tags":  [
                                                    "hide_input"
                                                ]
                                   },
                      "outputs":  [

                                  ],
                      "execution_count":  0
                  },
                  {
                      "cell_type":  "markdown",
                      "source":  [
                                     "---\r\n",
                                     "---\r\n",
                                     "## Notebook Name: **sp_BlitzIndex**\r\n",
                                     "## sp_BlitzIndex from Brent Ozar\r\n",
                                     "You can download the First Responder Kit from https://www.brentozar.com/first-aid/ It will provide you with an excellent set of resources for free including sp_Blitz.\r\n",
                                     "You can either run the Install-All-Scripts.sql script to install all of the stored procedures or the individual stored procedures using the T-SQL files. It can go i nthe master database or in a DBA database, it is up to you. \r\n",
                                     "With the stored procedures installed you can then investigate the instance that you are interested in. Brent has written about how to start here https://www.brentozar.com/blitzindex/ with a video as well\r\n",
                                     "#### Run sp_BlitzIndex with basic parameters\r\n",
                                     "@GetAllDatabases = 1 – runs index tests across all of the databases on the server instead of just your current database context. If you’ve got more than 50 databases on the server, this only works if you also pass in @BringThePain = 1, because it’s gonna be slow.   \r\n",
                                     "@DatabaseName, @SchemaName, @TableName – if you only want to examine indexes on a particular table, fill all three of these out. \r\n",
                                     "@SkipPartitions = 1 – goes faster on databases with large numbers of partitions, like over 500.   \r\n",
                                     "@Mode – options are:\r\n",
                                     "0. (default) – basic diagnostics of urgent issues  \r\n",
                                     "1. – summarize database metrics  \r\n",
                                     "2. – index usage detail only  \r\n",
                                     "3. – missing indexes only  \r\n",
                                     "4. – in-depth diagnostics, including low-priority issues and small objects  \r\n",
                                     "@Filter – only works in @Mode = 0. Options are:  \r\n",
                                     "0. (default) – no filter  \r\n",
                                     "1. – no low-usage warnings for objects with 0 reads  \r\n",
                                     "2. – only warn about objects over 500MB    \r\n",
                                     "@ThresholdMB = 250 – number of megabytes that an object must be before we display its data in @Mode = 0.  \r\n",
                                     "@Help = 1 – explains the rest of sp_BlitzIndex’s parameters.\r\n",
                                     "\r\n"
                                 ],
                      "metadata":  {
                                       "azdata_cell_guid":  "277e61b1-3834-40a9-b5a3-defe8903d471"
                                   }
                  },
                  {
                      "cell_type":  "code",
                      "source":  [
                                     "# To run a copy of the Notebook sp_BlitzIndex, click the run button.\r\n",
                                     "$user = $env:USERNAME.Replace(\u0027.\u0027,\u0027\u0027)\r\n",
                                     "$time = get-date -Format \u0027yyyyMMddHHmmssms\u0027\r\n",
                                     "$destination = \u0027C:\\temp\\\\sp_BlitzIndex_\u0027 + $time + \u0027_\u0027+ $user + \u0027.ipynb\u0027\r\n",
                                     "copy-item -path \u0027C:\\Users\\rob.sewell\\Documents\\Work\\daa-env-admin\\DAA-Operations\\01-Notebooks\\Brent Ozar\\sp_BlitzIndex.ipynb\u0027 -destination $destination\r\n",
                                     "# In case there is media or script files as well. Copy Those also\r\n",
                                     "Get-ChildItem \u0027C:\\Users\\rob.sewell\\Documents\\Work\\daa-env-admin\\DAA-Operations\\01-Notebooks\\Brent Ozar\u0027 -Exclude *ipynb | Copy-Item -Destination \u0027C:\\temp\\\u0027 -Recurse -Force\r\n",
                                     "azuredatastudio.cmd $destination\r\n",
                                     "\r\n"
                                 ],
                      "metadata":  {
                                       "azdata_cell_guid":  "f2ec98ac-3592-48e7-86ef-58de85aeb411",
                                       "tags":  [
                                                    "hide_input"
                                                ]
                                   },
                      "outputs":  [

                                  ],
                      "execution_count":  0
                  }
              ]
}
