{
    "metadata": {
        "kernelspec": {
            "name": "SQL",
            "display_name": "SQL",
            "language": "sql"
        },
        "language_info": {
            "name": "sql",
            "version": ""
        }
    },
    "nbformat_minor": 2,
    "nbformat": 4,
    "cells": [
        {
            "cell_type": "markdown",
            "source": [
                "# sp_BlitzIndex from Brent Ozar\r\n",
                "\r\n",
                "You can download the First Responder Kit from https://www.brentozar.com/first-aid/ It will provide you with an excellent set of resources for free including sp_Blitz.\r\n",
                "\r\n",
                "You can either run the Install-All-Scripts.sql script to install all of the stored procedures or the individual stored procedures using the T-SQL files. It can go i nthe master database or in a DBA database, it is up to you. \r\n",
                "\r\n",
                "With the stored procedures installed you can then investigate the instance that you are interested in. Brent has written about how to start here https://www.brentozar.com/blitzindex/ with a video as well\r\n",
                "\r\n",
                "## Run sp_BlitzIndex with basic parameters\r\n",
                "\r\n",
                "@GetAllDatabases = 1 – runs index tests across all of the databases on the server instead of just your current database context. If you’ve got more than 50 databases on the server, this only works if you also pass in @BringThePain = 1, because it’s gonna be slow.   \r\n",
                "@DatabaseName, @SchemaName, @TableName – if you only want to examine indexes on a particular table, fill all three of these out. \r\n",
                "@SkipPartitions = 1 – goes faster on databases with large numbers of partitions, like over 500.   \r\n",
                "@Mode – options are:\r\n",
                "0. (default) – basic diagnostics of urgent issues  \r\n",
                "1. – summarize database metrics  \r\n",
                "2. – index usage detail only  \r\n",
                "3. – missing indexes only  \r\n",
                "4. – in-depth diagnostics, including low-priority issues and small objects  \r\n",
                "\r\n",
                "@Filter – only works in @Mode = 0. Options are:  \r\n",
                "0. (default) – no filter  \r\n",
                "1. – no low-usage warnings for objects with 0 reads  \r\n",
                "2. – only warn about objects over 500MB    \r\n",
                "\r\n",
                "@ThresholdMB = 250 – number of megabytes that an object must be before we display its data in @Mode = 0.  \r\n",
                "@Help = 1 – explains the rest of sp_BlitzIndex’s parameters.\r\n",
                ""
            ],
            "metadata": {
                "azdata_cell_guid": "aa2ce5c3-1606-4035-8d7e-c9e1d95369ad"
            }
        },
        {
            "cell_type": "code",
            "source": [
                "EXEC [dbo].[sp_BlitzIndex] @GetAllDatabases = 1, @Mode = 0"
            ],
            "metadata": {
                "azdata_cell_guid": "7928007e-afca-4250-8e0d-61111edb3cb5",
                "tags": []
            },
            "outputs": [],
            "execution_count": 1
        },
        {
            "cell_type": "markdown",
            "source": [
                "# Help \r\n",
                "\r\n",
                "You can get more information about the stored procedure, parameters and results using the @Help = 1"
            ],
            "metadata": {
                "azdata_cell_guid": "e0ba0fb4-f538-4b4c-986b-a7375ce94404"
            }
        },
        {
            "cell_type": "code",
            "source": [
                "EXEC [dbo].[sp_BlitzIndex]\r\n",
                "@Help = 1"
            ],
            "metadata": {
                "azdata_cell_guid": "d9c135c7-56b5-43e2-a7fc-c3a972c0dd18"
            },
            "outputs": [],
            "execution_count": 2
        },
        {
            "cell_type": "markdown",
            "source": [
                ""
            ],
            "metadata": {
                "azdata_cell_guid": "fc7c2643-d5f5-46c1-be97-96d328ee6cb6"
            }
        }
    ]
}