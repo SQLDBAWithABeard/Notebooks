{
    "metadata": {
        "kernelspec": {
            "name": "powershell",
            "display_name": "PowerShell"
        },
        "language_info": {
            "name": "powershell",
            "codemirror_mode": "shell",
            "mimetype": "text/x-sh",
            "file_extension": ".ps1"
        }
    },
    "nbformat_minor": 2,
    "nbformat": 4,
    "cells": [
        {
            "cell_type": "markdown",
            "source": [
                "# SQL Instance Permissions\r\n",
                "\r\n",
                "This Notebook will provide you with the permissions granted on an instance at both Instance and Database level. It requires the PowerShell module dbatools and if you wish to create the Excel Workbook then it also requires the ImportExcel PowerShell module"
            ],
            "metadata": {
                "azdata_cell_guid": "e7f38b75-f82f-4e46-a44c-7547ab242469"
            }
        },
        {
            "cell_type": "markdown",
            "source": [
                "You can check if you have the modules and install them in your user scope with this block"
            ],
            "metadata": {
                "azdata_cell_guid": "283a2617-d3a1-4c97-add3-c1b51945dcf5"
            }
        },
        {
            "cell_type": "code",
            "source": [
                "#Check for modules and install\r\n",
                "$Modules = 'dbatools', 'importExcel'\r\n",
                "\r\n",
                "\r\n",
                "if ((Get-PsRepository -Name PSGallery).InstallationPolicy -ne 'Trusted') {\r\n",
                "    Write-Output \"The PowerShell Gallery is not trusted so I will trust it so that we can install the modules without interaction\"\r\n",
                "    try {\r\n",
                "        Set-PsRepository -Name PSGallery -InstallationPolicy Trusted\r\n",
                "    }\r\n",
                "    catch {\r\n",
                "        Write-Output \" Failed to trust the gallery, trying to force it and also add package provider\"\r\n",
                "        Install-PackageProvider NuGet -Force\r\n",
                "        Import-PackageProvider NuGet -Force\r\n",
                "        Set-PSRepository -Name PSGallery -InstallationPolicy Trusted\r\n",
                "    }\r\n",
                "    \r\n",
                "}\r\n",
                "else {\r\n",
                "    Write-Output \"The PowerShell Gallery is trusted I will continue\"\r\n",
                "}\r\n",
                "$Modules.ForEach{\r\n",
                "    If (-not(Get-Module $psitem -ListAvailable)) {\r\n",
                "        Write-Output \"We don't have the $psitem module so we will install it\"\r\n",
                "        Install-Module $psitem -Scope CurrentUser -Force\r\n",
                "    }\r\n",
                "    else {\r\n",
                "        Write-Output \"We have the $psitem module already\"\r\n",
                "    }\r\n",
                "}"
            ],
            "metadata": {
                "azdata_cell_guid": "7293ad72-41c5-48bb-9d52-016d03da0b11",
                "tags": [
                    "hide_input"
                ]
            },
            "outputs": [
                {
                    "output_type": "stream",
                    "name": "stdout",
                    "text": "We have the dbatools module already\nWe don't have the importExcel module so we will install it\n"
                }
            ],
            "execution_count": 3
        },
        {
            "cell_type": "markdown",
            "source": [
                "Run this block below to alter the width of the output pane to avoid the output being truncated"
            ],
            "metadata": {
                "azdata_cell_guid": "7d0e52e3-5121-4b76-8eee-e41bc0f7333c"
            }
        },
        {
            "cell_type": "code",
            "source": [
                "# Run this first to make sure output width does not mess with output - Update output buffer size to prevent clipping in Visual Studio output window.\r\n",
                "if( $Host -and $Host.UI -and $Host.UI.RawUI ) {\r\n",
                "    $rawUI = $Host.UI.RawUI\r\n",
                "    $oldSize = $rawUI.BufferSize\r\n",
                "    $typeName = $oldSize.GetType( ).FullName\r\n",
                "    $newSize = New-Object $typeName (500, $oldSize.Height)\r\n",
                "    $rawUI.BufferSize = $newSize\r\n",
                "  }"
            ],
            "metadata": {
                "azdata_cell_guid": "f383512c-eb60-40b7-b7ac-4a0ed816bcd0",
                "tags": [
                    "hide_input"
                ]
            },
            "outputs": [
                {
                    "output_type": "stream",
                    "name": "stdout",
                    "text": ""
                }
            ],
            "execution_count": 2
        },
        {
            "cell_type": "markdown",
            "source": [
                "If you want all of the permissions on one worksheet for a single instance use this code - More options below  \r\n",
                "\r\n",
                "You will need to alter the Directory that you want the Excel file stored in using the variable `$ExcelDirectory` and the SQL instance that you want to get the permissions for with the variable `$SQLInstance`. The file will be named `InstanceName_Permissions_Date.xlsx`"
            ],
            "metadata": {
                "azdata_cell_guid": "61d294f8-75ef-4e5a-b2da-0749023a19bc"
            }
        },
        {
            "cell_type": "code",
            "source": [
                "$ExcelDirectory = 'c:\\temp\\' # Alter this to the directory you want the file created\r\n",
                "$SQlinstance = '' # Alter this for the SQL Instance you want to get permissions for\r\n",
                "Write-Output \"Processing $sqlinstance\"\r\n",
                "\r\n",
                "$InstanceName = $SQlinstance.Split('\\').Split('.').Split('\\').Split(',') -join '_'\r\n",
                "$ExcelFile = $ExcelDirectory + '\\' + $InstanceName + '_Permssions_OneTab_' + (Get-Date).ToString('yyyy-MM-dd') + '.xlsx'\r\n",
                "\r\n",
                "Write-Output \"    FileName is $ExcelFile\"\r\n",
                "\r\n",
                "$WorkSheetName = \"Permissions\"\r\n",
                "\r\n",
                "    $excel = Get-DbaUserPermission -SqlInstance $sqlinstance | Export-Excel -Path $ExcelFile -WorksheetName $WorkSheetName -AutoSize -FreezeTopRow -AutoFilter -PassThru\r\n",
                "  \r\n",
                "    $rulesparam = @{\r\n",
                "        Address   = $excel.Workbook.Worksheets[$WorkSheetName].Dimension.Address\r\n",
                "        WorkSheet = $excel.Workbook.Worksheets[$WorkSheetName] \r\n",
                "        RuleType  = 'Expression'      \r\n",
                "    }\r\n",
                "\r\n",
                "    Add-ConditionalFormatting @rulesparam -ConditionValue 'NOT(ISERROR(FIND(\"sysadmin\",$G1)))' -BackgroundColor Yellow -StopIfTrue\r\n",
                "    Add-ConditionalFormatting @rulesparam -ConditionValue 'NOT(ISERROR(FIND(\"db_owner\",$G1)))' -BackgroundColor Yellow -StopIfTrue\r\n",
                "    Add-ConditionalFormatting @rulesparam -ConditionValue 'NOT(ISERROR(FIND(\"SERVER LOGINS\",$E1)))' -BackgroundColor PaleGreen \r\n",
                "    Add-ConditionalFormatting @rulesparam -ConditionValue 'NOT(ISERROR(FIND(\"SERVER SECURABLES\",$E1)))' -BackgroundColor PowderBlue \r\n",
                "    Add-ConditionalFormatting @rulesparam -ConditionValue 'NOT(ISERROR(FIND(\"DB ROLE MEMBERS\",$E1)))' -BackgroundColor GoldenRod \r\n",
                "    Add-ConditionalFormatting @rulesparam -ConditionValue 'NOT(ISERROR(FIND(\"DB SECURABLES\",$E1)))' -BackgroundColor BurlyWood \r\n",
                "\r\n",
                "    Close-ExcelPackage $excel\r\n",
                "\r\n",
                "\r\n",
                "Write-Output \"\"\r\n",
                "Write-Output \"Finished Processing $sqlinstance\"\r\n",
                "\r\n",
                "$Excel = Open-ExcelPackage -Path $ExcelFile\r\n",
                "Add-Worksheet -ExcelPackage $Excel -WorksheetName 'Title' -MoveToStart | Out-Null\r\n",
                "\r\n",
                "$TitleSheet = $excel.Workbook.Worksheets['Title']\r\n",
                "$Date = (Get-Date).ToLongDateString()\r\n",
                "$TitleSheet.Cells[\"A1\"].value = \"This Worksheet shows the User Permissions for each database on $sqlinstance at $Date \"\r\n",
                "Set-ExcelRange -Worksheet $TitleSheet -Range \"A:1\" -Bold -FontSize 22 -Underline -UnderLineType Double\r\n",
                "\r\n",
                "$TitleSheet.Cells[\"B3\"].Value = \"The Cells are colour coded as follows :-\"\r\n",
                "Set-ExcelRange -Worksheet $TitleSheet -Range \"B3\" -Bold -FontSize 18 \r\n",
                "$TitleSheet.Cells[\"E5\"].Value = \"The Yellow Cells show members of the sysadmin role who have permission to do and access anything on the instance \"\r\n",
                "$TitleSheet.Cells[\"E6\"].Value = \"The Green Cells show the logins on the server\"\r\n",
                "$TitleSheet.Cells[\"E7\"].Value = \"The Blue Cells show the instance level permissions that have been granted to the logins\"\r\n",
                "$TitleSheet.Cells[\"E8\"].Value = \"The Orange Cells show the database role membership for the login\"\r\n",
                "$TitleSheet.Cells[\"E9\"].Value = \"The Brown Cells show specific database permissions that have been granted for the logins\"\r\n",
                "\r\n",
                "$TitleSheet.Cells[\"B11\"].Value = \"You can filter by Database on the Object column\"\r\n",
                "Set-ExcelRange -Worksheet $TitleSheet -Range \"C11\" -FontSize 18\r\n",
                "\r\n",
                "$TitleSheet.Cells[\"B12\"].Value = \"You can filter by User/Group/Login on the Member column\"\r\n",
                "Set-ExcelRange -Worksheet $TitleSheet -Range \"C12\" -FontSize 18\r\n",
                "\r\n",
                "Set-ExcelRange -Worksheet $TitleSheet -Range  \"C5\" -BackgroundColor Yellow\r\n",
                "Set-ExcelRange -Worksheet $TitleSheet -Range  \"C6\" -BackgroundColor PaleGreen\r\n",
                "Set-ExcelRange -Worksheet $TitleSheet -Range  \"C7\" -BackgroundColor PowderBlue \r\n",
                "Set-ExcelRange -Worksheet $TitleSheet -Range  \"C8\" -BackgroundColor GoldenRod \r\n",
                "Set-ExcelRange -Worksheet $TitleSheet -Range  \"C9\" -BackgroundColor BurlyWood \r\n",
                "\r\n",
                "Close-ExcelPackage $excel\r\n",
                "\r\n",
                "\r\n",
                "Write-Output \"                ###############                  \"\r\n",
                "Write-Output \"        FileName is $ExcelFile            \"\r\n",
                "Write-Output \"                ###############                  \"\r\n",
                "Write-Output \"\"\r\n",
                "\r\n",
                "Invoke-Item $ExcelFile"
            ],
            "metadata": {
                "azdata_cell_guid": "9fdad48b-965e-45ed-81a4-d999699dfa88",
                "tags": []
            },
            "outputs": [],
            "execution_count": null
        },
        {
            "cell_type": "markdown",
            "source": [
                "If you want all of the permissions for a number of instances use this code - More options below  \r\n",
                "\r\n",
                "You will need to alter the Directory that you want the Excel file stored in using the variable `$ExcelDirectory` and the SQL instances that you want to get the permissions for with the variable `$SQLInstances` You will need to add them as `'FULLINSTANCENAME,PORT','FULLINSTANCENAME2,PORT'` or if you have variables set up like `$ProdInstances` you can use that. Each file will be named `InstanceName_Permissions_Date.xlsx`"
            ],
            "metadata": {
                "azdata_cell_guid": "d1ad1c6b-8856-46df-9733-4a24b9f4b409"
            }
        },
        {
            "cell_type": "code",
            "source": [
                "$ExcelDirectory = 'c:\\temp\\' # Alter this to the directory you want the file created\r\n",
                "$SQlinstances = 'AnInstance','ANotherinstance' # Alter this for the SQL Instances you want to get permissions for\r\n",
                "\r\n",
                "foreach($sqlinstance in $SQlinstances){\r\n",
                "Write-Output \"Processing $sqlinstance\"\r\n",
                "\r\n",
                "$InstanceName = $SQlinstance.Split('\\').Split('.').Split('\\').Split(',') -join '_'\r\n",
                "$ExcelFile = $ExcelDirectory + '\\' + $InstanceName + '_Permssions_OneTab_' + (Get-Date).ToString('yyyy-MM-dd') + '.xlsx'\r\n",
                "\r\n",
                "Write-Output \"    FileName is $ExcelFile\"\r\n",
                "\r\n",
                "$WorkSheetName = \"Permissions\"\r\n",
                "\r\n",
                "    $excel = Get-DbaUserPermission -SqlInstance $sqlinstance | Export-Excel -Path $ExcelFile -WorksheetName $WorkSheetName -AutoSize -FreezeTopRow -AutoFilter -PassThru\r\n",
                "  \r\n",
                "    $rulesparam = @{\r\n",
                "        Address   = $excel.Workbook.Worksheets[$WorkSheetName].Dimension.Address\r\n",
                "        WorkSheet = $excel.Workbook.Worksheets[$WorkSheetName] \r\n",
                "        RuleType  = 'Expression'      \r\n",
                "    }\r\n",
                "\r\n",
                "    Add-ConditionalFormatting @rulesparam -ConditionValue 'NOT(ISERROR(FIND(\"sysadmin\",$G1)))' -BackgroundColor Yellow -StopIfTrue\r\n",
                "    Add-ConditionalFormatting @rulesparam -ConditionValue 'NOT(ISERROR(FIND(\"db_owner\",$G1)))' -BackgroundColor Yellow -StopIfTrue\r\n",
                "    Add-ConditionalFormatting @rulesparam -ConditionValue 'NOT(ISERROR(FIND(\"SERVER LOGINS\",$E1)))' -BackgroundColor PaleGreen \r\n",
                "    Add-ConditionalFormatting @rulesparam -ConditionValue 'NOT(ISERROR(FIND(\"SERVER SECURABLES\",$E1)))' -BackgroundColor PowderBlue \r\n",
                "    Add-ConditionalFormatting @rulesparam -ConditionValue 'NOT(ISERROR(FIND(\"DB ROLE MEMBERS\",$E1)))' -BackgroundColor GoldenRod \r\n",
                "    Add-ConditionalFormatting @rulesparam -ConditionValue 'NOT(ISERROR(FIND(\"DB SECURABLES\",$E1)))' -BackgroundColor BurlyWood \r\n",
                "\r\n",
                "    Close-ExcelPackage $excel\r\n",
                "\r\n",
                "\r\n",
                "Write-Output \"\"\r\n",
                "Write-Output \"Finished Processing $sqlinstance\"\r\n",
                "\r\n",
                "$Excel = Open-ExcelPackage -Path $ExcelFile\r\n",
                "Add-Worksheet -ExcelPackage $Excel -WorksheetName 'Title' -MoveToStart | Out-Null\r\n",
                "\r\n",
                "$TitleSheet = $excel.Workbook.Worksheets['Title']\r\n",
                "$Date = (Get-Date).ToLongDateString()\r\n",
                "$TitleSheet.Cells[\"A1\"].value = \"This Worksheet shows the User Permissions for each database on $sqlinstance at $Date \"\r\n",
                "Set-ExcelRange -Worksheet $TitleSheet -Range \"A:1\" -Bold -FontSize 22 -Underline -UnderLineType Double\r\n",
                "\r\n",
                "$TitleSheet.Cells[\"B3\"].Value = \"The Cells are colour coded as follows :-\"\r\n",
                "Set-ExcelRange -Worksheet $TitleSheet -Range \"B3\" -Bold -FontSize 18 \r\n",
                "$TitleSheet.Cells[\"E5\"].Value = \"The Yellow Cells show members of the sysadmin role who have permission to do and access anything on the instance \"\r\n",
                "$TitleSheet.Cells[\"E6\"].Value = \"The Green Cells show the logins on the server\"\r\n",
                "$TitleSheet.Cells[\"E7\"].Value = \"The Blue Cells show the instance level permissions that have been granted to the logins\"\r\n",
                "$TitleSheet.Cells[\"E8\"].Value = \"The Orange Cells show the database role membership for the login\"\r\n",
                "$TitleSheet.Cells[\"E9\"].Value = \"The Brown Cells show specific database permissions that have been granted for the logins\"\r\n",
                "\r\n",
                "$TitleSheet.Cells[\"B11\"].Value = \"You can filter by Database on the Object column\"\r\n",
                "Set-ExcelRange -Worksheet $TitleSheet -Range \"C11\" -FontSize 18\r\n",
                "\r\n",
                "$TitleSheet.Cells[\"B12\"].Value = \"You can filter by User/Group/Login on the Member column\"\r\n",
                "Set-ExcelRange -Worksheet $TitleSheet -Range \"C12\" -FontSize 18\r\n",
                "\r\n",
                "Set-ExcelRange -Worksheet $TitleSheet -Range  \"C5\" -BackgroundColor Yellow\r\n",
                "Set-ExcelRange -Worksheet $TitleSheet -Range  \"C6\" -BackgroundColor PaleGreen\r\n",
                "Set-ExcelRange -Worksheet $TitleSheet -Range  \"C7\" -BackgroundColor PowderBlue \r\n",
                "Set-ExcelRange -Worksheet $TitleSheet -Range  \"C8\" -BackgroundColor GoldenRod \r\n",
                "Set-ExcelRange -Worksheet $TitleSheet -Range  \"C9\" -BackgroundColor BurlyWood \r\n",
                "\r\n",
                "Close-ExcelPackage $excel\r\n",
                "\r\n",
                "\r\n",
                "Write-Output \"                ###############                  \"\r\n",
                "Write-Output \"        FileName is $ExcelFile            \"\r\n",
                "Write-Output \"                ###############                  \"\r\n",
                "Write-Output \"\"\r\n",
                "\r\n",
                "Invoke-Item $ExcelFile\r\n",
                "}"
            ],
            "metadata": {
                "azdata_cell_guid": "e0e97769-e4c8-4c0b-b66f-2bb2c6bcf4fc"
            },
            "outputs": [],
            "execution_count": null
        },
        {
            "cell_type": "markdown",
            "source": [
                "If you just want the results for a single database in the notebook use the next block. If you want to create a colour coded Excel Workbook showing all of the permissions for all of the databases on a seperate worksheet then use this block. You will need to alter the Directory that you want the Excel file stored in usign the variable `$ExcelDirectory` and the SQL instance that you want to get the permissions for with the variable `$SQLInstance`. The file will be named `InstanceName_Permissions_Date.xlsx`"
            ],
            "metadata": {
                "azdata_cell_guid": "c1f29bfb-f75e-4e84-b1d9-eee85e0950ea"
            }
        },
        {
            "cell_type": "code",
            "source": [
                "$ExcelDirectory = 'c:\\temp\\' # Alter this to the directory you want the file created\r\n",
                "$SQlinstance = '' # Alter this for the SQL Instance you want to get permissions for\r\n",
                "Write-Output \"Processing $sqlinstance\"\r\n",
                "\r\n",
                "$InstanceName = $SQlinstance.Split('\\').Split('.').Split('\\').Split(',') -join '_'\r\n",
                "$ExcelFile = $ExcelDirectory + '\\' + $InstanceName + '_Permssions_' + (Get-Date).ToString('yyyy-MM-dd') + '.xlsx'\r\n",
                "\r\n",
                "Write-Output \"    FileName is $ExcelFile\"\r\n",
                "\r\n",
                "$Databases = Get-DbaDatabase -SqlInstance $sqlinstance\r\n",
                "\r\n",
                "foreach ($Database in $Databases) {\r\n",
                "    $DatabaseName = $Database.Name\r\n",
                "    Write-Output \"       Processing $DatabaseName\"\r\n",
                "    $WorkSheetName = \"$($Database.Name) Perms\"\r\n",
                "\r\n",
                "    $excel = Get-DbaUserPermission -SqlInstance $sqlinstance -Database $DatabaseName | Export-Excel -Path $ExcelFile -WorksheetName $WorkSheetName -AutoSize -FreezeTopRow -AutoFilter -PassThru\r\n",
                "  \r\n",
                "    $rulesparam = @{\r\n",
                "        Address   = $excel.Workbook.Worksheets[$WorkSheetName].Dimension.Address\r\n",
                "        WorkSheet = $excel.Workbook.Worksheets[$WorkSheetName] \r\n",
                "        RuleType  = 'Expression'      \r\n",
                "    }\r\n",
                "\r\n",
                "    Add-ConditionalFormatting @rulesparam -ConditionValue 'NOT(ISERROR(FIND(\"sysadmin\",$G1)))' -BackgroundColor Yellow -StopIfTrue\r\n",
                "    Add-ConditionalFormatting @rulesparam -ConditionValue 'NOT(ISERROR(FIND(\"db_owner\",$G1)))' -BackgroundColor Yellow -StopIfTrue\r\n",
                "    Add-ConditionalFormatting @rulesparam -ConditionValue 'NOT(ISERROR(FIND(\"SERVER LOGINS\",$E1)))' -BackgroundColor PaleGreen \r\n",
                "    Add-ConditionalFormatting @rulesparam -ConditionValue 'NOT(ISERROR(FIND(\"SERVER SECURABLES\",$E1)))' -BackgroundColor PowderBlue \r\n",
                "    Add-ConditionalFormatting @rulesparam -ConditionValue 'NOT(ISERROR(FIND(\"DB ROLE MEMBERS\",$E1)))' -BackgroundColor GoldenRod \r\n",
                "    Add-ConditionalFormatting @rulesparam -ConditionValue 'NOT(ISERROR(FIND(\"DB SECURABLES\",$E1)))' -BackgroundColor BurlyWood \r\n",
                "\r\n",
                "    Close-ExcelPackage $excel\r\n",
                "    Write-Output \"       Finished Processing $($Database.Name)\"\r\n",
                "}\r\n",
                "\r\n",
                "Write-Output \"\"\r\n",
                "Write-Output \"Finished Processing $sqlinstance\"\r\n",
                "\r\n",
                "$Excel = Open-ExcelPackage -Path $ExcelFile\r\n",
                "Add-Worksheet -ExcelPackage $Excel -WorksheetName 'Title' -MoveToStart | Out-Null\r\n",
                "\r\n",
                "$TitleSheet = $excel.Workbook.Worksheets['Title']\r\n",
                "$Date = (Get-Date).ToLongDateString()\r\n",
                "$TitleSheet.Cells[\"A1\"].value = \"This Worksheet shows the User Permissions for each database on $sqlinstance at $Date \"\r\n",
                "Set-ExcelRange -Worksheet $TitleSheet -Range \"A:1\" -Bold -FontSize 22 -Underline -UnderLineType Double\r\n",
                "\r\n",
                "$TitleSheet.Cells[\"B3\"].Value = \"The Cells are colour coded as follows\"\r\n",
                "$TitleSheet.Cells[\"D4\"].Value = \"The Yellow Cells show members of the sysadmin role who have permission to do and access anything on the instance \"\r\n",
                "$TitleSheet.Cells[\"D5\"].Value = \"The Green Cells show the logins on the server\"\r\n",
                "$TitleSheet.Cells[\"D6\"].Value = \"The Blue Cells show the instance level permissions that have been granted to the logins\"\r\n",
                "$TitleSheet.Cells[\"D7\"].Value = \"The Orange Cells show the database role membership for the login\"\r\n",
                "$TitleSheet.Cells[\"D8\"].Value = \"The Brown Cells show specific database permissions that have been granted for the logins\"\r\n",
                "\r\n",
                "Set-ExcelRange -Worksheet $TitleSheet -Range  \"C4\" -BackgroundColor Yellow\r\n",
                "Set-ExcelRange -Worksheet $TitleSheet -Range  \"C5\" -BackgroundColor PaleGreen\r\n",
                "Set-ExcelRange -Worksheet $TitleSheet -Range  \"C6\" -BackgroundColor PowderBlue \r\n",
                "Set-ExcelRange -Worksheet $TitleSheet -Range  \"C7\" -BackgroundColor GoldenRod \r\n",
                "Set-ExcelRange -Worksheet $TitleSheet -Range  \"C8\" -BackgroundColor BurlyWood \r\n",
                "\r\n",
                "Close-ExcelPackage $excel\r\n",
                "\r\n",
                "\r\n",
                "Write-Output \"                ###############                  \"\r\n",
                "Write-Output \"        FileName is $ExcelFile            \"\r\n",
                "Write-Output \"                ###############                  \"\r\n",
                "Write-Output \"\"\r\n",
                "\r\n",
                "Invoke-Item $ExcelFile"
            ],
            "metadata": {
                "azdata_cell_guid": "213cecfa-0983-4737-a50a-9dcdacaddad0",
                "tags": [
                    "hide_input"
                ]
            },
            "outputs": [],
            "execution_count": 12
        },
        {
            "cell_type": "markdown",
            "source": [
                "You can get the details for a single database and display in the notebook using the block below. You will need to specify the instance and the database in the code"
            ],
            "metadata": {
                "azdata_cell_guid": "a8ed8849-b164-4c39-9549-7b134014043f"
            }
        },
        {
            "cell_type": "code",
            "source": [
                "Get-DbaUserPermission -SqlInstance 'CEAWD06941.EMEA.ZURICH.CORP,1282' -Database tempdb | Format-Table"
            ],
            "metadata": {
                "azdata_cell_guid": "7ea7b3b7-679a-4000-a071-f37752397f1b"
            },
            "outputs": [],
            "execution_count": 5
        },
        {
            "cell_type": "markdown",
            "source": [
                "## Managed instance needs to be done slightly differently\r\n",
                "\r\n",
                "This code works but prompts for a credential which wont work in ADS right now.\r\n",
                "\r\n",
                " **HIGHLIGHT the code in the block and press F8 to run it in the terminal where you will be prompted for a Username/ Password**"
            ],
            "metadata": {
                "azdata_cell_guid": "8a69f106-e696-4e62-926b-b34ce6d37aed"
            }
        },
        {
            "cell_type": "code",
            "source": [
                "$ExcelDirectory = 'c:\\temp\\' # Alter this to the directory you want the file created\r\n",
                "$SQlinstance = '.database.windows.net' # Alter this for the SQL Instance you want to get permissions for\r\n",
                "Write-Output \"Processing $sqlinstance\"\r\n",
                "\r\n",
                "$InstanceName = $SQlinstance.Split('\\').Split('.').Split('\\').Split(',') -join '_'\r\n",
                "$ExcelFile = $ExcelDirectory + '\\' + $InstanceName + '_Permssions_' + (Get-Date).ToString('yyyy-MM-dd') + '.xlsx'\r\n",
                "\r\n",
                "Write-Output \"    FileName is $ExcelFile\"\r\n",
                "\r\n",
                "$SQlCredential = Get-Credential\r\n",
                "\r\n",
                "$inst = Connect-DbaInstance  -SqlInstance $sqlinstance -SqlCredential $SQlCredential\r\n",
                "\r\n",
                "$Databases = $inst.Databases\r\n",
                "\r\n",
                "foreach ($Database in $Databases) {\r\n",
                "    $DatabaseName = $Database.Name\r\n",
                "    Write-Output \"       Processing $DatabaseName\"\r\n",
                "    $WorkSheetName = \"$($Database.Name) Perms\"\r\n",
                "\r\n",
                "    $excel = Get-DbaUserPermission -SqlInstance $inst -Database $DatabaseName | Export-Excel -Path $ExcelFile -WorksheetName $WorkSheetName -AutoSize -FreezeTopRow -AutoFilter -PassThru\r\n",
                "  \r\n",
                "    $rulesparam = @{\r\n",
                "        Address   = $excel.Workbook.Worksheets[$WorkSheetName].Dimension.Address\r\n",
                "        WorkSheet = $excel.Workbook.Worksheets[$WorkSheetName] \r\n",
                "        RuleType  = 'Expression'      \r\n",
                "    }\r\n",
                "\r\n",
                "    Add-ConditionalFormatting @rulesparam -ConditionValue 'NOT(ISERROR(FIND(\"sysadmin\",$G1)))' -BackgroundColor Yellow -StopIfTrue\r\n",
                "    Add-ConditionalFormatting @rulesparam -ConditionValue 'NOT(ISERROR(FIND(\"db_owner\",$G1)))' -BackgroundColor Yellow -StopIfTrue\r\n",
                "    Add-ConditionalFormatting @rulesparam -ConditionValue 'NOT(ISERROR(FIND(\"SERVER LOGINS\",$E1)))' -BackgroundColor PaleGreen \r\n",
                "    Add-ConditionalFormatting @rulesparam -ConditionValue 'NOT(ISERROR(FIND(\"SERVER SECURABLES\",$E1)))' -BackgroundColor PowderBlue \r\n",
                "    Add-ConditionalFormatting @rulesparam -ConditionValue 'NOT(ISERROR(FIND(\"DB ROLE MEMBERS\",$E1)))' -BackgroundColor GoldenRod \r\n",
                "    Add-ConditionalFormatting @rulesparam -ConditionValue 'NOT(ISERROR(FIND(\"DB SECURABLES\",$E1)))' -BackgroundColor BurlyWood \r\n",
                "\r\n",
                "    Close-ExcelPackage $excel\r\n",
                "    Write-Output \"       Finished Processing $($Database.Name)\"\r\n",
                "}\r\n",
                "\r\n",
                "Write-Output \"\"\r\n",
                "Write-Output \"Finished Processing $sqlinstance\"\r\n",
                "\r\n",
                "$Excel = Open-ExcelPackage -Path $ExcelFile\r\n",
                "Add-Worksheet -ExcelPackage $Excel -WorksheetName 'Title' -MoveToStart | Out-Null\r\n",
                "\r\n",
                "$TitleSheet = $excel.Workbook.Worksheets['Title']\r\n",
                "$Date = (Get-Date).ToLongDateString()\r\n",
                "$TitleSheet.Cells[\"A1\"].value = \"This Worksheet shows the User Permissions for each database on $sqlinstance at $Date \"\r\n",
                "Set-ExcelRange -Worksheet $TitleSheet -Range \"A:1\" -Bold -FontSize 22 -Underline -UnderLineType Double\r\n",
                "\r\n",
                "$TitleSheet.Cells[\"B3\"].Value = \"The Cells are colour coded as follows\"\r\n",
                "$TitleSheet.Cells[\"D4\"].Value = \"The Yellow Cells show members of the sysadmin role who have permission to do and access anything on the instance \"\r\n",
                "$TitleSheet.Cells[\"D5\"].Value = \"The Green Cells show the logins on the server\"\r\n",
                "$TitleSheet.Cells[\"D6\"].Value = \"The Blue Cells show the instance level permissions that have been granted to the logins\"\r\n",
                "$TitleSheet.Cells[\"D7\"].Value = \"The Orange Cells show the database role membership for the login\"\r\n",
                "$TitleSheet.Cells[\"D8\"].Value = \"The Brown Cells show specific database permissions that have been granted for the logins\"\r\n",
                "\r\n",
                "Set-ExcelRange -Worksheet $TitleSheet -Range  \"C4\" -BackgroundColor Yellow\r\n",
                "Set-ExcelRange -Worksheet $TitleSheet -Range  \"C5\" -BackgroundColor PaleGreen\r\n",
                "Set-ExcelRange -Worksheet $TitleSheet -Range  \"C6\" -BackgroundColor PowderBlue \r\n",
                "Set-ExcelRange -Worksheet $TitleSheet -Range  \"C7\" -BackgroundColor GoldenRod \r\n",
                "Set-ExcelRange -Worksheet $TitleSheet -Range  \"C8\" -BackgroundColor BurlyWood \r\n",
                "\r\n",
                "Close-ExcelPackage $excel\r\n",
                "\r\n",
                "\r\n",
                "Write-Output \"                ###############                  \"\r\n",
                "Write-Output \"        FileName is $ExcelFile            \"\r\n",
                "Write-Output \"                ###############                  \"\r\n",
                "Write-Output \"\"\r\n",
                "\r\n",
                "Invoke-Item $ExcelFile"
            ],
            "metadata": {
                "azdata_cell_guid": "e0cc196d-a76d-4dd3-80c3-a4beb66969df",
                "tags": [
                    "hide_input"
                ]
            },
            "outputs": [],
            "execution_count": null
        }
    ]
}