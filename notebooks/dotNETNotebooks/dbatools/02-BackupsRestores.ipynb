{
 "cells": [
  {
   "cell_type": "markdown",
   "metadata": {},
   "source": [
    "# Backups\n",
    "\n",
    "dbatools is **awesome** at performing backups :-)\n",
    "\n",
    "The next block sets the variables for tje instances and folder paths for this Notebook and checks the connection - Refer to the first notebook for any issues"
   ]
  },
  {
   "cell_type": "code",
   "execution_count": null,
   "metadata": {
    "jupyter": {
     "source_hidden": true
    }
   },
   "outputs": [],
   "source": [
    "$FolderPath = $Env:USERPROFILE + '\\Documents\\dbatoolsdemo'\n",
    "$SqlInstances = 'localhost,15592', 'localhost,15593'\n",
    "$SqlCredential = Import-Clixml -Path $FolderPath\\sqladmin.cred\n",
    "Write-Output \" Creating connection to the containers\"\n",
    "try {\n",
    "    $SQL1 = Connect-DbaInstance -SqlInstance $SqlInstances[0] -SqlCredential $SqlCredential \n",
    "    $SQL2 = Connect-DbaInstance -SqlInstance $SqlInstances[1] -SqlCredential $SqlCredential\n",
    "    Write-Output \"We have a connection to the containers\"\n",
    "\n",
    "}\n",
    "catch {\n",
    "    Write-Output \"You haven't got a connection to the containers - Either they are still upgrading in which case try again in 30 seconds or the containers have not come up correctly\"\n",
    "    Write-Output \"Make sure the containers are running - the code is below in a block for you\"\n",
    "    Write-Output \"docker ps -a\"\n",
    "    Write-Output \"If they are read the logs - the code is below in a block for you\"\n",
    "    Write-Output \"docker logs dbatools_SQL2019_1\"\n",
    "    Write-Output \"docker logs dbatools_SQL2019-1_1\"\n",
    "}"
   ]
  },
  {
   "cell_type": "markdown",
   "metadata": {},
   "source": [
    "## Investigate a directory using the SQL Service Account\n",
    "\n",
    "We can investigate the file system from the viewpoint of the SQL Service Account using `Get-DbaFile` We are going to use that to show the files in the directory but this can be really useful when investigating errors with file system access, for example when backups fail or when reading from shares. This command will try ot access the path from teh SQL Instance using the SQL Account which means that you can troubleshoot the error and also that users do not need access to directories holding backups or client files for example  \n",
    "If we look in the Directory that we created in the create container notebook using the command below"
   ]
  },
  {
   "cell_type": "code",
   "execution_count": null,
   "metadata": {},
   "outputs": [],
   "source": [
    "Get-DbaFile -SqlInstance $SQL1 -SqlCredential $SqlCredential -Path /var/opt/mssql/backups/SQL1"
   ]
  },
  {
   "cell_type": "markdown",
   "metadata": {},
   "source": [
    "You can see that all there is in the directory is a dummy file that we created earlier when we set up the directories  \n",
    "\n",
    "## Check the last time that the databases were backed up\n",
    "\n",
    "Knowing the last time a database was backed up is often useful information and with dbatools it can be retrieved easily. (NB - I use Warning action silently continue to hide the backups from multiple forks warnings that I have created when I created the container and havent fixed yet!)"
   ]
  },
  {
   "cell_type": "code",
   "execution_count": null,
   "metadata": {},
   "outputs": [],
   "source": [
    "Get-DbaLastBackup -SqlInstance $SQL1,$SQL2 -SqlCredential $SqlCredential -WarningAction SilentlyContinue | Format-Table "
   ]
  },
  {
   "cell_type": "markdown",
   "metadata": {},
   "source": [
    "The databases were last backed up on the 21st December 2019. Thats not so clever!\n",
    "\n",
    "## Docker requires permissions\n",
    "\n",
    "You will get errors for the command below if the account that you have used to allow Docker to access your drives does not have permissions to the folder that we have created. [You can see the instructions here](https://docs.docker.com/docker-for-windows/)\n",
    "\n",
    "You should add the docker account with full control over your dbatoolsdemo directory in your User Profile directory if you get errors below.\n",
    "\n",
    "![DockerCompose](.\\images\\dbatoolsdemopermissions.png )\n",
    "\n",
    "Its annoying but you can give the docker account modify permissions to your documents folder and it will inherited\n",
    "\n",
    "![DockerCompose](.\\images\\documentsdirectorypermissions.png )\n",
    "\n"
   ]
  },
  {
   "cell_type": "markdown",
   "metadata": {},
   "source": [
    "## Perform a backup of the entire instance\n",
    "\n",
    "With one line of code we can quickly backup an entire instance."
   ]
  },
  {
   "cell_type": "code",
   "execution_count": null,
   "metadata": {},
   "outputs": [],
   "source": [
    "Backup-DbaDatabase  -SqlInstance $SQL1 -SqlCredential $SqlCredential -Path /var/opt/mssql/backups/SQL1"
   ]
  },
  {
   "cell_type": "markdown",
   "metadata": {},
   "source": [
    "All of the databases are backed up - Lets have a look in the directory"
   ]
  },
  {
   "cell_type": "code",
   "execution_count": null,
   "metadata": {},
   "outputs": [],
   "source": [
    "Get-DbaFile -SqlInstance $SQL1 -SqlCredential $SqlCredential -Path /var/opt/mssql/backups/SQL1"
   ]
  },
  {
   "cell_type": "markdown",
   "metadata": {},
   "source": [
    "If you want to have a look in the mounted volume on your laptop "
   ]
  },
  {
   "cell_type": "code",
   "execution_count": null,
   "metadata": {},
   "outputs": [],
   "source": [
    "Get-ChildItem \"$FolderPath\\SQL1\""
   ]
  },
  {
   "cell_type": "markdown",
   "metadata": {},
   "source": [
    "## Backup to a directory for each database\n",
    "\n",
    "Rob - I hear you cry, I have 2000 databases, I dont want them all backing up to the same directory - Can dbatools help me there ?\n",
    "\n",
    "Sure, just add the `-CreateFolder` switch.\n",
    "\n",
    "Lets demonstrate with SQL2\n",
    "\n",
    "Theres nothing up my sleeves, lets look at the SQL2 folder\n"
   ]
  },
  {
   "cell_type": "code",
   "execution_count": null,
   "metadata": {},
   "outputs": [],
   "source": [
    "Get-DbaFile -SqlInstance $SQL2 -SqlCredential $SqlCredential -Path /var/opt/mssql/backups/SQL2"
   ]
  },
  {
   "cell_type": "markdown",
   "metadata": {},
   "source": [
    "Only the dummy file! \n",
    "\n",
    "### Backup the databases"
   ]
  },
  {
   "cell_type": "code",
   "execution_count": null,
   "metadata": {},
   "outputs": [],
   "source": [
    "Backup-DbaDatabase -SqlInstance $SQL2 -SqlCredential $SqlCredential -CreateFolder -Path /var/opt/mssql/backups/SQL2 -CompressBackup -WarningAction SilentlyContinue"
   ]
  },
  {
   "cell_type": "markdown",
   "metadata": {},
   "source": [
    "## have a look in the directory"
   ]
  },
  {
   "cell_type": "code",
   "execution_count": null,
   "metadata": {},
   "outputs": [],
   "source": [
    "Get-ChildItem \"$FolderPath\\SQL2\" -Recurse"
   ]
  },
  {
   "cell_type": "markdown",
   "metadata": {},
   "source": [
    "As you can see we have the databases backed up, each in their own directory :-)"
   ]
  },
  {
   "cell_type": "markdown",
   "metadata": {},
   "source": [
    "## Double check all the instances\n",
    "\n",
    "dbatoos works with multiple instances whereever there is a `-SqlInstance` parameter\n",
    "\n",
    "Lets check the last time that these databases were backed up on both of the containers"
   ]
  },
  {
   "cell_type": "code",
   "execution_count": null,
   "metadata": {},
   "outputs": [],
   "source": [
    "Get-DbaLastBackup -SqlInstance $SQL1,$SQL2 -SqlCredential $SqlCredential -WarningAction SilentlyContinue | Format-Table "
   ]
  },
  {
   "cell_type": "markdown",
   "metadata": {},
   "source": [
    "# We want to use Ola Hallengren for our backups\n",
    "\n",
    "Thats ok, dbatools supports many of the excellent community tooling including Ola Hallengrens solution.\n",
    "\n",
    "You can install Ola Hallengren like this (except in containers)\n",
    "\n",
    "````\n",
    "$installDbaMaintenanceSolutionSplat = @{\n",
    "    SqlInstance = $sql1\n",
    "    InstallJobs = $true\n",
    "    ReplaceExisting = $true\n",
    "    LogToTable = $true\n",
    "    OutputFileDirectory = '/var/opt/mssql/backups/SQL1'\n",
    "    BackupLocation = '/var/opt/mssql/backups/SQL1'\n",
    "    CleanupTime = 72\n",
    "    Solution = 'All'\n",
    "    Database = 'master'\n",
    "}\n",
    "Install-DbaMaintenanceSolution @installDbaMaintenanceSolutionSplat -Verbose\n",
    "````\n",
    "\n",
    "Lets have a look at the Agent Jobs on the Instance"
   ]
  },
  {
   "cell_type": "code",
   "execution_count": null,
   "metadata": {},
   "outputs": [],
   "source": [
    "Get-DbaAgentJob -SqlInstance $sql1 |Select Name"
   ]
  },
  {
   "cell_type": "markdown",
   "metadata": {},
   "source": [
    "Those look like Ola Jobs to me :-)\n",
    "\n",
    "Lets run the jobs to back up the system and user databases"
   ]
  },
  {
   "cell_type": "code",
   "execution_count": null,
   "metadata": {},
   "outputs": [],
   "source": [
    "$Jobs = 'DatabaseBackup - SYSTEM_DATABASES - FULL' ,'DatabaseBackup - USER_DATABASES - FULL'\n",
    "Start-DbaAgentJob -SqlInstance $sql1 -Job $Jobs"
   ]
  },
  {
   "cell_type": "markdown",
   "metadata": {},
   "source": [
    "Check the status of the jobs"
   ]
  },
  {
   "cell_type": "code",
   "execution_count": null,
   "metadata": {},
   "outputs": [],
   "source": [
    "$SQL1 = Connect-DbaInstance -SqlInstance $SqlInstances[0] -SqlCredential $SqlCredential \n",
    "Get-DbaAgentJob -SqlInstance $sql1 -Job $Jobs | Select SqlInstance, Name, CurrentRunStatus, LastRunOutCome"
   ]
  },
  {
   "cell_type": "markdown",
   "metadata": {},
   "source": [
    "When the jobs have finished, lets have a look at the files.\n",
    "We need to alter the file path to include the current container name from the results above"
   ]
  },
  {
   "cell_type": "code",
   "execution_count": null,
   "metadata": {},
   "outputs": [],
   "source": [
    "Get-DbaFile -SqlInstance $sql1 -Path '/var/opt/mssql/data/ca2f813564a4/AdventureWorks2017/FULL'"
   ]
  },
  {
   "cell_type": "markdown",
   "metadata": {},
   "source": [
    "# Restores\n",
    "\n",
    "Backups are all very well and good but what about restores?\n",
    "\n",
    "**NEVER EVER DO THIS IN PRODUCTION**\n",
    "unless you need to delete all of your user databases for some reason"
   ]
  },
  {
   "cell_type": "code",
   "execution_count": null,
   "metadata": {},
   "outputs": [],
   "source": [
    "Get-DbaDatabase -SqlInstance $SQL1 -ExcludeAllSystemDb | Remove-DbaDatabase -Confirm:$false"
   ]
  },
  {
   "cell_type": "code",
   "execution_count": null,
   "metadata": {},
   "outputs": [],
   "source": [
    "$SQL1 = Connect-DbaInstance -SqlInstance $SqlInstances[0] -SqlCredential $SqlCredential \n",
    "Get-DbaDatabase -SqlInstance $SQL1 -ExcludeAllSystemDb | Select Name"
   ]
  },
  {
   "cell_type": "markdown",
   "metadata": {},
   "source": [
    "All the databases have gone - How easy it is to restore them?\n",
    "\n",
    "This easy :-)\n",
    "\n",
    "One line of code\n",
    "\n",
    "## First lets restore from the backups we took with dbatools in, with all files in the one directory"
   ]
  },
  {
   "cell_type": "code",
   "execution_count": null,
   "metadata": {},
   "outputs": [],
   "source": [
    "Write-Output \"Starting Restoring\"\n",
    "Restore-DbaDatabase  -SqlInstance $SQL1 -Path /var/opt/mssql/backups/SQL1 \n",
    "Write-Output \"Finished\""
   ]
  },
  {
   "cell_type": "code",
   "execution_count": null,
   "metadata": {},
   "outputs": [],
   "source": [
    "$SQL1 = Connect-DbaInstance -SqlInstance $SqlInstances[0] -SqlCredential $SqlCredential \n",
    "Get-DbaDatabase -SqlInstance $SQL1 -ExcludeAllSystemDb | Select Name"
   ]
  },
  {
   "cell_type": "markdown",
   "metadata": {},
   "source": [
    "That was easy - WHat about if I have used Ola Hallengren?\n",
    "\n",
    "AGAIN\n",
    "\n",
    "**NEVER EVER DO THIS IN PRODUCTION**\n",
    "unless you need to delete all of your user databases for some reason\n"
   ]
  },
  {
   "cell_type": "code",
   "execution_count": null,
   "metadata": {},
   "outputs": [],
   "source": [
    "Get-DbaDatabase -SqlInstance $SQL1 -ExcludeAllSystemDb | Remove-DbaDatabase -Confirm:$false"
   ]
  },
  {
   "cell_type": "markdown",
   "metadata": {},
   "source": [
    "## Restore from Ola Halengren Backups \n",
    "\n",
    "- Use the path from the above files check with the new container name "
   ]
  },
  {
   "cell_type": "code",
   "execution_count": null,
   "metadata": {},
   "outputs": [],
   "source": [
    "Write-Output \"Starting Restoring\"\n",
    "Restore-DbaDatabase -SqlInstance $SQL1 -Path /var/opt/mssql/data/ca2f813564a4 -MaintenanceSolutionBackup\n",
    "Write-Output \"Finished\""
   ]
  },
  {
   "cell_type": "code",
   "execution_count": null,
   "metadata": {},
   "outputs": [],
   "source": [
    "$SQL1 = Connect-DbaInstance -SqlInstance $SqlInstances[0] -SqlCredential $SqlCredential \n",
    "Get-DbaDatabase -SqlInstance $SQL1 -ExcludeAllSystemDb | Select Name"
   ]
  },
  {
   "cell_type": "markdown",
   "metadata": {},
   "source": [
    "Thats all very well and good\n",
    "\n",
    "## When were the databases restored?\n",
    "\n",
    "and which backup was used?"
   ]
  },
  {
   "cell_type": "code",
   "execution_count": null,
   "metadata": {},
   "outputs": [],
   "source": [
    "Get-DbaDbRestoreHistory -SqlInstance $SQL1 -Last"
   ]
  },
  {
   "cell_type": "markdown",
   "metadata": {},
   "source": [
    "# Don't forget to clean up\n",
    "\n",
    "Now you can use these containers to run the rest of the notebooks - Don't forget to run the Clean Up Containers Notebook at the end to clean up"
   ]
  },
  {
   "cell_type": "code",
   "execution_count": null,
   "metadata": {},
   "outputs": [],
   "source": []
  }
 ],
 "metadata": {
  "kernelspec": {
   "display_name": ".NET (PowerShell)",
   "language": "PowerShell",
   "name": ".net-powershell"
  },
  "language_info": {
   "file_extension": ".ps1",
   "mimetype": "text/x-powershell",
   "name": "PowerShell",
   "pygments_lexer": "powershell",
   "version": "7.0"
  }
 },
 "nbformat": 4,
 "nbformat_minor": 4
}
