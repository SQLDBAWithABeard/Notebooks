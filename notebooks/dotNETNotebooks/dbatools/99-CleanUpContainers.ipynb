{
 "cells": [
  {
   "cell_type": "markdown",
   "metadata": {},
   "source": [
    "# Cleaning up the containers and directories and files\n",
    "\n",
    "The code below will clean up the files that have been created and remove the docker containers but not the image so that you can run this notebook again without having to download the image again"
   ]
  },
  {
   "cell_type": "code",
   "execution_count": 2,
   "metadata": {},
   "outputs": [
    {
     "data": {
      "text/html": [
       "<pre>Removing containers</pre>\r\n"
      ]
     },
     "metadata": {},
     "output_type": "display_data"
    },
    {
     "data": {
      "text/html": [
       "<pre>Removing network dbatools_BeardsMagicNetwork</pre>\r\n"
      ]
     },
     "metadata": {},
     "output_type": "display_data"
    },
    {
     "data": {
      "text/html": [
       "<pre>Network dbatools_BeardsMagicNetwork not found.</pre>\r\n"
      ]
     },
     "metadata": {},
     "output_type": "display_data"
    },
    {
     "data": {
      "text/html": [
       "<pre>Removing directories and files</pre>\r\n"
      ]
     },
     "metadata": {},
     "output_type": "display_data"
    },
    {
     "data": {
      "text/html": [
       "<pre>Remove-Item: \r\n",
       "Line |\r\n",
       "   5 | Remove-Item $FolderPath -Recurse -Force\r\n",
       "\r\n",
       "     | ^ Access to the path &#39;C:\\Users\\mrrob\\Documents\\dbatoolsdemo\\SQL2&#39; is denied.</pre>\r\n"
      ]
     },
     "metadata": {},
     "output_type": "display_data"
    },
    {
     "data": {
      "text/html": [
       "<pre>Removed everything</pre>\r\n"
      ]
     },
     "metadata": {},
     "output_type": "display_data"
    }
   ],
   "source": [
    "$FolderPath = $Env:USERPROFILE + '\\Documents\\dbatoolsdemo'\n",
    "Write-Output \"Removing containers\"\n",
    "docker-compose down \n",
    "Write-Output \"Removing directories and files\"\n",
    "Remove-Item $FolderPath -Recurse -Force\n",
    "Write-Output \"Removed everything\"\n"
   ]
  },
  {
   "cell_type": "code",
   "execution_count": null,
   "metadata": {},
   "outputs": [],
   "source": []
  }
 ],
 "metadata": {
  "kernelspec": {
   "display_name": ".NET (PowerShell)",
   "language": "PowerShell",
   "name": ".net-powershell"
  },
  "language_info": {
   "file_extension": ".ps1",
   "mimetype": "text/x-powershell",
   "name": "PowerShell",
   "pygments_lexer": "powershell",
   "version": "7.0"
  }
 },
 "nbformat": 4,
 "nbformat_minor": 4
}
