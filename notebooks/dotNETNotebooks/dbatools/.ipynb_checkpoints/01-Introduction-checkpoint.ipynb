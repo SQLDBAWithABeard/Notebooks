{
 "cells": [
  {
   "cell_type": "markdown",
   "metadata": {},
   "source": [
    "# Introduction\n",
    "\n",
    "How do you start with dbatools?\n",
    "\n",
    "Lets look at how you can begin and how you can help your self to be able to use dbatools"
   ]
  },
  {
   "cell_type": "code",
   "execution_count": null,
   "metadata": {},
   "outputs": [],
   "source": [
    "## Lets look at the commands\n",
    "Get-Command -Module dbatools "
   ]
  },
  {
   "cell_type": "code",
   "execution_count": null,
   "metadata": {},
   "outputs": [],
   "source": [
    "## How many commands?\n",
    "(Get-Command -Module dbatools -CommandType Function ).Count"
   ]
  },
  {
   "cell_type": "markdown",
   "metadata": {},
   "source": [
    "## How do we find commands ?\n",
    "\n",
    "With that many commands even Chrissy can't remember them all !\n",
    "\n",
    "So there is a command to find commands"
   ]
  },
  {
   "cell_type": "code",
   "execution_count": null,
   "metadata": {},
   "outputs": [],
   "source": [
    "Find-DbaCommand -Tag Backup"
   ]
  },
  {
   "cell_type": "code",
   "execution_count": null,
   "metadata": {},
   "outputs": [],
   "source": [
    "Find-DbaCommand -Tag Restore"
   ]
  },
  {
   "cell_type": "code",
   "execution_count": null,
   "metadata": {},
   "outputs": [],
   "source": [
    "Find-DbaCommand -Tag Migration"
   ]
  },
  {
   "cell_type": "code",
   "execution_count": null,
   "metadata": {},
   "outputs": [],
   "source": [
    "Find-DbaCommand -Tag Agent"
   ]
  },
  {
   "cell_type": "code",
   "execution_count": null,
   "metadata": {},
   "outputs": [],
   "source": [
    "Find-DbaCommand -Pattern User "
   ]
  },
  {
   "cell_type": "code",
   "execution_count": null,
   "metadata": {},
   "outputs": [],
   "source": [
    "Find-DbaCommand -Pattern linked"
   ]
  },
  {
   "cell_type": "markdown",
   "metadata": {},
   "source": [
    "## You can also use native PowerShell \n",
    "\n",
    "This can be used with any module"
   ]
  },
  {
   "cell_type": "code",
   "execution_count": null,
   "metadata": {},
   "outputs": [],
   "source": [
    "Get-Command -Module dbatools -Name *linked*"
   ]
  },
  {
   "cell_type": "markdown",
   "metadata": {},
   "source": [
    "# How to use commands ?\n",
    "\n",
    "**ALWAYS ALWAYS ALWAYS use `Get-Help`**"
   ]
  },
  {
   "cell_type": "code",
   "execution_count": null,
   "metadata": {},
   "outputs": [],
   "source": [
    "Get-Help Test-DbaLinkedServerConnection -Full"
   ]
  },
  {
   "cell_type": "code",
   "execution_count": null,
   "metadata": {},
   "outputs": [],
   "source": [
    "## Here a neat trick which you can use in PowerShell or pwsh but not in a notebook!\n",
    "\n",
    "#      Find-DbaCommand -Pattern linked | Out-GridView -PassThru | Get-Help -Full \n",
    "\"Find-DbaCommand -Pattern linked | Out-GridView -PassThru | Get-Help -Full \" | clip\n",
    "Start-Process 'C:\\Program Files\\PowerShell\\7-preview\\pwsh.exe'"
   ]
  }
 ],
 "metadata": {
  "kernelspec": {
   "display_name": ".NET (PowerShell)",
   "language": "PowerShell",
   "name": ".net-powershell"
  },
  "language_info": {
   "file_extension": ".ps1",
   "mimetype": "text/x-powershell",
   "name": "PowerShell",
   "pygments_lexer": "powershell",
   "version": "7.0"
  }
 },
 "nbformat": 4,
 "nbformat_minor": 4
}
