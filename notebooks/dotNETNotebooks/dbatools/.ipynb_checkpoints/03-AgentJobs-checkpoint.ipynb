{
 "cells": [
  {
   "cell_type": "markdown",
   "metadata": {},
   "source": [
    "# Working with Agent Jobs with dbatools\n",
    "\n",
    "You can use dbatools to administer your Agent jobs. Make sure that you have first run your create container notebook\n",
    "\n",
    "The cell block below will create the variables that you will need for the rest of the notebook\n",
    "\n",
    "You can run the code by using the arrow keys and shift and enter"
   ]
  },
  {
   "cell_type": "code",
   "execution_count": 4,
   "metadata": {
    "jupyter": {
     "source_hidden": true
    }
   },
   "outputs": [
    {
     "data": {
      "text/html": [
       "<pre> Creating connection to the containers</pre>\r\n"
      ]
     },
     "metadata": {},
     "output_type": "display_data"
    },
    {
     "data": {
      "text/html": [
       "<pre>We have a connection to the containers</pre>\r\n"
      ]
     },
     "metadata": {},
     "output_type": "display_data"
    }
   ],
   "source": [
    "$FolderPath = $Env:USERPROFILE + '\\Documents\\dbatoolsdemo'\n",
    "$SqlInstances = 'localhost,15592', 'localhost,15593'\n",
    "$SqlCredential = Import-Clixml -Path $FolderPath\\sqladmin.cred\n",
    "Write-Output \" Creating connection to the containers\"\n",
    "try {\n",
    "    $SQL1 = Connect-DbaInstance -SqlInstance $SqlInstances[0] -SqlCredential $SqlCredential \n",
    "    $SQL2 = Connect-DbaInstance -SqlInstance $SqlInstances[1] -SqlCredential $SqlCredential\n",
    "    Write-Output \"We have a connection to the containers\"\n",
    "\n",
    "}\n",
    "catch {\n",
    "    Write-Output \"You haven't got a connection to the containers - Either they are still upgrading in which case try again in 30 seconds or the containers have not come up correctly\"\n",
    "    Write-Output \"Make sure the containers are running - the code is below in a block for you\"\n",
    "    Write-Output \"docker ps -a\"\n",
    "    Write-Output \"If they are read the logs - the code is below in a block for you\"\n",
    "    Write-Output \"docker logs dbatools_SQL2019_1\"\n",
    "    Write-Output \"docker logs dbatools_SQL2019-1_1\"\n",
    "}"
   ]
  },
  {
   "cell_type": "markdown",
   "metadata": {},
   "source": [
    "## LIst the Agent jobs on the instance\n",
    "\n",
    "Some more words"
   ]
  },
  {
   "cell_type": "code",
   "execution_count": 5,
   "metadata": {},
   "outputs": [
    {
     "data": {
      "text/html": [
       "<pre></pre>\r\n"
      ]
     },
     "metadata": {},
     "output_type": "display_data"
    },
    {
     "data": {
      "text/html": [
       "<pre>ComputerName InstanceName SqlInstance  Name                                     Category             OwnerLoginName CurrentRunStat</pre>\r\n"
      ]
     },
     "metadata": {},
     "output_type": "display_data"
    },
    {
     "data": {
      "text/html": [
       "<pre>                                                                                                                                us</pre>\r\n"
      ]
     },
     "metadata": {},
     "output_type": "display_data"
    },
    {
     "data": {
      "text/html": [
       "<pre>------------ ------------ -----------  ----                                     --------             -------------- --------------</pre>\r\n"
      ]
     },
     "metadata": {},
     "output_type": "display_data"
    },
    {
     "data": {
      "text/html": [
       "<pre>localhost    MSSQLSERVER  9a744bd5ae64 CommandLog Cleanup                       Database Maintenance OldSa                    Idle</pre>\r\n"
      ]
     },
     "metadata": {},
     "output_type": "display_data"
    },
    {
     "data": {
      "text/html": [
       "<pre>localhost    MSSQLSERVER  9a744bd5ae64 DatabaseBackup - SYSTEM_DATABASES - FULL Database Maintenance OldSa                    Idle</pre>\r\n"
      ]
     },
     "metadata": {},
     "output_type": "display_data"
    },
    {
     "data": {
      "text/html": [
       "<pre>localhost    MSSQLSERVER  9a744bd5ae64 DatabaseBackup - USER_DATABASES - DIFF   Database Maintenance OldSa                    Idle</pre>\r\n"
      ]
     },
     "metadata": {},
     "output_type": "display_data"
    },
    {
     "data": {
      "text/html": [
       "<pre>localhost    MSSQLSERVER  9a744bd5ae64 DatabaseBackup - USER_DATABASES - FULL   Database Maintenance OldSa                    Idle</pre>\r\n"
      ]
     },
     "metadata": {},
     "output_type": "display_data"
    },
    {
     "data": {
      "text/html": [
       "<pre>localhost    MSSQLSERVER  9a744bd5ae64 DatabaseBackup - USER_DATABASES - LOG    Database Maintenance OldSa                    Idle</pre>\r\n"
      ]
     },
     "metadata": {},
     "output_type": "display_data"
    },
    {
     "data": {
      "text/html": [
       "<pre>localhost    MSSQLSERVER  9a744bd5ae64 DatabaseIntegrityCheck - SYSTEM_DATABAS… Database Maintenance OldSa                    Idle</pre>\r\n"
      ]
     },
     "metadata": {},
     "output_type": "display_data"
    },
    {
     "data": {
      "text/html": [
       "<pre>localhost    MSSQLSERVER  9a744bd5ae64 DatabaseIntegrityCheck - USER_DATABASES  Database Maintenance OldSa                    Idle</pre>\r\n"
      ]
     },
     "metadata": {},
     "output_type": "display_data"
    },
    {
     "data": {
      "text/html": [
       "<pre>localhost    MSSQLSERVER  9a744bd5ae64 IndexOptimize - USER_DATABASES           Database Maintenance OldSa                    Idle</pre>\r\n"
      ]
     },
     "metadata": {},
     "output_type": "display_data"
    },
    {
     "data": {
      "text/html": [
       "<pre>localhost    MSSQLSERVER  9a744bd5ae64 sp_delete_backuphistory                  Database Maintenance OldSa                    Idle</pre>\r\n"
      ]
     },
     "metadata": {},
     "output_type": "display_data"
    },
    {
     "data": {
      "text/html": [
       "<pre>localhost    MSSQLSERVER  9a744bd5ae64 sp_purge_jobhistory                      Database Maintenance OldSa                    Idle</pre>\r\n"
      ]
     },
     "metadata": {},
     "output_type": "display_data"
    },
    {
     "data": {
      "text/html": [
       "<pre>localhost    MSSQLSERVER  9a744bd5ae64 The Beard is Important                   [Uncategorized (Loc… sqladmin                 Idle</pre>\r\n"
      ]
     },
     "metadata": {},
     "output_type": "display_data"
    },
    {
     "data": {
      "text/html": [
       "<pre></pre>\r\n"
      ]
     },
     "metadata": {},
     "output_type": "display_data"
    }
   ],
   "source": [
    "Get-DbaAgentJob -SqlInstance $sql1 | Format-Table"
   ]
  },
  {
   "cell_type": "code",
   "execution_count": null,
   "metadata": {},
   "outputs": [],
   "source": []
  }
 ],
 "metadata": {
  "kernelspec": {
   "display_name": ".NET (PowerShell)",
   "language": "PowerShell",
   "name": ".net-powershell"
  },
  "language_info": {
   "file_extension": ".ps1",
   "mimetype": "text/x-powershell",
   "name": "PowerShell",
   "pygments_lexer": "powershell",
   "version": "7.0"
  }
 },
 "nbformat": 4,
 "nbformat_minor": 4
}
