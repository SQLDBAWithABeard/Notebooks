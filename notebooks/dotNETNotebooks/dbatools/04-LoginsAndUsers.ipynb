{
 "cells": [
  {
   "cell_type": "markdown",
   "metadata": {},
   "source": [
    "# Logins and users\n",
    "\n",
    "Make sure you run the containers creation notebook first.\n",
    "\n",
    "dbatools is **awesome** with Logins and Users\n",
    "\n",
    "First we will set up the variables and connections to the containers"
   ]
  },
  {
   "cell_type": "code",
   "execution_count": null,
   "metadata": {
    "jupyter": {
     "source_hidden": true
    }
   },
   "outputs": [],
   "source": [
    "$FolderPath = $Env:USERPROFILE + '\\Documents\\dbatoolsdemo'\n",
    "$SqlInstances = 'localhost,15592', 'localhost,15593'\n",
    "$SqlCredential = Import-Clixml -Path $FolderPath\\sqladmin.cred\n",
    "Write-Output \" Creating connection to the containers\"\n",
    "try {\n",
    "    $SQL1 = Connect-DbaInstance -SqlInstance $SqlInstances[0] -SqlCredential $SqlCredential \n",
    "    $SQL2 = Connect-DbaInstance -SqlInstance $SqlInstances[1] -SqlCredential $SqlCredential\n",
    "    Write-Output \"We have a connection to the containers\"\n",
    "\n",
    "}\n",
    "catch {\n",
    "    Write-Output \"You haven't got a connection to the containers - Either they are still upgrading in which case try again in 30 seconds or the containers have not come up correctly\"\n",
    "    Write-Output \"Make sure the containers are running - the code is below in a block for you\"\n",
    "    Write-Output \"docker ps -a\"\n",
    "    Write-Output \"If they are read the logs - the code is below in a block for you\"\n",
    "    Write-Output \"docker logs dbatools_SQL2019_1\"\n",
    "    Write-Output \"docker logs dbatools_SQL2019-1_1\"\n",
    "}"
   ]
  },
  {
   "cell_type": "markdown",
   "metadata": {},
   "source": [
    "## A story of a login\n",
    "\n",
    "Run this cell below to set up the start"
   ]
  },
  {
   "cell_type": "code",
   "execution_count": null,
   "metadata": {
    "jupyter": {
     "source_hidden": true
    }
   },
   "outputs": [],
   "source": [
    "New-DbaDatabase -SqlInstance $SQL1 -Name SockFactoryApp | Out-Null\n",
    "$Password = ConvertTo-SecureString SockFactoryApp_User -AsPlainText\n",
    "New-DbaLogin -SqlInstance $Sql1 -Login SockFactoryApp_User -SecurePassword $Password |Out-Null\n",
    "New-DbaDbUser -SqlInstance $SQL1 -Database SockFactoryApp -Login SockFactoryApp_User -Username SockFactoryApp_User  | Out-Null\n",
    "Remove-DbaLogin -SqlInstance $SQL1 -Login SockFactoryApp_User -Force   | Out-Null\n",
    "$sqladminPassword = ConvertTo-SecureString 'dbatools.IO' -AsPlainText -Force \n",
    "$cred = New-Object System.Management.Automation.PSCredential ('SockFactory_App', $sqladminpassword)\n",
    "Invoke-DbaQuery -SqlInstance $SqlInstances[0] -SqlCredential $cred -Query \"SELECT @@SERVER\" -WarningAction SilentlyContinue\n",
    "Invoke-DbaQuery -SqlInstance $SqlInstances[0] -SqlCredential $cred -Query \"SELECT @@SERVER\" -WarningAction SilentlyContinue\n",
    "Invoke-DbaQuery -SqlInstance $SqlInstances[0] -SqlCredential $cred -Query \"SELECT @@SERVER\" -WarningAction SilentlyContinue\n",
    "Invoke-DbaQuery -SqlInstance $SqlInstances[0] -SqlCredential $cred -Query \"SELECT @@SERVER\" -WarningAction SilentlyContinue\n",
    "\n",
    "\n",
    "Write-Output \"Setup finished\""
   ]
  },
  {
   "cell_type": "markdown",
   "metadata": {},
   "source": [
    "# 3am Tuesday Morning\n",
    "\n",
    "You receive a call out because the Sock Factory has shut down and \n",
    "\n",
    "> It's the database's fault  \n",
    "The connection is failing\n",
    "\n",
    "Amongst your troubleshooting steps (perhaps they could/should be in a notebook so the results get saved?) \n",
    "You look in the error log for failed logins\n",
    "\n",
    "You can do this with dbatools "
   ]
  },
  {
   "cell_type": "code",
   "execution_count": null,
   "metadata": {},
   "outputs": [],
   "source": [
    "Get-DbaErrorLog -SqlInstance $sql1 -After (Get-Date).AddMinutes(-5) | Select LogDate,Source,Text  "
   ]
  },
  {
   "cell_type": "markdown",
   "metadata": {},
   "source": [
    "No login?\n",
    "Interesting.  \n",
    "\n",
    "Then you remember a new replica was added to the Availability Group at the weekend. \n",
    "\n",
    "Maybe the DBA did not add the logins correctly\n",
    "\n",
    "You need to check for the login"
   ]
  },
  {
   "cell_type": "code",
   "execution_count": null,
   "metadata": {},
   "outputs": [],
   "source": [
    "Get-DbaLogin -SqlInstance $SQL1 -Login SockFactoryApp_User"
   ]
  },
  {
   "cell_type": "markdown",
   "metadata": {},
   "source": [
    "No response means no login :-(\n",
    "\n",
    "It's ok, just create a new login using the password from the secure password vault"
   ]
  },
  {
   "cell_type": "code",
   "execution_count": null,
   "metadata": {},
   "outputs": [],
   "source": [
    "$Password = ConvertTo-SecureString SockFactoryApp_User -AsPlainText\n",
    "New-DbaLogin -SqlInstance $Sql1 -Login SockFactoryApp_User -SecurePassword $Password"
   ]
  },
  {
   "cell_type": "markdown",
   "metadata": {},
   "source": [
    "and check that it exists"
   ]
  },
  {
   "cell_type": "code",
   "execution_count": null,
   "metadata": {},
   "outputs": [],
   "source": [
    "Get-DbaLogin -SqlInstance $SQL1 -Login SockFactoryApp_User"
   ]
  },
  {
   "cell_type": "markdown",
   "metadata": {},
   "source": [
    "A quick email to the users to test and all will be well :-)"
   ]
  },
  {
   "cell_type": "markdown",
   "metadata": {},
   "source": [
    "## Its not always that easy\n",
    "\n",
    "The Users come back saying no socks are being made and it is still the database\n",
    "\n",
    "You have a look in the error log (we will just simulate the error first)"
   ]
  },
  {
   "cell_type": "code",
   "execution_count": null,
   "metadata": {},
   "outputs": [],
   "source": [
    "$sqladminPassword = ConvertTo-SecureString 'SockFactoryApp_User' -AsPlainText -Force \n",
    "$cred = New-Object System.Management.Automation.PSCredential ('SockFactoryApp_User', $sqladminpassword)\n",
    "Invoke-DbaQuery -SqlInstance $SqlInstances[0] -SqlCredential $cred -Database SockFactoryApp -Query \"PRINT 'All is Well'\" -WarningAction SilentlyContinue"
   ]
  },
  {
   "cell_type": "code",
   "execution_count": null,
   "metadata": {},
   "outputs": [],
   "source": [
    "Get-DbaErrorLog -SqlInstance $sql1 -After (Get-Date).AddMinutes(-5) | Select LogDate,Source,Text  "
   ]
  },
  {
   "cell_type": "markdown",
   "metadata": {},
   "source": [
    "Hmmm \n",
    "\n",
    "> Failed to open the explicitly specified database 'SockFactoryApp'\n",
    "\n",
    "Does the user exist?"
   ]
  },
  {
   "cell_type": "code",
   "execution_count": null,
   "metadata": {},
   "outputs": [],
   "source": [
    "Get-DbaDbUser -SqlInstance $SQL1 -Database SockFactoryApp -ExcludeSystemUser"
   ]
  },
  {
   "cell_type": "markdown",
   "metadata": {},
   "source": [
    "So the user exists but we can't login\n",
    "\n",
    "Whats going on ?\n",
    ".  \n",
    ".  \n",
    ".  \n",
    ".  \n",
    ".  \n",
    ".  \n",
    ".  \n",
    ".  \n",
    ".  \n",
    ".  \n",
    ".  \n",
    ".  \n",
    "  \n",
    "  \n",
    "    \n",
    "     \n",
    "       \n",
    "         \n",
    "           \n",
    "             \n",
    "\n",
    "\n",
    "\n",
    "\n",
    "\n",
    "\n",
    "\n"
   ]
  },
  {
   "cell_type": "markdown",
   "metadata": {},
   "source": [
    "If you guessed Orphaned user \n",
    "  \n",
    "Let's check that"
   ]
  },
  {
   "cell_type": "code",
   "execution_count": null,
   "metadata": {},
   "outputs": [],
   "source": [
    "Get-DbaDbOrphanUser -SqlInstance $sql1"
   ]
  },
  {
   "cell_type": "markdown",
   "metadata": {},
   "source": [
    "We have an orphaned user :-(   \n",
    "  \n",
    "We can fix that  "
   ]
  },
  {
   "cell_type": "code",
   "execution_count": null,
   "metadata": {},
   "outputs": [],
   "source": [
    "Repair-DbaDbOrphanUser -SqlInstance $sql1"
   ]
  },
  {
   "cell_type": "markdown",
   "metadata": {},
   "source": [
    "Lets just a run a query as the user to make sure "
   ]
  },
  {
   "cell_type": "code",
   "execution_count": null,
   "metadata": {},
   "outputs": [],
   "source": [
    "$sqladminPassword = ConvertTo-SecureString 'SockFactoryApp_User' -AsPlainText -Force \n",
    "$cred = New-Object System.Management.Automation.PSCredential ('SockFactoryApp_User', $sqladminpassword)\n",
    "Invoke-DbaQuery -SqlInstance $SqlInstances[0] -SqlCredential $cred -Database SockFactoryApp -Query \"PRINT 'All is Well'\" -MessagesToOutput"
   ]
  },
  {
   "cell_type": "markdown",
   "metadata": {},
   "source": [
    "## Wash Up Meeting\n",
    "\n",
    "The next day there was a wash-up meeting to find out why the outage happened and how to avoid it happening again.\n",
    "\n",
    "The DBA mentions that dbatools has a command called `Copy-DbaLogins` which can be used to ensure that all logins are synced across instances.\n",
    "\n",
    "Using a script like\n",
    "\n",
    "````\n",
    "try {\n",
    "    $replicas = (Get-DbaAgReplica -SqlInstance $ENV:ComputerName).name -EnableException\n",
    "}\n",
    "catch {\n",
    "    [System.Environment]::Exit(1)\n",
    "}\n",
    "\n",
    "foreach ($replica in $replicas) {\n",
    "    Write-Output \"For this replica $replica\"\n",
    "    $replicastocopy = $replicas | Where-Object { $_ -ne $replica }\n",
    "    foreach ($Replicatocopy in $replicastocopy) {\n",
    "        Write-Output \"We will copy logins from $replica to $Replicatocopy\"\n",
    "        try {\n",
    "          $output =  Copy-DbaLogin -Source $replica -Destination $replicatocopy -ExcludeSystemLogins -EnableException\n",
    "        }\n",
    "        catch {\n",
    "            $error[0..5] | Format-List -Force | Out-String\n",
    "            [System.Environment]::Exit(1)\n",
    "        }\n",
    "        if ($output.Status -contains 'Failed') {\n",
    "            $error[0..5] | Format-List -Force | Out-String\n",
    "            [System.Environment]::Exit(1)\n",
    "            }\n",
    "    }\n",
    "}\n",
    "````\n",
    "In an agent job following the instructions at https://dbatools.io/agent will ensure that all logins are created on all replicas of an Availability Group"
   ]
  },
  {
   "cell_type": "markdown",
   "metadata": {},
   "source": [
    "We don't have an Availability Group here but we can see what `Copy-DBaLogin` can do.\n",
    "\n",
    "If we look at the logins on SQL2, we can see that SockFactoryApp_User does not exist"
   ]
  },
  {
   "cell_type": "code",
   "execution_count": null,
   "metadata": {},
   "outputs": [],
   "source": [
    "Get-DbaLogin -SqlInstance $SQL2 | Select Name"
   ]
  },
  {
   "cell_type": "markdown",
   "metadata": {},
   "source": [
    "We can run `Copy-DbaLogin` to copy the logins that do not exist from SQL1 to SQL2 (To drop and recreate logins you cna use the `-Force` parameter"
   ]
  },
  {
   "cell_type": "code",
   "execution_count": null,
   "metadata": {},
   "outputs": [],
   "source": [
    "Copy-DbaLogin -Source $sql1 -Destination $SQL2 -ExcludeSystemLogins "
   ]
  },
  {
   "cell_type": "markdown",
   "metadata": {},
   "source": [
    "And when we check SQL2, we cna see the user"
   ]
  },
  {
   "cell_type": "code",
   "execution_count": null,
   "metadata": {},
   "outputs": [],
   "source": [
    "Get-DbaLogin -SqlInstance $SQL2 | Select Name"
   ]
  },
  {
   "cell_type": "markdown",
   "metadata": {},
   "source": [
    "# Exporting Users and Permissions to Excel\n",
    "\n",
    "Making use of another PowerShell module `ImportExcel` we cna dynamically create Excel workbooks and format them.\n",
    "\n",
    "To create an Excel workbook showing all of the users, logins and permissions on an instance - this code can be used. There is also an Azure Data Studio Notebook that will do this in my Notebooks Repo at [beard.media/Notebooks](beard.media/Notebooks)\n",
    "\n",
    "Lets check for the required modules and install if needed"
   ]
  },
  {
   "cell_type": "code",
   "execution_count": null,
   "metadata": {},
   "outputs": [],
   "source": [
    "#Check for modules and install\n",
    "$Modules = 'dbatools', 'importExcel'\n",
    "\n",
    "if((Get-PsRepository -Name PSGallery).InstallationPolicy -ne 'Trusted'){\n",
    "    Write-Output \"The PowerShell Gallery is not trusted so I will trust it so that we can install the modules without interaction\"\n",
    "    Set-PsRepository -Name PSGallery -InstallationPolicy Trusted\n",
    "} else {\n",
    "    Write-Output \"The PowerShell Gallery is trusted I will continue\"\n",
    "}\n",
    "$Modules.ForEach{\n",
    "    If(-not(Get-Module $psitem -ListAvailable)){\n",
    "        Write-Output \"We don't have the $psitem module so we will install it\"\n",
    "        Install-Module $psitem -Scope CurrentUser\n",
    "    }\n",
    "    else {\n",
    "        Write-Output \"We have the $psitem module already\"\n",
    "    }\n",
    "}"
   ]
  },
  {
   "cell_type": "code",
   "execution_count": null,
   "metadata": {},
   "outputs": [],
   "source": [
    "$ExcelDirectory = 'c:\\temp\\' # Alter this to the directory you want the file created\n",
    "$SQlinstance = $SqlInstances[0]  # Alter this for the SQL Instance you want to get permissions for\n",
    "$SqlCredential = $SqlCredential ## if you need a credential\n",
    "Write-Output \"Processing $sqlinstance\"\n",
    "\n",
    "$InstanceName = $SQlinstance.Split('\\').Split('.').Split('\\').Split(',') -join '_'\n",
    "$ExcelFile = $ExcelDirectory + '\\' + $InstanceName + '_Permssions_OneTab_' + (Get-Date).ToString('yyyy-MM-dd') + '.xlsx'\n",
    "\n",
    "Write-Output \"    FileName is $ExcelFile\"\n",
    "\n",
    "$WorkSheetName = \"Permissions\"\n",
    "\n",
    "    $excel = Get-DbaUserPermission -SqlInstance $sqlinstance -SqlCredential $SqlCredential | Export-Excel -Path $ExcelFile -WorksheetName $WorkSheetName -AutoSize -FreezeTopRow -AutoFilter -PassThru\n",
    "  \n",
    "    $rulesparam = @{\n",
    "        Address   = $excel.Workbook.Worksheets[$WorkSheetName].Dimension.Address\n",
    "        WorkSheet = $excel.Workbook.Worksheets[$WorkSheetName] \n",
    "        RuleType  = 'Expression'      \n",
    "    }\n",
    "\n",
    "    Add-ConditionalFormatting @rulesparam -ConditionValue 'NOT(ISERROR(FIND(\"sysadmin\",$G1)))' -BackgroundColor Yellow -StopIfTrue\n",
    "    Add-ConditionalFormatting @rulesparam -ConditionValue 'NOT(ISERROR(FIND(\"db_owner\",$G1)))' -BackgroundColor Yellow -StopIfTrue\n",
    "    Add-ConditionalFormatting @rulesparam -ConditionValue 'NOT(ISERROR(FIND(\"SERVER LOGINS\",$E1)))' -BackgroundColor PaleGreen \n",
    "    Add-ConditionalFormatting @rulesparam -ConditionValue 'NOT(ISERROR(FIND(\"SERVER SECURABLES\",$E1)))' -BackgroundColor PowderBlue \n",
    "    Add-ConditionalFormatting @rulesparam -ConditionValue 'NOT(ISERROR(FIND(\"DB ROLE MEMBERS\",$E1)))' -BackgroundColor GoldenRod \n",
    "    Add-ConditionalFormatting @rulesparam -ConditionValue 'NOT(ISERROR(FIND(\"DB SECURABLES\",$E1)))' -BackgroundColor BurlyWood \n",
    "\n",
    "    Close-ExcelPackage $excel\n",
    "\n",
    "\n",
    "Write-Output \"\"\n",
    "Write-Output \"Finished Processing $sqlinstance\"\n",
    "\n",
    "$Excel = Open-ExcelPackage -Path $ExcelFile\n",
    "Add-Worksheet -ExcelPackage $Excel -WorksheetName 'Title' -MoveToStart | Out-Null\n",
    "\n",
    "$TitleSheet = $excel.Workbook.Worksheets['Title']\n",
    "$Date = (Get-Date).ToLongDateString()\n",
    "$TitleSheet.Cells[\"A1\"].value = \"This Worksheet shows the User Permissions for each database on $sqlinstance at $Date \"\n",
    "Set-ExcelRange -Worksheet $TitleSheet -Range \"A:1\" -Bold -FontSize 22 -Underline -UnderLineType Double\n",
    "\n",
    "$TitleSheet.Cells[\"B3\"].Value = \"The Cells are colour coded as follows :-\"\n",
    "Set-ExcelRange -Worksheet $TitleSheet -Range \"B3\" -Bold -FontSize 18 \n",
    "$TitleSheet.Cells[\"E5\"].Value = \"The Yellow Cells show members of the sysadmin role who have permission to do and access anything on the instance \"\n",
    "$TitleSheet.Cells[\"E6\"].Value = \"The Green Cells show the logins on the server\"\n",
    "$TitleSheet.Cells[\"E7\"].Value = \"The Blue Cells show the instance level permissions that have been granted to the logins\"\n",
    "$TitleSheet.Cells[\"E8\"].Value = \"The Orange Cells show the database role membership for the login\"\n",
    "$TitleSheet.Cells[\"E9\"].Value = \"The Brown Cells show specific database permissions that have been granted for the logins\"\n",
    "\n",
    "$TitleSheet.Cells[\"B11\"].Value = \"You can filter by Database on the Object column\"\n",
    "Set-ExcelRange -Worksheet $TitleSheet -Range \"C11\" -FontSize 18\n",
    "\n",
    "$TitleSheet.Cells[\"B12\"].Value = \"You can filter by User/Group/Login on the Member column\"\n",
    "Set-ExcelRange -Worksheet $TitleSheet -Range \"C12\" -FontSize 18\n",
    "\n",
    "Set-ExcelRange -Worksheet $TitleSheet -Range  \"C5\" -BackgroundColor Yellow\n",
    "Set-ExcelRange -Worksheet $TitleSheet -Range  \"C6\" -BackgroundColor PaleGreen\n",
    "Set-ExcelRange -Worksheet $TitleSheet -Range  \"C7\" -BackgroundColor PowderBlue \n",
    "Set-ExcelRange -Worksheet $TitleSheet -Range  \"C8\" -BackgroundColor GoldenRod \n",
    "Set-ExcelRange -Worksheet $TitleSheet -Range  \"C9\" -BackgroundColor BurlyWood \n",
    "\n",
    "Close-ExcelPackage $excel\n",
    "\n",
    "\n",
    "Write-Output \"                ###############                  \"\n",
    "Write-Output \"        FileName is $ExcelFile            \"\n",
    "Write-Output \"                ###############                  \"\n",
    "Write-Output \"\"\n",
    "\n",
    "Invoke-Item $ExcelFile"
   ]
  },
  {
   "cell_type": "markdown",
   "metadata": {},
   "source": [
    "# Imagine that you want to be able to recreate your logins\n",
    "\n",
    "All you need to do is regularly run the below script to create a T-SQL file with all that is required for the login creation"
   ]
  },
  {
   "cell_type": "code",
   "execution_count": null,
   "metadata": {},
   "outputs": [],
   "source": [
    "Export-dbalogin -SqlInstance $SQL1 -Path $FolderPath "
   ]
  },
  {
   "cell_type": "code",
   "execution_count": null,
   "metadata": {},
   "outputs": [],
   "source": [
    "notepad  C:\\Users\\mrrob\\Documents\\dbatoolsdemo\\localhost,15592-20200301184218-login.sql"
   ]
  }
 ],
 "metadata": {
  "kernelspec": {
   "display_name": ".NET (PowerShell)",
   "language": "PowerShell",
   "name": ".net-powershell"
  },
  "language_info": {
   "file_extension": ".ps1",
   "mimetype": "text/x-powershell",
   "name": "PowerShell",
   "pygments_lexer": "powershell",
   "version": "7.0"
  }
 },
 "nbformat": 4,
 "nbformat_minor": 4
}
