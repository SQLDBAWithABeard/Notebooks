{
    "metadata": {
        "kernelspec": {
            "name": "powershell",
            "display_name": "PowerShell"
        },
        "language_info": {
            "name": "powershell",
            "codemirror_mode": "shell",
            "mimetype": "text/x-sh",
            "file_extension": ".ps1"
        }
    },
    "nbformat_minor": 2,
    "nbformat": 4,
    "cells": [
        {
            "cell_type": "markdown",
            "source": [
                "# Connecting to Azure\r\n",
                "\r\n",
                "Using PowerShell to connect to and administer Azure is a more robust and repeatable way to interact with cloud resources."
            ],
            "metadata": {
                "azdata_cell_guid": "b58eda6a-d9dd-4234-a590-ed4335de4301"
            }
        },
        {
            "cell_type": "markdown",
            "source": [
                "First, lets make sure that we have the modules installed"
            ],
            "metadata": {
                "azdata_cell_guid": "e266c35f-9794-439f-92eb-81b437608f7f"
            }
        },
        {
            "cell_type": "code",
            "source": [
                "if((Get-PsRepository -Name PSGallery).InstallationPolicy -ne 'Trusted'){\r\n",
                "    Write-Output \"The PowerShell Gallery is not trusted so I will trust it so that we can install the modules without interaction\"\r\n",
                "    Set-PsRepository -Name PSGallery -InstallationPolicy Trusted\r\n",
                "} else {\r\n",
                "    Write-Output \"The PowerShell Gallery is trusted I will continue\"\r\n",
                "}\r\n",
                "If((Get-Module Az.* -ListAvailable)){\r\n",
                "    Write-Output \"We have some AZ modules\"\r\n",
                "} else {\r\n",
                "    Write-Output \"We need to install the AZ modules\"\r\n",
                "    Install-Module -Name Az -AllowClobber -Scope CurrentUser\r\n",
                "}"
            ],
            "metadata": {
                "azdata_cell_guid": "4299d4e4-436c-4bf0-adf4-f7c56fd8c453"
            },
            "outputs": [
                {
                    "output_type": "stream",
                    "name": "stdout",
                    "text": "We have some AZ modules\n"
                }
            ],
            "execution_count": 1
        },
        {
            "cell_type": "markdown",
            "source": [
                "## Make an Azure connection\r\n",
                "Next we need to make a connection to Azure for the PowerShell session. The cell below is going to do this but it has an idiosyncrasy. When you press the play button it will just spin\r\n",
                "\r\n",
                "![image](.\\Images\\01-Connect-Azure.png)  \r\n",
                "\r\n",
                "You will need to look for the sign in pop-up *behind* Azure Data Studio  \r\n",
                "\r\n",
                "![image](.\\Images\\02-Hidden-Window.png)\r\n",
                "\r\n",
                "Enter your credentials and then you will see a similar output to this if all is successful\r\n",
                "\r\n",
                "![image](.\\Images\\04-SuccessfulAzureConnection.png)\r\n",
                "\r\n",
                ""
            ],
            "metadata": {
                "azdata_cell_guid": "95fc82bd-b74b-43d4-a50e-273844dd734c"
            }
        },
        {
            "cell_type": "code",
            "source": [
                "# Connect to Azure with a browser sign in token\r\n",
                "Connect-AzAccount"
            ],
            "metadata": {
                "azdata_cell_guid": "540723d2-54c5-414e-ad25-e013d39ab747"
            },
            "outputs": [],
            "execution_count": null
        },
        {
            "cell_type": "markdown",
            "source": [
                "## Listing Resource Groups\r\n",
                "\r\n",
                "We can list the resource groups that we have access to "
            ],
            "metadata": {
                "azdata_cell_guid": "5e0077fe-82dc-4c20-8522-ef29acf35864"
            }
        },
        {
            "cell_type": "code",
            "source": [
                "Get-AzResourceGroup | Format-Table"
            ],
            "metadata": {
                "azdata_cell_guid": "e9446432-a2c2-4819-b2f8-f16b0438d406"
            },
            "outputs": [],
            "execution_count": null
        },
        {
            "cell_type": "markdown",
            "source": [
                "## Listing Managed Instances\r\n",
                "We can see the Managed Instances that are in the resource group"
            ],
            "metadata": {
                "azdata_cell_guid": "0a67bf09-012b-42fc-a099-821e68302007"
            }
        },
        {
            "cell_type": "code",
            "source": [
                "$RgName = ''\r\n",
                "Get-AzSqlInstance -ResourceGroupName $RGName |Select ManagedInstanceName,LicenseType,BasePrice,VCores,StorageSizeInGB,Collation,AdministratorLogin "
            ],
            "metadata": {
                "azdata_cell_guid": "98b17e90-3eff-4955-a8d8-95eeab29d4f2"
            },
            "outputs": [],
            "execution_count": null
        },
        {
            "cell_type": "markdown",
            "source": [
                "## Listing Databases on a Managed Instance\r\n",
                "We can see the databases that are on a managed instance"
            ],
            "metadata": {
                "azdata_cell_guid": "6808f2ee-b3e8-4d8d-8881-222603ce4ea7"
            }
        },
        {
            "cell_type": "code",
            "source": [
                "$RgName = ''\r\n",
                "$MIName = ''\r\n",
                "$Databases = Get-AzSqlInstanceDatabase -ResourceGroupName $RgName -InstanceName $MIName\r\n",
                "$Databases | Select Name,Status,CreationDate,EarliestRestorePoint"
            ],
            "metadata": {
                "azdata_cell_guid": "9c526f64-9285-4d7a-8088-29ae908ff0a0"
            },
            "outputs": [],
            "execution_count": null
        },
        {
            "cell_type": "markdown",
            "source": [
                "## Listing Virtual Machines\r\n",
                "\r\n",
                "We can see the Virtual Machines that are in a Resource Group"
            ],
            "metadata": {
                "azdata_cell_guid": "f53905b8-11b3-4e5c-882f-f0816821b77e"
            }
        },
        {
            "cell_type": "code",
            "source": [
                "$RgName = ''\r\n",
                "Get-AzVM -ResourceGroupName $RgName"
            ],
            "metadata": {
                "azdata_cell_guid": "0ce66135-9ec5-42ae-a9f8-26040c4ca304"
            },
            "outputs": [],
            "execution_count": null
        },
        {
            "cell_type": "code",
            "source": [
                "# Run this first to make sure output width does not mess with output - Update output buffer size to prevent clipping in Visual Studio output window.\r\n",
                "if( $Host -and $Host.UI -and $Host.UI.RawUI ) {\r\n",
                "    $rawUI = $Host.UI.RawUI\r\n",
                "    $oldSize = $rawUI.BufferSize\r\n",
                "    $typeName = $oldSize.GetType( ).FullName\r\n",
                "    $newSize = New-Object $typeName (500, $oldSize.Height)\r\n",
                "    $rawUI.BufferSize = $newSize\r\n",
                "  }"
            ],
            "metadata": {
                "azdata_cell_guid": "c3529a4c-0d9e-4844-a0c8-184fbcf1843e",
                "tags": [
                    "hide_input"
                ]
            },
            "outputs": [
                {
                    "output_type": "stream",
                    "name": "stdout",
                    "text": ""
                }
            ],
            "execution_count": 19
        },
        {
            "cell_type": "markdown",
            "source": [
                "## List All of the resources in a Resource Group"
            ],
            "metadata": {
                "azdata_cell_guid": "51b00f42-b0b5-4cc5-a300-7ba43a4ff919"
            }
        },
        {
            "cell_type": "code",
            "source": [
                "$RgName \r\n",
                "Get-AzResource -ResourceGroupName $RgName | Select Name, ResourceType "
            ],
            "metadata": {
                "azdata_cell_guid": "11574d17-1282-4985-ae12-dd7a1d8489f2"
            },
            "outputs": [],
            "execution_count": null
        }
    ]
}