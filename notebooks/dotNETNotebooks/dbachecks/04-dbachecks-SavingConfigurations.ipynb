{
    "metadata": {
        "kernelspec": {
            "name": "powershell",
            "display_name": "PowerShell"
        },
        "language_info": {
            "name": "powershell",
            "codemirror_mode": "shell",
            "mimetype": "text/x-sh",
            "file_extension": ".ps1"
        }
    },
    "nbformat_minor": 2,
    "nbformat": 4,
    "cells": [
        {
            "cell_type": "markdown",
            "source": [
                "![First Power Bi](.\\images\\dbachecks-logo.png )\r\n",
                "# dbachecks - Saving Configurations\r\n",
                "\r\n",
                "You can alter the configurations for any check at the command line to ensure that you are running checks that will test what you want.\r\n",
                "\r\n",
                "You will want to save those configurations so that you can pass them to other people or run them using automation.\r\n",
                "\r\n",
                "The process that you will need to follow is \r\n",
                "\r\n",
                "- Create the configuration\r\n",
                "- test the configuration\r\n",
                "- save the configuration with `Export-DbcConfig`\r\n",
                "\r\n",
                "This will create a json file of the configuration which you can save in source control and then you, others in your team or automation can use the configuration with `Import-DbcConfig`"
            ],
            "metadata": {
                "azdata_cell_guid": "005ed3e9-3d1c-4ef2-a8ee-dc18c250ddb4"
            }
        },
        {
            "cell_type": "markdown",
            "source": [
                "# Excluding and skipping checks\r\n",
                "\r\n",
                "As well as the configuration items that you saw in the simple configuration notebook, which will change the value for a check such as making sure that the database owners are the accounts that you expect, there are other configuration items which enable you to exclude checks, instances or databases from checks, skip parts of checks.\r\n",
                "\r\n",
                "You can see those configurations by running the block below.\r\n",
                "\r\n",
                "When you are creating configurations for saving and sharing, you will find `command.invokedbccheck.excludecheck` and `command.invokedbccheck.excludedatabases` useful.\r\n",
                "\r\n",
                "`command.invokedbccheck.excludecheck` will set the configuration so that any checks specified here will not run. It is best to exclude Groups of checks rather than individual ones here.\r\n",
                "`command.invokedbccheck.excludedatabases` will set the configuration for any databases that you do not wish to run checks against.\r\n",
                ""
            ],
            "metadata": {
                "azdata_cell_guid": "1f10c372-d687-4ee5-a6cd-da6c18195506"
            }
        },
        {
            "cell_type": "code",
            "source": [
                "Get-DbcConfig | Where-Object{$_.Name -like '*exclude*' -or $_.Name -like '*skip*'} "
            ],
            "metadata": {
                "azdata_cell_guid": "77b6428c-768f-4030-8f76-b091afb2f314"
            },
            "outputs": [],
            "execution_count": 10
        },
        {
            "cell_type": "markdown",
            "source": [
                "# Create a configuration\n",
                "\n",
                "First you will need to create your configuration. \n",
                "\n",
                "## Reset the configuration to default first\n",
                "It is best practice to run `Reset-DbcConfig` before you start to do this to avoid confusion. This will reset all of the configurations to the default values. It will also list all of the configurations and you can see the current (default) values  "
            ],
            "metadata": {
                "azdata_cell_guid": "d7c49093-9e26-4c63-a861-69d85ffbd3ef"
            }
        },
        {
            "cell_type": "code",
            "source": [
                "Reset-DbcConfig"
            ],
            "metadata": {
                "azdata_cell_guid": "0041f1b7-7b78-41f1-88d0-98ae964d4f3d"
            },
            "outputs": [],
            "execution_count": 11
        },
        {
            "cell_type": "markdown",
            "source": [
                "## Morning Checks Configuration\r\n",
                "\r\n",
                "Lets create a configuration for some morning checks for our Production estate. You will\r\n",
                "\r\n",
                "- Check the production instances (we only have two in this demo) 'localhost,15592','localhost,15593'\r\n",
                "- Ensure the instance is available and the connection authentication scheme is SQL (because we are using SQL Auth) but don't check PSRemoting\r\n",
                "- Ensure that all agent jobs have succeeded\r\n",
                "- All databases have backups that meet RPO/RTO\r\n",
                "- There are no errors in the Error Logs in the last 24 hours\r\n",
                "- The disk space is not less than 10% free\r\n",
                "- There are no Memory Dumps\r\n",
                "- The last duration of the agent jobs was not more than 10% of the average run time including any currently running jobs\r\n",
                "- The log file sizes are less than 50% of the data file sizes\r\n",
                "- That databases have more than 10% free space available\r\n",
                ""
            ],
            "metadata": {
                "azdata_cell_guid": "7b634ca0-3555-4ad0-90b1-f6d663368d2d"
            }
        },
        {
            "cell_type": "code",
            "source": [
                "# Set the instances and computernames to run the check against\r\n",
                "Set-DbcConfig -Name app.sqlinstance -Value 'localhost,15592','localhost,15593'\r\n",
                "Set-DbcConfig -Name app.computername -Value 'localhost,15592','localhost,15593'\r\n",
                "# Set the auth scheme to SQL as we are using SQL Auth\r\n",
                "Set-DbcConfig -Name policy.connection.authscheme -Value SQL\r\n",
                "# Don't check the PSRemoting\r\n",
                "Set-DbcConfig -Name skip.connection.remoting -Value $true\r\n",
                "# Set expected backup - 7 days for full - 24 hours for diff - 15 minutes for log\r\n",
                "Set-DbcConfig -Name policy.backup.fullmaxdays -Value 7\r\n",
                "Set-DbcConfig -Name policy.backup.diffmaxhours -Value 24\r\n",
                "Set-DbcConfig -Name policy.backup.logmaxminutes -Value 15\r\n",
                "# Set config for disk space\r\n",
                "Set-DbcConfig -Name policy.diskspace.percentfree -Value 10\r\n",
                "# Maximum number of memory dumps\r\n",
                "Set-DbcConfig -Name policy.dump.maxcount -Value 1\r\n",
                "# Set config for job run times\r\n",
                "Set-DbcConfig -Name agent.lastjobruntime.percentage -Value 10\r\n",
                "Set-DbcConfig -Name agent.longrunningjob.percentage -Value 10\r\n",
                "# Set max size of log files compared to data file size\r\n",
                "Set-DbcConfig -Name policy.database.logfilesizecomparison -Value Average\r\n",
                "Set-DbcConfig -Name policy.database.logfilesizepercentage -Value 50\r\n",
                "# Set config to ensure files have more than 10% free\r\n",
                "Set-DbcConfig -Name policy.database.filegrowthfreespacethreshold -Value 10"
            ],
            "metadata": {
                "azdata_cell_guid": "e72f1c7e-5128-4eb1-bca6-a0eecb06efdb"
            },
            "outputs": [],
            "execution_count": 12
        },
        {
            "cell_type": "markdown",
            "source": [
                "# Examining the current configuration and saving it\r\n",
                "\r\n",
                "When you set the configuration, the output shows the cuurently configured values for the configuration items that you have changed.\r\n",
                "\r\n",
                "You can examine the complete current configuration with `Get-DbcConfig`"
            ],
            "metadata": {
                "azdata_cell_guid": "740713a3-70cb-4b41-af15-26a6e5c62a8b"
            }
        },
        {
            "cell_type": "code",
            "source": [
                "Get-DbcConfig"
            ],
            "metadata": {
                "azdata_cell_guid": "810539c5-a5d0-4bb9-94fc-225ce835a608"
            },
            "outputs": [],
            "execution_count": 13
        },
        {
            "cell_type": "markdown",
            "source": [
                "## Saving the configuration to a file for reuse\r\n",
                "\r\n",
                "Once you have a configuration created, you can save it for easy importing into your session or for use with automation. I suggest that the best place for you to save this is in a source control repository so changes can be controlled and auditted\r\n",
                "\r\n",
                "To save the current configuration use `Export-DbcConfig`"
            ],
            "metadata": {
                "azdata_cell_guid": "f68350d3-b173-4e04-ac15-12b376b81bd5"
            }
        },
        {
            "cell_type": "code",
            "source": [
                "$FolderPath = $Env:USERPROFILE + '\\Documents\\dbachecks'\r\n",
                "Export-DbcConfig -Path $FolderPath\\Morning-Checks-Production.json "
            ],
            "metadata": {
                "azdata_cell_guid": "edeb1f12-1aa0-4061-89dc-7503d9e54a15",
                "tags": []
            },
            "outputs": [
                {
                    "output_type": "stream",
                    "name": "stdout",
                    "text": "[09:59:39][Export-DbcConfig] Wrote file to C:\\Users\\Rob.THEBEARD\\Documents\\dbachecks\\Morning-Checks-Production.json\n"
                }
            ],
            "execution_count": 15
        },
        {
            "cell_type": "markdown",
            "source": [
                "The file that is created is just json, you can take a look at it (and alter it directly if you wish)"
            ],
            "metadata": {
                "azdata_cell_guid": "291ade07-0005-4d14-8f83-86b0574282d2"
            }
        },
        {
            "cell_type": "code",
            "source": [
                "azuredatastudio $FolderPath\\Morning-Checks-Production.json "
            ],
            "metadata": {
                "azdata_cell_guid": "66aa7fec-93d0-44ca-bc9f-750f291517e1"
            },
            "outputs": [
                {
                    "output_type": "stream",
                    "name": "stdout",
                    "text": ""
                }
            ],
            "execution_count": 16
        },
        {
            "cell_type": "markdown",
            "source": [
                "# Loading the configuration from a file\r\n",
                "\r\n",
                "To use the configuration that you have saved you use `Import-DbcConfig`\r\n",
                "\r\n",
                "This will take the values from the json file and set the configuration accordingly"
            ],
            "metadata": {
                "azdata_cell_guid": "30d72dbb-6930-4eb8-a15a-3c3cec4aae84"
            }
        },
        {
            "cell_type": "code",
            "source": [
                "Import-DbcConfig -Path $FolderPath\\Morning-Checks-Production.json "
            ],
            "metadata": {
                "azdata_cell_guid": "1b84b47f-6552-4a52-ad27-a189f6aa2a8e"
            },
            "outputs": [],
            "execution_count": 17
        },
        {
            "cell_type": "markdown",
            "source": [
                "# Run the Checks with that configuration\r\n",
                "\r\n",
                "You can then run the checks with that configuration as usual. You do not need to specify the computer names or Instance names as they are in the configuration already. You will reset the configuration, load the configuration from the file and run the checks"
            ],
            "metadata": {
                "azdata_cell_guid": "3f16422e-b293-4933-9aa3-b994bd5d2c1b"
            }
        },
        {
            "cell_type": "code",
            "source": [
                "$FolderPath = $Env:USERPROFILE + '\\Documents\\dbachecks'\r\n",
                "$SqlCredential = Import-Clixml -Path $FolderPath\\sqladmin.cred\r\n",
                "# Just in case the config has been altered\r\n",
                "$null = Reset-DbcConfig\r\n",
                "$null = Import-DbcConfig -Path $FolderPath\\Morning-Checks-Production.json \r\n",
                "$invokeDbcCheckSplat = @{\r\n",
                "\r\n",
                "    SqlCredential = $SqlCredential\r\n",
                "    Check = 'InstanceConnection', 'FailedJob', 'LastBackup', 'ErrorLog', 'DiskCapacity', 'MemoryDump', 'LastJobRunTime', 'LongRunningJob', 'LogfileSize', 'FutureFileGrowth'\r\n",
                "}\r\n",
                "Invoke-DbcCheck @invokeDbcCheckSplat"
            ],
            "metadata": {
                "azdata_cell_guid": "c8b83e01-84e6-498c-933c-064c88b680c9"
            },
            "outputs": [],
            "execution_count": 6
        },
        {
            "cell_type": "markdown",
            "source": [
                "## Only showing the failures\r\n",
                "\r\n",
                "This will run 114 checks and most will pass. To avoid filling our buffer will all the checks that have passed, we can only display the failed checks using the `-Show` parameter with the `Fails` value. (NOTE - This is a better option than `Failed` which will only show the failed tests and no context for them)"
            ],
            "metadata": {
                "azdata_cell_guid": "3230a695-2f74-419a-a1e6-3fb7b2b100f2"
            }
        },
        {
            "cell_type": "code",
            "source": [
                "$FolderPath = $Env:USERPROFILE + '\\Documents\\dbachecks'\r\n",
                "$SqlCredential = Import-Clixml -Path $FolderPath\\sqladmin.cred\r\n",
                "# Just in case the config has been altered\r\n",
                "$null = Reset-DbcConfig\r\n",
                "$null = Import-DbcConfig -Path $FolderPath\\Morning-Checks-Production.json \r\n",
                "$invokeDbcCheckSplat = @{\r\n",
                "    SqlCredential = $SqlCredential\r\n",
                "    Check = 'InstanceConnection', 'FailedJob', 'LastBackup', 'ErrorLog', 'DiskCapacity', 'MemoryDump', 'LastJobRunTime', 'LongRunningJob', 'LogfileSize', 'FutureFileGrowth'\r\n",
                "    Show = 'Fails'\r\n",
                "}\r\n",
                "Invoke-DbcCheck @invokeDbcCheckSplat"
            ],
            "metadata": {
                "azdata_cell_guid": "a3aab53a-2ac1-4aca-8a65-a1c85ebacfe1"
            },
            "outputs": [],
            "execution_count": 21
        },
        {
            "cell_type": "markdown",
            "source": [
                "# Configuration for New Instance\r\n",
                "\r\n",
                "You might want to create a configuration to run after a new instance has been set up\r\n",
                "\r\n",
                "This might require the following configurations (other settings will also be checked with default configurations)\r\n",
                "\r\n",
                "- Database mail has been set up\r\n",
                "- Operators and Failsafe Operators are set up\r\n",
                "- Agent Jobs are owned by the correct account\r\n",
                "- Agent Alerts are set up correctly\r\n",
                "- Job History settings are set up correctly\r\n",
                "- Ola Hallengrens Maintenance solution is set up as expected\r\n",
                "- The expected Extended Events sessions are installed and running\r\n",
                "- The correct Error Logs Setting\r\n",
                "\r\n",
                ""
            ],
            "metadata": {
                "azdata_cell_guid": "7e9b08b5-2481-4760-bc59-61dfbe7a7c61"
            }
        },
        {
            "cell_type": "code",
            "source": [
                "# reset the configuration\r\n",
                "$null = Reset-DbcConfig\r\n",
                "# Set Checks to exclude (these wont run on containers)\r\n",
                "Set-DbcConfig -Name command.invokedbccheck.excludecheck -Value FailsafeOperator,DatabaseMailEnabled,DatabaseMailProfile,SqlEngineServiceAccount,OrphanedFile,ServerNameMatch\r\n",
                "# Set the auth scheme to SQL as we are using SQL Auth\r\n",
                "Set-DbcConfig -Name policy.connection.authscheme -Value SQL\r\n",
                "# Don't check the PSRemoting\r\n",
                "Set-DbcConfig -Name skip.connection.remoting -Value $true\r\n",
                "# Set config for expected Operators\r\n",
                "Set-DbcConfig -Name agent.dbaoperatorname -Value SQLAdmins\r\n",
                "# Set COnfig for operators email address\r\n",
                "Set-DbcConfig -Name agent.dbaoperatoremail -Value SQLAdmins@TheBeard.local\r\n",
                "# Set config for the expected job owner\r\n",
                "Set-DbcConfig -Name agent.validjobowner.name -Value OldSa\r\n",
                "# Set config for expected agent alerts\r\n",
                "$Ids = '1101','1105','1121','1214','17130','17179','17300','17883','17884','17887','17888','17890','2508','2511','28036','3271','3452','3619','3624','5180','5228','5229','5242','5243','5250','5572','5901','605','701','802','823','824','825','832','833','845','855','856','8966','9002','9100'\r\n",
                "Set-DbcConfig -Name agent.alert.messageid -Value $Ids\r\n",
                "# Set the config for the job history settings\r\n",
                "Set-DbcConfig -Name agent.history.maximumhistoryrows -Value 1000\r\n",
                "Set-DbcConfig -Name agent.history.maximumjobhistoryrows -Value 100\r\n",
                "# Set config for the extended events\r\n",
                "Set-DbcConfig -Name policy.xevent.requiredrunningsession -Value '15 Second IO Error','Blocked Process Report','Stored Procedure Parameters' \r\n",
                "# Sets Error log - Its a container!\r\n",
                "Set-DbcConfig -Name policy.errorlog.logcount -Value -1\r\n",
                "# Set Remote Access configuration\r\n",
                "Set-DbcConfig -Name skip.instance.remoteaccessdisabled -Value $tru\r\n",
                "\r\n",
                ""
            ],
            "metadata": {
                "azdata_cell_guid": "13ce3069-a0c6-462f-9bff-fe57107db6c3",
                "tags": []
            },
            "outputs": [],
            "execution_count": 8
        },
        {
            "cell_type": "markdown",
            "source": [
                "With the configuration created you can save it to a file"
            ],
            "metadata": {
                "azdata_cell_guid": "8d4b5df6-2d6b-42b3-a391-00735a86b4bc"
            }
        },
        {
            "cell_type": "code",
            "source": [
                "$FolderPath = $Env:USERPROFILE + '\\Documents\\dbachecks'\r\n",
                "Export-DbcConfig -Path $FolderPath\\New-Instance.json "
            ],
            "metadata": {
                "azdata_cell_guid": "8494c923-b677-474d-8179-61d7eb7e4536"
            },
            "outputs": [
                {
                    "output_type": "stream",
                    "name": "stdout",
                    "text": "[11:50:19][Export-DbcConfig] Wrote file to C:\\Users\\Rob.THEBEARD\\Documents\\dbachecks\\New-Instance.json\n"
                }
            ],
            "execution_count": 9
        },
        {
            "cell_type": "markdown",
            "source": [
                "You can then load that configuration and run it. This will take a couple of minutes to run, be patient."
            ],
            "metadata": {
                "azdata_cell_guid": "5fd5592b-17a3-46b8-9e7e-b2c743703cab"
            }
        },
        {
            "cell_type": "code",
            "source": [
                "$FolderPath = $Env:USERPROFILE + '\\Documents\\dbachecks'\n",
                "$SqlCredential = Import-Clixml -Path $FolderPath\\sqladmin.cred\n",
                "# Just in case the config has been altered\n",
                "$null = Reset-DbcConfig\n",
                "$null = Import-DbcConfig -Path $FolderPath\\New-Instance.json \n",
                "$invokeDbcCheckSplat = @{\n",
                "    SqlInstance = 'localhost,15592'\n",
                "    SqlCredential = $SqlCredential\n",
                "    Check = 'Instance','Agent'\n",
                "    Show = 'Fails'\n",
                "}\n",
                "Invoke-DbcCheck @invokeDbcCheckSplat\n",
                ""
            ],
            "metadata": {
                "azdata_cell_guid": "81860f9a-4d62-45bb-b538-16bec95d63ec"
            },
            "outputs": [],
            "execution_count": 2
        },
        {
            "cell_type": "markdown",
            "source": [
                "# Configuration for Weekly Check\r\n",
                "\r\n",
                "This configuration could be used for a weekly check of an estate. It includes\r\n",
                "\r\n",
                "- Failed jobs in the last 2 days - I ran this on a Sunday so checking weekend maintenance\r\n",
                "\r\n",
                ""
            ],
            "metadata": {
                "azdata_cell_guid": "a6270932-2431-4331-af09-ae4acb323ca3"
            }
        },
        {
            "cell_type": "code",
            "source": [
                "# reset the configuration\n",
                "$null = Reset-DbcConfig\n",
                "# Set Checks to exclude (these wont run on containers)\n",
                "Set-DbcConfig -Name command.invokedbccheck.excludecheck -Value FailsafeOperator,DatabaseMailEnabled,DatabaseMailProfile,SqlEngineServiceAccount,OrphanedFile,ServerNameMatch, SqlBrowserServiceAccount\n",
                "# Set the instances and computernames to run the check against\n",
                "Set-DbcConfig -Name app.sqlinstance -Value 'localhost,15592','localhost,15593'\n",
                "Set-DbcConfig -Name app.computername -Value 'localhost,15592','localhost,15593'\n",
                "# Set the auth scheme to SQL as we are using SQL Auth\n",
                "Set-DbcConfig -Name policy.connection.authscheme -Value SQL\n",
                "# Don't check the PSRemoting\n",
                "Set-DbcConfig -Name skip.connection.remoting -Value $true\n",
                "Set-DbcConfig -Name agent.failedjob.since -Value 2\n",
                "# COnfig for build warning\n",
                "Set-DbcConfig -Name policy.build.behind\t-Value 1SP\n",
                "Set-DbcConfig -Name policy.build.warningwindow\t-Value 2\n",
                "# COnfig for when we want to know certs are going to expire\n",
                "Set-DbcConfig -Name policy.certificateexpiration.warningwindow -Value 2\t\n",
                "# How different can our files be in a filegroup\n",
                "Set-DbcConfig -Name policy.database.filebalancetolerance -Value 3\n",
                "# Free Space in file\n",
                "Set-DbcConfig -Name policy.database.filegrowthfreespacethreshold 10\n",
                "# How big can our log file be in comparison to our data files\n",
                "Set-DbcConfig -Name policy.database.logfilesizecomparison -Value average\t\n",
                "Set-DbcConfig -Name policy.database.logfilesizepercentage -Value 50\n",
                "# max number of VLFs allowed\n",
                "Set-DbcConfig -Name policy.database.maxvlf 256\n",
                "# Last DBCC\n",
                "Set-DbcConfig -Name policy.dbcc.maxdays -Value 3\n",
                "#Disk Space\n",
                "Set-DbcConfig -Name policy.diskspace.percentfree -Value 5\n",
                "# Set config for the expected job owner\n",
                "Set-DbcConfig -Name agent.validjobowner.name -Value OldSa\n",
                "# Set config for expected agent alerts\n",
                "$Ids = '1101','1105','1121','1214','17130','17179','17300','17883','17884','17887','17888','17890','2508','2511','28036','3271','3452','3619','3624','5180','5228','5229','5242','5243','5250','5572','5901','605','701','802','823','824','825','832','833','845','855','856','8966','9002','9100'\n",
                "Set-DbcConfig -Name agent.alert.messageid -Value $Ids\n",
                "# Set the config for the job history settings\n",
                "Set-DbcConfig -Name agent.history.maximumhistoryrows -Value 1000\n",
                "Set-DbcConfig -Name agent.history.maximumjobhistoryrows -Value 100\n",
                "# Set config for the extended events\n",
                "Set-DbcConfig -Name policy.xevent.requiredrunningsession -Value '15 Second IO Error','Blocked Process Report','Stored Procedure Parameters' \n",
                "# Set Database owners\n",
                "Set-DbcConfig -Name policy.invaliddbowner.name -Value OldSa\n",
                "Set-DbcConfig -Name policy.validdbowner.name -Value sqladmin\n",
                "\n",
                "Set-DbcConfig -Name database.exists -Value 'pubs','NorthWind','AdventureWorks2017' -Append\n",
                ""
            ],
            "metadata": {
                "azdata_cell_guid": "77762126-5715-484a-b6e6-7caa5ef5987b"
            },
            "outputs": [
                {
                    "name": "stdout",
                    "text": "\nName                                         Value                                                                     \n----                                         -----                                                                     \ncommand.invokedbccheck.excludecheck          {FailsafeOperator, DatabaseMailEnabled, DatabaseMailProfile, SqlEngineS...\napp.sqlinstance                              {localhost,15592, localhost,15593}                                        \napp.computername                             {localhost,15592, localhost,15593}                                        \npolicy.connection.authscheme                 SQL                                                                       \nskip.connection.remoting                     True                                                                      \nagent.failedjob.since                        2                                                                         \npolicy.build.behind                          1SP                                                                       \npolicy.build.warningwindow                   2                                                                         \npolicy.certificateexpiration.warningwindow   2                                                                         \npolicy.database.filebalancetolerance         3                                                                         \npolicy.database.filegrowthfreespacethreshold 10                                                                        \npolicy.database.logfilesizecomparison        average                                                                   \npolicy.database.logfilesizepercentage        50                                                                        \npolicy.database.maxvlf                       256                                                                       \npolicy.dbcc.maxdays                          3                                                                         \npolicy.diskspace.percentfree                 5                                                                         \nagent.validjobowner.name                     OldSa                                                                     \nagent.alert.messageid                        {1101, 1105, 1121, 1214...}                                               \nagent.history.maximumhistoryrows             1000                                                                      \nagent.history.maximumjobhistoryrows          100                                                                       \npolicy.xevent.requiredrunningsession         {15 Second IO Error, Blocked Process Report, Stored Procedure Parameters} \npolicy.invaliddbowner.name                   OldSa                                                                     \npolicy.validdbowner.name                     sqladmin                                                                  \ndatabase.exists                              {master, msdb, tempdb, model...}                                          \n\n\n",
                    "output_type": "stream"
                }
            ],
            "execution_count": 1
        },
        {
            "cell_type": "markdown",
            "source": [
                "and save it"
            ],
            "metadata": {
                "azdata_cell_guid": "f12015e9-e786-4b2a-958b-e3dae1c91fc5"
            }
        },
        {
            "cell_type": "code",
            "source": [
                "$FolderPath = $Env:USERPROFILE + '\\Documents\\dbachecks'\r\n",
                "Export-DbcConfig -Path $FolderPath\\Weekly-Check.json "
            ],
            "metadata": {
                "azdata_cell_guid": "f130454d-8b4d-4fb5-a22f-5af7f38ff68f"
            },
            "outputs": [
                {
                    "name": "stdout",
                    "text": "[12:13:44][Export-DbcConfig] Wrote file to C:\\Users\\Rob.THEBEARD\\Documents\\dbachecks\\Weekly-Check.json\n",
                    "output_type": "stream"
                }
            ],
            "execution_count": 2
        },
        {
            "cell_type": "markdown",
            "source": [
                "load it and run it"
            ],
            "metadata": {
                "azdata_cell_guid": "5e036f5c-3d32-4f21-8f7e-02ef27633722"
            }
        },
        {
            "cell_type": "code",
            "source": [
                "$FolderPath = $Env:USERPROFILE + '\\Documents\\dbachecks'\r\n",
                "$SqlCredential = Import-Clixml -Path $FolderPath\\sqladmin.cred\r\n",
                "# Just in case the config has been altered\r\n",
                "$null = Reset-DbcConfig\r\n",
                "$null = Import-DbcConfig -Path $FolderPath\\Weekly-Check.json \r\n",
                "$invokeDbcCheckSplat = @{\r\n",
                "    SqlInstance = 'localhost,15592'\r\n",
                "    SqlCredential = $SqlCredential\r\n",
                "    Check = 'Agent', 'Database','Instance'\r\n",
                "    Show = 'Fails'\r\n",
                "}\r\n",
                "Invoke-DbcCheck @invokeDbcCheckSplat"
            ],
            "metadata": {
                "azdata_cell_guid": "f5115bea-83c6-47ee-959c-bfd6785e7e99"
            },
            "outputs": [],
            "execution_count": 4
        }
    ]
}